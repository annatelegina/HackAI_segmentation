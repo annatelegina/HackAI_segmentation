{
 "cells": [
  {
   "cell_type": "code",
   "execution_count": 1,
   "id": "4bd5c4bc-0644-48c3-9204-9c4f1c4348de",
   "metadata": {},
   "outputs": [],
   "source": [
    "import shutil\n",
    "import os\n",
    "import numpy as np\n",
    "import cv2\n",
    "import os\n",
    "\n",
    "import matplotlib.pyplot as plt"
   ]
  },
  {
   "cell_type": "code",
   "execution_count": 21,
   "id": "dde69359-aa0b-4976-aec9-305c633cadb7",
   "metadata": {},
   "outputs": [],
   "source": [
    "files = os.listdir(\"../for_filter\")"
   ]
  },
  {
   "cell_type": "code",
   "execution_count": 12,
   "id": "ab0d3f89-bf8e-4da7-815c-b30985cacaa5",
   "metadata": {},
   "outputs": [],
   "source": [
    "for im in files:\n",
    "    shutil.copy(\"../train_dataset_mc/images/{}\".format(im), \"../train_filtered/images/{}\".format(im))\n",
    "    shutil.copy(\"../train_dataset_mc/masks/{}.npy\".format(im.split(\".\")[0]), \"../train_filtered/masks/{}.npy\".format(im.split(\".\")[0]))"
   ]
  },
  {
   "cell_type": "code",
   "execution_count": 2,
   "id": "7d094a00-c56f-46ee-abe1-4349db1e1999",
   "metadata": {},
   "outputs": [],
   "source": [
    "out_path = \"../cropped_train\"\n",
    "input_path = \"../train_filtered\""
   ]
  },
  {
   "cell_type": "code",
   "execution_count": 5,
   "id": "47cca93b-69f3-4d06-aef4-8dc42d85ce4d",
   "metadata": {},
   "outputs": [],
   "source": [
    "def read_image(path: str) -> np.ndarray:\n",
    "    image = cv2.imread(str(path), cv2.IMREAD_COLOR)\n",
    "    #image = cv2.cvtColor(image, cv2.COLOR_BGR2RGB)\n",
    "    image = np.array(image / 255, dtype=np.float32)\n",
    "    return image\n",
    "    \n",
    "def crop_zeros(image, mask):\n",
    "    true_points = np.argwhere(mask)\n",
    "        \n",
    "    top_left = true_points.min(axis=0)\n",
    "    bottom_right = true_points.max(axis=0)\n",
    "        \n",
    "    out_mask = mask[top_left[0]:bottom_right[0]+1, top_left[1]:bottom_right[1]+1,:]\n",
    "        \n",
    "    out_image = image[top_left[0]:bottom_right[0]+1, top_left[1]:bottom_right[1]+1,:]\n",
    "        \n",
    "    return out_image, out_mask"
   ]
  },
  {
   "cell_type": "code",
   "execution_count": null,
   "id": "93ac88a2-c12b-47ae-9160-bad0d141c3f2",
   "metadata": {},
   "outputs": [
    {
     "name": "stdout",
     "output_type": "stream",
     "text": [
      "621.png\n",
      "716.png\n",
      "572.png\n",
      "653.png\n",
      "500.png\n"
     ]
    }
   ],
   "source": [
    "images = os.listdir(os.path.join(input_path, \"images\"))\n",
    "\n",
    "for image in images:\n",
    "    im = read_image(os.path.join(input_path, \"images\", image))\n",
    "    mask_name = image.replace(\"png\", \"npy\")\n",
    "    \n",
    "    mask = np.load(os.path.join(input_path, \"masks\", mask_name))\n",
    "    mask = np.clip(mask, 0, 1)\n",
    "    \n",
    "    im, mask = crop_zeros(im, mask)\n",
    "    im =  np.array(im*255, dtype='uint8')\n",
    "    if im.shape[0] < 255 or im.shape[1] < 255:\n",
    "        print(image)\n",
    "        \n",
    "    #cv2.imwrite(os.path.join(out_path, \"images\", image), im)\n",
    "    \n",
    "    #np.save(os.path.join(out_path, \"masks\", mask_name), mask)\n",
    "    \n",
    "    #plt.imshow(im)\n",
    "    #plt.show()\n",
    "    #plt.imshow(mask)\n",
    "    #plt.show()"
   ]
  },
  {
   "cell_type": "code",
   "execution_count": null,
   "id": "e2cb06a9-28ca-4d7d-8c17-8318527390a6",
   "metadata": {},
   "outputs": [],
   "source": []
  }
 ],
 "metadata": {
  "kernelspec": {
   "display_name": "Python 3 (ipykernel)",
   "language": "python",
   "name": "python3"
  },
  "language_info": {
   "codemirror_mode": {
    "name": "ipython",
    "version": 3
   },
   "file_extension": ".py",
   "mimetype": "text/x-python",
   "name": "python",
   "nbconvert_exporter": "python",
   "pygments_lexer": "ipython3",
   "version": "3.8.10"
  }
 },
 "nbformat": 4,
 "nbformat_minor": 5
}
