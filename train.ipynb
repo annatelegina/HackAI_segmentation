{
 "cells": [
  {
   "cell_type": "code",
   "execution_count": 1,
   "id": "a4a86d63-0eb7-4677-8bc9-1af240211804",
   "metadata": {},
   "outputs": [],
   "source": [
    "import os\n",
    "from typing import Tuple, List, Callable, Iterator, Optional, Dict, Any\n",
    "from collections import defaultdict"
   ]
  },
  {
   "cell_type": "code",
   "execution_count": 2,
   "id": "11d08b57-a9c4-4548-ad5a-452e277eb5ab",
   "metadata": {
    "tags": []
   },
   "outputs": [],
   "source": [
    "import albumentations as A\n",
    "from albumentations.pytorch import ToTensorV2\n",
    "import tensorboardX\n",
    "from tensorboardX import SummaryWriter\n",
    "import os\n",
    "\n",
    "import pandas as pd \n",
    "import numpy as np\n",
    "import glob\n",
    "from tqdm import tqdm\n",
    "import cv2\n",
    "from sklearn.model_selection import train_test_split\n",
    "import fiona\n",
    "import segmentation_models_pytorch as smp\n",
    "\n",
    "import torch\n",
    "import torch.nn as nn\n",
    "import torch.optim as optim\n",
    "from torch.utils.data import Dataset\n",
    "from torchvision import datasets, models, transforms\n",
    "from torchvision.models import resnet18\n",
    "from torchvision.utils import draw_segmentation_masks\n",
    "import torchvision.transforms as T\n",
    "\n",
    "from PIL import Image\n",
    "import matplotlib.pyplot as plt\n",
    "from IPython.display import clear_output\n",
    "\n",
    "import warnings\n",
    "warnings.filterwarnings(\"ignore\")\n",
    "\n",
    "import json\n",
    "import secrets"
   ]
  },
  {
   "cell_type": "code",
   "execution_count": 3,
   "id": "ba78569b-1c9b-4cb3-b5a5-7441e952fe23",
   "metadata": {},
   "outputs": [],
   "source": [
    "torch.manual_seed(0)\n",
    "np.random.seed(0)"
   ]
  },
  {
   "cell_type": "code",
   "execution_count": 4,
   "id": "5f850ad3-43f6-43cd-a344-af489cdf70d4",
   "metadata": {
    "tags": []
   },
   "outputs": [],
   "source": [
    "from unet import *\n",
    "from unetpp import *"
   ]
  },
  {
   "cell_type": "code",
   "execution_count": 5,
   "id": "a229c179-87bc-4ab8-b077-6fc998fe82c4",
   "metadata": {},
   "outputs": [],
   "source": [
    "class EyeDataset(Dataset):\n",
    "\n",
    "    def __init__(self, size, data_folder: str, transform = None, grayscale=False):\n",
    "        self.data_folder = data_folder\n",
    "        self.transform = transform\n",
    "        self.grayscale = grayscale\n",
    "        \n",
    "        self._image_files = glob.glob(os.path.join(data_folder, \"images/*.png\"))\n",
    "        self._masks_files = os.path.join(data_folder, 'new_masks')\n",
    "        \n",
    "        self._images, self._masks = self._load()\n",
    "        \n",
    "        self.image_size = size\n",
    "        \n",
    "        \n",
    "    @staticmethod\n",
    "    def read_image(path: str) -> np.ndarray:\n",
    "        image = cv2.imread(str(path), cv2.IMREAD_COLOR)\n",
    "        image = cv2.cvtColor(image, cv2.COLOR_BGR2RGB)\n",
    "        image = np.array(image / 255, dtype=np.float32)\n",
    "\n",
    "        return image\n",
    "    \n",
    "    def _load(self):\n",
    "        images = []\n",
    "        masks = []\n",
    "        for img in self._image_files:\n",
    "            name = img.split(\"/\")[-1].split(\".\")[0]\n",
    "            image = None\n",
    "            \n",
    "            json_path = os.path.join(self._masks_files, name + \".npy\")\n",
    "            \n",
    "            mask = np.load(json_path)\n",
    "            mask = np.clip(mask, 0, 1)\n",
    "            \n",
    "            images.append(image)\n",
    "            masks.append(mask)\n",
    "            \n",
    "        return images, masks\n",
    "    \n",
    "        \n",
    "    def __getitem__(self, idx: int) -> dict:\n",
    "        \n",
    "        img = self._image_files[idx]\n",
    "        image = self.read_image(img)\n",
    "        \n",
    "        if self.grayscale:\n",
    "            image = cv2.cvtColor(image, cv2.COLOR_BGR2GRAY)\n",
    "            image = np.expand_dims(image, axis=-1)\n",
    "        \n",
    "        mask = self._masks[idx]\n",
    "        \n",
    "        \n",
    "        if self.image_size != None:\n",
    "            image = cv2.resize(image, self.image_size, interpolation = cv2.INTER_CUBIC)\n",
    "            mask = cv2.resize(mask, self.image_size, interpolation = cv2.INTER_CUBIC)\n",
    "        \n",
    "        mask = np.expand_dims(mask, axis=-1)\n",
    "        sample = {'image': image,\n",
    "                  'mask': mask}\n",
    "\n",
    "        if self.transform is not None:\n",
    "            sample = self.transform(**sample)\n",
    "        return sample\n",
    "\n",
    "    def __len__(self):\n",
    "        return len(self._image_files)\n",
    "\n",
    "\n",
    "class DatasetPart(Dataset):\n",
    "    \"\"\"\n",
    "    Обертка над классом датасета для его разбиения на части\n",
    "    \"\"\"\n",
    "    def __init__(self, dataset: Dataset,\n",
    "                 indices: np.ndarray,\n",
    "                 transform: A.Compose = None):\n",
    "        self.dataset = dataset\n",
    "        self.indices = indices\n",
    "\n",
    "        self.transform = transform\n",
    "\n",
    "    def __getitem__(self, idx: int) -> dict:\n",
    "        sample = self.dataset[self.indices[idx]]\n",
    "\n",
    "        if self.transform is not None:\n",
    "            sample = self.transform(**sample)\n",
    "\n",
    "        return sample\n",
    "\n",
    "    def __len__(self) -> int:\n",
    "        return len(self.indices)"
   ]
  },
  {
   "cell_type": "code",
   "execution_count": 6,
   "id": "84f174a3-a0e4-4b27-a87f-9df1044b4e6d",
   "metadata": {},
   "outputs": [],
   "source": [
    "IMAGE_SHAPE = (1624, 1232)\n",
    "SCALE = 2"
   ]
  },
  {
   "cell_type": "code",
   "execution_count": 7,
   "id": "6d7ff3ce-3a1c-4de7-b9b0-b4170f6c3d9f",
   "metadata": {
    "tags": []
   },
   "outputs": [],
   "source": [
    "grayscale = False\n",
    "#size = (IMAGE_SHAPE[0] // SCALE, IMAGE_SHAPE[1] // SCALE)\n",
    "size = (1024, 1024)\n",
    "dataset = EyeDataset(size=size, data_folder=\"../train_dataset_mc\", grayscale=grayscale)"
   ]
  },
  {
   "cell_type": "code",
   "execution_count": 8,
   "id": "5aa12c11-3153-417d-8e45-a54058225087",
   "metadata": {},
   "outputs": [],
   "source": [
    "train_list = A.Compose(\n",
    "                    [#A.RandomCrop(width=1024, height=1024),\n",
    "                     A.ShiftScaleRotate(scale_limit=[-0.2, 0.22], rotate_limit=90, interpolation=cv2.INTER_CUBIC,\n",
    "                                border_mode=cv2.BORDER_REFLECT_101, p=0.6),\n",
    "                     A.HorizontalFlip(p=0.5),\n",
    "                     A.VerticalFlip(p=0.5), \n",
    "                    A.HueSaturationValue(hue_shift_limit=10 / 255, sat_shift_limit=10 / 255,\\\n",
    "                                            val_shift_limit=20 / 255, always_apply=False, p=0.2),\n",
    "                    A.RandomBrightnessContrast(p=0.2),\n",
    "                    A.ChannelShuffle(p=0.2),\n",
    "                     ToTensorV2(transpose_mask=True)\n",
    "                    ],\n",
    "                )\n",
    "eval_list = A.Compose(\n",
    "                    [#A.RandomCrop(width=1024, height=1024),\n",
    "                     A.ShiftScaleRotate(scale_limit=[-0.65, 0.25], rotate_limit=90, interpolation=cv2.INTER_CUBIC,\n",
    "                                border_mode=cv2.BORDER_REFLECT_101, p=0.6),\n",
    "                     A.HorizontalFlip(p=0.5),\n",
    "                     A.VerticalFlip(p=0.5),\n",
    "                    #A.OneOf([\n",
    "                    #         A.HueSaturationValue(hue_shift_limit=10 / 255, sat_shift_limit=10 / 255,\\\n",
    "                    #                              val_shift_limit=20 / 255, always_apply=False, p=0.2),\n",
    "                    #         A.RandomBrightnessContrast(p=0.2),\n",
    "                    #         A.ChannelShuffle(p=0.2),\n",
    "                    #], p=0.5),\n",
    "                     ToTensorV2(transpose_mask=True)\n",
    "                    ],\n",
    "                )\n",
    "#eval_list = [#A.LongestMaxSize(size, interpolation=cv2.INTER_CUBIC),\n",
    "              #A.PadIfNeeded(size, size),\n",
    "#              ToTensorV2(transpose_mask=True)\n",
    "#            ]\n",
    "\n",
    "transforms = {'train': train_list, 'test': A.Compose(eval_list)}\n"
   ]
  },
  {
   "cell_type": "code",
   "execution_count": 9,
   "id": "6924f846-c38f-4df4-a035-3507162085d3",
   "metadata": {},
   "outputs": [],
   "source": [
    "train_indices, test_indices = train_test_split(range(len(dataset)), test_size=0.2)\n"
   ]
  },
  {
   "cell_type": "code",
   "execution_count": 10,
   "id": "8d79613a-989f-447b-aed1-dc7f0041508d",
   "metadata": {},
   "outputs": [],
   "source": [
    "train_dataset = DatasetPart(dataset, train_indices, transform=transforms['train'] )\n",
    "valid_dataset = DatasetPart(dataset, test_indices, transform=transforms['test'] )\n"
   ]
  },
  {
   "cell_type": "code",
   "execution_count": 11,
   "id": "da7d1a6f-44b2-46ae-85dd-97fc20036b9a",
   "metadata": {},
   "outputs": [],
   "source": [
    "batch_size=2"
   ]
  },
  {
   "cell_type": "code",
   "execution_count": 12,
   "id": "d3083cc7-d5cc-4232-b721-4a5d5536f6b7",
   "metadata": {},
   "outputs": [],
   "source": [
    "train_loader = torch.utils.data.DataLoader(train_dataset, batch_size,\n",
    "                                   num_workers=4,\n",
    "                                   shuffle=True, drop_last=True)\n",
    "\n",
    "valid_loader = torch.utils.data.DataLoader(valid_dataset, batch_size,\n",
    "                                   num_workers=4,\n",
    "                                   shuffle=True, drop_last=True)"
   ]
  },
  {
   "cell_type": "code",
   "execution_count": 13,
   "id": "188ce84a-e170-4149-b29a-9885ab87c0cd",
   "metadata": {},
   "outputs": [],
   "source": [
    "class SoftDice:\n",
    "    def __init__(self, epsilon=1e-8):\n",
    "        self.epsilon = epsilon\n",
    "\n",
    "    def __call__(self, predictions: List[Dict[str, torch.Tensor]],\n",
    "                 targets: List[Dict[str, torch.Tensor]]) -> torch.Tensor:\n",
    "        \n",
    "        tags = torch.where(predictions > 0.5, 1, 0)\n",
    "        numerator = torch.sum(2 * tags * targets)\n",
    "        denominator = torch.sum(tags + targets)\n",
    "        return (numerator + self.epsilon) / (denominator + self.epsilon)\n",
    "\n",
    "# Метрика полноты\n",
    "class Recall:\n",
    "    def __init__(self, epsilon=1e-8, b=1):\n",
    "        self.epsilon = epsilon\n",
    "        self.a = b*b\n",
    "\n",
    "    def __call__(self, predictions: List[Dict[str, torch.Tensor]],\n",
    "                 targets: List[Dict[str, torch.Tensor]]) -> torch.Tensor:\n",
    "        \n",
    "        tags = torch.where(predictions > 0.5, 1, 0)\n",
    "        numerator = torch.sum(tags * targets)\n",
    "        denominator = torch.sum(targets)\n",
    "\n",
    "        return numerator / (denominator + self.epsilon)\n",
    "\n",
    "# Метрика точности\n",
    "class Accuracy:\n",
    "    def __init__(self, epsilon=1e-8, b=1):\n",
    "        self.epsilon = epsilon\n",
    "        self.a = b*b\n",
    "\n",
    "    def __call__(self, predictions: list, targets: list) -> torch.Tensor:\n",
    "        tags = torch.where(predictions > 0.5, 1, 0)\n",
    "        corrects = (tags == targets).float()\n",
    "        acc = corrects.sum()/corrects.numel()\n",
    "        return acc\n",
    "\n",
    "def make_metrics():\n",
    "    soft_dice = SoftDice()\n",
    "    rec = Recall()\n",
    "    acc = Accuracy()\n",
    "\n",
    "    def dice(pred, target):\n",
    "        return soft_dice(pred, target)\n",
    "\n",
    "    def accuracy(pred, target):\n",
    "        return acc(pred, target)\n",
    "\n",
    "    def recall(pred, target):\n",
    "        return rec(pred, target)\n",
    "\n",
    "    return [('exp_dice', dice),\n",
    "            ('accuracy', accuracy),\n",
    "            ('recall', recall),\n",
    "            ]"
   ]
  },
  {
   "cell_type": "code",
   "execution_count": 14,
   "id": "bb5c6048-7344-476b-bda8-176c7b76e248",
   "metadata": {},
   "outputs": [],
   "source": [
    "model_type='manet'\n",
    "##model = smp.Unet(model_type, activation='sigmoid', classes=1).cuda()\n",
    "#model = smp.UnetPlusPlus(encoder_name='resnet34', encoder_depth=5, encoder_weights='imagenet', in_channels=3, classes=1, activation='sigmoid')\n",
    "model = smp.MAnet(encoder_name='resnet34', encoder_depth=5, encoder_weights='imagenet', in_channels=3, classes=1, activation='sigmoid')\n",
    "#model = ResNet34UnetPlus(3, 1)\n",
    "#model = UNet_classic(n_channels=3, n_classes=1, bilinear=True) #n_classes = 3\n",
    "#model = UNet_RCAB(3, 1)\n",
    "#model = UNet_reduced(n_channels=3, n_classes=1)\n",
    "model = model.cuda()"
   ]
  },
  {
   "cell_type": "code",
   "execution_count": 15,
   "id": "43468ec4-d312-402b-b477-26a628d2443c",
   "metadata": {},
   "outputs": [],
   "source": [
    "criterion = smp.losses.DiceLoss(smp.losses.BINARY_MODE, from_logits=False)\n",
    "bce_loss = nn.BCELoss().cuda()"
   ]
  },
  {
   "cell_type": "code",
   "execution_count": 16,
   "id": "3fb64cba-a129-49ed-9b9a-d7d5ba8a7469",
   "metadata": {},
   "outputs": [],
   "source": [
    "learning_rate = 1e-3\n",
    "optimizer = torch.optim.Adam(model.parameters(), learning_rate)\n",
    "scheduler = torch.optim.lr_scheduler.ExponentialLR(optimizer, gamma=0.98)"
   ]
  },
  {
   "cell_type": "code",
   "execution_count": 17,
   "id": "d6e4fd59-83e8-443c-a56a-01c3f7120a38",
   "metadata": {},
   "outputs": [],
   "source": [
    "metrics = make_metrics()"
   ]
  },
  {
   "cell_type": "code",
   "execution_count": 18,
   "id": "7673b347-36dd-4510-b2ce-a327d7854a3d",
   "metadata": {},
   "outputs": [],
   "source": [
    "def train_epoch(train_loader, model, metrics, optimizer, criterion):\n",
    "    model.train()\n",
    "    \n",
    "    total_loss = 0.\n",
    "    i = 0\n",
    "    \n",
    "    summary = {\"loss\" : 0.}\n",
    "    \n",
    "    for m, f in metrics:\n",
    "        summary[m] = 0.\n",
    "        \n",
    "    for batch in tqdm(iter(train_loader)):\n",
    "        optimizer.zero_grad()\n",
    "        i += 1\n",
    "        image = batch['image'].cuda()\n",
    "        mask_target = batch[\"mask\"].cuda()\n",
    "\n",
    "        mask_pred = model(image)\n",
    "\n",
    "        loss =  bce_loss(mask_pred, mask_target) + 0.5*criterion(mask_pred, mask_target) \n",
    "        loss.backward()\n",
    "        optimizer.step()\n",
    "        \n",
    "        summary[\"loss\"] += loss.item()\n",
    "        \n",
    "        for metric_name, metric_fn in metrics:\n",
    "            summary[metric_name] += metric_fn(mask_pred, mask_target).item()\n",
    "    for m in summary.keys():\n",
    "        summary[m] = summary[m]/i\n",
    "    return summary\n"
   ]
  },
  {
   "cell_type": "code",
   "execution_count": 19,
   "id": "02939705-2cd0-47c6-ae87-90823f021f08",
   "metadata": {},
   "outputs": [],
   "source": [
    "def val_epoch(val_loader, model, metrics, criterion):\n",
    "        \n",
    "    model.eval()\n",
    "    \n",
    "    total_loss = 0.\n",
    "    i = 0\n",
    "    \n",
    "    summary = {\"loss\" : 0.}\n",
    "    \n",
    "    for m, f in metrics:\n",
    "        summary[m] = 0.\n",
    "        \n",
    "    for batch in tqdm(iter(val_loader)):\n",
    "        i += 1\n",
    "        image = batch['image'].cuda()\n",
    "        mask_target = batch[\"mask\"].cuda()\n",
    "        \n",
    "        mask_pred = model(image)\n",
    "        loss = criterion(mask_pred, mask_target)\n",
    "        \n",
    "        summary[\"loss\"] += loss.item()\n",
    "        \n",
    "        for metric_name, metric_fn in metrics:\n",
    "            summary[metric_name] += metric_fn(mask_pred, mask_target).item()\n",
    "            \n",
    "\n",
    "    for m in summary.keys():\n",
    "        summary[m] = summary[m]/i\n",
    "\n",
    "    return summary"
   ]
  },
  {
   "cell_type": "code",
   "execution_count": 22,
   "id": "f1edb3d5-d9b6-4c8c-a9ee-d127f1257511",
   "metadata": {},
   "outputs": [],
   "source": [
    "model_type='manet'\n",
    "experiment_name = str(model_type) + \"_\" + secrets.token_hex(nbytes=8)\n",
    "log_dir = './logs'\n",
    "weights_dir = \"./weights\"\n",
    "writer = SummaryWriter(os.path.join(log_dir, experiment_name))"
   ]
  },
  {
   "cell_type": "code",
   "execution_count": 23,
   "id": "3a43a3d5-14aa-45d8-8a12-7fecae5cbfb6",
   "metadata": {},
   "outputs": [
    {
     "name": "stdout",
     "output_type": "stream",
     "text": [
      "manet_ad2ca560d36a45d2\n"
     ]
    }
   ],
   "source": [
    "print(experiment_name)"
   ]
  },
  {
   "cell_type": "code",
   "execution_count": 24,
   "id": "2457029d-be89-40df-96fe-56307f054048",
   "metadata": {},
   "outputs": [],
   "source": [
    "if not os.path.exists(weights_dir):\n",
    "    os.mkdir(weights_dir)\n",
    "\n",
    "cur_experiment_weights = os.path.join(weights_dir, experiment_name)\n",
    "\n",
    "if not os.path.exists(cur_experiment_weights):\n",
    "    os.mkdir(cur_experiment_weights)"
   ]
  },
  {
   "cell_type": "code",
   "execution_count": 25,
   "id": "62433d1a-0f04-49b1-a567-2e9444a78bc6",
   "metadata": {},
   "outputs": [],
   "source": [
    "epochs = 400\n",
    "save_every = 10"
   ]
  },
  {
   "cell_type": "code",
   "execution_count": 26,
   "id": "d73a1f32-b12d-41c8-a96b-3ffe95effcad",
   "metadata": {
    "collapsed": true,
    "jupyter": {
     "outputs_hidden": true
    },
    "tags": []
   },
   "outputs": [
    {
     "name": "stderr",
     "output_type": "stream",
     "text": [
      "100%|█████████████████████████████████████████████| 260/260 [00:38<00:00,  6.77it/s]"
     ]
    },
    {
     "name": "stdout",
     "output_type": "stream",
     "text": [
      "Train {'loss': 0.39950602920009537, 'exp_dice': 0.3850264413666081, 'accuracy': 0.9713907993756807, 'recall': 0.44910871771128136}\n"
     ]
    },
    {
     "name": "stderr",
     "output_type": "stream",
     "text": [
      "\n",
      "100%|███████████████████████████████████████████████| 65/65 [00:03<00:00, 17.19it/s]"
     ]
    },
    {
     "name": "stdout",
     "output_type": "stream",
     "text": [
      "Test {'loss': 0.6191488513579735, 'exp_dice': 0.40619650322657364, 'accuracy': 0.9768554247342623, 'recall': 0.3318966880440712}\n"
     ]
    },
    {
     "name": "stderr",
     "output_type": "stream",
     "text": [
      "\n",
      "100%|█████████████████████████████████████████████| 260/260 [00:36<00:00,  7.06it/s]"
     ]
    },
    {
     "name": "stdout",
     "output_type": "stream",
     "text": [
      "Train {'loss': 0.30797515012896975, 'exp_dice': 0.5028092644535578, 'accuracy': 0.9736588478088379, 'recall': 0.5556124171385398}\n"
     ]
    },
    {
     "name": "stderr",
     "output_type": "stream",
     "text": [
      "\n",
      "100%|███████████████████████████████████████████████| 65/65 [00:03<00:00, 17.60it/s]"
     ]
    },
    {
     "name": "stdout",
     "output_type": "stream",
     "text": [
      "Test {'loss': 0.7679841710970952, 'exp_dice': 0.2367132248213658, 'accuracy': 0.9775951825655423, 'recall': 0.15435744329140735}\n"
     ]
    },
    {
     "name": "stderr",
     "output_type": "stream",
     "text": [
      "\n",
      "100%|█████████████████████████████████████████████| 260/260 [00:35<00:00,  7.23it/s]"
     ]
    },
    {
     "name": "stdout",
     "output_type": "stream",
     "text": [
      "Train {'loss': 0.3072178607376722, 'exp_dice': 0.5033169518009974, 'accuracy': 0.9731575379004845, 'recall': 0.5545282706618309}\n"
     ]
    },
    {
     "name": "stderr",
     "output_type": "stream",
     "text": [
      "\n",
      "100%|███████████████████████████████████████████████| 65/65 [00:03<00:00, 17.53it/s]"
     ]
    },
    {
     "name": "stdout",
     "output_type": "stream",
     "text": [
      "Test {'loss': 0.7107677909044119, 'exp_dice': 0.3292195277718397, 'accuracy': 0.9636347770690918, 'recall': 0.5489124761177944}\n"
     ]
    },
    {
     "name": "stderr",
     "output_type": "stream",
     "text": [
      "\n",
      "100%|█████████████████████████████████████████████| 260/260 [00:35<00:00,  7.23it/s]"
     ]
    },
    {
     "name": "stdout",
     "output_type": "stream",
     "text": [
      "Train {'loss': 0.29646498979284214, 'exp_dice': 0.5210710547291315, 'accuracy': 0.9734432440537673, 'recall': 0.5672272571004354}\n"
     ]
    },
    {
     "name": "stderr",
     "output_type": "stream",
     "text": [
      "\n",
      "100%|███████████████████████████████████████████████| 65/65 [00:03<00:00, 17.53it/s]"
     ]
    },
    {
     "name": "stdout",
     "output_type": "stream",
     "text": [
      "Test {'loss': 0.7706610844685481, 'exp_dice': 0.2274792037331141, 'accuracy': 0.9783509254455567, 'recall': 0.1441610579020702}\n"
     ]
    },
    {
     "name": "stderr",
     "output_type": "stream",
     "text": [
      "\n",
      "100%|█████████████████████████████████████████████| 260/260 [00:35<00:00,  7.25it/s]"
     ]
    },
    {
     "name": "stdout",
     "output_type": "stream",
     "text": [
      "Train {'loss': 0.28475029629010423, 'exp_dice': 0.538967427611351, 'accuracy': 0.9739123839598436, 'recall': 0.584318031771825}\n"
     ]
    },
    {
     "name": "stderr",
     "output_type": "stream",
     "text": [
      "\n",
      "100%|███████████████████████████████████████████████| 65/65 [00:03<00:00, 17.86it/s]"
     ]
    },
    {
     "name": "stdout",
     "output_type": "stream",
     "text": [
      "Test {'loss': 0.5483153994266804, 'exp_dice': 0.4666569262742996, 'accuracy': 0.9765312634981596, 'recall': 0.4157991574360774}\n"
     ]
    },
    {
     "name": "stderr",
     "output_type": "stream",
     "text": [
      "\n",
      "100%|█████████████████████████████████████████████| 260/260 [00:35<00:00,  7.27it/s]"
     ]
    },
    {
     "name": "stdout",
     "output_type": "stream",
     "text": [
      "Train {'loss': 0.28166347982791756, 'exp_dice': 0.5449273355878317, 'accuracy': 0.9733244033960196, 'recall': 0.5892850887890045}\n"
     ]
    },
    {
     "name": "stderr",
     "output_type": "stream",
     "text": [
      "\n",
      "100%|███████████████████████████████████████████████| 65/65 [00:03<00:00, 17.89it/s]"
     ]
    },
    {
     "name": "stdout",
     "output_type": "stream",
     "text": [
      "Test {'loss': 0.515897824214055, 'exp_dice': 0.49917753155414873, 'accuracy': 0.976807242173415, 'recall': 0.45151849549550277}\n"
     ]
    },
    {
     "name": "stderr",
     "output_type": "stream",
     "text": [
      "\n",
      "100%|█████████████████████████████████████████████| 260/260 [00:35<00:00,  7.27it/s]"
     ]
    },
    {
     "name": "stdout",
     "output_type": "stream",
     "text": [
      "Train {'loss': 0.29270191009228047, 'exp_dice': 0.5254620307841553, 'accuracy': 0.9735789775848389, 'recall': 0.5670002646887532}\n"
     ]
    },
    {
     "name": "stderr",
     "output_type": "stream",
     "text": [
      "\n",
      "100%|███████████████████████████████████████████████| 65/65 [00:03<00:00, 17.51it/s]"
     ]
    },
    {
     "name": "stdout",
     "output_type": "stream",
     "text": [
      "Test {'loss': 0.5058403647862948, 'exp_dice': 0.5105744687410502, 'accuracy': 0.9764472447908842, 'recall': 0.5017555663218864}\n"
     ]
    },
    {
     "name": "stderr",
     "output_type": "stream",
     "text": [
      "\n",
      "100%|█████████████████████████████████████████████| 260/260 [00:35<00:00,  7.26it/s]"
     ]
    },
    {
     "name": "stdout",
     "output_type": "stream",
     "text": [
      "Train {'loss': 0.28429576852000676, 'exp_dice': 0.5395763111802248, 'accuracy': 0.9735453128814697, 'recall': 0.5892740027549175}\n"
     ]
    },
    {
     "name": "stderr",
     "output_type": "stream",
     "text": [
      "\n",
      "100%|███████████████████████████████████████████████| 65/65 [00:03<00:00, 17.64it/s]"
     ]
    },
    {
     "name": "stdout",
     "output_type": "stream",
     "text": [
      "Test {'loss': 0.47966956542088435, 'exp_dice': 0.5384057022058046, 'accuracy': 0.975911492567796, 'recall': 0.5528583581631}\n"
     ]
    },
    {
     "name": "stderr",
     "output_type": "stream",
     "text": [
      "\n",
      "100%|█████████████████████████████████████████████| 260/260 [00:35<00:00,  7.26it/s]"
     ]
    },
    {
     "name": "stdout",
     "output_type": "stream",
     "text": [
      "Train {'loss': 0.2722059675707267, 'exp_dice': 0.5575335580425766, 'accuracy': 0.9743053894776564, 'recall': 0.6021582792584713}\n"
     ]
    },
    {
     "name": "stderr",
     "output_type": "stream",
     "text": [
      "\n",
      "100%|███████████████████████████████████████████████| 65/65 [00:03<00:00, 17.65it/s]"
     ]
    },
    {
     "name": "stdout",
     "output_type": "stream",
     "text": [
      "Test {'loss': 0.4789706065104558, 'exp_dice': 0.5388886914803431, 'accuracy': 0.9759960541358361, 'recall': 0.54950374685801}\n"
     ]
    },
    {
     "name": "stderr",
     "output_type": "stream",
     "text": [
      "\n",
      "100%|█████████████████████████████████████████████| 260/260 [00:35<00:00,  7.27it/s]"
     ]
    },
    {
     "name": "stdout",
     "output_type": "stream",
     "text": [
      "Train {'loss': 0.2772754884683169, 'exp_dice': 0.5479122994897457, 'accuracy': 0.9743166575065025, 'recall': 0.5976954382199507}\n"
     ]
    },
    {
     "name": "stderr",
     "output_type": "stream",
     "text": [
      "\n",
      "100%|███████████████████████████████████████████████| 65/65 [00:03<00:00, 17.65it/s]\n"
     ]
    },
    {
     "name": "stdout",
     "output_type": "stream",
     "text": [
      "Test {'loss': 0.5057672408910898, 'exp_dice': 0.5193569357578571, 'accuracy': 0.9726709292485164, 'recall': 0.6668402332525987}\n"
     ]
    },
    {
     "name": "stderr",
     "output_type": "stream",
     "text": [
      "100%|█████████████████████████████████████████████| 260/260 [00:35<00:00,  7.29it/s]"
     ]
    },
    {
     "name": "stdout",
     "output_type": "stream",
     "text": [
      "Train {'loss': 0.3022052760880727, 'exp_dice': 0.5109001982097442, 'accuracy': 0.9734351836718046, 'recall': 0.5462766425540814}\n"
     ]
    },
    {
     "name": "stderr",
     "output_type": "stream",
     "text": [
      "\n",
      "100%|███████████████████████████████████████████████| 65/65 [00:03<00:00, 17.74it/s]"
     ]
    },
    {
     "name": "stdout",
     "output_type": "stream",
     "text": [
      "Test {'loss': 0.5300877653635465, 'exp_dice': 0.48736282128554126, 'accuracy': 0.9764556517967811, 'recall': 0.4834453786794956}\n"
     ]
    },
    {
     "name": "stderr",
     "output_type": "stream",
     "text": [
      "\n",
      "100%|█████████████████████████████████████████████| 260/260 [00:35<00:00,  7.28it/s]"
     ]
    },
    {
     "name": "stdout",
     "output_type": "stream",
     "text": [
      "Train {'loss': 0.29731938036588523, 'exp_dice': 0.5173455390219505, 'accuracy': 0.9735595703125, 'recall': 0.5567420560580033}\n"
     ]
    },
    {
     "name": "stderr",
     "output_type": "stream",
     "text": [
      "\n",
      "100%|███████████████████████████████████████████████| 65/65 [00:03<00:00, 17.93it/s]"
     ]
    },
    {
     "name": "stdout",
     "output_type": "stream",
     "text": [
      "Test {'loss': 0.6085267699681796, 'exp_dice': 0.4200849319879825, 'accuracy': 0.9742868203383226, 'recall': 0.41310084347541515}\n"
     ]
    },
    {
     "name": "stderr",
     "output_type": "stream",
     "text": [
      "\n",
      "100%|█████████████████████████████████████████████| 260/260 [00:35<00:00,  7.30it/s]"
     ]
    },
    {
     "name": "stdout",
     "output_type": "stream",
     "text": [
      "Train {'loss': 0.2948089697613166, 'exp_dice': 0.5224122195862807, 'accuracy': 0.9734278110357432, 'recall': 0.5598924953203935}\n"
     ]
    },
    {
     "name": "stderr",
     "output_type": "stream",
     "text": [
      "\n",
      "100%|███████████████████████████████████████████████| 65/65 [00:03<00:00, 18.02it/s]"
     ]
    },
    {
     "name": "stdout",
     "output_type": "stream",
     "text": [
      "Test {'loss': 0.497364211999453, 'exp_dice': 0.5300073110140286, 'accuracy': 0.9747062096228967, 'recall': 0.598317841383127}\n"
     ]
    },
    {
     "name": "stderr",
     "output_type": "stream",
     "text": [
      "\n",
      "100%|█████████████████████████████████████████████| 260/260 [00:35<00:00,  7.30it/s]"
     ]
    },
    {
     "name": "stdout",
     "output_type": "stream",
     "text": [
      "Train {'loss': 0.285974750152001, 'exp_dice': 0.5363407718447538, 'accuracy': 0.9737938459102924, 'recall': 0.5733726257315048}\n"
     ]
    },
    {
     "name": "stderr",
     "output_type": "stream",
     "text": [
      "\n",
      "100%|███████████████████████████████████████████████| 65/65 [00:03<00:00, 17.77it/s]"
     ]
    },
    {
     "name": "stdout",
     "output_type": "stream",
     "text": [
      "Test {'loss': 0.5177219665967501, 'exp_dice': 0.509640028155767, 'accuracy': 0.9740456947913536, 'recall': 0.6174011588096618}\n"
     ]
    },
    {
     "name": "stderr",
     "output_type": "stream",
     "text": [
      "\n",
      "100%|█████████████████████████████████████████████| 260/260 [00:35<00:00,  7.29it/s]"
     ]
    },
    {
     "name": "stdout",
     "output_type": "stream",
     "text": [
      "Train {'loss': 0.27748617667418257, 'exp_dice': 0.5500135869360887, 'accuracy': 0.9742029997018667, 'recall': 0.596033783027759}\n"
     ]
    },
    {
     "name": "stderr",
     "output_type": "stream",
     "text": [
      "\n",
      "100%|███████████████████████████████████████████████| 65/65 [00:03<00:00, 17.92it/s]"
     ]
    },
    {
     "name": "stdout",
     "output_type": "stream",
     "text": [
      "Test {'loss': 0.4978357260043804, 'exp_dice': 0.52343718455388, 'accuracy': 0.9760514406057504, 'recall': 0.529267641214224}\n"
     ]
    },
    {
     "name": "stderr",
     "output_type": "stream",
     "text": [
      "\n",
      "100%|█████████████████████████████████████████████| 260/260 [00:35<00:00,  7.31it/s]"
     ]
    },
    {
     "name": "stdout",
     "output_type": "stream",
     "text": [
      "Train {'loss': 0.2770461919216009, 'exp_dice': 0.5488218971743033, 'accuracy': 0.9742608033693754, 'recall': 0.5966308523829167}\n"
     ]
    },
    {
     "name": "stderr",
     "output_type": "stream",
     "text": [
      "\n",
      "100%|███████████████████████████████████████████████| 65/65 [00:03<00:00, 18.17it/s]"
     ]
    },
    {
     "name": "stdout",
     "output_type": "stream",
     "text": [
      "Test {'loss': 0.4751747287236727, 'exp_dice': 0.5478665104279151, 'accuracy': 0.9752561862652118, 'recall': 0.6150022300390097}\n"
     ]
    },
    {
     "name": "stderr",
     "output_type": "stream",
     "text": [
      "\n",
      "100%|█████████████████████████████████████████████| 260/260 [00:35<00:00,  7.30it/s]"
     ]
    },
    {
     "name": "stdout",
     "output_type": "stream",
     "text": [
      "Train {'loss': 0.27290118606044694, 'exp_dice': 0.5562250993286187, 'accuracy': 0.9742138312413142, 'recall': 0.5981002200108309}\n"
     ]
    },
    {
     "name": "stderr",
     "output_type": "stream",
     "text": [
      "\n",
      "100%|███████████████████████████████████████████████| 65/65 [00:03<00:00, 18.20it/s]"
     ]
    },
    {
     "name": "stdout",
     "output_type": "stream",
     "text": [
      "Test {'loss': 0.48234827243364775, 'exp_dice': 0.5389784333797601, 'accuracy': 0.975799743945782, 'recall': 0.5903327510907099}\n"
     ]
    },
    {
     "name": "stderr",
     "output_type": "stream",
     "text": [
      "\n",
      "100%|█████████████████████████████████████████████| 260/260 [00:35<00:00,  7.30it/s]"
     ]
    },
    {
     "name": "stdout",
     "output_type": "stream",
     "text": [
      "Train {'loss': 0.269837911427021, 'exp_dice': 0.5623893218544813, 'accuracy': 0.974147732441242, 'recall': 0.6056511673789758}\n"
     ]
    },
    {
     "name": "stderr",
     "output_type": "stream",
     "text": [
      "\n",
      "100%|███████████████████████████████████████████████| 65/65 [00:03<00:00, 17.90it/s]"
     ]
    },
    {
     "name": "stdout",
     "output_type": "stream",
     "text": [
      "Test {'loss': 0.47578610273507926, 'exp_dice': 0.546820924603022, 'accuracy': 0.975135641831618, 'recall': 0.6219400185805101}\n"
     ]
    },
    {
     "name": "stderr",
     "output_type": "stream",
     "text": [
      "\n",
      "100%|█████████████████████████████████████████████| 260/260 [00:35<00:00,  7.29it/s]"
     ]
    },
    {
     "name": "stdout",
     "output_type": "stream",
     "text": [
      "Train {'loss': 0.26965558569018655, 'exp_dice': 0.5615955827900997, 'accuracy': 0.9744179047071017, 'recall': 0.6039333623189193}\n"
     ]
    },
    {
     "name": "stderr",
     "output_type": "stream",
     "text": [
      "\n",
      "100%|███████████████████████████████████████████████| 65/65 [00:03<00:00, 17.89it/s]"
     ]
    },
    {
     "name": "stdout",
     "output_type": "stream",
     "text": [
      "Test {'loss': 0.4866670901958759, 'exp_dice': 0.5342704413028864, 'accuracy': 0.9745133253244254, 'recall': 0.633143020593203}\n"
     ]
    },
    {
     "name": "stderr",
     "output_type": "stream",
     "text": [
      "\n",
      "100%|█████████████████████████████████████████████| 260/260 [00:35<00:00,  7.31it/s]"
     ]
    },
    {
     "name": "stdout",
     "output_type": "stream",
     "text": [
      "Train {'loss': 0.2665520808444573, 'exp_dice': 0.566980625459781, 'accuracy': 0.9743162375230056, 'recall': 0.6129363456597695}\n"
     ]
    },
    {
     "name": "stderr",
     "output_type": "stream",
     "text": [
      "\n",
      "100%|███████████████████████████████████████████████| 65/65 [00:03<00:00, 17.95it/s]\n"
     ]
    },
    {
     "name": "stdout",
     "output_type": "stream",
     "text": [
      "Test {'loss': 0.4664072220142071, 'exp_dice': 0.554448719895803, 'accuracy': 0.9750370685870831, 'recall': 0.6015199771294227}\n"
     ]
    },
    {
     "name": "stderr",
     "output_type": "stream",
     "text": [
      "100%|█████████████████████████████████████████████| 260/260 [00:35<00:00,  7.32it/s]"
     ]
    },
    {
     "name": "stdout",
     "output_type": "stream",
     "text": [
      "Train {'loss': 0.2745613604784012, 'exp_dice': 0.5528436295688153, 'accuracy': 0.9743016169621395, 'recall': 0.5993605134578851}\n"
     ]
    },
    {
     "name": "stderr",
     "output_type": "stream",
     "text": [
      "\n",
      "100%|███████████████████████████████████████████████| 65/65 [00:03<00:00, 18.36it/s]"
     ]
    },
    {
     "name": "stdout",
     "output_type": "stream",
     "text": [
      "Test {'loss': 0.48630874432050264, 'exp_dice': 0.5384744350726788, 'accuracy': 0.9746722881610577, 'recall': 0.5736111363539329}\n"
     ]
    },
    {
     "name": "stderr",
     "output_type": "stream",
     "text": [
      "\n",
      "100%|█████████████████████████████████████████████| 260/260 [00:35<00:00,  7.33it/s]"
     ]
    },
    {
     "name": "stdout",
     "output_type": "stream",
     "text": [
      "Train {'loss': 0.2729559978040365, 'exp_dice': 0.5557272674372563, 'accuracy': 0.9742389165438139, 'recall': 0.6042932700652343}\n"
     ]
    },
    {
     "name": "stderr",
     "output_type": "stream",
     "text": [
      "\n",
      "100%|███████████████████████████████████████████████| 65/65 [00:03<00:00, 18.16it/s]"
     ]
    },
    {
     "name": "stdout",
     "output_type": "stream",
     "text": [
      "Test {'loss': 0.4791407658503606, 'exp_dice': 0.5404826411834129, 'accuracy': 0.9757411076472355, 'recall': 0.5739712877915456}\n"
     ]
    },
    {
     "name": "stderr",
     "output_type": "stream",
     "text": [
      "\n",
      "100%|█████████████████████████████████████████████| 260/260 [00:35<00:00,  7.31it/s]"
     ]
    },
    {
     "name": "stdout",
     "output_type": "stream",
     "text": [
      "Train {'loss': 0.2676597373416791, 'exp_dice': 0.5646367077070933, 'accuracy': 0.9741613663159884, 'recall': 0.6102592984071145}\n"
     ]
    },
    {
     "name": "stderr",
     "output_type": "stream",
     "text": [
      "\n",
      "100%|███████████████████████████████████████████████| 65/65 [00:03<00:00, 17.94it/s]"
     ]
    },
    {
     "name": "stdout",
     "output_type": "stream",
     "text": [
      "Test {'loss': 0.4654745551256033, 'exp_dice': 0.558598235478768, 'accuracy': 0.9765106274531438, 'recall': 0.6264602532753578}\n"
     ]
    },
    {
     "name": "stderr",
     "output_type": "stream",
     "text": [
      "\n",
      "100%|█████████████████████████████████████████████| 260/260 [00:35<00:00,  7.31it/s]"
     ]
    },
    {
     "name": "stdout",
     "output_type": "stream",
     "text": [
      "Train {'loss': 0.2657003555160302, 'exp_dice': 0.5673245765555364, 'accuracy': 0.9744609429286076, 'recall': 0.6116819716416872}\n"
     ]
    },
    {
     "name": "stderr",
     "output_type": "stream",
     "text": [
      "\n",
      "100%|███████████████████████████████████████████████| 65/65 [00:03<00:00, 18.02it/s]"
     ]
    },
    {
     "name": "stdout",
     "output_type": "stream",
     "text": [
      "Test {'loss': 0.47222303793980525, 'exp_dice': 0.5489912702487065, 'accuracy': 0.9742699109590971, 'recall': 0.6472595971364241}\n"
     ]
    },
    {
     "name": "stderr",
     "output_type": "stream",
     "text": [
      "\n",
      "100%|█████████████████████████████████████████████| 260/260 [00:35<00:00,  7.32it/s]"
     ]
    },
    {
     "name": "stdout",
     "output_type": "stream",
     "text": [
      "Train {'loss': 0.26165857274944965, 'exp_dice': 0.5740660085127904, 'accuracy': 0.9746187815299401, 'recall': 0.6182715208484576}\n"
     ]
    },
    {
     "name": "stderr",
     "output_type": "stream",
     "text": [
      "\n",
      "100%|███████████████████████████████████████████████| 65/65 [00:03<00:00, 18.12it/s]"
     ]
    },
    {
     "name": "stdout",
     "output_type": "stream",
     "text": [
      "Test {'loss': 0.48216480842003456, 'exp_dice': 0.5363777758983466, 'accuracy': 0.9754872908959022, 'recall': 0.5921805083751679}\n"
     ]
    },
    {
     "name": "stderr",
     "output_type": "stream",
     "text": [
      "\n",
      "100%|█████████████████████████████████████████████| 260/260 [00:35<00:00,  7.31it/s]"
     ]
    },
    {
     "name": "stdout",
     "output_type": "stream",
     "text": [
      "Train {'loss': 0.26592066138982773, 'exp_dice': 0.5671834291173862, 'accuracy': 0.9742455335763784, 'recall': 0.6167371440965396}\n"
     ]
    },
    {
     "name": "stderr",
     "output_type": "stream",
     "text": [
      "\n",
      "100%|███████████████████████████████████████████████| 65/65 [00:03<00:00, 18.05it/s]"
     ]
    },
    {
     "name": "stdout",
     "output_type": "stream",
     "text": [
      "Test {'loss': 0.474518033174368, 'exp_dice': 0.5436080840917734, 'accuracy': 0.975681209564209, 'recall': 0.583981951383444}\n"
     ]
    },
    {
     "name": "stderr",
     "output_type": "stream",
     "text": [
      "\n",
      "100%|█████████████████████████████████████████████| 260/260 [00:35<00:00,  7.32it/s]"
     ]
    },
    {
     "name": "stdout",
     "output_type": "stream",
     "text": [
      "Train {'loss': 0.2626797853754117, 'exp_dice': 0.5728085208970767, 'accuracy': 0.9742415043023916, 'recall': 0.6213728288045296}\n"
     ]
    },
    {
     "name": "stderr",
     "output_type": "stream",
     "text": [
      "\n",
      "100%|███████████████████████████████████████████████| 65/65 [00:03<00:00, 18.15it/s]"
     ]
    },
    {
     "name": "stdout",
     "output_type": "stream",
     "text": [
      "Test {'loss': 0.47144024280401375, 'exp_dice': 0.5507632906620319, 'accuracy': 0.9757834287790151, 'recall': 0.5872832976854765}\n"
     ]
    },
    {
     "name": "stderr",
     "output_type": "stream",
     "text": [
      "\n",
      "100%|█████████████████████████████████████████████| 260/260 [00:35<00:00,  7.32it/s]"
     ]
    },
    {
     "name": "stdout",
     "output_type": "stream",
     "text": [
      "Train {'loss': 0.26300031514121935, 'exp_dice': 0.5716142089894185, 'accuracy': 0.9742825159659753, 'recall': 0.6189050006178709}\n"
     ]
    },
    {
     "name": "stderr",
     "output_type": "stream",
     "text": [
      "\n",
      "100%|███████████████████████████████████████████████| 65/65 [00:03<00:00, 17.91it/s]"
     ]
    },
    {
     "name": "stdout",
     "output_type": "stream",
     "text": [
      "Test {'loss': 0.47010721610142636, 'exp_dice': 0.5517961557094867, 'accuracy': 0.9754286545973557, 'recall': 0.6291833510765663}\n"
     ]
    },
    {
     "name": "stderr",
     "output_type": "stream",
     "text": [
      "\n",
      "100%|█████████████████████████████████████████████| 260/260 [00:35<00:00,  7.31it/s]"
     ]
    },
    {
     "name": "stdout",
     "output_type": "stream",
     "text": [
      "Train {'loss': 0.2641304412140296, 'exp_dice': 0.5710897790124783, 'accuracy': 0.9737783432006836, 'recall': 0.6162412944894571}\n"
     ]
    },
    {
     "name": "stderr",
     "output_type": "stream",
     "text": [
      "\n",
      "100%|███████████████████████████████████████████████| 65/65 [00:03<00:00, 18.25it/s]"
     ]
    },
    {
     "name": "stdout",
     "output_type": "stream",
     "text": [
      "Test {'loss': 0.4532043631260212, 'exp_dice': 0.567544208581631, 'accuracy': 0.9754939446082482, 'recall': 0.6229031434425941}\n"
     ]
    },
    {
     "name": "stderr",
     "output_type": "stream",
     "text": [
      "\n",
      "100%|█████████████████████████████████████████████| 260/260 [00:35<00:00,  7.32it/s]"
     ]
    },
    {
     "name": "stdout",
     "output_type": "stream",
     "text": [
      "Train {'loss': 0.26442059370187615, 'exp_dice': 0.5689441352509536, 'accuracy': 0.9743101028295663, 'recall': 0.6232585190580442}\n"
     ]
    },
    {
     "name": "stderr",
     "output_type": "stream",
     "text": [
      "\n",
      "100%|███████████████████████████████████████████████| 65/65 [00:03<00:00, 18.00it/s]\n"
     ]
    },
    {
     "name": "stdout",
     "output_type": "stream",
     "text": [
      "Test {'loss': 0.46671480857408965, 'exp_dice': 0.5546843542502476, 'accuracy': 0.9758999384366549, 'recall': 0.6125146966714126}\n"
     ]
    },
    {
     "name": "stderr",
     "output_type": "stream",
     "text": [
      "100%|█████████████████████████████████████████████| 260/260 [00:35<00:00,  7.33it/s]"
     ]
    },
    {
     "name": "stdout",
     "output_type": "stream",
     "text": [
      "Train {'loss': 0.2576744456703846, 'exp_dice': 0.5812545134614293, 'accuracy': 0.9741897839766283, 'recall': 0.627621019918185}\n"
     ]
    },
    {
     "name": "stderr",
     "output_type": "stream",
     "text": [
      "\n",
      "100%|███████████████████████████████████████████████| 65/65 [00:03<00:00, 18.26it/s]"
     ]
    },
    {
     "name": "stdout",
     "output_type": "stream",
     "text": [
      "Test {'loss': 0.4709782600402832, 'exp_dice': 0.5457489639520645, 'accuracy': 0.9758831170889047, 'recall': 0.5602761422212307}\n"
     ]
    },
    {
     "name": "stderr",
     "output_type": "stream",
     "text": [
      "\n",
      "100%|█████████████████████████████████████████████| 260/260 [00:35<00:00,  7.32it/s]"
     ]
    },
    {
     "name": "stdout",
     "output_type": "stream",
     "text": [
      "Train {'loss': 0.25879382135776374, 'exp_dice': 0.5789044880379851, 'accuracy': 0.9745408700062679, 'recall': 0.6245883747935295}\n"
     ]
    },
    {
     "name": "stderr",
     "output_type": "stream",
     "text": [
      "\n",
      "100%|███████████████████████████████████████████████| 65/65 [00:03<00:00, 18.14it/s]"
     ]
    },
    {
     "name": "stdout",
     "output_type": "stream",
     "text": [
      "Test {'loss': 0.4631067890387315, 'exp_dice': 0.5567842368896191, 'accuracy': 0.9748680921701285, 'recall': 0.6423277850334461}\n"
     ]
    },
    {
     "name": "stderr",
     "output_type": "stream",
     "text": [
      "\n",
      "100%|█████████████████████████████████████████████| 260/260 [00:35<00:00,  7.33it/s]"
     ]
    },
    {
     "name": "stdout",
     "output_type": "stream",
     "text": [
      "Train {'loss': 0.2621152851444024, 'exp_dice': 0.5728088192641735, 'accuracy': 0.9743408404863798, 'recall': 0.6243583369713563}\n"
     ]
    },
    {
     "name": "stderr",
     "output_type": "stream",
     "text": [
      "\n",
      "100%|███████████████████████████████████████████████| 65/65 [00:03<00:00, 18.36it/s]"
     ]
    },
    {
     "name": "stdout",
     "output_type": "stream",
     "text": [
      "Test {'loss': 0.5608572217134329, 'exp_dice': 0.4689328042360453, 'accuracy': 0.97724122267503, 'recall': 0.4201003909111023}\n"
     ]
    },
    {
     "name": "stderr",
     "output_type": "stream",
     "text": [
      "\n",
      "100%|█████████████████████████████████████████████| 260/260 [00:35<00:00,  7.33it/s]"
     ]
    },
    {
     "name": "stdout",
     "output_type": "stream",
     "text": [
      "Train {'loss': 0.27373663737223697, 'exp_dice': 0.5549127153479136, 'accuracy': 0.9738758710714487, 'recall': 0.6023925298968187}\n"
     ]
    },
    {
     "name": "stderr",
     "output_type": "stream",
     "text": [
      "\n",
      "100%|███████████████████████████████████████████████| 65/65 [00:03<00:00, 18.43it/s]"
     ]
    },
    {
     "name": "stdout",
     "output_type": "stream",
     "text": [
      "Test {'loss': 0.4857405726726238, 'exp_dice': 0.5347843014276945, 'accuracy': 0.9765898484450121, 'recall': 0.5177192816367516}\n"
     ]
    },
    {
     "name": "stderr",
     "output_type": "stream",
     "text": [
      "\n",
      "100%|█████████████████████████████████████████████| 260/260 [00:35<00:00,  7.33it/s]"
     ]
    },
    {
     "name": "stdout",
     "output_type": "stream",
     "text": [
      "Train {'loss': 0.26555856191194976, 'exp_dice': 0.5674615578582654, 'accuracy': 0.974422390644367, 'recall': 0.6172290459275246}\n"
     ]
    },
    {
     "name": "stderr",
     "output_type": "stream",
     "text": [
      "\n",
      "100%|███████████████████████████████████████████████| 65/65 [00:03<00:00, 17.99it/s]"
     ]
    },
    {
     "name": "stdout",
     "output_type": "stream",
     "text": [
      "Test {'loss': 0.4640421885710496, 'exp_dice': 0.5550112077823052, 'accuracy': 0.9750357847947341, 'recall': 0.592984239413188}\n"
     ]
    },
    {
     "name": "stderr",
     "output_type": "stream",
     "text": [
      "\n",
      "100%|█████████████████████████████████████████████| 260/260 [00:35<00:00,  7.33it/s]"
     ]
    },
    {
     "name": "stdout",
     "output_type": "stream",
     "text": [
      "Train {'loss': 0.26031560760277966, 'exp_dice': 0.5759501728300865, 'accuracy': 0.9744982260924119, 'recall': 0.6239798214573127}\n"
     ]
    },
    {
     "name": "stderr",
     "output_type": "stream",
     "text": [
      "\n",
      "100%|███████████████████████████████████████████████| 65/65 [00:03<00:00, 18.32it/s]"
     ]
    },
    {
     "name": "stdout",
     "output_type": "stream",
     "text": [
      "Test {'loss': 0.45646422642927903, 'exp_dice': 0.563327869371726, 'accuracy': 0.9748402448800894, 'recall': 0.6490437938616826}\n"
     ]
    },
    {
     "name": "stderr",
     "output_type": "stream",
     "text": [
      "\n",
      "100%|█████████████████████████████████████████████| 260/260 [00:35<00:00,  7.34it/s]"
     ]
    },
    {
     "name": "stdout",
     "output_type": "stream",
     "text": [
      "Train {'loss': 0.2586792158965881, 'exp_dice': 0.5786436303303792, 'accuracy': 0.9743872972635123, 'recall': 0.6247215884236189}\n"
     ]
    },
    {
     "name": "stderr",
     "output_type": "stream",
     "text": [
      "\n",
      "100%|███████████████████████████████████████████████| 65/65 [00:03<00:00, 18.44it/s]"
     ]
    },
    {
     "name": "stdout",
     "output_type": "stream",
     "text": [
      "Test {'loss': 0.4492142759836637, 'exp_dice': 0.5702565225271078, 'accuracy': 0.9758755683898925, 'recall': 0.6017071627653562}\n"
     ]
    },
    {
     "name": "stderr",
     "output_type": "stream",
     "text": [
      "\n",
      "100%|█████████████████████████████████████████████| 260/260 [00:35<00:00,  7.34it/s]"
     ]
    },
    {
     "name": "stdout",
     "output_type": "stream",
     "text": [
      "Train {'loss': 0.25864903760644103, 'exp_dice': 0.5782783838418813, 'accuracy': 0.9745604405036339, 'recall': 0.627474810068424}\n"
     ]
    },
    {
     "name": "stderr",
     "output_type": "stream",
     "text": [
      "\n",
      "100%|███████████████████████████████████████████████| 65/65 [00:03<00:00, 18.28it/s]"
     ]
    },
    {
     "name": "stdout",
     "output_type": "stream",
     "text": [
      "Test {'loss': 0.47001336904672475, 'exp_dice': 0.5481425624627333, 'accuracy': 0.9762427330017089, 'recall': 0.5759790622271024}\n"
     ]
    },
    {
     "name": "stderr",
     "output_type": "stream",
     "text": [
      "\n",
      "100%|█████████████████████████████████████████████| 260/260 [00:35<00:00,  7.33it/s]"
     ]
    },
    {
     "name": "stdout",
     "output_type": "stream",
     "text": [
      "Train {'loss': 0.2578468616192158, 'exp_dice': 0.5803490481697596, 'accuracy': 0.9744508339808537, 'recall': 0.6237638307305483}\n"
     ]
    },
    {
     "name": "stderr",
     "output_type": "stream",
     "text": [
      "\n",
      "100%|███████████████████████████████████████████████| 65/65 [00:03<00:00, 18.37it/s]"
     ]
    },
    {
     "name": "stdout",
     "output_type": "stream",
     "text": [
      "Test {'loss': 0.46043953895568845, 'exp_dice': 0.5633565031565153, 'accuracy': 0.9751500643216646, 'recall': 0.6117403589762174}\n"
     ]
    },
    {
     "name": "stderr",
     "output_type": "stream",
     "text": [
      "\n",
      "100%|█████████████████████████████████████████████| 260/260 [00:35<00:00,  7.32it/s]"
     ]
    },
    {
     "name": "stdout",
     "output_type": "stream",
     "text": [
      "Train {'loss': 0.2570177564254174, 'exp_dice': 0.5825253997857754, 'accuracy': 0.9743913723872258, 'recall': 0.6260361294333752}\n"
     ]
    },
    {
     "name": "stderr",
     "output_type": "stream",
     "text": [
      "\n",
      "100%|███████████████████████████████████████████████| 65/65 [00:03<00:00, 18.37it/s]\n"
     ]
    },
    {
     "name": "stdout",
     "output_type": "stream",
     "text": [
      "Test {'loss': 0.46439379361959604, 'exp_dice': 0.5542512889091785, 'accuracy': 0.9774366965660682, 'recall': 0.5612621101049277}\n"
     ]
    },
    {
     "name": "stderr",
     "output_type": "stream",
     "text": [
      "100%|█████████████████████████████████████████████| 260/260 [00:35<00:00,  7.32it/s]"
     ]
    },
    {
     "name": "stdout",
     "output_type": "stream",
     "text": [
      "Train {'loss': 0.25610331268264697, 'exp_dice': 0.5828023289563135, 'accuracy': 0.9744580855736366, 'recall': 0.6312877034911742}\n"
     ]
    },
    {
     "name": "stderr",
     "output_type": "stream",
     "text": [
      "\n",
      "100%|███████████████████████████████████████████████| 65/65 [00:03<00:00, 18.29it/s]"
     ]
    },
    {
     "name": "stdout",
     "output_type": "stream",
     "text": [
      "Test {'loss': 0.46735614171394935, 'exp_dice': 0.5489524735854222, 'accuracy': 0.976326113480788, 'recall': 0.5599128230259969}\n"
     ]
    },
    {
     "name": "stderr",
     "output_type": "stream",
     "text": [
      "\n",
      "100%|█████████████████████████████████████████████| 260/260 [00:35<00:00,  7.33it/s]"
     ]
    },
    {
     "name": "stdout",
     "output_type": "stream",
     "text": [
      "Train {'loss': 0.2559865578435935, 'exp_dice': 0.5841497639767252, 'accuracy': 0.9741969878856952, 'recall': 0.6306436825830203}\n"
     ]
    },
    {
     "name": "stderr",
     "output_type": "stream",
     "text": [
      "\n",
      "100%|███████████████████████████████████████████████| 65/65 [00:03<00:00, 18.14it/s]"
     ]
    },
    {
     "name": "stdout",
     "output_type": "stream",
     "text": [
      "Test {'loss': 0.4549492019873399, 'exp_dice': 0.562738501567107, 'accuracy': 0.9759055504432091, 'recall': 0.6118314119485708}\n"
     ]
    },
    {
     "name": "stderr",
     "output_type": "stream",
     "text": [
      "\n",
      "100%|█████████████████████████████████████████████| 260/260 [00:35<00:00,  7.33it/s]"
     ]
    },
    {
     "name": "stdout",
     "output_type": "stream",
     "text": [
      "Train {'loss': 0.2573752850294113, 'exp_dice': 0.58200512714684, 'accuracy': 0.9740251761216384, 'recall': 0.628994031680318}\n"
     ]
    },
    {
     "name": "stderr",
     "output_type": "stream",
     "text": [
      "\n",
      "100%|███████████████████████████████████████████████| 65/65 [00:03<00:00, 18.23it/s]"
     ]
    },
    {
     "name": "stdout",
     "output_type": "stream",
     "text": [
      "Test {'loss': 0.4615572296656095, 'exp_dice': 0.5558290385282957, 'accuracy': 0.9762004999014048, 'recall': 0.5860166233319503}\n"
     ]
    },
    {
     "name": "stderr",
     "output_type": "stream",
     "text": [
      "\n",
      "100%|█████████████████████████████████████████████| 260/260 [00:35<00:00,  7.33it/s]"
     ]
    },
    {
     "name": "stdout",
     "output_type": "stream",
     "text": [
      "Train {'loss': 0.2552987751479332, 'exp_dice': 0.5841180358941739, 'accuracy': 0.9747251749038697, 'recall': 0.6285518122980228}\n"
     ]
    },
    {
     "name": "stderr",
     "output_type": "stream",
     "text": [
      "\n",
      "100%|███████████████████████████████████████████████| 65/65 [00:03<00:00, 17.98it/s]"
     ]
    },
    {
     "name": "stdout",
     "output_type": "stream",
     "text": [
      "Test {'loss': 0.4645726598226107, 'exp_dice': 0.5550367300327007, 'accuracy': 0.9758575732891376, 'recall': 0.5613467028507819}\n"
     ]
    },
    {
     "name": "stderr",
     "output_type": "stream",
     "text": [
      "\n",
      "100%|█████████████████████████████████████████████| 260/260 [00:35<00:00,  7.31it/s]"
     ]
    },
    {
     "name": "stdout",
     "output_type": "stream",
     "text": [
      "Train {'loss': 0.25604410205896083, 'exp_dice': 0.5835262219636486, 'accuracy': 0.9745539646882277, 'recall': 0.6285626390805611}\n"
     ]
    },
    {
     "name": "stderr",
     "output_type": "stream",
     "text": [
      "\n",
      "100%|███████████████████████████████████████████████| 65/65 [00:03<00:00, 18.31it/s]"
     ]
    },
    {
     "name": "stdout",
     "output_type": "stream",
     "text": [
      "Test {'loss': 0.4590539061106168, 'exp_dice': 0.5590097629106962, 'accuracy': 0.9754290727468637, 'recall': 0.5929998397827149}\n"
     ]
    },
    {
     "name": "stderr",
     "output_type": "stream",
     "text": [
      "\n",
      "100%|█████████████████████████████████████████████| 260/260 [00:35<00:00,  7.32it/s]"
     ]
    },
    {
     "name": "stdout",
     "output_type": "stream",
     "text": [
      "Train {'loss': 0.252764895844918, 'exp_dice': 0.5885711367313678, 'accuracy': 0.9745919117560753, 'recall': 0.6327167925926355}\n"
     ]
    },
    {
     "name": "stderr",
     "output_type": "stream",
     "text": [
      "\n",
      "100%|███████████████████████████████████████████████| 65/65 [00:03<00:00, 18.30it/s]"
     ]
    },
    {
     "name": "stdout",
     "output_type": "stream",
     "text": [
      "Test {'loss': 0.4525098736469562, 'exp_dice': 0.5695267415963686, 'accuracy': 0.9761679282555213, 'recall': 0.5988587562854474}\n"
     ]
    },
    {
     "name": "stderr",
     "output_type": "stream",
     "text": [
      "\n",
      "100%|█████████████████████████████████████████████| 260/260 [00:35<00:00,  7.33it/s]"
     ]
    },
    {
     "name": "stdout",
     "output_type": "stream",
     "text": [
      "Train {'loss': 0.25378189115570143, 'exp_dice': 0.5878431718796492, 'accuracy': 0.9742607024999765, 'recall': 0.630458910877888}\n"
     ]
    },
    {
     "name": "stderr",
     "output_type": "stream",
     "text": [
      "\n",
      "100%|███████████████████████████████████████████████| 65/65 [00:03<00:00, 18.10it/s]"
     ]
    },
    {
     "name": "stdout",
     "output_type": "stream",
     "text": [
      "Test {'loss': 0.4547951157276447, 'exp_dice': 0.566145662848766, 'accuracy': 0.9758130293626052, 'recall': 0.6172940602669349}\n"
     ]
    },
    {
     "name": "stderr",
     "output_type": "stream",
     "text": [
      "\n",
      "100%|█████████████████████████████████████████████| 260/260 [00:35<00:00,  7.32it/s]"
     ]
    },
    {
     "name": "stdout",
     "output_type": "stream",
     "text": [
      "Train {'loss': 0.2553300901101186, 'exp_dice': 0.5830691456794739, 'accuracy': 0.9747548305071317, 'recall': 0.638391904762158}\n"
     ]
    },
    {
     "name": "stderr",
     "output_type": "stream",
     "text": [
      "\n",
      "100%|███████████████████████████████████████████████| 65/65 [00:03<00:00, 18.07it/s]"
     ]
    },
    {
     "name": "stdout",
     "output_type": "stream",
     "text": [
      "Test {'loss': 0.44602697629194993, 'exp_dice': 0.5734445017117721, 'accuracy': 0.9759625434875489, 'recall': 0.6159639257651109}\n"
     ]
    },
    {
     "name": "stderr",
     "output_type": "stream",
     "text": [
      "\n",
      "100%|█████████████████████████████████████████████| 260/260 [00:35<00:00,  7.32it/s]"
     ]
    },
    {
     "name": "stdout",
     "output_type": "stream",
     "text": [
      "Train {'loss': 0.2553826940747408, 'exp_dice': 0.5853408682948121, 'accuracy': 0.9741640769518338, 'recall': 0.6315149226154272}\n"
     ]
    },
    {
     "name": "stderr",
     "output_type": "stream",
     "text": [
      "\n",
      "100%|███████████████████████████████████████████████| 65/65 [00:03<00:00, 17.97it/s]"
     ]
    },
    {
     "name": "stdout",
     "output_type": "stream",
     "text": [
      "Test {'loss': 0.4702283336566045, 'exp_dice': 0.5460455832573083, 'accuracy': 0.9750621502216046, 'recall': 0.5864621618619332}\n"
     ]
    },
    {
     "name": "stderr",
     "output_type": "stream",
     "text": [
      "\n",
      "100%|█████████████████████████████████████████████| 260/260 [00:35<00:00,  7.32it/s]"
     ]
    },
    {
     "name": "stdout",
     "output_type": "stream",
     "text": [
      "Train {'loss': 0.2553811974823475, 'exp_dice': 0.5836152481918152, 'accuracy': 0.9744646989382231, 'recall': 0.6364739611171759}\n"
     ]
    },
    {
     "name": "stderr",
     "output_type": "stream",
     "text": [
      "\n",
      "100%|███████████████████████████████████████████████| 65/65 [00:03<00:00, 18.23it/s]\n"
     ]
    },
    {
     "name": "stdout",
     "output_type": "stream",
     "text": [
      "Test {'loss': 0.48539635218106786, 'exp_dice': 0.5269736581123792, 'accuracy': 0.9776906747084397, 'recall': 0.4926435438486246}\n"
     ]
    },
    {
     "name": "stderr",
     "output_type": "stream",
     "text": [
      "100%|█████████████████████████████████████████████| 260/260 [00:35<00:00,  7.31it/s]"
     ]
    },
    {
     "name": "stdout",
     "output_type": "stream",
     "text": [
      "Train {'loss': 0.25187844192752473, 'exp_dice': 0.5904420419954337, 'accuracy': 0.9743548301550058, 'recall': 0.6334146592479486}\n"
     ]
    },
    {
     "name": "stderr",
     "output_type": "stream",
     "text": [
      "\n",
      "100%|███████████████████████████████████████████████| 65/65 [00:03<00:00, 18.02it/s]"
     ]
    },
    {
     "name": "stdout",
     "output_type": "stream",
     "text": [
      "Test {'loss': 0.4574484238257775, 'exp_dice': 0.5630512810670413, 'accuracy': 0.9758732282198392, 'recall': 0.5943877765765557}\n"
     ]
    },
    {
     "name": "stderr",
     "output_type": "stream",
     "text": [
      "\n",
      "100%|█████████████████████████████████████████████| 260/260 [00:35<00:00,  7.32it/s]"
     ]
    },
    {
     "name": "stdout",
     "output_type": "stream",
     "text": [
      "Train {'loss': 0.25172806513997226, 'exp_dice': 0.5895132538790886, 'accuracy': 0.9745566936639639, 'recall': 0.637911725961245}\n"
     ]
    },
    {
     "name": "stderr",
     "output_type": "stream",
     "text": [
      "\n",
      "100%|███████████████████████████████████████████████| 65/65 [00:03<00:00, 18.06it/s]"
     ]
    },
    {
     "name": "stdout",
     "output_type": "stream",
     "text": [
      "Test {'loss': 0.45001325974097617, 'exp_dice': 0.5689096372861129, 'accuracy': 0.9757770098172701, 'recall': 0.6072919313724224}\n"
     ]
    },
    {
     "name": "stderr",
     "output_type": "stream",
     "text": [
      "\n",
      "100%|█████████████████████████████████████████████| 260/260 [00:35<00:00,  7.32it/s]"
     ]
    },
    {
     "name": "stdout",
     "output_type": "stream",
     "text": [
      "Train {'loss': 0.25169152222000635, 'exp_dice': 0.5897238203825859, 'accuracy': 0.9745360099352323, 'recall': 0.6381582812621043}\n"
     ]
    },
    {
     "name": "stderr",
     "output_type": "stream",
     "text": [
      "\n",
      "100%|███████████████████████████████████████████████| 65/65 [00:03<00:00, 18.14it/s]"
     ]
    },
    {
     "name": "stdout",
     "output_type": "stream",
     "text": [
      "Test {'loss': 0.46005891194710363, 'exp_dice': 0.5586369856045796, 'accuracy': 0.974430355658898, 'recall': 0.661284592976937}\n"
     ]
    },
    {
     "name": "stderr",
     "output_type": "stream",
     "text": [
      "\n",
      "100%|█████████████████████████████████████████████| 260/260 [00:35<00:00,  7.32it/s]"
     ]
    },
    {
     "name": "stdout",
     "output_type": "stream",
     "text": [
      "Train {'loss': 0.2527628862513946, 'exp_dice': 0.5882312157406256, 'accuracy': 0.9743755854093111, 'recall': 0.6369806226629477}\n"
     ]
    },
    {
     "name": "stderr",
     "output_type": "stream",
     "text": [
      "\n",
      "100%|███████████████████████████████████████████████| 65/65 [00:03<00:00, 17.99it/s]"
     ]
    },
    {
     "name": "stdout",
     "output_type": "stream",
     "text": [
      "Test {'loss': 0.45415298847051766, 'exp_dice': 0.5619089947297022, 'accuracy': 0.9756397834190955, 'recall': 0.5875232421434843}\n"
     ]
    },
    {
     "name": "stderr",
     "output_type": "stream",
     "text": [
      "\n",
      "100%|█████████████████████████████████████████████| 260/260 [00:35<00:00,  7.32it/s]"
     ]
    },
    {
     "name": "stdout",
     "output_type": "stream",
     "text": [
      "Train {'loss': 0.2515976241001716, 'exp_dice': 0.5894954981139073, 'accuracy': 0.9746013017801138, 'recall': 0.6384247932296533}\n"
     ]
    },
    {
     "name": "stderr",
     "output_type": "stream",
     "text": [
      "\n",
      "100%|███████████████████████████████████████████████| 65/65 [00:03<00:00, 17.96it/s]"
     ]
    },
    {
     "name": "stdout",
     "output_type": "stream",
     "text": [
      "Test {'loss': 0.4445153364768395, 'exp_dice': 0.57490921158057, 'accuracy': 0.9759768999539888, 'recall': 0.6452316096195808}\n"
     ]
    },
    {
     "name": "stderr",
     "output_type": "stream",
     "text": [
      "\n",
      "100%|█████████████████████████████████████████████| 260/260 [00:35<00:00,  7.31it/s]"
     ]
    },
    {
     "name": "stdout",
     "output_type": "stream",
     "text": [
      "Train {'loss': 0.2521539652003692, 'exp_dice': 0.5891427794901224, 'accuracy': 0.9743959500239445, 'recall': 0.6376543994133289}\n"
     ]
    },
    {
     "name": "stderr",
     "output_type": "stream",
     "text": [
      "\n",
      "100%|███████████████████████████████████████████████| 65/65 [00:03<00:00, 18.06it/s]"
     ]
    },
    {
     "name": "stdout",
     "output_type": "stream",
     "text": [
      "Test {'loss': 0.45610244824336127, 'exp_dice': 0.5657541552415261, 'accuracy': 0.9757784329927884, 'recall': 0.6583759780113514}\n"
     ]
    },
    {
     "name": "stderr",
     "output_type": "stream",
     "text": [
      "\n",
      "100%|█████████████████████████████████████████████| 260/260 [00:35<00:00,  7.31it/s]"
     ]
    },
    {
     "name": "stdout",
     "output_type": "stream",
     "text": [
      "Train {'loss': 0.2538124367594719, 'exp_dice': 0.5860995502426074, 'accuracy': 0.9743377337088952, 'recall': 0.6353182373138574}\n"
     ]
    },
    {
     "name": "stderr",
     "output_type": "stream",
     "text": [
      "\n",
      "100%|███████████████████████████████████████████████| 65/65 [00:03<00:00, 18.13it/s]"
     ]
    },
    {
     "name": "stdout",
     "output_type": "stream",
     "text": [
      "Test {'loss': 0.45129805619900043, 'exp_dice': 0.5666332139418675, 'accuracy': 0.9754173865685096, 'recall': 0.6252723292662548}\n"
     ]
    },
    {
     "name": "stderr",
     "output_type": "stream",
     "text": [
      "\n",
      "100%|█████████████████████████████████████████████| 260/260 [00:35<00:00,  7.32it/s]"
     ]
    },
    {
     "name": "stdout",
     "output_type": "stream",
     "text": [
      "Train {'loss': 0.24982604860113217, 'exp_dice': 0.5935259012075571, 'accuracy': 0.9744227354343121, 'recall': 0.6410194831398818}\n"
     ]
    },
    {
     "name": "stderr",
     "output_type": "stream",
     "text": [
      "\n",
      "100%|███████████████████████████████████████████████| 65/65 [00:03<00:00, 18.23it/s]"
     ]
    },
    {
     "name": "stdout",
     "output_type": "stream",
     "text": [
      "Test {'loss': 0.4434599702174847, 'exp_dice': 0.5766969547821925, 'accuracy': 0.975083197080172, 'recall': 0.6483880249353555}\n"
     ]
    },
    {
     "name": "stderr",
     "output_type": "stream",
     "text": [
      "\n",
      "100%|█████████████████████████████████████████████| 260/260 [00:35<00:00,  7.31it/s]"
     ]
    },
    {
     "name": "stdout",
     "output_type": "stream",
     "text": [
      "Train {'loss': 0.24947815417097166, 'exp_dice': 0.5936585932970047, 'accuracy': 0.9744286243732159, 'recall': 0.6434217951618708}\n"
     ]
    },
    {
     "name": "stderr",
     "output_type": "stream",
     "text": [
      "\n",
      "100%|███████████████████████████████████████████████| 65/65 [00:03<00:00, 18.24it/s]"
     ]
    },
    {
     "name": "stdout",
     "output_type": "stream",
     "text": [
      "Test {'loss': 0.45156639447579017, 'exp_dice': 0.5664389747839708, 'accuracy': 0.97647369824923, 'recall': 0.6106302362221938}\n"
     ]
    },
    {
     "name": "stderr",
     "output_type": "stream",
     "text": [
      "\n",
      "100%|█████████████████████████████████████████████| 260/260 [00:35<00:00,  7.32it/s]"
     ]
    },
    {
     "name": "stdout",
     "output_type": "stream",
     "text": [
      "Train {'loss': 0.25306896148965907, 'exp_dice': 0.5875744276035291, 'accuracy': 0.9744502782821656, 'recall': 0.6390373018498604}\n"
     ]
    },
    {
     "name": "stderr",
     "output_type": "stream",
     "text": [
      "\n",
      "100%|███████████████████████████████████████████████| 65/65 [00:03<00:00, 18.19it/s]\n"
     ]
    },
    {
     "name": "stdout",
     "output_type": "stream",
     "text": [
      "Test {'loss': 0.44306576068584735, 'exp_dice': 0.574971140577243, 'accuracy': 0.9767073117769681, 'recall': 0.6137571238554441}\n"
     ]
    },
    {
     "name": "stderr",
     "output_type": "stream",
     "text": [
      "100%|█████████████████████████████████████████████| 260/260 [00:35<00:00,  7.32it/s]"
     ]
    },
    {
     "name": "stdout",
     "output_type": "stream",
     "text": [
      "Train {'loss': 0.2509074094203802, 'exp_dice': 0.5929629796972642, 'accuracy': 0.9739176621803871, 'recall': 0.6433348725621517}\n"
     ]
    },
    {
     "name": "stderr",
     "output_type": "stream",
     "text": [
      "\n",
      "100%|███████████████████████████████████████████████| 65/65 [00:03<00:00, 18.37it/s]"
     ]
    },
    {
     "name": "stdout",
     "output_type": "stream",
     "text": [
      "Test {'loss': 0.4469258042482229, 'exp_dice': 0.5737125898783023, 'accuracy': 0.9759081033559945, 'recall': 0.6202284652453203}\n"
     ]
    },
    {
     "name": "stderr",
     "output_type": "stream",
     "text": [
      "\n",
      "100%|█████████████████████████████████████████████| 260/260 [00:35<00:00,  7.32it/s]"
     ]
    },
    {
     "name": "stdout",
     "output_type": "stream",
     "text": [
      "Train {'loss': 0.24968295091619858, 'exp_dice': 0.5926714914922531, 'accuracy': 0.974910908478957, 'recall': 0.6357190918463927}\n"
     ]
    },
    {
     "name": "stderr",
     "output_type": "stream",
     "text": [
      "\n",
      "100%|███████████████████████████████████████████████| 65/65 [00:03<00:00, 17.96it/s]"
     ]
    },
    {
     "name": "stdout",
     "output_type": "stream",
     "text": [
      "Test {'loss': 0.4538511193715609, 'exp_dice': 0.567254204245714, 'accuracy': 0.9757059830885667, 'recall': 0.6538977593183517}\n"
     ]
    },
    {
     "name": "stderr",
     "output_type": "stream",
     "text": [
      "\n",
      "100%|█████████████████████████████████████████████| 260/260 [00:35<00:00,  7.32it/s]"
     ]
    },
    {
     "name": "stdout",
     "output_type": "stream",
     "text": [
      "Train {'loss': 0.2507184225779313, 'exp_dice': 0.5911178712374889, 'accuracy': 0.9745377283829909, 'recall': 0.6430925701673215}\n"
     ]
    },
    {
     "name": "stderr",
     "output_type": "stream",
     "text": [
      "\n",
      "100%|███████████████████████████████████████████████| 65/65 [00:03<00:00, 18.10it/s]"
     ]
    },
    {
     "name": "stdout",
     "output_type": "stream",
     "text": [
      "Test {'loss': 0.4485337624183068, 'exp_dice': 0.5720746801449702, 'accuracy': 0.9745063268221341, 'recall': 0.6482384188817097}\n"
     ]
    },
    {
     "name": "stderr",
     "output_type": "stream",
     "text": [
      "\n",
      "100%|█████████████████████████████████████████████| 260/260 [00:35<00:00,  7.32it/s]"
     ]
    },
    {
     "name": "stdout",
     "output_type": "stream",
     "text": [
      "Train {'loss': 0.25526067293607274, 'exp_dice': 0.5824607491493226, 'accuracy': 0.9746757103846624, 'recall': 0.6380552611671961}\n"
     ]
    },
    {
     "name": "stderr",
     "output_type": "stream",
     "text": [
      "\n",
      "100%|███████████████████████████████████████████████| 65/65 [00:03<00:00, 18.15it/s]"
     ]
    },
    {
     "name": "stdout",
     "output_type": "stream",
     "text": [
      "Test {'loss': 0.4505316587594839, 'exp_dice': 0.5652610503710234, 'accuracy': 0.9770408777090219, 'recall': 0.5609253287315369}\n"
     ]
    },
    {
     "name": "stderr",
     "output_type": "stream",
     "text": [
      "\n",
      "100%|█████████████████████████████████████████████| 260/260 [00:35<00:00,  7.32it/s]"
     ]
    },
    {
     "name": "stdout",
     "output_type": "stream",
     "text": [
      "Train {'loss': 0.2471378538471002, 'exp_dice': 0.5962382956766166, 'accuracy': 0.9750564024998591, 'recall': 0.6437249715511616}\n"
     ]
    },
    {
     "name": "stderr",
     "output_type": "stream",
     "text": [
      "\n",
      "100%|███████████████████████████████████████████████| 65/65 [00:03<00:00, 18.00it/s]"
     ]
    },
    {
     "name": "stdout",
     "output_type": "stream",
     "text": [
      "Test {'loss': 0.45287708685948297, 'exp_dice': 0.5643371568276332, 'accuracy': 0.9761677155127892, 'recall': 0.6006966531276703}\n"
     ]
    },
    {
     "name": "stderr",
     "output_type": "stream",
     "text": [
      "\n",
      "100%|█████████████████████████████████████████████| 260/260 [00:35<00:00,  7.32it/s]"
     ]
    },
    {
     "name": "stdout",
     "output_type": "stream",
     "text": [
      "Train {'loss': 0.24914068103982853, 'exp_dice': 0.5925764950342105, 'accuracy': 0.975076282941378, 'recall': 0.6409223755857406}\n"
     ]
    },
    {
     "name": "stderr",
     "output_type": "stream",
     "text": [
      "\n",
      "100%|███████████████████████████████████████████████| 65/65 [00:03<00:00, 18.15it/s]"
     ]
    },
    {
     "name": "stdout",
     "output_type": "stream",
     "text": [
      "Test {'loss': 0.4498501346661494, 'exp_dice': 0.5668432130263402, 'accuracy': 0.9771516433128944, 'recall': 0.6083296468624702}\n"
     ]
    },
    {
     "name": "stderr",
     "output_type": "stream",
     "text": [
      "\n",
      "100%|█████████████████████████████████████████████| 260/260 [00:35<00:00,  7.32it/s]"
     ]
    },
    {
     "name": "stdout",
     "output_type": "stream",
     "text": [
      "Train {'loss': 0.25032993394594927, 'exp_dice': 0.5917588870112712, 'accuracy': 0.9746801358002882, 'recall': 0.6389872140609301}\n"
     ]
    },
    {
     "name": "stderr",
     "output_type": "stream",
     "text": [
      "\n",
      "100%|███████████████████████████████████████████████| 65/65 [00:03<00:00, 18.12it/s]"
     ]
    },
    {
     "name": "stdout",
     "output_type": "stream",
     "text": [
      "Test {'loss': 0.4473049017099234, 'exp_dice': 0.5716069015172812, 'accuracy': 0.9756738295921913, 'recall': 0.6471737077602974}\n"
     ]
    },
    {
     "name": "stderr",
     "output_type": "stream",
     "text": [
      "\n",
      "100%|█████████████████████████████████████████████| 260/260 [00:35<00:00,  7.31it/s]"
     ]
    },
    {
     "name": "stdout",
     "output_type": "stream",
     "text": [
      "Train {'loss': 0.24781801906915812, 'exp_dice': 0.5954727763166794, 'accuracy': 0.9746114272337694, 'recall': 0.6453800164736234}\n"
     ]
    },
    {
     "name": "stderr",
     "output_type": "stream",
     "text": [
      "\n",
      "100%|███████████████████████████████████████████████| 65/65 [00:03<00:00, 18.21it/s]"
     ]
    },
    {
     "name": "stdout",
     "output_type": "stream",
     "text": [
      "Test {'loss': 0.44672927489647496, 'exp_dice': 0.5729251586473905, 'accuracy': 0.9760449923001803, 'recall': 0.6235507272757017}\n"
     ]
    },
    {
     "name": "stderr",
     "output_type": "stream",
     "text": [
      "\n",
      "100%|█████████████████████████████████████████████| 260/260 [00:35<00:00,  7.32it/s]"
     ]
    },
    {
     "name": "stdout",
     "output_type": "stream",
     "text": [
      "Train {'loss': 0.2470670427267368, 'exp_dice': 0.5981126129913789, 'accuracy': 0.9742632352388823, 'recall': 0.6510089239248863}\n"
     ]
    },
    {
     "name": "stderr",
     "output_type": "stream",
     "text": [
      "\n",
      "100%|███████████████████████████████████████████████| 65/65 [00:03<00:00, 18.01it/s]"
     ]
    },
    {
     "name": "stdout",
     "output_type": "stream",
     "text": [
      "Test {'loss': 0.4441460270148057, 'exp_dice': 0.5741383749705095, 'accuracy': 0.9764070070706881, 'recall': 0.590051545546605}\n"
     ]
    },
    {
     "name": "stderr",
     "output_type": "stream",
     "text": [
      "\n",
      "100%|█████████████████████████████████████████████| 260/260 [00:35<00:00,  7.31it/s]"
     ]
    },
    {
     "name": "stdout",
     "output_type": "stream",
     "text": [
      "Train {'loss': 0.2494175982589905, 'exp_dice': 0.5937315983267931, 'accuracy': 0.9744564313154954, 'recall': 0.6439136054653388}\n"
     ]
    },
    {
     "name": "stderr",
     "output_type": "stream",
     "text": [
      "\n",
      "100%|███████████████████████████████████████████████| 65/65 [00:03<00:00, 17.97it/s]\n"
     ]
    },
    {
     "name": "stdout",
     "output_type": "stream",
     "text": [
      "Test {'loss': 0.43636906697199895, 'exp_dice': 0.5840210607418648, 'accuracy': 0.9761352832500751, 'recall': 0.6515894972361052}\n"
     ]
    },
    {
     "name": "stderr",
     "output_type": "stream",
     "text": [
      "100%|█████████████████████████████████████████████| 260/260 [00:35<00:00,  7.31it/s]"
     ]
    },
    {
     "name": "stdout",
     "output_type": "stream",
     "text": [
      "Train {'loss': 0.2463255203114106, 'exp_dice': 0.5983876222028182, 'accuracy': 0.9745753765106201, 'recall': 0.6497275133545583}\n"
     ]
    },
    {
     "name": "stderr",
     "output_type": "stream",
     "text": [
      "\n",
      "100%|███████████████████████████████████████████████| 65/65 [00:03<00:00, 18.20it/s]"
     ]
    },
    {
     "name": "stdout",
     "output_type": "stream",
     "text": [
      "Test {'loss': 0.45035480719346266, 'exp_dice': 0.567317034648015, 'accuracy': 0.977202400794396, 'recall': 0.615056173159526}\n"
     ]
    },
    {
     "name": "stderr",
     "output_type": "stream",
     "text": [
      "\n",
      "100%|█████████████████████████████████████████████| 260/260 [00:35<00:00,  7.31it/s]"
     ]
    },
    {
     "name": "stdout",
     "output_type": "stream",
     "text": [
      "Train {'loss': 0.2473920213488432, 'exp_dice': 0.5966350841980714, 'accuracy': 0.9746064002697284, 'recall': 0.6461954759863707}\n"
     ]
    },
    {
     "name": "stderr",
     "output_type": "stream",
     "text": [
      "\n",
      "100%|███████████████████████████████████████████████| 65/65 [00:03<00:00, 18.28it/s]"
     ]
    },
    {
     "name": "stdout",
     "output_type": "stream",
     "text": [
      "Test {'loss': 0.4490680410311772, 'exp_dice': 0.5686156302690506, 'accuracy': 0.9761860187237079, 'recall': 0.6021031838196974}\n"
     ]
    },
    {
     "name": "stderr",
     "output_type": "stream",
     "text": [
      "\n",
      "100%|█████████████████████████████████████████████| 260/260 [00:35<00:00,  7.31it/s]"
     ]
    },
    {
     "name": "stdout",
     "output_type": "stream",
     "text": [
      "Train {'loss': 0.24574989303946496, 'exp_dice': 0.5988030869227189, 'accuracy': 0.9747818616720346, 'recall': 0.6446061479357573}\n"
     ]
    },
    {
     "name": "stderr",
     "output_type": "stream",
     "text": [
      "\n",
      "100%|███████████████████████████████████████████████| 65/65 [00:03<00:00, 18.15it/s]"
     ]
    },
    {
     "name": "stdout",
     "output_type": "stream",
     "text": [
      "Test {'loss': 0.4479379131243779, 'exp_dice': 0.5732983955970177, 'accuracy': 0.9751912850600023, 'recall': 0.6860939268882458}\n"
     ]
    },
    {
     "name": "stderr",
     "output_type": "stream",
     "text": [
      "\n",
      "100%|█████████████████████████████████████████████| 260/260 [00:35<00:00,  7.31it/s]"
     ]
    },
    {
     "name": "stdout",
     "output_type": "stream",
     "text": [
      "Train {'loss': 0.2477181634077659, 'exp_dice': 0.5947148788720369, 'accuracy': 0.9750434838808499, 'recall': 0.6411265067183054}\n"
     ]
    },
    {
     "name": "stderr",
     "output_type": "stream",
     "text": [
      "\n",
      "100%|███████████████████████████████████████████████| 65/65 [00:03<00:00, 18.07it/s]"
     ]
    },
    {
     "name": "stdout",
     "output_type": "stream",
     "text": [
      "Test {'loss': 0.440849244594574, 'exp_dice': 0.5778140416512123, 'accuracy': 0.9766084964458759, 'recall': 0.6273221621146569}\n"
     ]
    },
    {
     "name": "stderr",
     "output_type": "stream",
     "text": [
      "\n",
      "100%|█████████████████████████████████████████████| 260/260 [00:35<00:00,  7.31it/s]"
     ]
    },
    {
     "name": "stdout",
     "output_type": "stream",
     "text": [
      "Train {'loss': 0.24650349422143056, 'exp_dice': 0.5983532447081346, 'accuracy': 0.9746909324939435, 'recall': 0.6463455019088892}\n"
     ]
    },
    {
     "name": "stderr",
     "output_type": "stream",
     "text": [
      "\n",
      "100%|███████████████████████████████████████████████| 65/65 [00:03<00:00, 18.23it/s]"
     ]
    },
    {
     "name": "stdout",
     "output_type": "stream",
     "text": [
      "Test {'loss': 0.4601243074123676, 'exp_dice': 0.560356401021664, 'accuracy': 0.9752697944641113, 'recall': 0.6008707427061521}\n"
     ]
    },
    {
     "name": "stderr",
     "output_type": "stream",
     "text": [
      "\n",
      "100%|█████████████████████████████████████████████| 260/260 [00:35<00:00,  7.31it/s]"
     ]
    },
    {
     "name": "stdout",
     "output_type": "stream",
     "text": [
      "Train {'loss': 0.24812221131645718, 'exp_dice': 0.5955077485682873, 'accuracy': 0.9745533227920532, 'recall': 0.6466901594056533}\n"
     ]
    },
    {
     "name": "stderr",
     "output_type": "stream",
     "text": [
      "\n",
      "100%|███████████████████████████████████████████████| 65/65 [00:03<00:00, 18.05it/s]"
     ]
    },
    {
     "name": "stdout",
     "output_type": "stream",
     "text": [
      "Test {'loss': 0.4497335314750671, 'exp_dice': 0.5684049902053979, 'accuracy': 0.976602055476262, 'recall': 0.6036284428376418}\n"
     ]
    },
    {
     "name": "stderr",
     "output_type": "stream",
     "text": [
      "\n",
      "100%|█████████████████████████████████████████████| 260/260 [00:35<00:00,  7.32it/s]"
     ]
    },
    {
     "name": "stdout",
     "output_type": "stream",
     "text": [
      "Train {'loss': 0.24512936043051572, 'exp_dice': 0.6001222955242086, 'accuracy': 0.9748497944611769, 'recall': 0.6452864050865174}\n"
     ]
    },
    {
     "name": "stderr",
     "output_type": "stream",
     "text": [
      "\n",
      "100%|███████████████████████████████████████████████| 65/65 [00:03<00:00, 18.08it/s]"
     ]
    },
    {
     "name": "stdout",
     "output_type": "stream",
     "text": [
      "Test {'loss': 0.44453248152366054, 'exp_dice': 0.5774430178678953, 'accuracy': 0.9745530201838567, 'recall': 0.6787877486302303}\n"
     ]
    },
    {
     "name": "stderr",
     "output_type": "stream",
     "text": [
      "\n",
      "100%|█████████████████████████████████████████████| 260/260 [00:35<00:00,  7.31it/s]"
     ]
    },
    {
     "name": "stdout",
     "output_type": "stream",
     "text": [
      "Train {'loss': 0.2450467364719281, 'exp_dice': 0.6012831987096713, 'accuracy': 0.974481070958651, 'recall': 0.650751027579491}\n"
     ]
    },
    {
     "name": "stderr",
     "output_type": "stream",
     "text": [
      "\n",
      "100%|███████████████████████████████████████████████| 65/65 [00:03<00:00, 18.21it/s]"
     ]
    },
    {
     "name": "stdout",
     "output_type": "stream",
     "text": [
      "Test {'loss': 0.4437627260501568, 'exp_dice': 0.5769592320833069, 'accuracy': 0.976175726377047, 'recall': 0.60185115036483}\n"
     ]
    },
    {
     "name": "stderr",
     "output_type": "stream",
     "text": [
      "\n",
      "100%|█████████████████████████████████████████████| 260/260 [00:35<00:00,  7.31it/s]"
     ]
    },
    {
     "name": "stdout",
     "output_type": "stream",
     "text": [
      "Train {'loss': 0.24498198175659547, 'exp_dice': 0.6006975767131035, 'accuracy': 0.9747362283559946, 'recall': 0.645358864733806}\n"
     ]
    },
    {
     "name": "stderr",
     "output_type": "stream",
     "text": [
      "\n",
      "100%|███████████████████████████████████████████████| 65/65 [00:03<00:00, 18.23it/s]"
     ]
    },
    {
     "name": "stdout",
     "output_type": "stream",
     "text": [
      "Test {'loss': 0.44999600832278913, 'exp_dice': 0.5703285859181331, 'accuracy': 0.9763807076674241, 'recall': 0.6203766121314123}\n"
     ]
    },
    {
     "name": "stderr",
     "output_type": "stream",
     "text": [
      "\n",
      "100%|█████████████████████████████████████████████| 260/260 [00:35<00:00,  7.32it/s]"
     ]
    },
    {
     "name": "stdout",
     "output_type": "stream",
     "text": [
      "Train {'loss': 0.24520001732386076, 'exp_dice': 0.6013582717913848, 'accuracy': 0.9741965954120343, 'recall': 0.6456160473708923}\n"
     ]
    },
    {
     "name": "stderr",
     "output_type": "stream",
     "text": [
      "\n",
      "100%|███████████████████████████████████████████████| 65/65 [00:03<00:00, 18.00it/s]\n"
     ]
    },
    {
     "name": "stdout",
     "output_type": "stream",
     "text": [
      "Test {'loss': 0.4597015857696533, 'exp_dice': 0.5615687455122288, 'accuracy': 0.9749436231759878, 'recall': 0.6705046818806575}\n"
     ]
    },
    {
     "name": "stderr",
     "output_type": "stream",
     "text": [
      "100%|█████████████████████████████████████████████| 260/260 [00:35<00:00,  7.32it/s]"
     ]
    },
    {
     "name": "stdout",
     "output_type": "stream",
     "text": [
      "Train {'loss': 0.24511689469218254, 'exp_dice': 0.60094819614807, 'accuracy': 0.9745772765232966, 'recall': 0.6485569300559851}\n"
     ]
    },
    {
     "name": "stderr",
     "output_type": "stream",
     "text": [
      "\n",
      "100%|███████████████████████████████████████████████| 65/65 [00:03<00:00, 18.28it/s]"
     ]
    },
    {
     "name": "stdout",
     "output_type": "stream",
     "text": [
      "Test {'loss': 0.44592372362430277, 'exp_dice': 0.5741479763617883, 'accuracy': 0.9766369086045485, 'recall': 0.6115939928935125}\n"
     ]
    },
    {
     "name": "stderr",
     "output_type": "stream",
     "text": [
      "\n",
      "100%|█████████████████████████████████████████████| 260/260 [00:35<00:00,  7.31it/s]"
     ]
    },
    {
     "name": "stdout",
     "output_type": "stream",
     "text": [
      "Train {'loss': 0.2450639175107846, 'exp_dice': 0.6003690583201555, 'accuracy': 0.9747019657721886, 'recall': 0.6500980871228071}\n"
     ]
    },
    {
     "name": "stderr",
     "output_type": "stream",
     "text": [
      "\n",
      "100%|███████████████████████████████████████████████| 65/65 [00:03<00:00, 18.12it/s]"
     ]
    },
    {
     "name": "stdout",
     "output_type": "stream",
     "text": [
      "Test {'loss': 0.4390132372195904, 'exp_dice': 0.5777802692009852, 'accuracy': 0.9762201822721042, 'recall': 0.6351300959403698}\n"
     ]
    },
    {
     "name": "stderr",
     "output_type": "stream",
     "text": [
      "\n",
      "100%|█████████████████████████████████████████████| 260/260 [00:35<00:00,  7.31it/s]"
     ]
    },
    {
     "name": "stdout",
     "output_type": "stream",
     "text": [
      "Train {'loss': 0.24436095832632138, 'exp_dice': 0.6001910377580386, 'accuracy': 0.9751687691761897, 'recall': 0.6502483698037954}\n"
     ]
    },
    {
     "name": "stderr",
     "output_type": "stream",
     "text": [
      "\n",
      "100%|███████████████████████████████████████████████| 65/65 [00:03<00:00, 18.12it/s]"
     ]
    },
    {
     "name": "stdout",
     "output_type": "stream",
     "text": [
      "Test {'loss': 0.45642270124875584, 'exp_dice': 0.5629952073097229, 'accuracy': 0.9756098233736479, 'recall': 0.6263377336355356}\n"
     ]
    },
    {
     "name": "stderr",
     "output_type": "stream",
     "text": [
      "\n",
      "100%|█████████████████████████████████████████████| 260/260 [00:35<00:00,  7.31it/s]"
     ]
    },
    {
     "name": "stdout",
     "output_type": "stream",
     "text": [
      "Train {'loss': 0.2430440433896505, 'exp_dice': 0.6034243821524656, 'accuracy': 0.9749023364140437, 'recall': 0.6495222557049531}\n"
     ]
    },
    {
     "name": "stderr",
     "output_type": "stream",
     "text": [
      "\n",
      "100%|███████████████████████████████████████████████| 65/65 [00:03<00:00, 18.02it/s]"
     ]
    },
    {
     "name": "stdout",
     "output_type": "stream",
     "text": [
      "Test {'loss': 0.4440572399359483, 'exp_dice': 0.5729736506938934, 'accuracy': 0.9762246792133038, 'recall': 0.6149632183405069}\n"
     ]
    },
    {
     "name": "stderr",
     "output_type": "stream",
     "text": [
      "\n",
      "100%|█████████████████████████████████████████████| 260/260 [00:35<00:00,  7.32it/s]"
     ]
    },
    {
     "name": "stdout",
     "output_type": "stream",
     "text": [
      "Train {'loss': 0.24382075667381287, 'exp_dice': 0.6021037610677572, 'accuracy': 0.9746921337567843, 'recall': 0.6514872847841336}\n"
     ]
    },
    {
     "name": "stderr",
     "output_type": "stream",
     "text": [
      "\n",
      "100%|███████████████████████████████████████████████| 65/65 [00:03<00:00, 18.08it/s]"
     ]
    },
    {
     "name": "stdout",
     "output_type": "stream",
     "text": [
      "Test {'loss': 0.4241187820067773, 'exp_dice': 0.5926554794494923, 'accuracy': 0.9760283103355994, 'recall': 0.6339969919278071}\n"
     ]
    },
    {
     "name": "stderr",
     "output_type": "stream",
     "text": [
      "\n",
      "100%|█████████████████████████████████████████████| 260/260 [00:35<00:00,  7.31it/s]"
     ]
    },
    {
     "name": "stdout",
     "output_type": "stream",
     "text": [
      "Train {'loss': 0.24310814084915014, 'exp_dice': 0.6035848941940528, 'accuracy': 0.9749739536872277, 'recall': 0.6512200193909499}\n"
     ]
    },
    {
     "name": "stderr",
     "output_type": "stream",
     "text": [
      "\n",
      "100%|███████████████████████████████████████████████| 65/65 [00:03<00:00, 17.85it/s]"
     ]
    },
    {
     "name": "stdout",
     "output_type": "stream",
     "text": [
      "Test {'loss': 0.43991007713171154, 'exp_dice': 0.5802991037185375, 'accuracy': 0.9749751457801232, 'recall': 0.6696360423014714}\n"
     ]
    },
    {
     "name": "stderr",
     "output_type": "stream",
     "text": [
      "\n",
      "100%|█████████████████████████████████████████████| 260/260 [00:35<00:00,  7.32it/s]"
     ]
    },
    {
     "name": "stdout",
     "output_type": "stream",
     "text": [
      "Train {'loss': 0.24446829872635695, 'exp_dice': 0.6010061485263017, 'accuracy': 0.9747665478633001, 'recall': 0.6514217540048636}\n"
     ]
    },
    {
     "name": "stderr",
     "output_type": "stream",
     "text": [
      "\n",
      "100%|███████████████████████████████████████████████| 65/65 [00:03<00:00, 17.89it/s]"
     ]
    },
    {
     "name": "stdout",
     "output_type": "stream",
     "text": [
      "Test {'loss': 0.44107743593362664, 'exp_dice': 0.5789159935254317, 'accuracy': 0.9761890484736516, 'recall': 0.6478231682227208}\n"
     ]
    },
    {
     "name": "stderr",
     "output_type": "stream",
     "text": [
      "\n",
      "100%|█████████████████████████████████████████████| 260/260 [00:35<00:00,  7.31it/s]"
     ]
    },
    {
     "name": "stdout",
     "output_type": "stream",
     "text": [
      "Train {'loss': 0.24342515468597412, 'exp_dice': 0.6036978821628369, 'accuracy': 0.9745552668204674, 'recall': 0.6564418153120921}\n"
     ]
    },
    {
     "name": "stderr",
     "output_type": "stream",
     "text": [
      "\n",
      "100%|███████████████████████████████████████████████| 65/65 [00:03<00:00, 18.16it/s]"
     ]
    },
    {
     "name": "stdout",
     "output_type": "stream",
     "text": [
      "Test {'loss': 0.4405402733729436, 'exp_dice': 0.5769099804071279, 'accuracy': 0.976489074413593, 'recall': 0.595082491177779}\n"
     ]
    },
    {
     "name": "stderr",
     "output_type": "stream",
     "text": [
      "\n",
      "100%|█████████████████████████████████████████████| 260/260 [00:35<00:00,  7.31it/s]"
     ]
    },
    {
     "name": "stdout",
     "output_type": "stream",
     "text": [
      "Train {'loss': 0.24180312059246578, 'exp_dice': 0.6053395456312081, 'accuracy': 0.9748896250357995, 'recall': 0.6496739758035311}\n"
     ]
    },
    {
     "name": "stderr",
     "output_type": "stream",
     "text": [
      "\n",
      "100%|███████████████████████████████████████████████| 65/65 [00:03<00:00, 18.00it/s]"
     ]
    },
    {
     "name": "stdout",
     "output_type": "stream",
     "text": [
      "Test {'loss': 0.4487545105127188, 'exp_dice': 0.5722769026572888, 'accuracy': 0.9765943160423866, 'recall': 0.6278237031056331}\n"
     ]
    },
    {
     "name": "stderr",
     "output_type": "stream",
     "text": [
      "\n",
      "100%|█████████████████████████████████████████████| 260/260 [00:35<00:00,  7.31it/s]"
     ]
    },
    {
     "name": "stdout",
     "output_type": "stream",
     "text": [
      "Train {'loss': 0.24319254303207763, 'exp_dice': 0.6024411650804373, 'accuracy': 0.9751752523275522, 'recall': 0.6551504675012368}\n"
     ]
    },
    {
     "name": "stderr",
     "output_type": "stream",
     "text": [
      "\n",
      "100%|███████████████████████████████████████████████| 65/65 [00:03<00:00, 17.91it/s]\n"
     ]
    },
    {
     "name": "stdout",
     "output_type": "stream",
     "text": [
      "Test {'loss': 0.44321740223811223, 'exp_dice': 0.5756807455649743, 'accuracy': 0.9752466275141789, 'recall': 0.6334951515381153}\n"
     ]
    },
    {
     "name": "stderr",
     "output_type": "stream",
     "text": [
      "100%|█████████████████████████████████████████████| 260/260 [00:35<00:00,  7.32it/s]"
     ]
    },
    {
     "name": "stdout",
     "output_type": "stream",
     "text": [
      "Train {'loss': 0.24299012204775444, 'exp_dice': 0.6033823732573252, 'accuracy': 0.9748655777711135, 'recall': 0.6472791702701495}\n"
     ]
    },
    {
     "name": "stderr",
     "output_type": "stream",
     "text": [
      "\n",
      "100%|███████████████████████████████████████████████| 65/65 [00:03<00:00, 18.04it/s]"
     ]
    },
    {
     "name": "stdout",
     "output_type": "stream",
     "text": [
      "Test {'loss': 0.4457799902329078, 'exp_dice': 0.5750567887838071, 'accuracy': 0.9769808329068698, 'recall': 0.6577789036127237}\n"
     ]
    },
    {
     "name": "stderr",
     "output_type": "stream",
     "text": [
      "\n",
      "100%|█████████████████████████████████████████████| 260/260 [00:35<00:00,  7.32it/s]"
     ]
    },
    {
     "name": "stdout",
     "output_type": "stream",
     "text": [
      "Train {'loss': 0.24176494943407867, 'exp_dice': 0.6061856131141002, 'accuracy': 0.9745800146689781, 'recall': 0.6544787284273368}\n"
     ]
    },
    {
     "name": "stderr",
     "output_type": "stream",
     "text": [
      "\n",
      "100%|███████████████████████████████████████████████| 65/65 [00:03<00:00, 18.33it/s]"
     ]
    },
    {
     "name": "stdout",
     "output_type": "stream",
     "text": [
      "Test {'loss': 0.44407844635156485, 'exp_dice': 0.5765846495444958, 'accuracy': 0.9753904489370493, 'recall': 0.6545449467805716}\n"
     ]
    },
    {
     "name": "stderr",
     "output_type": "stream",
     "text": [
      "\n",
      "100%|█████████████████████████████████████████████| 260/260 [00:35<00:00,  7.31it/s]"
     ]
    },
    {
     "name": "stdout",
     "output_type": "stream",
     "text": [
      "Train {'loss': 0.24208282707975462, 'exp_dice': 0.6053756128136928, 'accuracy': 0.9748202140514667, 'recall': 0.6504302447231917}\n"
     ]
    },
    {
     "name": "stderr",
     "output_type": "stream",
     "text": [
      "\n",
      "100%|███████████████████████████████████████████████| 65/65 [00:03<00:00, 18.21it/s]"
     ]
    },
    {
     "name": "stdout",
     "output_type": "stream",
     "text": [
      "Test {'loss': 0.4454072512113131, 'exp_dice': 0.5755696766651593, 'accuracy': 0.9752369733957144, 'recall': 0.6611587616113516}\n"
     ]
    },
    {
     "name": "stderr",
     "output_type": "stream",
     "text": [
      "\n",
      "100%|█████████████████████████████████████████████| 260/260 [00:35<00:00,  7.32it/s]"
     ]
    },
    {
     "name": "stdout",
     "output_type": "stream",
     "text": [
      "Train {'loss': 0.24266832379194406, 'exp_dice': 0.6035503717282644, 'accuracy': 0.9748841505784255, 'recall': 0.653193577278692}\n"
     ]
    },
    {
     "name": "stderr",
     "output_type": "stream",
     "text": [
      "\n",
      "100%|███████████████████████████████████████████████| 65/65 [00:03<00:00, 18.30it/s]"
     ]
    },
    {
     "name": "stdout",
     "output_type": "stream",
     "text": [
      "Test {'loss': 0.44241423515173106, 'exp_dice': 0.5759553730487823, 'accuracy': 0.9751676999605619, 'recall': 0.6290385445723167}\n"
     ]
    },
    {
     "name": "stderr",
     "output_type": "stream",
     "text": [
      "\n",
      "100%|█████████████████████████████████████████████| 260/260 [00:35<00:00,  7.31it/s]"
     ]
    },
    {
     "name": "stdout",
     "output_type": "stream",
     "text": [
      "Train {'loss': 0.242148030979129, 'exp_dice': 0.6052087721916345, 'accuracy': 0.974684792298537, 'recall': 0.6471328770885101}\n"
     ]
    },
    {
     "name": "stderr",
     "output_type": "stream",
     "text": [
      "\n",
      "100%|███████████████████████████████████████████████| 65/65 [00:03<00:00, 18.06it/s]"
     ]
    },
    {
     "name": "stdout",
     "output_type": "stream",
     "text": [
      "Test {'loss': 0.4318344253760118, 'exp_dice': 0.5890614665471591, 'accuracy': 0.9762773000277005, 'recall': 0.6394485042645381}\n"
     ]
    },
    {
     "name": "stderr",
     "output_type": "stream",
     "text": [
      "\n",
      "100%|█████████████████████████████████████████████| 260/260 [00:35<00:00,  7.32it/s]"
     ]
    },
    {
     "name": "stdout",
     "output_type": "stream",
     "text": [
      "Train {'loss': 0.2414073744072364, 'exp_dice': 0.6064636354549573, 'accuracy': 0.9746799083856436, 'recall': 0.6562923602186717}\n"
     ]
    },
    {
     "name": "stderr",
     "output_type": "stream",
     "text": [
      "\n",
      "100%|███████████████████████████████████████████████| 65/65 [00:03<00:00, 18.00it/s]"
     ]
    },
    {
     "name": "stdout",
     "output_type": "stream",
     "text": [
      "Test {'loss': 0.43091487426024216, 'exp_dice': 0.5859992391788043, 'accuracy': 0.9760382725642278, 'recall': 0.6799222217156337}\n"
     ]
    },
    {
     "name": "stderr",
     "output_type": "stream",
     "text": [
      "\n",
      "100%|█████████████████████████████████████████████| 260/260 [00:35<00:00,  7.31it/s]"
     ]
    },
    {
     "name": "stdout",
     "output_type": "stream",
     "text": [
      "Train {'loss': 0.24122873828388178, 'exp_dice': 0.6073558292709864, 'accuracy': 0.9744032419644869, 'recall': 0.6530393508764414}\n"
     ]
    },
    {
     "name": "stderr",
     "output_type": "stream",
     "text": [
      "\n",
      "100%|███████████████████████████████████████████████| 65/65 [00:03<00:00, 18.26it/s]"
     ]
    },
    {
     "name": "stdout",
     "output_type": "stream",
     "text": [
      "Test {'loss': 0.4450113113109882, 'exp_dice': 0.5725699665454718, 'accuracy': 0.9740846120394193, 'recall': 0.6717892761413867}\n"
     ]
    },
    {
     "name": "stderr",
     "output_type": "stream",
     "text": [
      "\n",
      "100%|█████████████████████████████████████████████| 260/260 [00:35<00:00,  7.31it/s]"
     ]
    },
    {
     "name": "stdout",
     "output_type": "stream",
     "text": [
      "Train {'loss': 0.24193812339351728, 'exp_dice': 0.6060524806093711, 'accuracy': 0.9746164890436025, 'recall': 0.6513237255410507}\n"
     ]
    },
    {
     "name": "stderr",
     "output_type": "stream",
     "text": [
      "\n",
      "100%|███████████████████████████████████████████████| 65/65 [00:03<00:00, 18.17it/s]"
     ]
    },
    {
     "name": "stdout",
     "output_type": "stream",
     "text": [
      "Test {'loss': 0.4393072458413931, 'exp_dice': 0.5812693529404127, 'accuracy': 0.9762141741239108, 'recall': 0.6463224181762108}\n"
     ]
    },
    {
     "name": "stderr",
     "output_type": "stream",
     "text": [
      "\n",
      "100%|█████████████████████████████████████████████| 260/260 [00:35<00:00,  7.32it/s]"
     ]
    },
    {
     "name": "stdout",
     "output_type": "stream",
     "text": [
      "Train {'loss': 0.24303658415491763, 'exp_dice': 0.602533300106342, 'accuracy': 0.9751785938556378, 'recall': 0.6518628022991694}\n"
     ]
    },
    {
     "name": "stderr",
     "output_type": "stream",
     "text": [
      "\n",
      "100%|███████████████████████████████████████████████| 65/65 [00:03<00:00, 17.83it/s]"
     ]
    },
    {
     "name": "stdout",
     "output_type": "stream",
     "text": [
      "Test {'loss': 0.442823405449207, 'exp_dice': 0.5778707307118636, 'accuracy': 0.9757294728205754, 'recall': 0.6286121730621045}\n"
     ]
    },
    {
     "name": "stderr",
     "output_type": "stream",
     "text": [
      "\n",
      "100%|█████████████████████████████████████████████| 260/260 [00:35<00:00,  7.31it/s]"
     ]
    },
    {
     "name": "stdout",
     "output_type": "stream",
     "text": [
      "Train {'loss': 0.24084471309414276, 'exp_dice': 0.6059168162827309, 'accuracy': 0.9751090416541466, 'recall': 0.6526459724857256}\n"
     ]
    },
    {
     "name": "stderr",
     "output_type": "stream",
     "text": [
      "\n",
      "100%|███████████████████████████████████████████████| 65/65 [00:03<00:00, 18.00it/s]\n"
     ]
    },
    {
     "name": "stdout",
     "output_type": "stream",
     "text": [
      "Test {'loss': 0.4404193878173828, 'exp_dice': 0.5788493527815892, 'accuracy': 0.9760029279268705, 'recall': 0.641949927348357}\n"
     ]
    },
    {
     "name": "stderr",
     "output_type": "stream",
     "text": [
      "100%|█████████████████████████████████████████████| 260/260 [00:35<00:00,  7.32it/s]"
     ]
    },
    {
     "name": "stdout",
     "output_type": "stream",
     "text": [
      "Train {'loss': 0.24166395492278614, 'exp_dice': 0.60552343456791, 'accuracy': 0.97493673654703, 'recall': 0.6509910378891688}\n"
     ]
    },
    {
     "name": "stderr",
     "output_type": "stream",
     "text": [
      "\n",
      "100%|███████████████████████████████████████████████| 65/65 [00:03<00:00, 18.05it/s]"
     ]
    },
    {
     "name": "stdout",
     "output_type": "stream",
     "text": [
      "Test {'loss': 0.4466341229585501, 'exp_dice': 0.5732185125350953, 'accuracy': 0.9746735352736253, 'recall': 0.6907548652245448}\n"
     ]
    },
    {
     "name": "stderr",
     "output_type": "stream",
     "text": [
      "\n",
      "100%|█████████████████████████████████████████████| 260/260 [00:35<00:00,  7.32it/s]"
     ]
    },
    {
     "name": "stdout",
     "output_type": "stream",
     "text": [
      "Train {'loss': 0.23816804438829423, 'exp_dice': 0.6113057422093474, 'accuracy': 0.9749601125717163, 'recall': 0.6609001418718925}\n"
     ]
    },
    {
     "name": "stderr",
     "output_type": "stream",
     "text": [
      "\n",
      "100%|███████████████████████████████████████████████| 65/65 [00:03<00:00, 17.96it/s]"
     ]
    },
    {
     "name": "stdout",
     "output_type": "stream",
     "text": [
      "Test {'loss': 0.4293731267635639, 'exp_dice': 0.5883754186905348, 'accuracy': 0.9755116536067082, 'recall': 0.6698131895982302}\n"
     ]
    },
    {
     "name": "stderr",
     "output_type": "stream",
     "text": [
      "\n",
      "100%|█████████████████████████████████████████████| 260/260 [00:35<00:00,  7.32it/s]"
     ]
    },
    {
     "name": "stdout",
     "output_type": "stream",
     "text": [
      "Train {'loss': 0.24141937459890658, 'exp_dice': 0.6062274386676458, 'accuracy': 0.9746568734829243, 'recall': 0.6601184025406838}\n"
     ]
    },
    {
     "name": "stderr",
     "output_type": "stream",
     "text": [
      "\n",
      "100%|███████████████████████████████████████████████| 65/65 [00:03<00:00, 18.40it/s]"
     ]
    },
    {
     "name": "stdout",
     "output_type": "stream",
     "text": [
      "Test {'loss': 0.4503593481504, 'exp_dice': 0.5663315922021865, 'accuracy': 0.9771664839524489, 'recall': 0.5845613309970269}\n"
     ]
    },
    {
     "name": "stderr",
     "output_type": "stream",
     "text": [
      "\n",
      "100%|█████████████████████████████████████████████| 260/260 [00:35<00:00,  7.32it/s]"
     ]
    },
    {
     "name": "stdout",
     "output_type": "stream",
     "text": [
      "Train {'loss': 0.24430690803206884, 'exp_dice': 0.6015114264992567, 'accuracy': 0.9749408483505249, 'recall': 0.6518115144509535}\n"
     ]
    },
    {
     "name": "stderr",
     "output_type": "stream",
     "text": [
      "\n",
      "100%|███████████████████████████████████████████████| 65/65 [00:03<00:00, 17.94it/s]"
     ]
    },
    {
     "name": "stdout",
     "output_type": "stream",
     "text": [
      "Test {'loss': 0.45444339238680326, 'exp_dice': 0.5650532889824648, 'accuracy': 0.9762027153602013, 'recall': 0.5954239707726698}\n"
     ]
    },
    {
     "name": "stderr",
     "output_type": "stream",
     "text": [
      "\n",
      "100%|█████████████████████████████████████████████| 260/260 [00:35<00:00,  7.31it/s]"
     ]
    },
    {
     "name": "stdout",
     "output_type": "stream",
     "text": [
      "Train {'loss': 0.2468258369427461, 'exp_dice': 0.5971501233772589, 'accuracy': 0.9748046966699454, 'recall': 0.6459457567104927}\n"
     ]
    },
    {
     "name": "stderr",
     "output_type": "stream",
     "text": [
      "\n",
      "100%|███████████████████████████████████████████████| 65/65 [00:03<00:00, 18.16it/s]"
     ]
    },
    {
     "name": "stdout",
     "output_type": "stream",
     "text": [
      "Test {'loss': 0.4425168743500343, 'exp_dice': 0.5768660611831224, 'accuracy': 0.9758683278010442, 'recall': 0.6125731940452869}\n"
     ]
    },
    {
     "name": "stderr",
     "output_type": "stream",
     "text": [
      "\n",
      "100%|█████████████████████████████████████████████| 260/260 [00:35<00:00,  7.31it/s]"
     ]
    },
    {
     "name": "stdout",
     "output_type": "stream",
     "text": [
      "Train {'loss': 0.24269302189350128, 'exp_dice': 0.6043423904822423, 'accuracy': 0.9748436450958252, 'recall': 0.6461811735079839}\n"
     ]
    },
    {
     "name": "stderr",
     "output_type": "stream",
     "text": [
      "\n",
      "100%|███████████████████████████████████████████████| 65/65 [00:03<00:00, 18.21it/s]"
     ]
    },
    {
     "name": "stdout",
     "output_type": "stream",
     "text": [
      "Test {'loss': 0.43413775242291963, 'exp_dice': 0.5828237774280401, 'accuracy': 0.9756413753216083, 'recall': 0.6395230948925018}\n"
     ]
    },
    {
     "name": "stderr",
     "output_type": "stream",
     "text": [
      "\n",
      "100%|█████████████████████████████████████████████| 260/260 [00:35<00:00,  7.32it/s]"
     ]
    },
    {
     "name": "stdout",
     "output_type": "stream",
     "text": [
      "Train {'loss': 0.24167123454121442, 'exp_dice': 0.6068698620566955, 'accuracy': 0.9745598701330331, 'recall': 0.6512332869263796}\n"
     ]
    },
    {
     "name": "stderr",
     "output_type": "stream",
     "text": [
      "\n",
      "100%|███████████████████████████████████████████████| 65/65 [00:03<00:00, 17.97it/s]"
     ]
    },
    {
     "name": "stdout",
     "output_type": "stream",
     "text": [
      "Test {'loss': 0.43774818181991576, 'exp_dice': 0.5801732182502747, 'accuracy': 0.9764504799476037, 'recall': 0.6438252747058868}\n"
     ]
    },
    {
     "name": "stderr",
     "output_type": "stream",
     "text": [
      "\n",
      "100%|█████████████████████████████████████████████| 260/260 [00:35<00:00,  7.31it/s]"
     ]
    },
    {
     "name": "stdout",
     "output_type": "stream",
     "text": [
      "Train {'loss': 0.24177483933476301, 'exp_dice': 0.6050825076034436, 'accuracy': 0.9751220097908607, 'recall': 0.6517539924153914}\n"
     ]
    },
    {
     "name": "stderr",
     "output_type": "stream",
     "text": [
      "\n",
      "100%|███████████████████████████████████████████████| 65/65 [00:03<00:00, 18.13it/s]"
     ]
    },
    {
     "name": "stdout",
     "output_type": "stream",
     "text": [
      "Test {'loss': 0.44009154118024385, 'exp_dice': 0.5768226224642533, 'accuracy': 0.9765160487248348, 'recall': 0.5915253052344689}\n"
     ]
    },
    {
     "name": "stderr",
     "output_type": "stream",
     "text": [
      "\n",
      "100%|█████████████████████████████████████████████| 260/260 [00:35<00:00,  7.29it/s]"
     ]
    },
    {
     "name": "stdout",
     "output_type": "stream",
     "text": [
      "Train {'loss': 0.2423664879340392, 'exp_dice': 0.6043371060719857, 'accuracy': 0.9747484885729276, 'recall': 0.6486961890871709}\n"
     ]
    },
    {
     "name": "stderr",
     "output_type": "stream",
     "text": [
      "\n",
      "100%|███████████████████████████████████████████████| 65/65 [00:03<00:00, 18.13it/s]"
     ]
    },
    {
     "name": "stdout",
     "output_type": "stream",
     "text": [
      "Test {'loss': 0.44302110855395976, 'exp_dice': 0.5784372944098253, 'accuracy': 0.9753967065077561, 'recall': 0.6427177493388836}\n"
     ]
    },
    {
     "name": "stderr",
     "output_type": "stream",
     "text": [
      "\n",
      "100%|█████████████████████████████████████████████| 260/260 [00:35<00:00,  7.32it/s]"
     ]
    },
    {
     "name": "stdout",
     "output_type": "stream",
     "text": [
      "Train {'loss': 0.24157669349358632, 'exp_dice': 0.6058996138664392, 'accuracy': 0.9748245551035954, 'recall': 0.6532502408211048}\n"
     ]
    },
    {
     "name": "stderr",
     "output_type": "stream",
     "text": [
      "\n",
      "100%|███████████████████████████████████████████████| 65/65 [00:03<00:00, 18.13it/s]\n"
     ]
    },
    {
     "name": "stdout",
     "output_type": "stream",
     "text": [
      "Test {'loss': 0.43740167159300586, 'exp_dice': 0.5808038007754546, 'accuracy': 0.9759259810814491, 'recall': 0.6468954730492372}\n"
     ]
    },
    {
     "name": "stderr",
     "output_type": "stream",
     "text": [
      "100%|█████████████████████████████████████████████| 260/260 [00:35<00:00,  7.33it/s]"
     ]
    },
    {
     "name": "stdout",
     "output_type": "stream",
     "text": [
      "Train {'loss': 0.2406087101652072, 'exp_dice': 0.60654284647451, 'accuracy': 0.975330009827247, 'recall': 0.6502083406998561}\n"
     ]
    },
    {
     "name": "stderr",
     "output_type": "stream",
     "text": [
      "\n",
      "100%|███████████████████████████████████████████████| 65/65 [00:03<00:00, 18.25it/s]"
     ]
    },
    {
     "name": "stdout",
     "output_type": "stream",
     "text": [
      "Test {'loss': 0.45208302002686723, 'exp_dice': 0.5669334966402787, 'accuracy': 0.9767120141249437, 'recall': 0.6183403469049014}\n"
     ]
    },
    {
     "name": "stderr",
     "output_type": "stream",
     "text": [
      "\n",
      "100%|█████████████████████████████████████████████| 260/260 [00:35<00:00,  7.32it/s]"
     ]
    },
    {
     "name": "stdout",
     "output_type": "stream",
     "text": [
      "Train {'loss': 0.23912070107001523, 'exp_dice': 0.6100085699787506, 'accuracy': 0.9750098118415246, 'recall': 0.6525089191702697}\n"
     ]
    },
    {
     "name": "stderr",
     "output_type": "stream",
     "text": [
      "\n",
      "100%|███████████████████████████████████████████████| 65/65 [00:03<00:00, 18.02it/s]"
     ]
    },
    {
     "name": "stdout",
     "output_type": "stream",
     "text": [
      "Test {'loss': 0.44892920347360465, 'exp_dice': 0.5703468173742294, 'accuracy': 0.974711117377648, 'recall': 0.6489806743768546}\n"
     ]
    },
    {
     "name": "stderr",
     "output_type": "stream",
     "text": [
      "\n",
      "100%|█████████████████████████████████████████████| 260/260 [00:35<00:00,  7.32it/s]"
     ]
    },
    {
     "name": "stdout",
     "output_type": "stream",
     "text": [
      "Train {'loss': 0.2417218608924976, 'exp_dice': 0.6051715076542817, 'accuracy': 0.9747980319536649, 'recall': 0.6546264155552938}\n"
     ]
    },
    {
     "name": "stderr",
     "output_type": "stream",
     "text": [
      "\n",
      "100%|███████████████████████████████████████████████| 65/65 [00:03<00:00, 18.23it/s]"
     ]
    },
    {
     "name": "stdout",
     "output_type": "stream",
     "text": [
      "Test {'loss': 0.4278435597052941, 'exp_dice': 0.5895120907288331, 'accuracy': 0.9758329611558181, 'recall': 0.6283545487202131}\n"
     ]
    },
    {
     "name": "stderr",
     "output_type": "stream",
     "text": [
      "\n",
      "100%|█████████████████████████████████████████████| 260/260 [00:35<00:00,  7.31it/s]"
     ]
    },
    {
     "name": "stdout",
     "output_type": "stream",
     "text": [
      "Train {'loss': 0.24283491464761586, 'exp_dice': 0.6041694774077488, 'accuracy': 0.9745409213579618, 'recall': 0.6515136261398976}\n"
     ]
    },
    {
     "name": "stderr",
     "output_type": "stream",
     "text": [
      "\n",
      "100%|███████████████████████████████████████████████| 65/65 [00:03<00:00, 18.21it/s]"
     ]
    },
    {
     "name": "stdout",
     "output_type": "stream",
     "text": [
      "Test {'loss': 0.4406144563968365, 'exp_dice': 0.5794437763782648, 'accuracy': 0.9744107539837177, 'recall': 0.6587877470713396}\n"
     ]
    },
    {
     "name": "stderr",
     "output_type": "stream",
     "text": [
      "\n",
      "100%|█████████████████████████████████████████████| 260/260 [00:35<00:00,  7.31it/s]"
     ]
    },
    {
     "name": "stdout",
     "output_type": "stream",
     "text": [
      "Train {'loss': 0.2375578524114994, 'exp_dice': 0.612949539319827, 'accuracy': 0.9748647176302396, 'recall': 0.6540386802301957}\n"
     ]
    },
    {
     "name": "stderr",
     "output_type": "stream",
     "text": [
      "\n",
      "100%|███████████████████████████████████████████████| 65/65 [00:03<00:00, 18.15it/s]"
     ]
    },
    {
     "name": "stdout",
     "output_type": "stream",
     "text": [
      "Test {'loss': 0.43455308033869816, 'exp_dice': 0.5841911701055673, 'accuracy': 0.9761895913344163, 'recall': 0.6266385073845203}\n"
     ]
    },
    {
     "name": "stderr",
     "output_type": "stream",
     "text": [
      "\n",
      "100%|█████████████████████████████████████████████| 260/260 [00:35<00:00,  7.33it/s]"
     ]
    },
    {
     "name": "stdout",
     "output_type": "stream",
     "text": [
      "Train {'loss': 0.23988401093162023, 'exp_dice': 0.6081599854505979, 'accuracy': 0.9751000055899987, 'recall': 0.651527894460238}\n"
     ]
    },
    {
     "name": "stderr",
     "output_type": "stream",
     "text": [
      "\n",
      "100%|███████████████████████████████████████████████| 65/65 [00:03<00:00, 18.03it/s]"
     ]
    },
    {
     "name": "stdout",
     "output_type": "stream",
     "text": [
      "Test {'loss': 0.44712547430625327, 'exp_dice': 0.5715127766132355, 'accuracy': 0.9757962373586802, 'recall': 0.6793841160260714}\n"
     ]
    },
    {
     "name": "stderr",
     "output_type": "stream",
     "text": [
      "\n",
      "100%|█████████████████████████████████████████████| 260/260 [00:35<00:00,  7.31it/s]"
     ]
    },
    {
     "name": "stdout",
     "output_type": "stream",
     "text": [
      "Train {'loss': 0.23967776923225476, 'exp_dice': 0.6085695019958971, 'accuracy': 0.9751543503541212, 'recall': 0.6606228744754424}\n"
     ]
    },
    {
     "name": "stderr",
     "output_type": "stream",
     "text": [
      "\n",
      "100%|███████████████████████████████████████████████| 65/65 [00:03<00:00, 18.09it/s]"
     ]
    },
    {
     "name": "stdout",
     "output_type": "stream",
     "text": [
      "Test {'loss': 0.43018472011272724, 'exp_dice': 0.588408657679191, 'accuracy': 0.9772681896503155, 'recall': 0.6472631055575151}\n"
     ]
    },
    {
     "name": "stderr",
     "output_type": "stream",
     "text": [
      "\n",
      "100%|█████████████████████████████████████████████| 260/260 [00:35<00:00,  7.31it/s]"
     ]
    },
    {
     "name": "stdout",
     "output_type": "stream",
     "text": [
      "Train {'loss': 0.24085930173213665, 'exp_dice': 0.6067580639169766, 'accuracy': 0.9748105305891771, 'recall': 0.6542562990234448}\n"
     ]
    },
    {
     "name": "stderr",
     "output_type": "stream",
     "text": [
      "\n",
      "100%|███████████████████████████████████████████████| 65/65 [00:03<00:00, 18.22it/s]"
     ]
    },
    {
     "name": "stdout",
     "output_type": "stream",
     "text": [
      "Test {'loss': 0.4367026154811566, 'exp_dice': 0.5822838549430553, 'accuracy': 0.9759006867041955, 'recall': 0.653286730326139}\n"
     ]
    },
    {
     "name": "stderr",
     "output_type": "stream",
     "text": [
      "\n",
      "100%|█████████████████████████████████████████████| 260/260 [00:35<00:00,  7.31it/s]"
     ]
    },
    {
     "name": "stdout",
     "output_type": "stream",
     "text": [
      "Train {'loss': 0.24082350501647362, 'exp_dice': 0.6072670354292943, 'accuracy': 0.9745408498323881, 'recall': 0.6565059248071451}\n"
     ]
    },
    {
     "name": "stderr",
     "output_type": "stream",
     "text": [
      "\n",
      "100%|███████████████████████████████████████████████| 65/65 [00:03<00:00, 18.03it/s]"
     ]
    },
    {
     "name": "stdout",
     "output_type": "stream",
     "text": [
      "Test {'loss': 0.4459190423672016, 'exp_dice': 0.57270395893317, 'accuracy': 0.9755175076998197, 'recall': 0.648581411746832}\n"
     ]
    },
    {
     "name": "stderr",
     "output_type": "stream",
     "text": [
      "\n",
      "100%|█████████████████████████████████████████████| 260/260 [00:35<00:00,  7.32it/s]"
     ]
    },
    {
     "name": "stdout",
     "output_type": "stream",
     "text": [
      "Train {'loss': 0.2390259297994467, 'exp_dice': 0.6095876014934709, 'accuracy': 0.9751182262714092, 'recall': 0.6589302372473936}\n"
     ]
    },
    {
     "name": "stderr",
     "output_type": "stream",
     "text": [
      "\n",
      "100%|███████████████████████████████████████████████| 65/65 [00:03<00:00, 18.04it/s]"
     ]
    },
    {
     "name": "stdout",
     "output_type": "stream",
     "text": [
      "Test {'loss': 0.43050844027445867, 'exp_dice': 0.5868215322494507, 'accuracy': 0.9758719077477088, 'recall': 0.6646130667282985}\n"
     ]
    },
    {
     "name": "stderr",
     "output_type": "stream",
     "text": [
      "\n",
      "100%|█████████████████████████████████████████████| 260/260 [00:35<00:00,  7.33it/s]"
     ]
    },
    {
     "name": "stdout",
     "output_type": "stream",
     "text": [
      "Train {'loss': 0.23832868847709435, 'exp_dice': 0.611659608150904, 'accuracy': 0.9749241993977473, 'recall': 0.6593631845254164}\n"
     ]
    },
    {
     "name": "stderr",
     "output_type": "stream",
     "text": [
      "\n",
      "100%|███████████████████████████████████████████████| 65/65 [00:03<00:00, 18.17it/s]"
     ]
    },
    {
     "name": "stdout",
     "output_type": "stream",
     "text": [
      "Test {'loss': 0.4398478563015278, 'exp_dice': 0.5778876373401055, 'accuracy': 0.975334042769212, 'recall': 0.6362967472810012}\n"
     ]
    },
    {
     "name": "stderr",
     "output_type": "stream",
     "text": [
      "\n",
      "100%|█████████████████████████████████████████████| 260/260 [00:35<00:00,  7.32it/s]"
     ]
    },
    {
     "name": "stdout",
     "output_type": "stream",
     "text": [
      "Train {'loss': 0.238902890510284, 'exp_dice': 0.6102657130131355, 'accuracy': 0.974773018176739, 'recall': 0.6542792335152626}\n"
     ]
    },
    {
     "name": "stderr",
     "output_type": "stream",
     "text": [
      "\n",
      "100%|███████████████████████████████████████████████| 65/65 [00:03<00:00, 18.02it/s]"
     ]
    },
    {
     "name": "stdout",
     "output_type": "stream",
     "text": [
      "Test {'loss': 0.4378728985786438, 'exp_dice': 0.5796574899783501, 'accuracy': 0.9769526554987981, 'recall': 0.6423376298867739}\n"
     ]
    },
    {
     "name": "stderr",
     "output_type": "stream",
     "text": [
      "\n",
      "100%|█████████████████████████████████████████████| 260/260 [00:35<00:00,  7.31it/s]"
     ]
    },
    {
     "name": "stdout",
     "output_type": "stream",
     "text": [
      "Train {'loss': 0.23848290345989742, 'exp_dice': 0.6105876264090722, 'accuracy': 0.9749148277135996, 'recall': 0.6578065005632547}\n"
     ]
    },
    {
     "name": "stderr",
     "output_type": "stream",
     "text": [
      "\n",
      "100%|███████████████████████████████████████████████| 65/65 [00:03<00:00, 18.33it/s]"
     ]
    },
    {
     "name": "stdout",
     "output_type": "stream",
     "text": [
      "Test {'loss': 0.4374802626096285, 'exp_dice': 0.5819865678365413, 'accuracy': 0.9761638788076548, 'recall': 0.673184149998885}\n"
     ]
    },
    {
     "name": "stderr",
     "output_type": "stream",
     "text": [
      "\n",
      "100%|█████████████████████████████████████████████| 260/260 [00:35<00:00,  7.32it/s]"
     ]
    },
    {
     "name": "stdout",
     "output_type": "stream",
     "text": [
      "Train {'loss': 0.24033109757762688, 'exp_dice': 0.6076227463065431, 'accuracy': 0.9748289383374728, 'recall': 0.6535661544650793}\n"
     ]
    },
    {
     "name": "stderr",
     "output_type": "stream",
     "text": [
      "\n",
      "100%|███████████████████████████████████████████████| 65/65 [00:03<00:00, 18.11it/s]"
     ]
    },
    {
     "name": "stdout",
     "output_type": "stream",
     "text": [
      "Test {'loss': 0.4299212125631479, 'exp_dice': 0.587421262722749, 'accuracy': 0.9761761078467736, 'recall': 0.6523929119110108}\n"
     ]
    },
    {
     "name": "stderr",
     "output_type": "stream",
     "text": [
      "\n",
      "100%|█████████████████████████████████████████████| 260/260 [00:35<00:00,  7.32it/s]"
     ]
    },
    {
     "name": "stdout",
     "output_type": "stream",
     "text": [
      "Train {'loss': 0.23884497221845846, 'exp_dice': 0.609628007045159, 'accuracy': 0.9750431354229266, 'recall': 0.6547309482326874}\n"
     ]
    },
    {
     "name": "stderr",
     "output_type": "stream",
     "text": [
      "\n",
      "100%|███████████████████████████████████████████████| 65/65 [00:03<00:00, 18.11it/s]"
     ]
    },
    {
     "name": "stdout",
     "output_type": "stream",
     "text": [
      "Test {'loss': 0.43685239003254817, 'exp_dice': 0.5815333886788442, 'accuracy': 0.975919613471398, 'recall': 0.6607424515944261}\n"
     ]
    },
    {
     "name": "stderr",
     "output_type": "stream",
     "text": [
      "\n",
      "100%|█████████████████████████████████████████████| 260/260 [00:35<00:00,  7.32it/s]"
     ]
    },
    {
     "name": "stdout",
     "output_type": "stream",
     "text": [
      "Train {'loss': 0.2369873634324624, 'exp_dice': 0.6148066891500583, 'accuracy': 0.9745926288458017, 'recall': 0.6553370126164877}\n"
     ]
    },
    {
     "name": "stderr",
     "output_type": "stream",
     "text": [
      "\n",
      "100%|███████████████████████████████████████████████| 65/65 [00:03<00:00, 18.42it/s]"
     ]
    },
    {
     "name": "stdout",
     "output_type": "stream",
     "text": [
      "Test {'loss': 0.43231263527503383, 'exp_dice': 0.5875832465978769, 'accuracy': 0.9750442064725435, 'recall': 0.6731368064880371}\n"
     ]
    },
    {
     "name": "stderr",
     "output_type": "stream",
     "text": [
      "\n",
      "100%|█████████████████████████████████████████████| 260/260 [00:35<00:00,  7.32it/s]"
     ]
    },
    {
     "name": "stdout",
     "output_type": "stream",
     "text": [
      "Train {'loss': 0.23651015036381207, 'exp_dice': 0.6147916451096535, 'accuracy': 0.9748849795414851, 'recall': 0.6592401154912435}\n"
     ]
    },
    {
     "name": "stderr",
     "output_type": "stream",
     "text": [
      "\n",
      "100%|███████████████████████████████████████████████| 65/65 [00:03<00:00, 18.36it/s]"
     ]
    },
    {
     "name": "stdout",
     "output_type": "stream",
     "text": [
      "Test {'loss': 0.4433255773324233, 'exp_dice': 0.574877721300492, 'accuracy': 0.9741361911480243, 'recall': 0.6694344245470487}\n"
     ]
    },
    {
     "name": "stderr",
     "output_type": "stream",
     "text": [
      "\n",
      "100%|█████████████████████████████████████████████| 260/260 [00:35<00:00,  7.31it/s]"
     ]
    },
    {
     "name": "stdout",
     "output_type": "stream",
     "text": [
      "Train {'loss': 0.23913705629798082, 'exp_dice': 0.609583406150341, 'accuracy': 0.9748799635813786, 'recall': 0.6549985066056252}\n"
     ]
    },
    {
     "name": "stderr",
     "output_type": "stream",
     "text": [
      "\n",
      "100%|███████████████████████████████████████████████| 65/65 [00:03<00:00, 17.89it/s]"
     ]
    },
    {
     "name": "stdout",
     "output_type": "stream",
     "text": [
      "Test {'loss': 0.4439944230593168, 'exp_dice': 0.5732131389471201, 'accuracy': 0.9755404839148888, 'recall': 0.6485220418526576}\n"
     ]
    },
    {
     "name": "stderr",
     "output_type": "stream",
     "text": [
      "\n",
      "100%|█████████████████████████████████████████████| 260/260 [00:35<00:00,  7.32it/s]"
     ]
    },
    {
     "name": "stdout",
     "output_type": "stream",
     "text": [
      "Train {'loss': 0.23847287515035043, 'exp_dice': 0.6098923490597652, 'accuracy': 0.9752209700070895, 'recall': 0.6588269417675642}\n"
     ]
    },
    {
     "name": "stderr",
     "output_type": "stream",
     "text": [
      "\n",
      "100%|███████████████████████████████████████████████| 65/65 [00:03<00:00, 17.92it/s]"
     ]
    },
    {
     "name": "stdout",
     "output_type": "stream",
     "text": [
      "Test {'loss': 0.42896594451023984, 'exp_dice': 0.5893115506722377, 'accuracy': 0.9764926323523888, 'recall': 0.6327696286714994}\n"
     ]
    },
    {
     "name": "stderr",
     "output_type": "stream",
     "text": [
      "\n",
      "100%|█████████████████████████████████████████████| 260/260 [00:35<00:00,  7.31it/s]"
     ]
    },
    {
     "name": "stdout",
     "output_type": "stream",
     "text": [
      "Train {'loss': 0.2368934449668114, 'exp_dice': 0.6141189757447977, 'accuracy': 0.9749072973544781, 'recall': 0.6550167207534496}\n"
     ]
    },
    {
     "name": "stderr",
     "output_type": "stream",
     "text": [
      "\n",
      "100%|███████████████████████████████████████████████| 65/65 [00:03<00:00, 18.05it/s]\n"
     ]
    },
    {
     "name": "stdout",
     "output_type": "stream",
     "text": [
      "Test {'loss': 0.440396393262423, 'exp_dice': 0.575825423002243, 'accuracy': 0.9757756526653584, 'recall': 0.6116690821372546}\n"
     ]
    },
    {
     "name": "stderr",
     "output_type": "stream",
     "text": [
      "100%|█████████████████████████████████████████████| 260/260 [00:35<00:00,  7.32it/s]"
     ]
    },
    {
     "name": "stdout",
     "output_type": "stream",
     "text": [
      "Train {'loss': 0.23997499191990265, 'exp_dice': 0.6074259890959813, 'accuracy': 0.9751020284799429, 'recall': 0.6568087279796601}\n"
     ]
    },
    {
     "name": "stderr",
     "output_type": "stream",
     "text": [
      "\n",
      "100%|███████████████████████████████████████████████| 65/65 [00:03<00:00, 18.34it/s]"
     ]
    },
    {
     "name": "stdout",
     "output_type": "stream",
     "text": [
      "Test {'loss': 0.42941086017168484, 'exp_dice': 0.5893948981395134, 'accuracy': 0.9757292454059308, 'recall': 0.6396331145213201}\n"
     ]
    },
    {
     "name": "stderr",
     "output_type": "stream",
     "text": [
      "\n",
      "100%|█████████████████████████████████████████████| 260/260 [00:35<00:00,  7.32it/s]"
     ]
    },
    {
     "name": "stdout",
     "output_type": "stream",
     "text": [
      "Train {'loss': 0.23750714883208274, 'exp_dice': 0.6130530736194207, 'accuracy': 0.9749094651295589, 'recall': 0.6551126977572075}\n"
     ]
    },
    {
     "name": "stderr",
     "output_type": "stream",
     "text": [
      "\n",
      "100%|███████████████████████████████████████████████| 65/65 [00:03<00:00, 17.98it/s]"
     ]
    },
    {
     "name": "stdout",
     "output_type": "stream",
     "text": [
      "Test {'loss': 0.43573406843038703, 'exp_dice': 0.5833158733753058, 'accuracy': 0.9759887988750752, 'recall': 0.6406244053290441}\n"
     ]
    },
    {
     "name": "stderr",
     "output_type": "stream",
     "text": [
      "\n",
      "100%|█████████████████████████████████████████████| 260/260 [00:35<00:00,  7.31it/s]"
     ]
    },
    {
     "name": "stdout",
     "output_type": "stream",
     "text": [
      "Train {'loss': 0.2382873390156489, 'exp_dice': 0.6109354560764936, 'accuracy': 0.974967938203078, 'recall': 0.6550469546363904}\n"
     ]
    },
    {
     "name": "stderr",
     "output_type": "stream",
     "text": [
      "\n",
      "100%|███████████████████████████████████████████████| 65/65 [00:03<00:00, 18.11it/s]"
     ]
    },
    {
     "name": "stdout",
     "output_type": "stream",
     "text": [
      "Test {'loss': 0.4458444567827078, 'exp_dice': 0.5717974997483767, 'accuracy': 0.9765090428865872, 'recall': 0.6182801377314787}\n"
     ]
    },
    {
     "name": "stderr",
     "output_type": "stream",
     "text": [
      "\n",
      "100%|█████████████████████████████████████████████| 260/260 [00:35<00:00,  7.32it/s]"
     ]
    },
    {
     "name": "stdout",
     "output_type": "stream",
     "text": [
      "Train {'loss': 0.23780387026759295, 'exp_dice': 0.6116989570634009, 'accuracy': 0.9749656182069045, 'recall': 0.6611766807161845}\n"
     ]
    },
    {
     "name": "stderr",
     "output_type": "stream",
     "text": [
      "\n",
      "100%|███████████████████████████████████████████████| 65/65 [00:03<00:00, 17.98it/s]"
     ]
    },
    {
     "name": "stdout",
     "output_type": "stream",
     "text": [
      "Test {'loss': 0.4409919463671171, 'exp_dice': 0.5749186336994171, 'accuracy': 0.9769663590651292, 'recall': 0.5964919631297771}\n"
     ]
    },
    {
     "name": "stderr",
     "output_type": "stream",
     "text": [
      "\n",
      "100%|█████████████████████████████████████████████| 260/260 [00:35<00:00,  7.31it/s]"
     ]
    },
    {
     "name": "stdout",
     "output_type": "stream",
     "text": [
      "Train {'loss': 0.2390296056293524, 'exp_dice': 0.6100712520571855, 'accuracy': 0.9748082582767194, 'recall': 0.6588129884348466}\n"
     ]
    },
    {
     "name": "stderr",
     "output_type": "stream",
     "text": [
      "\n",
      "100%|███████████████████████████████████████████████| 65/65 [00:03<00:00, 17.93it/s]"
     ]
    },
    {
     "name": "stdout",
     "output_type": "stream",
     "text": [
      "Test {'loss': 0.44284698504668013, 'exp_dice': 0.5725654083948869, 'accuracy': 0.9770586967468262, 'recall': 0.5885975449131086}\n"
     ]
    },
    {
     "name": "stderr",
     "output_type": "stream",
     "text": [
      "\n",
      "100%|█████████████████████████████████████████████| 260/260 [00:35<00:00,  7.30it/s]"
     ]
    },
    {
     "name": "stdout",
     "output_type": "stream",
     "text": [
      "Train {'loss': 0.23546205214582958, 'exp_dice': 0.6171233846591069, 'accuracy': 0.9747485637664794, 'recall': 0.6564979588756195}\n"
     ]
    },
    {
     "name": "stderr",
     "output_type": "stream",
     "text": [
      "\n",
      "100%|███████████████████████████████████████████████| 65/65 [00:03<00:00, 17.99it/s]"
     ]
    },
    {
     "name": "stdout",
     "output_type": "stream",
     "text": [
      "Test {'loss': 0.4387694973212022, 'exp_dice': 0.5783072563318106, 'accuracy': 0.9754614609938401, 'recall': 0.6349594363799462}\n"
     ]
    },
    {
     "name": "stderr",
     "output_type": "stream",
     "text": [
      "\n",
      "100%|█████████████████████████████████████████████| 260/260 [00:35<00:00,  7.31it/s]"
     ]
    },
    {
     "name": "stdout",
     "output_type": "stream",
     "text": [
      "Train {'loss': 0.23762314674945978, 'exp_dice': 0.6127567425943338, 'accuracy': 0.9747505793204674, 'recall': 0.658621158106969}\n"
     ]
    },
    {
     "name": "stderr",
     "output_type": "stream",
     "text": [
      "\n",
      "100%|███████████████████████████████████████████████| 65/65 [00:03<00:00, 17.69it/s]"
     ]
    },
    {
     "name": "stdout",
     "output_type": "stream",
     "text": [
      "Test {'loss': 0.4451206794151893, 'exp_dice': 0.5725513549951406, 'accuracy': 0.9754159633929913, 'recall': 0.6285938872740819}\n"
     ]
    },
    {
     "name": "stderr",
     "output_type": "stream",
     "text": [
      "\n",
      "100%|█████████████████████████████████████████████| 260/260 [00:35<00:00,  7.31it/s]"
     ]
    },
    {
     "name": "stdout",
     "output_type": "stream",
     "text": [
      "Train {'loss': 0.23957866315658277, 'exp_dice': 0.6088634685541575, 'accuracy': 0.974883692081158, 'recall': 0.6532772014633967}\n"
     ]
    },
    {
     "name": "stderr",
     "output_type": "stream",
     "text": [
      "\n",
      "100%|███████████████████████████████████████████████| 65/65 [00:03<00:00, 17.93it/s]"
     ]
    },
    {
     "name": "stdout",
     "output_type": "stream",
     "text": [
      "Test {'loss': 0.441429380270151, 'exp_dice': 0.5766899835604887, 'accuracy': 0.9751306533813476, 'recall': 0.6307431046779339}\n"
     ]
    },
    {
     "name": "stderr",
     "output_type": "stream",
     "text": [
      "\n",
      "100%|█████████████████████████████████████████████| 260/260 [00:35<00:00,  7.31it/s]"
     ]
    },
    {
     "name": "stdout",
     "output_type": "stream",
     "text": [
      "Train {'loss': 0.23900325837043615, 'exp_dice': 0.6108379378484992, 'accuracy': 0.9744878713901226, 'recall': 0.6591073441963929}\n"
     ]
    },
    {
     "name": "stderr",
     "output_type": "stream",
     "text": [
      "\n",
      "100%|███████████████████████████████████████████████| 65/65 [00:03<00:00, 17.80it/s]"
     ]
    },
    {
     "name": "stdout",
     "output_type": "stream",
     "text": [
      "Test {'loss': 0.440947111753317, 'exp_dice': 0.5771674018639784, 'accuracy': 0.9767049275911771, 'recall': 0.6163083204856286}\n"
     ]
    },
    {
     "name": "stderr",
     "output_type": "stream",
     "text": [
      "\n",
      "100%|█████████████████████████████████████████████| 260/260 [00:35<00:00,  7.31it/s]"
     ]
    },
    {
     "name": "stdout",
     "output_type": "stream",
     "text": [
      "Train {'loss': 0.23832889766647267, 'exp_dice': 0.6115054142876313, 'accuracy': 0.9749301506922795, 'recall': 0.6531857524783565}\n"
     ]
    },
    {
     "name": "stderr",
     "output_type": "stream",
     "text": [
      "\n",
      "100%|███████████████████████████████████████████████| 65/65 [00:03<00:00, 17.97it/s]\n"
     ]
    },
    {
     "name": "stdout",
     "output_type": "stream",
     "text": [
      "Test {'loss': 0.4370698708754319, 'exp_dice': 0.5813888659844032, 'accuracy': 0.976131534576416, 'recall': 0.6190500795841217}\n"
     ]
    },
    {
     "name": "stderr",
     "output_type": "stream",
     "text": [
      "100%|█████████████████████████████████████████████| 260/260 [00:35<00:00,  7.32it/s]"
     ]
    },
    {
     "name": "stdout",
     "output_type": "stream",
     "text": [
      "Train {'loss': 0.2374696095975546, 'exp_dice': 0.6117665588282621, 'accuracy': 0.9749569195967455, 'recall': 0.6578918303434665}\n"
     ]
    },
    {
     "name": "stderr",
     "output_type": "stream",
     "text": [
      "\n",
      "100%|███████████████████████████████████████████████| 65/65 [00:03<00:00, 18.07it/s]"
     ]
    },
    {
     "name": "stdout",
     "output_type": "stream",
     "text": [
      "Test {'loss': 0.43130146998625535, 'exp_dice': 0.5882765847903032, 'accuracy': 0.9763752277080829, 'recall': 0.6447735268336076}\n"
     ]
    },
    {
     "name": "stderr",
     "output_type": "stream",
     "text": [
      "\n",
      "100%|█████████████████████████████████████████████| 260/260 [00:35<00:00,  7.32it/s]"
     ]
    },
    {
     "name": "stdout",
     "output_type": "stream",
     "text": [
      "Train {'loss': 0.23771789784614855, 'exp_dice': 0.6115981769304758, 'accuracy': 0.9749780930005587, 'recall': 0.6551533283809057}\n"
     ]
    },
    {
     "name": "stderr",
     "output_type": "stream",
     "text": [
      "\n",
      "100%|███████████████████████████████████████████████| 65/65 [00:03<00:00, 18.32it/s]"
     ]
    },
    {
     "name": "stdout",
     "output_type": "stream",
     "text": [
      "Test {'loss': 0.43249404705487765, 'exp_dice': 0.5876196774152609, 'accuracy': 0.9762860958392804, 'recall': 0.6426843684453231}\n"
     ]
    },
    {
     "name": "stderr",
     "output_type": "stream",
     "text": [
      "\n",
      "100%|█████████████████████████████████████████████| 260/260 [00:35<00:00,  7.31it/s]"
     ]
    },
    {
     "name": "stdout",
     "output_type": "stream",
     "text": [
      "Train {'loss': 0.23742338098012483, 'exp_dice': 0.6126566586299584, 'accuracy': 0.9749235409956712, 'recall': 0.6610309616877482}\n"
     ]
    },
    {
     "name": "stderr",
     "output_type": "stream",
     "text": [
      "\n",
      "100%|███████████████████████████████████████████████| 65/65 [00:03<00:00, 18.02it/s]"
     ]
    },
    {
     "name": "stdout",
     "output_type": "stream",
     "text": [
      "Test {'loss': 0.43800128056452825, 'exp_dice': 0.5785268554320702, 'accuracy': 0.9761558092557467, 'recall': 0.6065333829476283}\n"
     ]
    },
    {
     "name": "stderr",
     "output_type": "stream",
     "text": [
      "\n",
      "100%|█████████████████████████████████████████████| 260/260 [00:35<00:00,  7.32it/s]"
     ]
    },
    {
     "name": "stdout",
     "output_type": "stream",
     "text": [
      "Train {'loss': 0.23619988738344266, 'exp_dice': 0.6150974251903021, 'accuracy': 0.9747181323858408, 'recall': 0.6534916062767689}\n"
     ]
    },
    {
     "name": "stderr",
     "output_type": "stream",
     "text": [
      "\n",
      "100%|███████████████████████████████████████████████| 65/65 [00:03<00:00, 18.20it/s]"
     ]
    },
    {
     "name": "stdout",
     "output_type": "stream",
     "text": [
      "Test {'loss': 0.430058426123399, 'exp_dice': 0.588602149945039, 'accuracy': 0.976213000370906, 'recall': 0.637002387872109}\n"
     ]
    },
    {
     "name": "stderr",
     "output_type": "stream",
     "text": [
      "\n",
      "100%|█████████████████████████████████████████████| 260/260 [00:35<00:00,  7.31it/s]"
     ]
    },
    {
     "name": "stdout",
     "output_type": "stream",
     "text": [
      "Train {'loss': 0.23642865929466028, 'exp_dice': 0.6142566208369457, 'accuracy': 0.9747103672761184, 'recall': 0.6562055295189986}\n"
     ]
    },
    {
     "name": "stderr",
     "output_type": "stream",
     "text": [
      "\n",
      "100%|███████████████████████████████████████████████| 65/65 [00:03<00:00, 18.11it/s]"
     ]
    },
    {
     "name": "stdout",
     "output_type": "stream",
     "text": [
      "Test {'loss': 0.4303485421034006, 'exp_dice': 0.5880993214937357, 'accuracy': 0.974936111156757, 'recall': 0.6500500293878408}\n"
     ]
    },
    {
     "name": "stderr",
     "output_type": "stream",
     "text": [
      "\n",
      "100%|█████████████████████████████████████████████| 260/260 [00:36<00:00,  7.06it/s]"
     ]
    },
    {
     "name": "stdout",
     "output_type": "stream",
     "text": [
      "Train {'loss': 0.23742800572743783, 'exp_dice': 0.6116894375819426, 'accuracy': 0.9749183306327233, 'recall': 0.6610174513780154}\n"
     ]
    },
    {
     "name": "stderr",
     "output_type": "stream",
     "text": [
      "\n",
      "100%|███████████████████████████████████████████████| 65/65 [00:03<00:00, 16.94it/s]"
     ]
    },
    {
     "name": "stdout",
     "output_type": "stream",
     "text": [
      "Test {'loss': 0.4291935929885277, 'exp_dice': 0.590576584981038, 'accuracy': 0.9759828640864445, 'recall': 0.6518523046603569}\n"
     ]
    },
    {
     "name": "stderr",
     "output_type": "stream",
     "text": [
      "\n",
      "100%|█████████████████████████████████████████████| 260/260 [00:36<00:00,  7.08it/s]"
     ]
    },
    {
     "name": "stdout",
     "output_type": "stream",
     "text": [
      "Train {'loss': 0.23938592678079237, 'exp_dice': 0.6088212567453201, 'accuracy': 0.9749428712404691, 'recall': 0.6582679845965825}\n"
     ]
    },
    {
     "name": "stderr",
     "output_type": "stream",
     "text": [
      "\n",
      "100%|███████████████████████████████████████████████| 65/65 [00:03<00:00, 18.10it/s]"
     ]
    },
    {
     "name": "stdout",
     "output_type": "stream",
     "text": [
      "Test {'loss': 0.42635371134831357, 'exp_dice': 0.5908944363777454, 'accuracy': 0.9758893086360051, 'recall': 0.6280331973846142}\n"
     ]
    },
    {
     "name": "stderr",
     "output_type": "stream",
     "text": [
      "\n",
      "100%|█████████████████████████████████████████████| 260/260 [00:35<00:00,  7.28it/s]"
     ]
    },
    {
     "name": "stdout",
     "output_type": "stream",
     "text": [
      "Train {'loss': 0.2369049496948719, 'exp_dice': 0.6139932878315448, 'accuracy': 0.9750296152555026, 'recall': 0.6564953191922261}\n"
     ]
    },
    {
     "name": "stderr",
     "output_type": "stream",
     "text": [
      "\n",
      "100%|███████████████████████████████████████████████| 65/65 [00:03<00:00, 17.89it/s]"
     ]
    },
    {
     "name": "stdout",
     "output_type": "stream",
     "text": [
      "Test {'loss': 0.4331692888186528, 'exp_dice': 0.5838421184283037, 'accuracy': 0.9755202220036433, 'recall': 0.6310272831183213}\n"
     ]
    },
    {
     "name": "stderr",
     "output_type": "stream",
     "text": [
      "\n",
      "100%|█████████████████████████████████████████████| 260/260 [00:35<00:00,  7.28it/s]"
     ]
    },
    {
     "name": "stdout",
     "output_type": "stream",
     "text": [
      "Train {'loss': 0.2372582655113477, 'exp_dice': 0.6127235300265825, 'accuracy': 0.9749571139995868, 'recall': 0.6569490785782154}\n"
     ]
    },
    {
     "name": "stderr",
     "output_type": "stream",
     "text": [
      "\n",
      "100%|███████████████████████████████████████████████| 65/65 [00:03<00:00, 17.84it/s]"
     ]
    },
    {
     "name": "stdout",
     "output_type": "stream",
     "text": [
      "Test {'loss': 0.4414045608960665, 'exp_dice': 0.5765631794929504, 'accuracy': 0.9756140415485088, 'recall': 0.6500906760875995}\n"
     ]
    },
    {
     "name": "stderr",
     "output_type": "stream",
     "text": [
      "\n",
      "100%|█████████████████████████████████████████████| 260/260 [00:35<00:00,  7.24it/s]"
     ]
    },
    {
     "name": "stdout",
     "output_type": "stream",
     "text": [
      "Train {'loss': 0.23564856252991237, 'exp_dice': 0.6155703425980531, 'accuracy': 0.9751453179579515, 'recall': 0.6555192484305455}\n"
     ]
    },
    {
     "name": "stderr",
     "output_type": "stream",
     "text": [
      "\n",
      "100%|███████████████████████████████████████████████| 65/65 [00:03<00:00, 17.83it/s]\n"
     ]
    },
    {
     "name": "stdout",
     "output_type": "stream",
     "text": [
      "Test {'loss': 0.4353559484848609, 'exp_dice': 0.5817492549236004, 'accuracy': 0.9760224268986628, 'recall': 0.6520696195272299}\n"
     ]
    },
    {
     "name": "stderr",
     "output_type": "stream",
     "text": [
      "100%|█████████████████████████████████████████████| 260/260 [00:35<00:00,  7.31it/s]"
     ]
    },
    {
     "name": "stdout",
     "output_type": "stream",
     "text": [
      "Train {'loss': 0.2360252250272494, 'exp_dice': 0.6153697568063553, 'accuracy': 0.9749883303275475, 'recall': 0.6583210306671949}\n"
     ]
    },
    {
     "name": "stderr",
     "output_type": "stream",
     "text": [
      "\n",
      "100%|███████████████████████████████████████████████| 65/65 [00:03<00:00, 17.97it/s]"
     ]
    },
    {
     "name": "stdout",
     "output_type": "stream",
     "text": [
      "Test {'loss': 0.4406875234383803, 'exp_dice': 0.5789307543864617, 'accuracy': 0.975812266423152, 'recall': 0.6499791296628805}\n"
     ]
    },
    {
     "name": "stderr",
     "output_type": "stream",
     "text": [
      "\n",
      "100%|█████████████████████████████████████████████| 260/260 [00:35<00:00,  7.30it/s]"
     ]
    },
    {
     "name": "stdout",
     "output_type": "stream",
     "text": [
      "Train {'loss': 0.23895870705063527, 'exp_dice': 0.6094408773673842, 'accuracy': 0.9749849961354182, 'recall': 0.6590084672260743}\n"
     ]
    },
    {
     "name": "stderr",
     "output_type": "stream",
     "text": [
      "\n",
      "100%|███████████████████████████████████████████████| 65/65 [00:03<00:00, 17.79it/s]\n"
     ]
    },
    {
     "name": "stdout",
     "output_type": "stream",
     "text": [
      "Test {'loss': 0.43684688623134904, 'exp_dice': 0.5819432430542433, 'accuracy': 0.9755726887629582, 'recall': 0.6362715161763705}\n"
     ]
    },
    {
     "name": "stderr",
     "output_type": "stream",
     "text": [
      "100%|█████████████████████████████████████████████| 260/260 [00:35<00:00,  7.29it/s]"
     ]
    },
    {
     "name": "stdout",
     "output_type": "stream",
     "text": [
      "Train {'loss': 0.23387811499146316, 'exp_dice': 0.6178727472057709, 'accuracy': 0.9752661319879385, 'recall': 0.6605186519714502}\n"
     ]
    },
    {
     "name": "stderr",
     "output_type": "stream",
     "text": [
      "\n",
      "100%|███████████████████████████████████████████████| 65/65 [00:03<00:00, 18.22it/s]"
     ]
    },
    {
     "name": "stdout",
     "output_type": "stream",
     "text": [
      "Test {'loss': 0.4449106583228478, 'exp_dice': 0.5718365923716472, 'accuracy': 0.9764658047602727, 'recall': 0.6312968318278973}\n"
     ]
    },
    {
     "name": "stderr",
     "output_type": "stream",
     "text": [
      "\n",
      "100%|█████████████████████████████████████████████| 260/260 [00:35<00:00,  7.30it/s]"
     ]
    },
    {
     "name": "stdout",
     "output_type": "stream",
     "text": [
      "Train {'loss': 0.23713440333421415, 'exp_dice': 0.6133681328250812, 'accuracy': 0.974777469268212, 'recall': 0.6652450821720637}\n"
     ]
    },
    {
     "name": "stderr",
     "output_type": "stream",
     "text": [
      "\n",
      "100%|███████████████████████████████████████████████| 65/65 [00:03<00:00, 18.33it/s]"
     ]
    },
    {
     "name": "stdout",
     "output_type": "stream",
     "text": [
      "Test {'loss': 0.4394846310982337, 'exp_dice': 0.5784798819285173, 'accuracy': 0.9762049674987793, 'recall': 0.6304426234502059}\n"
     ]
    },
    {
     "name": "stderr",
     "output_type": "stream",
     "text": [
      "\n",
      "100%|█████████████████████████████████████████████| 260/260 [00:35<00:00,  7.30it/s]"
     ]
    },
    {
     "name": "stdout",
     "output_type": "stream",
     "text": [
      "Train {'loss': 0.23672841867575278, 'exp_dice': 0.6130323875408906, 'accuracy': 0.9752368101706872, 'recall': 0.6590491959681878}\n"
     ]
    },
    {
     "name": "stderr",
     "output_type": "stream",
     "text": [
      "\n",
      "100%|███████████████████████████████████████████████| 65/65 [00:03<00:00, 17.98it/s]"
     ]
    },
    {
     "name": "stdout",
     "output_type": "stream",
     "text": [
      "Test {'loss': 0.4414717252437885, 'exp_dice': 0.5761027723550797, 'accuracy': 0.9758134695199819, 'recall': 0.6500987525169666}\n"
     ]
    },
    {
     "name": "stderr",
     "output_type": "stream",
     "text": [
      "\n",
      "100%|█████████████████████████████████████████████| 260/260 [00:35<00:00,  7.30it/s]"
     ]
    },
    {
     "name": "stdout",
     "output_type": "stream",
     "text": [
      "Train {'loss': 0.23598201727637877, 'exp_dice': 0.614471611337593, 'accuracy': 0.9751078660671527, 'recall': 0.658875186741352}\n"
     ]
    },
    {
     "name": "stderr",
     "output_type": "stream",
     "text": [
      "\n",
      "100%|███████████████████████████████████████████████| 65/65 [00:03<00:00, 17.98it/s]"
     ]
    },
    {
     "name": "stdout",
     "output_type": "stream",
     "text": [
      "Test {'loss': 0.4378294825553894, 'exp_dice': 0.5796046275358934, 'accuracy': 0.9758452562185435, 'recall': 0.629306718477836}\n"
     ]
    },
    {
     "name": "stderr",
     "output_type": "stream",
     "text": [
      "\n",
      "100%|█████████████████████████████████████████████| 260/260 [00:35<00:00,  7.30it/s]"
     ]
    },
    {
     "name": "stdout",
     "output_type": "stream",
     "text": [
      "Train {'loss': 0.2336326339497016, 'exp_dice': 0.6188336410774634, 'accuracy': 0.9751984046055721, 'recall': 0.6644669420444048}\n"
     ]
    },
    {
     "name": "stderr",
     "output_type": "stream",
     "text": [
      "\n",
      "100%|███████████████████████████████████████████████| 65/65 [00:03<00:00, 18.32it/s]"
     ]
    },
    {
     "name": "stdout",
     "output_type": "stream",
     "text": [
      "Test {'loss': 0.4423005406673138, 'exp_dice': 0.5753056622468509, 'accuracy': 0.977600281055157, 'recall': 0.6006693578683413}\n"
     ]
    },
    {
     "name": "stderr",
     "output_type": "stream",
     "text": [
      "\n",
      "100%|█████████████████████████████████████████████| 260/260 [00:35<00:00,  7.29it/s]"
     ]
    },
    {
     "name": "stdout",
     "output_type": "stream",
     "text": [
      "Train {'loss': 0.23705504937813832, 'exp_dice': 0.6131828693243173, 'accuracy': 0.9749559971002432, 'recall': 0.654510667346991}\n"
     ]
    },
    {
     "name": "stderr",
     "output_type": "stream",
     "text": [
      "\n",
      "100%|███████████████████████████████████████████████| 65/65 [00:03<00:00, 18.20it/s]"
     ]
    },
    {
     "name": "stdout",
     "output_type": "stream",
     "text": [
      "Test {'loss': 0.42302485796121453, 'exp_dice': 0.5935454070568085, 'accuracy': 0.9756934899550218, 'recall': 0.6315238819672511}\n"
     ]
    },
    {
     "name": "stderr",
     "output_type": "stream",
     "text": [
      "\n",
      "100%|█████████████████████████████████████████████| 260/260 [00:35<00:00,  7.30it/s]"
     ]
    },
    {
     "name": "stdout",
     "output_type": "stream",
     "text": [
      "Train {'loss': 0.23665330536090412, 'exp_dice': 0.6145891102460714, 'accuracy': 0.9746845538799579, 'recall': 0.6609872124516047}\n"
     ]
    },
    {
     "name": "stderr",
     "output_type": "stream",
     "text": [
      "\n",
      "100%|███████████████████████████████████████████████| 65/65 [00:03<00:00, 18.09it/s]"
     ]
    },
    {
     "name": "stdout",
     "output_type": "stream",
     "text": [
      "Test {'loss': 0.4469464522141677, 'exp_dice': 0.5693382723973348, 'accuracy': 0.9775109070997972, 'recall': 0.6003287766988461}\n"
     ]
    },
    {
     "name": "stderr",
     "output_type": "stream",
     "text": [
      "\n",
      "100%|█████████████████████████████████████████████| 260/260 [00:35<00:00,  7.30it/s]"
     ]
    },
    {
     "name": "stdout",
     "output_type": "stream",
     "text": [
      "Train {'loss': 0.23535436558035705, 'exp_dice': 0.6160661382170823, 'accuracy': 0.9750326303335336, 'recall': 0.6575484370956054}\n"
     ]
    },
    {
     "name": "stderr",
     "output_type": "stream",
     "text": [
      "\n",
      "100%|███████████████████████████████████████████████| 65/65 [00:03<00:00, 18.17it/s]\n"
     ]
    },
    {
     "name": "stdout",
     "output_type": "stream",
     "text": [
      "Test {'loss': 0.4394110743816082, 'exp_dice': 0.5780229881405831, 'accuracy': 0.9751790266770582, 'recall': 0.6420054362370418}\n"
     ]
    },
    {
     "name": "stderr",
     "output_type": "stream",
     "text": [
      "100%|█████████████████████████████████████████████| 260/260 [00:35<00:00,  7.31it/s]"
     ]
    },
    {
     "name": "stdout",
     "output_type": "stream",
     "text": [
      "Train {'loss': 0.23640547532301684, 'exp_dice': 0.6138199212459418, 'accuracy': 0.9750337839126587, 'recall': 0.6569859298375936}\n"
     ]
    },
    {
     "name": "stderr",
     "output_type": "stream",
     "text": [
      "\n",
      "100%|███████████████████████████████████████████████| 65/65 [00:03<00:00, 18.33it/s]"
     ]
    },
    {
     "name": "stdout",
     "output_type": "stream",
     "text": [
      "Test {'loss': 0.44280646580916183, 'exp_dice': 0.5764602310382403, 'accuracy': 0.976109790802002, 'recall': 0.6381414395112258}\n"
     ]
    },
    {
     "name": "stderr",
     "output_type": "stream",
     "text": [
      "\n",
      "100%|█████████████████████████████████████████████| 260/260 [00:35<00:00,  7.30it/s]"
     ]
    },
    {
     "name": "stdout",
     "output_type": "stream",
     "text": [
      "Train {'loss': 0.23351802206956424, 'exp_dice': 0.6187945353297087, 'accuracy': 0.9751298317542443, 'recall': 0.6610140097829011}\n"
     ]
    },
    {
     "name": "stderr",
     "output_type": "stream",
     "text": [
      "\n",
      "100%|███████████████████████████████████████████████| 65/65 [00:03<00:00, 18.13it/s]"
     ]
    },
    {
     "name": "stdout",
     "output_type": "stream",
     "text": [
      "Test {'loss': 0.4323175228559054, 'exp_dice': 0.587175190448761, 'accuracy': 0.9756314937884991, 'recall': 0.6445681764529302}\n"
     ]
    },
    {
     "name": "stderr",
     "output_type": "stream",
     "text": [
      "\n",
      "100%|█████████████████████████████████████████████| 260/260 [00:35<00:00,  7.29it/s]"
     ]
    },
    {
     "name": "stdout",
     "output_type": "stream",
     "text": [
      "Train {'loss': 0.23554355330192125, 'exp_dice': 0.6156893223524094, 'accuracy': 0.9749714429561909, 'recall': 0.6642288637849001}\n"
     ]
    },
    {
     "name": "stderr",
     "output_type": "stream",
     "text": [
      "\n",
      "100%|███████████████████████████████████████████████| 65/65 [00:03<00:00, 18.27it/s]"
     ]
    },
    {
     "name": "stdout",
     "output_type": "stream",
     "text": [
      "Test {'loss': 0.43126377509190483, 'exp_dice': 0.5865983096452859, 'accuracy': 0.9751494847811185, 'recall': 0.6536209473243126}\n"
     ]
    },
    {
     "name": "stderr",
     "output_type": "stream",
     "text": [
      "\n",
      "100%|█████████████████████████████████████████████| 260/260 [00:35<00:00,  7.30it/s]"
     ]
    },
    {
     "name": "stdout",
     "output_type": "stream",
     "text": [
      "Train {'loss': 0.23889459612277839, 'exp_dice': 0.6103282000582951, 'accuracy': 0.9746692400712234, 'recall': 0.6645084034938079}\n"
     ]
    },
    {
     "name": "stderr",
     "output_type": "stream",
     "text": [
      "\n",
      "100%|███████████████████████████████████████████████| 65/65 [00:03<00:00, 18.09it/s]"
     ]
    },
    {
     "name": "stdout",
     "output_type": "stream",
     "text": [
      "Test {'loss': 0.4418192515006432, 'exp_dice': 0.5768753991677211, 'accuracy': 0.9757797167851374, 'recall': 0.647804208443715}\n"
     ]
    },
    {
     "name": "stderr",
     "output_type": "stream",
     "text": [
      "\n",
      "100%|█████████████████████████████████████████████| 260/260 [00:35<00:00,  7.31it/s]"
     ]
    },
    {
     "name": "stdout",
     "output_type": "stream",
     "text": [
      "Train {'loss': 0.23653152774159725, 'exp_dice': 0.6144461534917355, 'accuracy': 0.974924426812392, 'recall': 0.6557541729165958}\n"
     ]
    },
    {
     "name": "stderr",
     "output_type": "stream",
     "text": [
      "\n",
      "100%|███████████████████████████████████████████████| 65/65 [00:03<00:00, 18.03it/s]"
     ]
    },
    {
     "name": "stdout",
     "output_type": "stream",
     "text": [
      "Test {'loss': 0.4369608558141268, 'exp_dice': 0.5805624340589229, 'accuracy': 0.9760402972881611, 'recall': 0.6270844675027407}\n"
     ]
    },
    {
     "name": "stderr",
     "output_type": "stream",
     "text": [
      "\n",
      "100%|█████████████████████████████████████████████| 260/260 [00:35<00:00,  7.30it/s]"
     ]
    },
    {
     "name": "stdout",
     "output_type": "stream",
     "text": [
      "Train {'loss': 0.2353291016072035, 'exp_dice': 0.6168094331255326, 'accuracy': 0.9746932029724121, 'recall': 0.6597172528505325}\n"
     ]
    },
    {
     "name": "stderr",
     "output_type": "stream",
     "text": [
      "\n",
      "100%|███████████████████████████████████████████████| 65/65 [00:03<00:00, 18.21it/s]"
     ]
    },
    {
     "name": "stdout",
     "output_type": "stream",
     "text": [
      "Test {'loss': 0.42423564929228563, 'exp_dice': 0.5947857107107456, 'accuracy': 0.9755092474130483, 'recall': 0.6613801268430857}\n"
     ]
    },
    {
     "name": "stderr",
     "output_type": "stream",
     "text": [
      "\n",
      "100%|█████████████████████████████████████████████| 260/260 [00:35<00:00,  7.29it/s]"
     ]
    },
    {
     "name": "stdout",
     "output_type": "stream",
     "text": [
      "Train {'loss': 0.23597169446830565, 'exp_dice': 0.6144541395971408, 'accuracy': 0.9751581907272339, 'recall': 0.6620679832421816}\n"
     ]
    },
    {
     "name": "stderr",
     "output_type": "stream",
     "text": [
      "\n",
      "100%|███████████████████████████████████████████████| 65/65 [00:03<00:00, 18.11it/s]"
     ]
    },
    {
     "name": "stdout",
     "output_type": "stream",
     "text": [
      "Test {'loss': 0.4445761442184448, 'exp_dice': 0.5718796393046013, 'accuracy': 0.9765564991877629, 'recall': 0.6195368455006526}\n"
     ]
    },
    {
     "name": "stderr",
     "output_type": "stream",
     "text": [
      "\n",
      "100%|█████████████████████████████████████████████| 260/260 [00:35<00:00,  7.31it/s]"
     ]
    },
    {
     "name": "stdout",
     "output_type": "stream",
     "text": [
      "Train {'loss': 0.23641357622467554, 'exp_dice': 0.6132019823560348, 'accuracy': 0.9753140394504254, 'recall': 0.6572336718440056}\n"
     ]
    },
    {
     "name": "stderr",
     "output_type": "stream",
     "text": [
      "\n",
      "100%|███████████████████████████████████████████████| 65/65 [00:03<00:00, 18.26it/s]"
     ]
    },
    {
     "name": "stdout",
     "output_type": "stream",
     "text": [
      "Test {'loss': 0.4320713034042945, 'exp_dice': 0.5847397176118997, 'accuracy': 0.9751969264103816, 'recall': 0.6342582257894369}\n"
     ]
    },
    {
     "name": "stderr",
     "output_type": "stream",
     "text": [
      "\n",
      "100%|█████████████████████████████████████████████| 260/260 [00:35<00:00,  7.31it/s]"
     ]
    },
    {
     "name": "stdout",
     "output_type": "stream",
     "text": [
      "Train {'loss': 0.2349728829585589, 'exp_dice': 0.6166746750473976, 'accuracy': 0.974991589326125, 'recall': 0.6585056218963403}\n"
     ]
    },
    {
     "name": "stderr",
     "output_type": "stream",
     "text": [
      "\n",
      "100%|███████████████████████████████████████████████| 65/65 [00:03<00:00, 17.90it/s]"
     ]
    },
    {
     "name": "stdout",
     "output_type": "stream",
     "text": [
      "Test {'loss': 0.4340070100931021, 'exp_dice': 0.5827391509826366, 'accuracy': 0.9763946973360502, 'recall': 0.6461712777614593}\n"
     ]
    },
    {
     "name": "stderr",
     "output_type": "stream",
     "text": [
      "\n",
      "100%|█████████████████████████████████████████████| 260/260 [00:35<00:00,  7.30it/s]"
     ]
    },
    {
     "name": "stdout",
     "output_type": "stream",
     "text": [
      "Train {'loss': 0.2344344606766334, 'exp_dice': 0.6178561911273461, 'accuracy': 0.9750423724834736, 'recall': 0.6626148941425177}\n"
     ]
    },
    {
     "name": "stderr",
     "output_type": "stream",
     "text": [
      "\n",
      "100%|███████████████████████████████████████████████| 65/65 [00:03<00:00, 17.95it/s]\n"
     ]
    },
    {
     "name": "stdout",
     "output_type": "stream",
     "text": [
      "Test {'loss': 0.4373719151203449, 'exp_dice': 0.5791660148363847, 'accuracy': 0.9754276715792143, 'recall': 0.6099623203277588}\n"
     ]
    },
    {
     "name": "stderr",
     "output_type": "stream",
     "text": [
      "100%|█████████████████████████████████████████████| 260/260 [00:35<00:00,  7.31it/s]"
     ]
    },
    {
     "name": "stdout",
     "output_type": "stream",
     "text": [
      "Train {'loss': 0.2338052995502949, 'exp_dice': 0.6184692490559358, 'accuracy': 0.9752471612049983, 'recall': 0.6614348207528774}\n"
     ]
    },
    {
     "name": "stderr",
     "output_type": "stream",
     "text": [
      "\n",
      "100%|███████████████████████████████████████████████| 65/65 [00:03<00:00, 18.12it/s]"
     ]
    },
    {
     "name": "stdout",
     "output_type": "stream",
     "text": [
      "Test {'loss': 0.44158164812968326, 'exp_dice': 0.5773558359879714, 'accuracy': 0.9764441270094651, 'recall': 0.6227867910495171}\n"
     ]
    },
    {
     "name": "stderr",
     "output_type": "stream",
     "text": [
      "\n",
      "100%|█████████████████████████████████████████████| 260/260 [00:35<00:00,  7.31it/s]"
     ]
    },
    {
     "name": "stdout",
     "output_type": "stream",
     "text": [
      "Train {'loss': 0.2342487663603746, 'exp_dice': 0.617700248842056, 'accuracy': 0.9751433849334716, 'recall': 0.6630198925733566}\n"
     ]
    },
    {
     "name": "stderr",
     "output_type": "stream",
     "text": [
      "\n",
      "100%|███████████████████████████████████████████████| 65/65 [00:03<00:00, 18.24it/s]"
     ]
    },
    {
     "name": "stdout",
     "output_type": "stream",
     "text": [
      "Test {'loss': 0.43737307786941526, 'exp_dice': 0.58004330098629, 'accuracy': 0.9754972384526179, 'recall': 0.6347120573887458}\n"
     ]
    },
    {
     "name": "stderr",
     "output_type": "stream",
     "text": [
      "\n",
      "100%|█████████████████████████████████████████████| 260/260 [00:35<00:00,  7.30it/s]"
     ]
    },
    {
     "name": "stdout",
     "output_type": "stream",
     "text": [
      "Train {'loss': 0.23639197647571564, 'exp_dice': 0.6140026326936024, 'accuracy': 0.9749061236014733, 'recall': 0.660267365208039}\n"
     ]
    },
    {
     "name": "stderr",
     "output_type": "stream",
     "text": [
      "\n",
      "100%|███████████████████████████████████████████████| 65/65 [00:03<00:00, 18.04it/s]"
     ]
    },
    {
     "name": "stdout",
     "output_type": "stream",
     "text": [
      "Test {'loss': 0.45749873839891875, 'exp_dice': 0.5581433461262629, 'accuracy': 0.9766149007357083, 'recall': 0.5920491821490801}\n"
     ]
    },
    {
     "name": "stderr",
     "output_type": "stream",
     "text": [
      "\n",
      "100%|█████████████████████████████████████████████| 260/260 [00:35<00:00,  7.30it/s]"
     ]
    },
    {
     "name": "stdout",
     "output_type": "stream",
     "text": [
      "Train {'loss': 0.23635920383609257, 'exp_dice': 0.6152921898433795, 'accuracy': 0.9748049149146447, 'recall': 0.6527911860209245}\n"
     ]
    },
    {
     "name": "stderr",
     "output_type": "stream",
     "text": [
      "\n",
      "100%|███████████████████████████████████████████████| 65/65 [00:03<00:00, 18.24it/s]"
     ]
    },
    {
     "name": "stdout",
     "output_type": "stream",
     "text": [
      "Test {'loss': 0.4407500872245202, 'exp_dice': 0.5773657642878018, 'accuracy': 0.9756594877976638, 'recall': 0.6272075616396391}\n"
     ]
    },
    {
     "name": "stderr",
     "output_type": "stream",
     "text": [
      "\n",
      "100%|█████████████████████████████████████████████| 260/260 [00:35<00:00,  7.31it/s]"
     ]
    },
    {
     "name": "stdout",
     "output_type": "stream",
     "text": [
      "Train {'loss': 0.23458860516548158, 'exp_dice': 0.6174302792319885, 'accuracy': 0.9749307339008038, 'recall': 0.6563529383677703}\n"
     ]
    },
    {
     "name": "stderr",
     "output_type": "stream",
     "text": [
      "\n",
      "100%|███████████████████████████████████████████████| 65/65 [00:03<00:00, 18.09it/s]"
     ]
    },
    {
     "name": "stdout",
     "output_type": "stream",
     "text": [
      "Test {'loss': 0.4447874307632446, 'exp_dice': 0.5731179615625969, 'accuracy': 0.9757740827707144, 'recall': 0.6680426574670352}\n"
     ]
    },
    {
     "name": "stderr",
     "output_type": "stream",
     "text": [
      "\n",
      "100%|█████████████████████████████████████████████| 260/260 [00:35<00:00,  7.31it/s]"
     ]
    },
    {
     "name": "stdout",
     "output_type": "stream",
     "text": [
      "Train {'loss': 0.23424764453218533, 'exp_dice': 0.6187241827352689, 'accuracy': 0.9746016704119169, 'recall': 0.6640907887942515}\n"
     ]
    },
    {
     "name": "stderr",
     "output_type": "stream",
     "text": [
      "\n",
      "100%|███████████████████████████████████████████████| 65/65 [00:03<00:00, 17.96it/s]"
     ]
    },
    {
     "name": "stdout",
     "output_type": "stream",
     "text": [
      "Test {'loss': 0.4409466138252845, 'exp_dice': 0.5757194986710181, 'accuracy': 0.9754450724675106, 'recall': 0.6381988043968494}\n"
     ]
    },
    {
     "name": "stderr",
     "output_type": "stream",
     "text": [
      "\n",
      "100%|█████████████████████████████████████████████| 260/260 [00:35<00:00,  7.30it/s]"
     ]
    },
    {
     "name": "stdout",
     "output_type": "stream",
     "text": [
      "Train {'loss': 0.23264798590770133, 'exp_dice': 0.620450958609581, 'accuracy': 0.9751443165999193, 'recall': 0.6680013733414504}\n"
     ]
    },
    {
     "name": "stderr",
     "output_type": "stream",
     "text": [
      "\n",
      "100%|███████████████████████████████████████████████| 65/65 [00:03<00:00, 18.11it/s]"
     ]
    },
    {
     "name": "stdout",
     "output_type": "stream",
     "text": [
      "Test {'loss': 0.4380112840579106, 'exp_dice': 0.5789265100772564, 'accuracy': 0.9763770250173716, 'recall': 0.6221354003135975}\n"
     ]
    },
    {
     "name": "stderr",
     "output_type": "stream",
     "text": [
      "\n",
      "100%|█████████████████████████████████████████████| 260/260 [00:35<00:00,  7.31it/s]"
     ]
    },
    {
     "name": "stdout",
     "output_type": "stream",
     "text": [
      "Train {'loss': 0.23377744372074422, 'exp_dice': 0.6182605493097351, 'accuracy': 0.9749269026976365, 'recall': 0.6599299011322168}\n"
     ]
    },
    {
     "name": "stderr",
     "output_type": "stream",
     "text": [
      "\n",
      "100%|███████████████████████████████████████████████| 65/65 [00:03<00:00, 18.13it/s]"
     ]
    },
    {
     "name": "stdout",
     "output_type": "stream",
     "text": [
      "Test {'loss': 0.4349344858756432, 'exp_dice': 0.5829153271821829, 'accuracy': 0.9755688520578237, 'recall': 0.6369906416306129}\n"
     ]
    },
    {
     "name": "stderr",
     "output_type": "stream",
     "text": [
      "\n",
      "100%|█████████████████████████████████████████████| 260/260 [00:36<00:00,  7.12it/s]"
     ]
    },
    {
     "name": "stdout",
     "output_type": "stream",
     "text": [
      "Train {'loss': 0.23474871579271098, 'exp_dice': 0.6172967929106492, 'accuracy': 0.9749339708915123, 'recall': 0.6626693504361006}\n"
     ]
    },
    {
     "name": "stderr",
     "output_type": "stream",
     "text": [
      "\n",
      "100%|███████████████████████████████████████████████| 65/65 [00:03<00:00, 17.25it/s]"
     ]
    },
    {
     "name": "stdout",
     "output_type": "stream",
     "text": [
      "Test {'loss': 0.432032914345081, 'exp_dice': 0.5839359375146719, 'accuracy': 0.9759374471811147, 'recall': 0.6349467236262102}\n"
     ]
    },
    {
     "name": "stderr",
     "output_type": "stream",
     "text": [
      "\n",
      "100%|█████████████████████████████████████████████| 260/260 [00:35<00:00,  7.28it/s]"
     ]
    },
    {
     "name": "stdout",
     "output_type": "stream",
     "text": [
      "Train {'loss': 0.23443860199588995, 'exp_dice': 0.6161345409086117, 'accuracy': 0.9754242126758282, 'recall': 0.6629181920335843}\n"
     ]
    },
    {
     "name": "stderr",
     "output_type": "stream",
     "text": [
      "\n",
      "100%|███████████████████████████████████████████████| 65/65 [00:03<00:00, 18.03it/s]\n"
     ]
    },
    {
     "name": "stdout",
     "output_type": "stream",
     "text": [
      "Test {'loss': 0.436081312252925, 'exp_dice': 0.5814676658465312, 'accuracy': 0.9762218915499173, 'recall': 0.6228408166995415}\n"
     ]
    },
    {
     "name": "stderr",
     "output_type": "stream",
     "text": [
      "100%|█████████████████████████████████████████████| 260/260 [00:35<00:00,  7.31it/s]"
     ]
    },
    {
     "name": "stdout",
     "output_type": "stream",
     "text": [
      "Train {'loss': 0.2349490854029472, 'exp_dice': 0.6171272918581963, 'accuracy': 0.9749329530275785, 'recall': 0.6636726083090672}\n"
     ]
    },
    {
     "name": "stderr",
     "output_type": "stream",
     "text": [
      "\n",
      "100%|███████████████████████████████████████████████| 65/65 [00:03<00:00, 18.30it/s]"
     ]
    },
    {
     "name": "stdout",
     "output_type": "stream",
     "text": [
      "Test {'loss': 0.4394231622035687, 'exp_dice': 0.5769006217901523, 'accuracy': 0.9757257388188288, 'recall': 0.6249594748020172}\n"
     ]
    },
    {
     "name": "stderr",
     "output_type": "stream",
     "text": [
      "\n",
      "100%|█████████████████████████████████████████████| 260/260 [00:35<00:00,  7.31it/s]"
     ]
    },
    {
     "name": "stdout",
     "output_type": "stream",
     "text": [
      "Train {'loss': 0.23329009648699026, 'exp_dice': 0.6195557479101877, 'accuracy': 0.9749617338180542, 'recall': 0.6635029915433663}\n"
     ]
    },
    {
     "name": "stderr",
     "output_type": "stream",
     "text": [
      "\n",
      "100%|███████████████████████████████████████████████| 65/65 [00:03<00:00, 18.02it/s]"
     ]
    },
    {
     "name": "stdout",
     "output_type": "stream",
     "text": [
      "Test {'loss': 0.44312949547400843, 'exp_dice': 0.5744090487177556, 'accuracy': 0.9758913040161132, 'recall': 0.6190339895395133}\n"
     ]
    },
    {
     "name": "stderr",
     "output_type": "stream",
     "text": [
      "\n",
      "100%|█████████████████████████████████████████████| 260/260 [00:35<00:00,  7.30it/s]"
     ]
    },
    {
     "name": "stdout",
     "output_type": "stream",
     "text": [
      "Train {'loss': 0.2345769818012531, 'exp_dice': 0.6178292245819018, 'accuracy': 0.9747409985615657, 'recall': 0.6650789123315077}\n"
     ]
    },
    {
     "name": "stderr",
     "output_type": "stream",
     "text": [
      "\n",
      "100%|███████████████████████████████████████████████| 65/65 [00:03<00:00, 17.85it/s]"
     ]
    },
    {
     "name": "stdout",
     "output_type": "stream",
     "text": [
      "Test {'loss': 0.42436949564860416, 'exp_dice': 0.5927528876524705, 'accuracy': 0.9757000409639799, 'recall': 0.6410442714507764}\n"
     ]
    },
    {
     "name": "stderr",
     "output_type": "stream",
     "text": [
      "\n",
      "100%|█████████████████████████████████████████████| 260/260 [00:35<00:00,  7.30it/s]"
     ]
    },
    {
     "name": "stdout",
     "output_type": "stream",
     "text": [
      "Train {'loss': 0.23526060380614722, 'exp_dice': 0.6167597888324123, 'accuracy': 0.97457243846013, 'recall': 0.6645870921703485}\n"
     ]
    },
    {
     "name": "stderr",
     "output_type": "stream",
     "text": [
      "\n",
      "100%|███████████████████████████████████████████████| 65/65 [00:03<00:00, 18.14it/s]"
     ]
    },
    {
     "name": "stdout",
     "output_type": "stream",
     "text": [
      "Test {'loss': 0.4336185418642484, 'exp_dice': 0.5830096557019995, 'accuracy': 0.9762628848736102, 'recall': 0.6088135122679748}\n"
     ]
    },
    {
     "name": "stderr",
     "output_type": "stream",
     "text": [
      "\n",
      "100%|█████████████████████████████████████████████| 260/260 [00:35<00:00,  7.30it/s]"
     ]
    },
    {
     "name": "stdout",
     "output_type": "stream",
     "text": [
      "Train {'loss': 0.23217836876328174, 'exp_dice': 0.6206085424870252, 'accuracy': 0.9754464846390944, 'recall': 0.6561041156832988}\n"
     ]
    },
    {
     "name": "stderr",
     "output_type": "stream",
     "text": [
      "\n",
      "100%|███████████████████████████████████████████████| 65/65 [00:03<00:00, 17.97it/s]"
     ]
    },
    {
     "name": "stdout",
     "output_type": "stream",
     "text": [
      "Test {'loss': 0.44363323083290684, 'exp_dice': 0.5726021606188554, 'accuracy': 0.9760303277235765, 'recall': 0.5967861294746399}\n"
     ]
    },
    {
     "name": "stderr",
     "output_type": "stream",
     "text": [
      "\n",
      "100%|█████████████████████████████████████████████| 260/260 [00:35<00:00,  7.30it/s]"
     ]
    },
    {
     "name": "stdout",
     "output_type": "stream",
     "text": [
      "Train {'loss': 0.2356221559529121, 'exp_dice': 0.6147700124348585, 'accuracy': 0.9751455196967491, 'recall': 0.6564870542918261}\n"
     ]
    },
    {
     "name": "stderr",
     "output_type": "stream",
     "text": [
      "\n",
      "100%|███████████████████████████████████████████████| 65/65 [00:03<00:00, 18.07it/s]"
     ]
    },
    {
     "name": "stdout",
     "output_type": "stream",
     "text": [
      "Test {'loss': 0.437872695005857, 'exp_dice': 0.5802216291427612, 'accuracy': 0.9754981114314153, 'recall': 0.6249821250255291}\n"
     ]
    },
    {
     "name": "stderr",
     "output_type": "stream",
     "text": [
      "\n",
      "100%|█████████████████████████████████████████████| 260/260 [00:35<00:00,  7.31it/s]"
     ]
    },
    {
     "name": "stdout",
     "output_type": "stream",
     "text": [
      "Train {'loss': 0.23260578089035475, 'exp_dice': 0.620920694905978, 'accuracy': 0.9750258464079636, 'recall': 0.6633739600961025}\n"
     ]
    },
    {
     "name": "stderr",
     "output_type": "stream",
     "text": [
      "\n",
      "100%|███████████████████████████████████████████████| 65/65 [00:03<00:00, 18.16it/s]"
     ]
    },
    {
     "name": "stdout",
     "output_type": "stream",
     "text": [
      "Test {'loss': 0.4389037013053894, 'exp_dice': 0.5788340089412836, 'accuracy': 0.9757555594811073, 'recall': 0.6444317382115584}\n"
     ]
    },
    {
     "name": "stderr",
     "output_type": "stream",
     "text": [
      "\n",
      "100%|█████████████████████████████████████████████| 260/260 [00:35<00:00,  7.31it/s]"
     ]
    },
    {
     "name": "stdout",
     "output_type": "stream",
     "text": [
      "Train {'loss': 0.23602090609761384, 'exp_dice': 0.6155906516772051, 'accuracy': 0.9746045424388006, 'recall': 0.6604799083792247}\n"
     ]
    },
    {
     "name": "stderr",
     "output_type": "stream",
     "text": [
      "\n",
      "100%|███████████████████████████████████████████████| 65/65 [00:03<00:00, 17.81it/s]"
     ]
    },
    {
     "name": "stdout",
     "output_type": "stream",
     "text": [
      "Test {'loss': 0.4397591233253479, 'exp_dice': 0.576943074281399, 'accuracy': 0.9753467559814453, 'recall': 0.6208236432992496}\n"
     ]
    },
    {
     "name": "stderr",
     "output_type": "stream",
     "text": [
      "\n",
      "100%|█████████████████████████████████████████████| 260/260 [00:35<00:00,  7.30it/s]"
     ]
    },
    {
     "name": "stdout",
     "output_type": "stream",
     "text": [
      "Train {'loss': 0.23355512395501138, 'exp_dice': 0.6186288969018139, 'accuracy': 0.9750463320658758, 'recall': 0.6576010953921538}\n"
     ]
    },
    {
     "name": "stderr",
     "output_type": "stream",
     "text": [
      "\n",
      "100%|███████████████████████████████████████████████| 65/65 [00:03<00:00, 17.74it/s]"
     ]
    },
    {
     "name": "stdout",
     "output_type": "stream",
     "text": [
      "Test {'loss': 0.4329605249258188, 'exp_dice': 0.5851694822311402, 'accuracy': 0.9762177834144006, 'recall': 0.6205699677650746}\n"
     ]
    },
    {
     "name": "stderr",
     "output_type": "stream",
     "text": [
      "\n",
      "100%|█████████████████████████████████████████████| 260/260 [00:35<00:00,  7.30it/s]"
     ]
    },
    {
     "name": "stdout",
     "output_type": "stream",
     "text": [
      "Train {'loss': 0.23524520208056157, 'exp_dice': 0.6164677102405292, 'accuracy': 0.9748362082701463, 'recall': 0.6631852980989676}\n"
     ]
    },
    {
     "name": "stderr",
     "output_type": "stream",
     "text": [
      "\n",
      "100%|███████████████████████████████████████████████| 65/65 [00:03<00:00, 17.94it/s]\n"
     ]
    },
    {
     "name": "stdout",
     "output_type": "stream",
     "text": [
      "Test {'loss': 0.455314328120305, 'exp_dice': 0.5602578319036043, 'accuracy': 0.975794271322397, 'recall': 0.5824010821489187}\n"
     ]
    },
    {
     "name": "stderr",
     "output_type": "stream",
     "text": [
      "100%|█████████████████████████████████████████████| 260/260 [00:35<00:00,  7.31it/s]"
     ]
    },
    {
     "name": "stdout",
     "output_type": "stream",
     "text": [
      "Train {'loss': 0.23435513600707053, 'exp_dice': 0.6172853138011235, 'accuracy': 0.9751537818175096, 'recall': 0.6604680164502217}\n"
     ]
    },
    {
     "name": "stderr",
     "output_type": "stream",
     "text": [
      "\n",
      "100%|███████████████████████████████████████████████| 65/65 [00:03<00:00, 18.34it/s]"
     ]
    },
    {
     "name": "stdout",
     "output_type": "stream",
     "text": [
      "Test {'loss': 0.4403977375764113, 'exp_dice': 0.5772378022854144, 'accuracy': 0.97597991503202, 'recall': 0.5887039904411022}\n"
     ]
    },
    {
     "name": "stderr",
     "output_type": "stream",
     "text": [
      "\n",
      "100%|█████████████████████████████████████████████| 260/260 [00:35<00:00,  7.31it/s]"
     ]
    },
    {
     "name": "stdout",
     "output_type": "stream",
     "text": [
      "Train {'loss': 0.23503221322137577, 'exp_dice': 0.6165978631147971, 'accuracy': 0.9750461725088266, 'recall': 0.6572956229631718}\n"
     ]
    },
    {
     "name": "stderr",
     "output_type": "stream",
     "text": [
      "\n",
      "100%|███████████████████████████████████████████████| 65/65 [00:03<00:00, 18.32it/s]"
     ]
    },
    {
     "name": "stdout",
     "output_type": "stream",
     "text": [
      "Test {'loss': 0.437718154833867, 'exp_dice': 0.5791248234418722, 'accuracy': 0.9764953393202561, 'recall': 0.6135052882708036}\n"
     ]
    },
    {
     "name": "stderr",
     "output_type": "stream",
     "text": [
      "\n",
      "100%|█████████████████████████████████████████████| 260/260 [00:35<00:00,  7.32it/s]"
     ]
    },
    {
     "name": "stdout",
     "output_type": "stream",
     "text": [
      "Train {'loss': 0.2334246468085509, 'exp_dice': 0.6194918723633656, 'accuracy': 0.9749201462819026, 'recall': 0.6667862677803407}\n"
     ]
    },
    {
     "name": "stderr",
     "output_type": "stream",
     "text": [
      "\n",
      "100%|███████████████████████████████████████████████| 65/65 [00:03<00:00, 18.35it/s]"
     ]
    },
    {
     "name": "stdout",
     "output_type": "stream",
     "text": [
      "Test {'loss': 0.4357695561188918, 'exp_dice': 0.5801703274250031, 'accuracy': 0.9761137375464806, 'recall': 0.6204332801011893}\n"
     ]
    },
    {
     "name": "stderr",
     "output_type": "stream",
     "text": [
      "\n",
      "100%|█████████████████████████████████████████████| 260/260 [00:35<00:00,  7.31it/s]"
     ]
    },
    {
     "name": "stdout",
     "output_type": "stream",
     "text": [
      "Train {'loss': 0.23328196690059624, 'exp_dice': 0.620034159032198, 'accuracy': 0.9749633495624249, 'recall': 0.6606973452063707}\n"
     ]
    },
    {
     "name": "stderr",
     "output_type": "stream",
     "text": [
      "\n",
      "100%|███████████████████████████████████████████████| 65/65 [00:03<00:00, 18.38it/s]"
     ]
    },
    {
     "name": "stdout",
     "output_type": "stream",
     "text": [
      "Test {'loss': 0.4301943063735962, 'exp_dice': 0.5866736366198613, 'accuracy': 0.9758529883164626, 'recall': 0.6185733414613284}\n"
     ]
    },
    {
     "name": "stderr",
     "output_type": "stream",
     "text": [
      "\n",
      "100%|█████████████████████████████████████████████| 260/260 [00:36<00:00,  7.08it/s]"
     ]
    },
    {
     "name": "stdout",
     "output_type": "stream",
     "text": [
      "Train {'loss': 0.23393426726643857, 'exp_dice': 0.6174784420774533, 'accuracy': 0.975310650238624, 'recall': 0.6579442711976858}\n"
     ]
    },
    {
     "name": "stderr",
     "output_type": "stream",
     "text": [
      "\n",
      "100%|███████████████████████████████████████████████| 65/65 [00:03<00:00, 17.90it/s]"
     ]
    },
    {
     "name": "stdout",
     "output_type": "stream",
     "text": [
      "Test {'loss': 0.4327015078984774, 'exp_dice': 0.5849652349948883, 'accuracy': 0.9765584945678711, 'recall': 0.6376560431260329}\n"
     ]
    },
    {
     "name": "stderr",
     "output_type": "stream",
     "text": [
      "\n",
      "100%|█████████████████████████████████████████████| 260/260 [00:35<00:00,  7.26it/s]"
     ]
    },
    {
     "name": "stdout",
     "output_type": "stream",
     "text": [
      "Train {'loss': 0.23275842706744487, 'exp_dice': 0.6203729412876643, 'accuracy': 0.9751255842355582, 'recall': 0.6633996153107056}\n"
     ]
    },
    {
     "name": "stderr",
     "output_type": "stream",
     "text": [
      "\n",
      "100%|███████████████████████████████████████████████| 65/65 [00:03<00:00, 17.82it/s]"
     ]
    },
    {
     "name": "stdout",
     "output_type": "stream",
     "text": [
      "Test {'loss': 0.448969056056096, 'exp_dice': 0.5678471535444259, 'accuracy': 0.9763689921452449, 'recall': 0.5835259162462675}\n"
     ]
    },
    {
     "name": "stderr",
     "output_type": "stream",
     "text": [
      "\n",
      "100%|█████████████████████████████████████████████| 260/260 [00:35<00:00,  7.28it/s]"
     ]
    },
    {
     "name": "stdout",
     "output_type": "stream",
     "text": [
      "Train {'loss': 0.23320345345598, 'exp_dice': 0.6189186804862402, 'accuracy': 0.9754290470710167, 'recall': 0.6563093249686063}\n"
     ]
    },
    {
     "name": "stderr",
     "output_type": "stream",
     "text": [
      "\n",
      "100%|███████████████████████████████████████████████| 65/65 [00:03<00:00, 17.95it/s]"
     ]
    },
    {
     "name": "stdout",
     "output_type": "stream",
     "text": [
      "Test {'loss': 0.4462900785299448, 'exp_dice': 0.5704174857873183, 'accuracy': 0.9768360871535081, 'recall': 0.6009902500189268}\n"
     ]
    },
    {
     "name": "stderr",
     "output_type": "stream",
     "text": [
      "\n",
      "100%|█████████████████████████████████████████████| 260/260 [00:35<00:00,  7.27it/s]"
     ]
    },
    {
     "name": "stdout",
     "output_type": "stream",
     "text": [
      "Train {'loss': 0.2343927271091021, 'exp_dice': 0.6179467914196161, 'accuracy': 0.9749714172803439, 'recall': 0.6589125484228134}\n"
     ]
    },
    {
     "name": "stderr",
     "output_type": "stream",
     "text": [
      "\n",
      "100%|███████████████████████████████████████████████| 65/65 [00:03<00:00, 17.90it/s]\n"
     ]
    },
    {
     "name": "stdout",
     "output_type": "stream",
     "text": [
      "Test {'loss': 0.45058658306415267, 'exp_dice': 0.5661373674869538, 'accuracy': 0.9762666775630071, 'recall': 0.6344874943678196}\n"
     ]
    },
    {
     "name": "stderr",
     "output_type": "stream",
     "text": [
      "100%|█████████████████████████████████████████████| 260/260 [00:35<00:00,  7.28it/s]"
     ]
    },
    {
     "name": "stdout",
     "output_type": "stream",
     "text": [
      "Train {'loss': 0.2349794450860757, 'exp_dice': 0.6169106759704076, 'accuracy': 0.9748011552370511, 'recall': 0.6638906928209158}\n"
     ]
    },
    {
     "name": "stderr",
     "output_type": "stream",
     "text": [
      "\n",
      "100%|███████████████████████████████████████████████| 65/65 [00:03<00:00, 18.12it/s]"
     ]
    },
    {
     "name": "stdout",
     "output_type": "stream",
     "text": [
      "Test {'loss': 0.4367871220295246, 'exp_dice': 0.5793569422685183, 'accuracy': 0.9761407632094163, 'recall': 0.6184608092674843}\n"
     ]
    },
    {
     "name": "stderr",
     "output_type": "stream",
     "text": [
      "\n",
      "100%|█████████████████████████████████████████████| 260/260 [00:35<00:00,  7.29it/s]"
     ]
    },
    {
     "name": "stdout",
     "output_type": "stream",
     "text": [
      "Train {'loss': 0.23309671981976582, 'exp_dice': 0.6201074218520751, 'accuracy': 0.974901899924645, 'recall': 0.6641550056063212}\n"
     ]
    },
    {
     "name": "stderr",
     "output_type": "stream",
     "text": [
      "\n",
      "100%|███████████████████████████████████████████████| 65/65 [00:03<00:00, 17.62it/s]\n"
     ]
    },
    {
     "name": "stdout",
     "output_type": "stream",
     "text": [
      "Test {'loss': 0.4557979932198158, 'exp_dice': 0.5595803029262103, 'accuracy': 0.9753415474524865, 'recall': 0.5966856706600923}\n"
     ]
    },
    {
     "name": "stderr",
     "output_type": "stream",
     "text": [
      "100%|█████████████████████████████████████████████| 260/260 [00:35<00:00,  7.31it/s]"
     ]
    },
    {
     "name": "stdout",
     "output_type": "stream",
     "text": [
      "Train {'loss': 0.23434452494749655, 'exp_dice': 0.6181396351410793, 'accuracy': 0.9749593661381648, 'recall': 0.6577740485851581}\n"
     ]
    },
    {
     "name": "stderr",
     "output_type": "stream",
     "text": [
      "\n",
      "100%|███████████████████████████████████████████████| 65/65 [00:03<00:00, 17.98it/s]"
     ]
    },
    {
     "name": "stdout",
     "output_type": "stream",
     "text": [
      "Test {'loss': 0.4482267269721398, 'exp_dice': 0.5696845925771273, 'accuracy': 0.9761199951171875, 'recall': 0.6003090225733243}\n"
     ]
    },
    {
     "name": "stderr",
     "output_type": "stream",
     "text": [
      "\n",
      "100%|█████████████████████████████████████████████| 260/260 [00:35<00:00,  7.30it/s]"
     ]
    },
    {
     "name": "stdout",
     "output_type": "stream",
     "text": [
      "Train {'loss': 0.2347508022418389, 'exp_dice': 0.6160067932536969, 'accuracy': 0.9753981590270996, 'recall': 0.6631923918540661}\n"
     ]
    },
    {
     "name": "stderr",
     "output_type": "stream",
     "text": [
      "\n",
      "100%|███████████████████████████████████████████████| 65/65 [00:03<00:00, 17.87it/s]"
     ]
    },
    {
     "name": "stdout",
     "output_type": "stream",
     "text": [
      "Test {'loss': 0.446686485180488, 'exp_dice': 0.5706359874743682, 'accuracy': 0.9758805788480318, 'recall': 0.6226819295149583}\n"
     ]
    },
    {
     "name": "stderr",
     "output_type": "stream",
     "text": [
      "\n",
      "100%|█████████████████████████████████████████████| 260/260 [00:35<00:00,  7.29it/s]"
     ]
    },
    {
     "name": "stdout",
     "output_type": "stream",
     "text": [
      "Train {'loss': 0.23555029475918182, 'exp_dice': 0.6147235768632247, 'accuracy': 0.9753607401481041, 'recall': 0.6576475671850718}\n"
     ]
    },
    {
     "name": "stderr",
     "output_type": "stream",
     "text": [
      "\n",
      "100%|███████████████████████████████████████████████| 65/65 [00:03<00:00, 18.01it/s]"
     ]
    },
    {
     "name": "stdout",
     "output_type": "stream",
     "text": [
      "Test {'loss': 0.44328488203195426, 'exp_dice': 0.5729622350289272, 'accuracy': 0.9766073813805214, 'recall': 0.6010385176310172}\n"
     ]
    },
    {
     "name": "stderr",
     "output_type": "stream",
     "text": [
      "\n",
      "100%|█████████████████████████████████████████████| 260/260 [00:35<00:00,  7.30it/s]"
     ]
    },
    {
     "name": "stdout",
     "output_type": "stream",
     "text": [
      "Train {'loss': 0.23161734743760182, 'exp_dice': 0.6208183148302711, 'accuracy': 0.9756119452990019, 'recall': 0.6662475457558266}\n"
     ]
    },
    {
     "name": "stderr",
     "output_type": "stream",
     "text": [
      "\n",
      "100%|███████████████████████████████████████████████| 65/65 [00:03<00:00, 17.86it/s]"
     ]
    },
    {
     "name": "stdout",
     "output_type": "stream",
     "text": [
      "Test {'loss': 0.4444298294874338, 'exp_dice': 0.5713608054014353, 'accuracy': 0.9758254344646747, 'recall': 0.6147143363952636}\n"
     ]
    },
    {
     "name": "stderr",
     "output_type": "stream",
     "text": [
      "\n",
      "100%|█████████████████████████████████████████████| 260/260 [00:35<00:00,  7.30it/s]"
     ]
    },
    {
     "name": "stdout",
     "output_type": "stream",
     "text": [
      "Train {'loss': 0.23388969348027155, 'exp_dice': 0.6183074661172353, 'accuracy': 0.9751493142201351, 'recall': 0.6552071065283739}\n"
     ]
    },
    {
     "name": "stderr",
     "output_type": "stream",
     "text": [
      "\n",
      "100%|███████████████████████████████████████████████| 65/65 [00:03<00:00, 17.97it/s]"
     ]
    },
    {
     "name": "stdout",
     "output_type": "stream",
     "text": [
      "Test {'loss': 0.43166531782883866, 'exp_dice': 0.5832461203520115, 'accuracy': 0.9758522107050969, 'recall': 0.6186021259197823}\n"
     ]
    },
    {
     "name": "stderr",
     "output_type": "stream",
     "text": [
      "\n",
      "100%|█████████████████████████████████████████████| 260/260 [00:35<00:00,  7.30it/s]"
     ]
    },
    {
     "name": "stdout",
     "output_type": "stream",
     "text": [
      "Train {'loss': 0.23280543544544624, 'exp_dice': 0.6203404505808766, 'accuracy': 0.974975375028757, 'recall': 0.6622588830211988}\n"
     ]
    },
    {
     "name": "stderr",
     "output_type": "stream",
     "text": [
      "\n",
      "100%|███████████████████████████████████████████████| 65/65 [00:03<00:00, 18.13it/s]"
     ]
    },
    {
     "name": "stdout",
     "output_type": "stream",
     "text": [
      "Test {'loss': 0.44292406302232007, 'exp_dice': 0.5732338864069718, 'accuracy': 0.9759006133446326, 'recall': 0.6262279487573184}\n"
     ]
    },
    {
     "name": "stderr",
     "output_type": "stream",
     "text": [
      "\n",
      "100%|█████████████████████████████████████████████| 260/260 [00:35<00:00,  7.30it/s]"
     ]
    },
    {
     "name": "stdout",
     "output_type": "stream",
     "text": [
      "Train {'loss': 0.23376500950409815, 'exp_dice': 0.6191931657493115, 'accuracy': 0.974776477080125, 'recall': 0.6649274917749258}\n"
     ]
    },
    {
     "name": "stderr",
     "output_type": "stream",
     "text": [
      "\n",
      "100%|███████████████████████████████████████████████| 65/65 [00:03<00:00, 17.74it/s]"
     ]
    },
    {
     "name": "stdout",
     "output_type": "stream",
     "text": [
      "Test {'loss': 0.44237216435945953, 'exp_dice': 0.5738180660284482, 'accuracy': 0.9767127990722656, 'recall': 0.6126096812578348}\n"
     ]
    },
    {
     "name": "stderr",
     "output_type": "stream",
     "text": [
      "\n",
      "100%|█████████████████████████████████████████████| 260/260 [00:35<00:00,  7.31it/s]"
     ]
    },
    {
     "name": "stdout",
     "output_type": "stream",
     "text": [
      "Train {'loss': 0.2351399003313138, 'exp_dice': 0.6161792470285525, 'accuracy': 0.9751080127862783, 'recall': 0.6598186875765141}\n"
     ]
    },
    {
     "name": "stderr",
     "output_type": "stream",
     "text": [
      "\n",
      "100%|███████████████████████████████████████████████| 65/65 [00:03<00:00, 18.12it/s]"
     ]
    },
    {
     "name": "stdout",
     "output_type": "stream",
     "text": [
      "Test {'loss': 0.446924011523907, 'exp_dice': 0.5702029705047608, 'accuracy': 0.9763413869417631, 'recall': 0.6037340769400963}\n"
     ]
    },
    {
     "name": "stderr",
     "output_type": "stream",
     "text": [
      "\n",
      "100%|█████████████████████████████████████████████| 260/260 [00:35<00:00,  7.31it/s]"
     ]
    },
    {
     "name": "stdout",
     "output_type": "stream",
     "text": [
      "Train {'loss': 0.23211378896465668, 'exp_dice': 0.6217520963687163, 'accuracy': 0.9749500843194815, 'recall': 0.6593586287819422}\n"
     ]
    },
    {
     "name": "stderr",
     "output_type": "stream",
     "text": [
      "\n",
      "100%|███████████████████████████████████████████████| 65/65 [00:03<00:00, 17.83it/s]"
     ]
    },
    {
     "name": "stdout",
     "output_type": "stream",
     "text": [
      "Test {'loss': 0.4513959270257216, 'exp_dice': 0.5654312860507231, 'accuracy': 0.9755371313828688, 'recall': 0.603998824266287}\n"
     ]
    },
    {
     "name": "stderr",
     "output_type": "stream",
     "text": [
      "\n",
      "100%|█████████████████████████████████████████████| 260/260 [00:35<00:00,  7.30it/s]"
     ]
    },
    {
     "name": "stdout",
     "output_type": "stream",
     "text": [
      "Train {'loss': 0.23589712318319542, 'exp_dice': 0.6147202201760732, 'accuracy': 0.9750309559015128, 'recall': 0.659954012128023}\n"
     ]
    },
    {
     "name": "stderr",
     "output_type": "stream",
     "text": [
      "\n",
      "100%|███████████████████████████████████████████████| 65/65 [00:03<00:00, 17.92it/s]"
     ]
    },
    {
     "name": "stdout",
     "output_type": "stream",
     "text": [
      "Test {'loss': 0.43991209176870494, 'exp_dice': 0.5773534203951175, 'accuracy': 0.9762377738952637, 'recall': 0.626125554740429}\n"
     ]
    },
    {
     "name": "stderr",
     "output_type": "stream",
     "text": [
      "\n",
      "100%|█████████████████████████████████████████████| 260/260 [00:35<00:00,  7.30it/s]"
     ]
    },
    {
     "name": "stdout",
     "output_type": "stream",
     "text": [
      "Train {'loss': 0.23597504737285468, 'exp_dice': 0.6146128609203375, 'accuracy': 0.9750738822496854, 'recall': 0.6581005318806722}\n"
     ]
    },
    {
     "name": "stderr",
     "output_type": "stream",
     "text": [
      "\n",
      "100%|███████████████████████████████████████████████| 65/65 [00:03<00:00, 18.07it/s]"
     ]
    },
    {
     "name": "stdout",
     "output_type": "stream",
     "text": [
      "Test {'loss': 0.44718743837796726, 'exp_dice': 0.5709547063479057, 'accuracy': 0.9762965055612417, 'recall': 0.6180243198688213}\n"
     ]
    },
    {
     "name": "stderr",
     "output_type": "stream",
     "text": [
      "\n",
      "100%|█████████████████████████████████████████████| 260/260 [00:35<00:00,  7.30it/s]"
     ]
    },
    {
     "name": "stdout",
     "output_type": "stream",
     "text": [
      "Train {'loss': 0.23235822787078528, 'exp_dice': 0.6207787060966858, 'accuracy': 0.9752759181536161, 'recall': 0.6665369351322834}\n"
     ]
    },
    {
     "name": "stderr",
     "output_type": "stream",
     "text": [
      "\n",
      "100%|███████████████████████████████████████████████| 65/65 [00:03<00:00, 18.31it/s]"
     ]
    },
    {
     "name": "stdout",
     "output_type": "stream",
     "text": [
      "Test {'loss': 0.43390413706119246, 'exp_dice': 0.5822897635973416, 'accuracy': 0.9759567114023062, 'recall': 0.623985513815513}\n"
     ]
    },
    {
     "name": "stderr",
     "output_type": "stream",
     "text": [
      "\n",
      "100%|█████████████████████████████████████████████| 260/260 [00:35<00:00,  7.30it/s]"
     ]
    },
    {
     "name": "stdout",
     "output_type": "stream",
     "text": [
      "Train {'loss': 0.2339628169169793, 'exp_dice': 0.6187956206787091, 'accuracy': 0.9747589331406813, 'recall': 0.6616512154157345}\n"
     ]
    },
    {
     "name": "stderr",
     "output_type": "stream",
     "text": [
      "\n",
      "100%|███████████████████████████████████████████████| 65/65 [00:03<00:00, 18.27it/s]"
     ]
    },
    {
     "name": "stdout",
     "output_type": "stream",
     "text": [
      "Test {'loss': 0.4463218184617849, 'exp_dice': 0.5704605657320756, 'accuracy': 0.9759788879981408, 'recall': 0.6146984302080595}\n"
     ]
    },
    {
     "name": "stderr",
     "output_type": "stream",
     "text": [
      "\n",
      "100%|█████████████████████████████████████████████| 260/260 [00:35<00:00,  7.31it/s]"
     ]
    },
    {
     "name": "stdout",
     "output_type": "stream",
     "text": [
      "Train {'loss': 0.2327698766038968, 'exp_dice': 0.6193729936646727, 'accuracy': 0.9754988707028902, 'recall': 0.6630749185497944}\n"
     ]
    },
    {
     "name": "stderr",
     "output_type": "stream",
     "text": [
      "\n",
      "100%|███████████████████████████████████████████████| 65/65 [00:03<00:00, 17.70it/s]"
     ]
    },
    {
     "name": "stdout",
     "output_type": "stream",
     "text": [
      "Test {'loss': 0.4429996022811303, 'exp_dice': 0.5731688522375546, 'accuracy': 0.9754426882817195, 'recall': 0.6286375719767351}\n"
     ]
    },
    {
     "name": "stderr",
     "output_type": "stream",
     "text": [
      "\n",
      "100%|█████████████████████████████████████████████| 260/260 [00:35<00:00,  7.31it/s]"
     ]
    },
    {
     "name": "stdout",
     "output_type": "stream",
     "text": [
      "Train {'loss': 0.23301218066077967, 'exp_dice': 0.6203696166093533, 'accuracy': 0.9751017882273747, 'recall': 0.6653421923518181}\n"
     ]
    },
    {
     "name": "stderr",
     "output_type": "stream",
     "text": [
      "\n",
      "100%|███████████████████████████████████████████████| 65/65 [00:03<00:00, 18.24it/s]"
     ]
    },
    {
     "name": "stdout",
     "output_type": "stream",
     "text": [
      "Test {'loss': 0.4341886960543119, 'exp_dice': 0.5831458215530102, 'accuracy': 0.9760603171128494, 'recall': 0.6205652897174542}\n"
     ]
    },
    {
     "name": "stderr",
     "output_type": "stream",
     "text": [
      "\n",
      "100%|█████████████████████████████████████████████| 260/260 [00:35<00:00,  7.30it/s]"
     ]
    },
    {
     "name": "stdout",
     "output_type": "stream",
     "text": [
      "Train {'loss': 0.2311380504988707, 'exp_dice': 0.6230374737141224, 'accuracy': 0.9751681841336763, 'recall': 0.6694072562914628}\n"
     ]
    },
    {
     "name": "stderr",
     "output_type": "stream",
     "text": [
      "\n",
      "100%|███████████████████████████████████████████████| 65/65 [00:03<00:00, 17.91it/s]"
     ]
    },
    {
     "name": "stdout",
     "output_type": "stream",
     "text": [
      "Test {'loss': 0.4347408863214346, 'exp_dice': 0.5818743481085851, 'accuracy': 0.975542581998385, 'recall': 0.6118980357280144}\n"
     ]
    },
    {
     "name": "stderr",
     "output_type": "stream",
     "text": [
      "\n",
      "100%|█████████████████████████████████████████████| 260/260 [00:35<00:00,  7.30it/s]"
     ]
    },
    {
     "name": "stdout",
     "output_type": "stream",
     "text": [
      "Train {'loss': 0.23436566728811997, 'exp_dice': 0.617696303924906, 'accuracy': 0.9751412611741286, 'recall': 0.6613264509834922}\n"
     ]
    },
    {
     "name": "stderr",
     "output_type": "stream",
     "text": [
      "\n",
      "100%|███████████████████████████████████████████████| 65/65 [00:03<00:00, 18.27it/s]"
     ]
    },
    {
     "name": "stdout",
     "output_type": "stream",
     "text": [
      "Test {'loss': 0.4344091562124399, 'exp_dice': 0.5824092110762229, 'accuracy': 0.975914558997521, 'recall': 0.6438297303823325}\n"
     ]
    },
    {
     "name": "stderr",
     "output_type": "stream",
     "text": [
      "\n",
      "100%|█████████████████████████████████████████████| 260/260 [00:35<00:00,  7.31it/s]"
     ]
    },
    {
     "name": "stdout",
     "output_type": "stream",
     "text": [
      "Train {'loss': 0.23219516495099435, 'exp_dice': 0.6209850391516318, 'accuracy': 0.9753778219223023, 'recall': 0.6630835393300423}\n"
     ]
    },
    {
     "name": "stderr",
     "output_type": "stream",
     "text": [
      "\n",
      "100%|███████████████████████████████████████████████| 65/65 [00:03<00:00, 18.14it/s]"
     ]
    },
    {
     "name": "stdout",
     "output_type": "stream",
     "text": [
      "Test {'loss': 0.4425534064953144, 'exp_dice': 0.5745814600816139, 'accuracy': 0.9750549609844501, 'recall': 0.6072030695585104}\n"
     ]
    },
    {
     "name": "stderr",
     "output_type": "stream",
     "text": [
      "\n",
      "100%|█████████████████████████████████████████████| 260/260 [00:35<00:00,  7.31it/s]"
     ]
    },
    {
     "name": "stdout",
     "output_type": "stream",
     "text": [
      "Train {'loss': 0.2330829955637455, 'exp_dice': 0.6200091894429464, 'accuracy': 0.9749140207584087, 'recall': 0.6666611391764421}\n"
     ]
    },
    {
     "name": "stderr",
     "output_type": "stream",
     "text": [
      "\n",
      "100%|███████████████████████████████████████████████| 65/65 [00:03<00:00, 18.42it/s]"
     ]
    },
    {
     "name": "stdout",
     "output_type": "stream",
     "text": [
      "Test {'loss': 0.4364068370599013, 'exp_dice': 0.5810243709729268, 'accuracy': 0.9762397546034592, 'recall': 0.6139116394978303}\n"
     ]
    },
    {
     "name": "stderr",
     "output_type": "stream",
     "text": [
      "\n",
      "100%|█████████████████████████████████████████████| 260/260 [00:35<00:00,  7.31it/s]"
     ]
    },
    {
     "name": "stdout",
     "output_type": "stream",
     "text": [
      "Train {'loss': 0.234360286879998, 'exp_dice': 0.6171826818814644, 'accuracy': 0.9752837584568904, 'recall': 0.6607067943765567}\n"
     ]
    },
    {
     "name": "stderr",
     "output_type": "stream",
     "text": [
      "\n",
      "100%|███████████████████████████████████████████████| 65/65 [00:03<00:00, 18.02it/s]\n"
     ]
    },
    {
     "name": "stdout",
     "output_type": "stream",
     "text": [
      "Test {'loss': 0.42656674660169164, 'exp_dice': 0.5912990620503059, 'accuracy': 0.9769932013291579, 'recall': 0.6309032247616695}\n"
     ]
    },
    {
     "name": "stderr",
     "output_type": "stream",
     "text": [
      "100%|█████████████████████████████████████████████| 260/260 [00:35<00:00,  7.30it/s]"
     ]
    },
    {
     "name": "stdout",
     "output_type": "stream",
     "text": [
      "Train {'loss': 0.23291015109190574, 'exp_dice': 0.6204006908031611, 'accuracy': 0.9749654036301832, 'recall': 0.6586105077885664}\n"
     ]
    },
    {
     "name": "stderr",
     "output_type": "stream",
     "text": [
      "\n",
      "100%|███████████████████████████████████████████████| 65/65 [00:03<00:00, 18.07it/s]"
     ]
    },
    {
     "name": "stdout",
     "output_type": "stream",
     "text": [
      "Test {'loss': 0.44417426402752214, 'exp_dice': 0.5727271923652062, 'accuracy': 0.9756847675030048, 'recall': 0.6350648962534391}\n"
     ]
    },
    {
     "name": "stderr",
     "output_type": "stream",
     "text": [
      "\n",
      "100%|█████████████████████████████████████████████| 260/260 [00:35<00:00,  7.31it/s]"
     ]
    },
    {
     "name": "stdout",
     "output_type": "stream",
     "text": [
      "Train {'loss': 0.2333193933734527, 'exp_dice': 0.619203550196611, 'accuracy': 0.9751984211114737, 'recall': 0.6582229771293127}\n"
     ]
    },
    {
     "name": "stderr",
     "output_type": "stream",
     "text": [
      "\n",
      "100%|███████████████████████████████████████████████| 65/65 [00:03<00:00, 18.16it/s]"
     ]
    },
    {
     "name": "stdout",
     "output_type": "stream",
     "text": [
      "Test {'loss': 0.4391052622061509, 'exp_dice': 0.578019587122477, 'accuracy': 0.9753304848304162, 'recall': 0.6297410121330849}\n"
     ]
    },
    {
     "name": "stderr",
     "output_type": "stream",
     "text": [
      "\n",
      "100%|█████████████████████████████████████████████| 260/260 [00:35<00:00,  7.31it/s]"
     ]
    },
    {
     "name": "stdout",
     "output_type": "stream",
     "text": [
      "Train {'loss': 0.2328763727385264, 'exp_dice': 0.6198045523120806, 'accuracy': 0.9752209388292753, 'recall': 0.6662989187699098}\n"
     ]
    },
    {
     "name": "stderr",
     "output_type": "stream",
     "text": [
      "\n",
      "100%|███████████████████████████████████████████████| 65/65 [00:03<00:00, 18.26it/s]"
     ]
    },
    {
     "name": "stdout",
     "output_type": "stream",
     "text": [
      "Test {'loss': 0.43577414475954496, 'exp_dice': 0.5815223904756399, 'accuracy': 0.9757234206566444, 'recall': 0.6133627969485063}\n"
     ]
    },
    {
     "name": "stderr",
     "output_type": "stream",
     "text": [
      "\n",
      "100%|█████████████████████████████████████████████| 260/260 [00:35<00:00,  7.31it/s]"
     ]
    },
    {
     "name": "stdout",
     "output_type": "stream",
     "text": [
      "Train {'loss': 0.23265837304867232, 'exp_dice': 0.6205556982555068, 'accuracy': 0.9750637677999643, 'recall': 0.6628818235145165}\n"
     ]
    },
    {
     "name": "stderr",
     "output_type": "stream",
     "text": [
      "\n",
      "100%|███████████████████████████████████████████████| 65/65 [00:03<00:00, 18.29it/s]"
     ]
    },
    {
     "name": "stdout",
     "output_type": "stream",
     "text": [
      "Test {'loss': 0.4472235147769634, 'exp_dice': 0.5707975580142095, 'accuracy': 0.9764964030339167, 'recall': 0.605133093549655}\n"
     ]
    },
    {
     "name": "stderr",
     "output_type": "stream",
     "text": [
      "\n",
      "100%|█████████████████████████████████████████████| 260/260 [00:35<00:00,  7.31it/s]"
     ]
    },
    {
     "name": "stdout",
     "output_type": "stream",
     "text": [
      "Train {'loss': 0.23445702470265903, 'exp_dice': 0.6178875043630027, 'accuracy': 0.9748780690706693, 'recall': 0.6601722845664391}\n"
     ]
    },
    {
     "name": "stderr",
     "output_type": "stream",
     "text": [
      "\n",
      "100%|███████████████████████████████████████████████| 65/65 [00:03<00:00, 17.79it/s]"
     ]
    },
    {
     "name": "stdout",
     "output_type": "stream",
     "text": [
      "Test {'loss': 0.4384427685004014, 'exp_dice': 0.5790625209991749, 'accuracy': 0.9764469953683707, 'recall': 0.6133730333585006}\n"
     ]
    },
    {
     "name": "stderr",
     "output_type": "stream",
     "text": [
      "\n",
      "100%|█████████████████████████████████████████████| 260/260 [00:35<00:00,  7.30it/s]"
     ]
    },
    {
     "name": "stdout",
     "output_type": "stream",
     "text": [
      "Train {'loss': 0.23329219474242283, 'exp_dice': 0.6198718623186533, 'accuracy': 0.9747844475966233, 'recall': 0.6688871727539942}\n"
     ]
    },
    {
     "name": "stderr",
     "output_type": "stream",
     "text": [
      "\n",
      "100%|███████████████████████████████████████████████| 65/65 [00:03<00:00, 18.01it/s]"
     ]
    },
    {
     "name": "stdout",
     "output_type": "stream",
     "text": [
      "Test {'loss': 0.4249443246768071, 'exp_dice': 0.5925201097360024, 'accuracy': 0.976661073244535, 'recall': 0.6421830328611228}\n"
     ]
    },
    {
     "name": "stderr",
     "output_type": "stream",
     "text": [
      "\n",
      "100%|█████████████████████████████████████████████| 260/260 [00:35<00:00,  7.30it/s]"
     ]
    },
    {
     "name": "stdout",
     "output_type": "stream",
     "text": [
      "Train {'loss': 0.23322052565904763, 'exp_dice': 0.619318950147583, 'accuracy': 0.9748936708156879, 'recall': 0.6652976658481818}\n"
     ]
    },
    {
     "name": "stderr",
     "output_type": "stream",
     "text": [
      "\n",
      "100%|███████████████████████████████████████████████| 65/65 [00:03<00:00, 18.12it/s]"
     ]
    },
    {
     "name": "stdout",
     "output_type": "stream",
     "text": [
      "Test {'loss': 0.44713907975416917, 'exp_dice': 0.5695835342774025, 'accuracy': 0.9756738002483661, 'recall': 0.6004049851344182}\n"
     ]
    },
    {
     "name": "stderr",
     "output_type": "stream",
     "text": [
      "\n",
      "100%|█████████████████████████████████████████████| 260/260 [00:35<00:00,  7.31it/s]"
     ]
    },
    {
     "name": "stdout",
     "output_type": "stream",
     "text": [
      "Train {'loss': 0.23147049488929602, 'exp_dice': 0.622216981735367, 'accuracy': 0.9752104740876418, 'recall': 0.6627499802754475}\n"
     ]
    },
    {
     "name": "stderr",
     "output_type": "stream",
     "text": [
      "\n",
      "100%|███████████████████████████████████████████████| 65/65 [00:03<00:00, 18.24it/s]"
     ]
    },
    {
     "name": "stdout",
     "output_type": "stream",
     "text": [
      "Test {'loss': 0.45393095933474026, 'exp_dice': 0.5622527363208624, 'accuracy': 0.9754292414738581, 'recall': 0.6064155055926397}\n"
     ]
    },
    {
     "name": "stderr",
     "output_type": "stream",
     "text": [
      "\n",
      "100%|█████████████████████████████████████████████| 260/260 [00:35<00:00,  7.30it/s]"
     ]
    },
    {
     "name": "stdout",
     "output_type": "stream",
     "text": [
      "Train {'loss': 0.23368596549217518, 'exp_dice': 0.6192354382230685, 'accuracy': 0.9750735172858604, 'recall': 0.6580302333602539}\n"
     ]
    },
    {
     "name": "stderr",
     "output_type": "stream",
     "text": [
      "\n",
      "100%|███████████████████████████████████████████████| 65/65 [00:03<00:00, 17.93it/s]"
     ]
    },
    {
     "name": "stdout",
     "output_type": "stream",
     "text": [
      "Test {'loss': 0.44047470001073985, 'exp_dice': 0.576576522221932, 'accuracy': 0.9761386211101826, 'recall': 0.6272692389213121}\n"
     ]
    },
    {
     "name": "stderr",
     "output_type": "stream",
     "text": [
      "\n",
      "100%|█████████████████████████████████████████████| 260/260 [00:35<00:00,  7.29it/s]"
     ]
    },
    {
     "name": "stdout",
     "output_type": "stream",
     "text": [
      "Train {'loss': 0.23143004408249487, 'exp_dice': 0.6226683192528211, 'accuracy': 0.9752941846847534, 'recall': 0.6651677826276192}\n"
     ]
    },
    {
     "name": "stderr",
     "output_type": "stream",
     "text": [
      "\n",
      "100%|███████████████████████████████████████████████| 65/65 [00:03<00:00, 18.15it/s]\n"
     ]
    },
    {
     "name": "stdout",
     "output_type": "stream",
     "text": [
      "Test {'loss': 0.44167722830405604, 'exp_dice': 0.5757607487531808, 'accuracy': 0.976741651388315, 'recall': 0.6191799081288851}\n"
     ]
    },
    {
     "name": "stderr",
     "output_type": "stream",
     "text": [
      "100%|█████████████████████████████████████████████| 260/260 [00:35<00:00,  7.29it/s]"
     ]
    },
    {
     "name": "stdout",
     "output_type": "stream",
     "text": [
      "Train {'loss': 0.2322716813821059, 'exp_dice': 0.6210807188199117, 'accuracy': 0.9751939406761756, 'recall': 0.6642138768847172}\n"
     ]
    },
    {
     "name": "stderr",
     "output_type": "stream",
     "text": [
      "\n",
      "100%|███████████████████████████████████████████████| 65/65 [00:03<00:00, 17.93it/s]"
     ]
    },
    {
     "name": "stdout",
     "output_type": "stream",
     "text": [
      "Test {'loss': 0.4465183157187242, 'exp_dice': 0.5703794676523942, 'accuracy': 0.9761297666109525, 'recall': 0.6059141486883164}\n"
     ]
    },
    {
     "name": "stderr",
     "output_type": "stream",
     "text": [
      "\n",
      "100%|█████████████████████████████████████████████| 260/260 [00:35<00:00,  7.31it/s]"
     ]
    },
    {
     "name": "stdout",
     "output_type": "stream",
     "text": [
      "Train {'loss': 0.2346865499821993, 'exp_dice': 0.6173853294064219, 'accuracy': 0.9747529158225426, 'recall': 0.6644976324186875}\n"
     ]
    },
    {
     "name": "stderr",
     "output_type": "stream",
     "text": [
      "\n",
      "100%|███████████████████████████████████████████████| 65/65 [00:03<00:00, 18.01it/s]"
     ]
    },
    {
     "name": "stdout",
     "output_type": "stream",
     "text": [
      "Test {'loss': 0.4388939270606408, 'exp_dice': 0.577622340963437, 'accuracy': 0.9764968945429875, 'recall': 0.6061139980187783}\n"
     ]
    },
    {
     "name": "stderr",
     "output_type": "stream",
     "text": [
      "\n",
      "100%|█████████████████████████████████████████████| 260/260 [00:35<00:00,  7.30it/s]"
     ]
    },
    {
     "name": "stdout",
     "output_type": "stream",
     "text": [
      "Train {'loss': 0.2324179684313444, 'exp_dice': 0.6207129883078428, 'accuracy': 0.9751324763664833, 'recall': 0.6611235036299778}\n"
     ]
    },
    {
     "name": "stderr",
     "output_type": "stream",
     "text": [
      "\n",
      "100%|███████████████████████████████████████████████| 65/65 [00:03<00:00, 18.13it/s]"
     ]
    },
    {
     "name": "stdout",
     "output_type": "stream",
     "text": [
      "Test {'loss': 0.4373561391463647, 'exp_dice': 0.5789501268130083, 'accuracy': 0.9757552733788124, 'recall': 0.6272545640285199}\n"
     ]
    },
    {
     "name": "stderr",
     "output_type": "stream",
     "text": [
      "\n",
      "100%|█████████████████████████████████████████████| 260/260 [00:35<00:00,  7.30it/s]"
     ]
    },
    {
     "name": "stdout",
     "output_type": "stream",
     "text": [
      "Train {'loss': 0.23371698329081902, 'exp_dice': 0.6187557075799515, 'accuracy': 0.9749900267674373, 'recall': 0.6600367294481168}\n"
     ]
    },
    {
     "name": "stderr",
     "output_type": "stream",
     "text": [
      "\n",
      "100%|███████████████████████████████████████████████| 65/65 [00:03<00:00, 18.06it/s]"
     ]
    },
    {
     "name": "stdout",
     "output_type": "stream",
     "text": [
      "Test {'loss': 0.4316837916007409, 'exp_dice': 0.5864889497940357, 'accuracy': 0.9756470020000751, 'recall': 0.6458635871226971}\n"
     ]
    },
    {
     "name": "stderr",
     "output_type": "stream",
     "text": [
      "\n",
      "100%|█████████████████████████████████████████████| 260/260 [00:35<00:00,  7.30it/s]"
     ]
    },
    {
     "name": "stdout",
     "output_type": "stream",
     "text": [
      "Train {'loss': 0.2323027189534444, 'exp_dice': 0.6211054761822407, 'accuracy': 0.9749885944219736, 'recall': 0.6574457528499457}\n"
     ]
    },
    {
     "name": "stderr",
     "output_type": "stream",
     "text": [
      "\n",
      "100%|███████████████████████████████████████████████| 65/65 [00:03<00:00, 18.16it/s]"
     ]
    },
    {
     "name": "stdout",
     "output_type": "stream",
     "text": [
      "Test {'loss': 0.4400533180970412, 'exp_dice': 0.5778308348013804, 'accuracy': 0.9762319858257588, 'recall': 0.6246699612874251}\n"
     ]
    },
    {
     "name": "stderr",
     "output_type": "stream",
     "text": [
      "\n",
      "100%|█████████████████████████████████████████████| 260/260 [00:35<00:00,  7.31it/s]"
     ]
    },
    {
     "name": "stdout",
     "output_type": "stream",
     "text": [
      "Train {'loss': 0.2337144318681497, 'exp_dice': 0.6186477584513621, 'accuracy': 0.9752679476371178, 'recall': 0.6634510056617168}\n"
     ]
    },
    {
     "name": "stderr",
     "output_type": "stream",
     "text": [
      "\n",
      "100%|███████████████████████████████████████████████| 65/65 [00:03<00:00, 18.12it/s]"
     ]
    },
    {
     "name": "stdout",
     "output_type": "stream",
     "text": [
      "Test {'loss': 0.4403121829032898, 'exp_dice': 0.5758299767971039, 'accuracy': 0.9758738517761231, 'recall': 0.6191214884702976}\n"
     ]
    },
    {
     "name": "stderr",
     "output_type": "stream",
     "text": [
      "\n",
      "100%|█████████████████████████████████████████████| 260/260 [00:35<00:00,  7.31it/s]"
     ]
    },
    {
     "name": "stdout",
     "output_type": "stream",
     "text": [
      "Train {'loss': 0.23469935936423447, 'exp_dice': 0.6169035476560776, 'accuracy': 0.9748552890924307, 'recall': 0.6613055050373078}\n"
     ]
    },
    {
     "name": "stderr",
     "output_type": "stream",
     "text": [
      "\n",
      "100%|███████████████████████████████████████████████| 65/65 [00:03<00:00, 18.20it/s]"
     ]
    },
    {
     "name": "stdout",
     "output_type": "stream",
     "text": [
      "Test {'loss': 0.4408239043675936, 'exp_dice': 0.5752641794773249, 'accuracy': 0.9764975180992713, 'recall': 0.6317724292094891}\n"
     ]
    },
    {
     "name": "stderr",
     "output_type": "stream",
     "text": [
      "\n",
      "100%|█████████████████████████████████████████████| 260/260 [00:35<00:00,  7.30it/s]"
     ]
    },
    {
     "name": "stdout",
     "output_type": "stream",
     "text": [
      "Train {'loss': 0.23068916324812633, 'exp_dice': 0.6239109057646531, 'accuracy': 0.9750994443893433, 'recall': 0.6630273420077104}\n"
     ]
    },
    {
     "name": "stderr",
     "output_type": "stream",
     "text": [
      "\n",
      "100%|███████████████████████████████████████████████| 65/65 [00:03<00:00, 17.85it/s]"
     ]
    },
    {
     "name": "stdout",
     "output_type": "stream",
     "text": [
      "Test {'loss': 0.44420202236909134, 'exp_dice': 0.573248806825051, 'accuracy': 0.9758420063899114, 'recall': 0.6195621219965127}\n"
     ]
    },
    {
     "name": "stderr",
     "output_type": "stream",
     "text": [
      "\n",
      "100%|█████████████████████████████████████████████| 260/260 [00:35<00:00,  7.30it/s]"
     ]
    },
    {
     "name": "stdout",
     "output_type": "stream",
     "text": [
      "Train {'loss': 0.2341520334665592, 'exp_dice': 0.6187515173393946, 'accuracy': 0.9746984738569994, 'recall': 0.6659770436011828}\n"
     ]
    },
    {
     "name": "stderr",
     "output_type": "stream",
     "text": [
      "\n",
      "100%|███████████████████████████████████████████████| 65/65 [00:03<00:00, 18.01it/s]"
     ]
    },
    {
     "name": "stdout",
     "output_type": "stream",
     "text": [
      "Test {'loss': 0.4425927097980793, 'exp_dice': 0.5744978320140105, 'accuracy': 0.9759737675006573, 'recall': 0.6019135931363473}\n"
     ]
    },
    {
     "name": "stderr",
     "output_type": "stream",
     "text": [
      "\n",
      "100%|█████████████████████████████████████████████| 260/260 [00:35<00:00,  7.30it/s]"
     ]
    },
    {
     "name": "stdout",
     "output_type": "stream",
     "text": [
      "Train {'loss': 0.2341337136351145, 'exp_dice': 0.6173884516725173, 'accuracy': 0.9752485110209539, 'recall': 0.6649442081841138}\n"
     ]
    },
    {
     "name": "stderr",
     "output_type": "stream",
     "text": [
      "\n",
      "100%|███████████████████████████████████████████████| 65/65 [00:03<00:00, 17.87it/s]\n"
     ]
    },
    {
     "name": "stdout",
     "output_type": "stream",
     "text": [
      "Test {'loss': 0.43927980661392213, 'exp_dice': 0.5769801878012144, 'accuracy': 0.9765734305748572, 'recall': 0.6074451153094952}\n"
     ]
    },
    {
     "name": "stderr",
     "output_type": "stream",
     "text": [
      "100%|█████████████████████████████████████████████| 260/260 [00:35<00:00,  7.29it/s]"
     ]
    },
    {
     "name": "stdout",
     "output_type": "stream",
     "text": [
      "Train {'loss': 0.23276084747452003, 'exp_dice': 0.6195847197220876, 'accuracy': 0.9754317577068622, 'recall': 0.6588900495033998}\n"
     ]
    },
    {
     "name": "stderr",
     "output_type": "stream",
     "text": [
      "\n",
      "100%|███████████████████████████████████████████████| 65/65 [00:03<00:00, 18.13it/s]"
     ]
    },
    {
     "name": "stdout",
     "output_type": "stream",
     "text": [
      "Test {'loss': 0.43023590674767126, 'exp_dice': 0.5869962953604184, 'accuracy': 0.97621671970074, 'recall': 0.6232848583505703}\n"
     ]
    },
    {
     "name": "stderr",
     "output_type": "stream",
     "text": [
      "\n",
      "100%|█████████████████████████████████████████████| 260/260 [00:35<00:00,  7.30it/s]"
     ]
    },
    {
     "name": "stdout",
     "output_type": "stream",
     "text": [
      "Train {'loss': 0.23272934716481428, 'exp_dice': 0.62065943055428, 'accuracy': 0.9748323092093835, 'recall': 0.6622931001851192}\n"
     ]
    },
    {
     "name": "stderr",
     "output_type": "stream",
     "text": [
      "\n",
      "100%|███████████████████████████████████████████████| 65/65 [00:03<00:00, 18.11it/s]"
     ]
    },
    {
     "name": "stdout",
     "output_type": "stream",
     "text": [
      "Test {'loss': 0.4426566114792457, 'exp_dice': 0.57434927546061, 'accuracy': 0.9757842137263372, 'recall': 0.6155424649898823}\n"
     ]
    },
    {
     "name": "stderr",
     "output_type": "stream",
     "text": [
      "\n",
      "100%|█████████████████████████████████████████████| 260/260 [00:35<00:00,  7.31it/s]"
     ]
    },
    {
     "name": "stdout",
     "output_type": "stream",
     "text": [
      "Train {'loss': 0.23332129476162103, 'exp_dice': 0.6196271367944204, 'accuracy': 0.9749169221291175, 'recall': 0.6609292544997656}\n"
     ]
    },
    {
     "name": "stderr",
     "output_type": "stream",
     "text": [
      "\n",
      "100%|███████████████████████████████████████████████| 65/65 [00:03<00:00, 18.50it/s]"
     ]
    },
    {
     "name": "stdout",
     "output_type": "stream",
     "text": [
      "Test {'loss': 0.4384996615923368, 'exp_dice': 0.5782148379545945, 'accuracy': 0.9753662182734563, 'recall': 0.6186666348805794}\n"
     ]
    },
    {
     "name": "stderr",
     "output_type": "stream",
     "text": [
      "\n",
      "100%|█████████████████████████████████████████████| 260/260 [00:35<00:00,  7.32it/s]"
     ]
    },
    {
     "name": "stdout",
     "output_type": "stream",
     "text": [
      "Train {'loss': 0.23293691117029924, 'exp_dice': 0.6208020311708634, 'accuracy': 0.9749392931277935, 'recall': 0.6668281731697229}\n"
     ]
    },
    {
     "name": "stderr",
     "output_type": "stream",
     "text": [
      "\n",
      "100%|███████████████████████████████████████████████| 65/65 [00:03<00:00, 18.18it/s]"
     ]
    },
    {
     "name": "stdout",
     "output_type": "stream",
     "text": [
      "Test {'loss': 0.4309727512873136, 'exp_dice': 0.5855942423527057, 'accuracy': 0.9761674367464506, 'recall': 0.6489397369898282}\n"
     ]
    },
    {
     "name": "stderr",
     "output_type": "stream",
     "text": [
      "\n",
      "100%|█████████████████████████████████████████████| 260/260 [00:35<00:00,  7.30it/s]"
     ]
    },
    {
     "name": "stdout",
     "output_type": "stream",
     "text": [
      "Train {'loss': 0.2337634897002807, 'exp_dice': 0.6180257691786839, 'accuracy': 0.9752160952641413, 'recall': 0.6609166858287958}\n"
     ]
    },
    {
     "name": "stderr",
     "output_type": "stream",
     "text": [
      "\n",
      "100%|███████████████████████████████████████████████| 65/65 [00:03<00:00, 18.24it/s]"
     ]
    },
    {
     "name": "stdout",
     "output_type": "stream",
     "text": [
      "Test {'loss': 0.44256847821749173, 'exp_dice': 0.5744000521989969, 'accuracy': 0.9754395558283879, 'recall': 0.61770793566337}\n"
     ]
    },
    {
     "name": "stderr",
     "output_type": "stream",
     "text": [
      "\n",
      "100%|█████████████████████████████████████████████| 260/260 [00:35<00:00,  7.30it/s]"
     ]
    },
    {
     "name": "stdout",
     "output_type": "stream",
     "text": [
      "Train {'loss': 0.23451108726171346, 'exp_dice': 0.617139616723244, 'accuracy': 0.9750254025826087, 'recall': 0.6619234275359374}\n"
     ]
    },
    {
     "name": "stderr",
     "output_type": "stream",
     "text": [
      "\n",
      "100%|███████████████████████████████████████████████| 65/65 [00:03<00:00, 18.11it/s]"
     ]
    },
    {
     "name": "stdout",
     "output_type": "stream",
     "text": [
      "Test {'loss': 0.4357334879728464, 'exp_dice': 0.581850118132738, 'accuracy': 0.9758699123676007, 'recall': 0.6284943388058589}\n"
     ]
    },
    {
     "name": "stderr",
     "output_type": "stream",
     "text": [
      "\n",
      "100%|█████████████████████████████████████████████| 260/260 [00:35<00:00,  7.31it/s]"
     ]
    },
    {
     "name": "stdout",
     "output_type": "stream",
     "text": [
      "Train {'loss': 0.23160968775359483, 'exp_dice': 0.6229639022396161, 'accuracy': 0.9749057292938232, 'recall': 0.6681959356252963}\n"
     ]
    },
    {
     "name": "stderr",
     "output_type": "stream",
     "text": [
      "\n",
      "100%|███████████████████████████████████████████████| 65/65 [00:03<00:00, 17.71it/s]"
     ]
    },
    {
     "name": "stdout",
     "output_type": "stream",
     "text": [
      "Test {'loss': 0.438600243971898, 'exp_dice': 0.5776944004572355, 'accuracy': 0.9763371540949894, 'recall': 0.6214562482558764}\n"
     ]
    },
    {
     "name": "stderr",
     "output_type": "stream",
     "text": [
      "\n",
      "100%|█████████████████████████████████████████████| 260/260 [00:35<00:00,  7.30it/s]"
     ]
    },
    {
     "name": "stdout",
     "output_type": "stream",
     "text": [
      "Train {'loss': 0.23474097974025288, 'exp_dice': 0.6158084057558041, 'accuracy': 0.9752848570163434, 'recall': 0.6647941206510251}\n"
     ]
    },
    {
     "name": "stderr",
     "output_type": "stream",
     "text": [
      "\n",
      "100%|███████████████████████████████████████████████| 65/65 [00:03<00:00, 18.12it/s]"
     ]
    },
    {
     "name": "stdout",
     "output_type": "stream",
     "text": [
      "Test {'loss': 0.4367605915436378, 'exp_dice': 0.5812504383233877, 'accuracy': 0.9758480805617112, 'recall': 0.6177099796441885}\n"
     ]
    },
    {
     "name": "stderr",
     "output_type": "stream",
     "text": [
      "\n",
      "100%|█████████████████████████████████████████████| 260/260 [00:35<00:00,  7.30it/s]"
     ]
    },
    {
     "name": "stdout",
     "output_type": "stream",
     "text": [
      "Train {'loss': 0.2336340464078463, 'exp_dice': 0.6184860397989933, 'accuracy': 0.9748918093167819, 'recall': 0.6587994863207524}\n"
     ]
    },
    {
     "name": "stderr",
     "output_type": "stream",
     "text": [
      "\n",
      "100%|███████████████████████████████████████████████| 65/65 [00:03<00:00, 18.31it/s]"
     ]
    },
    {
     "name": "stdout",
     "output_type": "stream",
     "text": [
      "Test {'loss': 0.4381902052805974, 'exp_dice': 0.5787145325770745, 'accuracy': 0.976354114825909, 'recall': 0.6088272887926836}\n"
     ]
    },
    {
     "name": "stderr",
     "output_type": "stream",
     "text": [
      "\n",
      "100%|█████████████████████████████████████████████| 260/260 [00:35<00:00,  7.30it/s]"
     ]
    },
    {
     "name": "stdout",
     "output_type": "stream",
     "text": [
      "Train {'loss': 0.23341417541870704, 'exp_dice': 0.6189584561838554, 'accuracy': 0.9751529198426466, 'recall': 0.6670175065214817}\n"
     ]
    },
    {
     "name": "stderr",
     "output_type": "stream",
     "text": [
      "\n",
      "100%|███████████████████████████████████████████████| 65/65 [00:03<00:00, 18.25it/s]\n"
     ]
    },
    {
     "name": "stdout",
     "output_type": "stream",
     "text": [
      "Test {'loss': 0.44243039442942694, 'exp_dice': 0.5737366933089036, 'accuracy': 0.9759813895592323, 'recall': 0.6053670631005214}\n"
     ]
    },
    {
     "name": "stderr",
     "output_type": "stream",
     "text": [
      "100%|█████████████████████████████████████████████| 260/260 [00:35<00:00,  7.29it/s]"
     ]
    },
    {
     "name": "stdout",
     "output_type": "stream",
     "text": [
      "Train {'loss': 0.23251456005068927, 'exp_dice': 0.6205893180691279, 'accuracy': 0.9751815282381497, 'recall': 0.6589201303628774}\n"
     ]
    },
    {
     "name": "stderr",
     "output_type": "stream",
     "text": [
      "\n",
      "100%|███████████████████████████████████████████████| 65/65 [00:03<00:00, 17.75it/s]"
     ]
    },
    {
     "name": "stdout",
     "output_type": "stream",
     "text": [
      "Test {'loss': 0.4397979222811185, 'exp_dice': 0.5771395687873547, 'accuracy': 0.9763790937570426, 'recall': 0.6182706113045032}\n"
     ]
    },
    {
     "name": "stderr",
     "output_type": "stream",
     "text": [
      "\n",
      "100%|█████████████████████████████████████████████| 260/260 [00:35<00:00,  7.30it/s]"
     ]
    },
    {
     "name": "stdout",
     "output_type": "stream",
     "text": [
      "Train {'loss': 0.23283909599368388, 'exp_dice': 0.6194750673495806, 'accuracy': 0.9753978619208703, 'recall': 0.6536003121962914}\n"
     ]
    },
    {
     "name": "stderr",
     "output_type": "stream",
     "text": [
      "\n",
      "100%|███████████████████████████████████████████████| 65/65 [00:03<00:00, 18.03it/s]"
     ]
    },
    {
     "name": "stdout",
     "output_type": "stream",
     "text": [
      "Test {'loss': 0.45246904079730693, 'exp_dice': 0.564353351868116, 'accuracy': 0.9755790490370531, 'recall': 0.6000142865456067}\n"
     ]
    },
    {
     "name": "stderr",
     "output_type": "stream",
     "text": [
      "\n",
      "100%|█████████████████████████████████████████████| 260/260 [00:35<00:00,  7.30it/s]"
     ]
    },
    {
     "name": "stdout",
     "output_type": "stream",
     "text": [
      "Train {'loss': 0.23119781235089668, 'exp_dice': 0.6224230327285253, 'accuracy': 0.9753434492991521, 'recall': 0.6647291468886228}\n"
     ]
    },
    {
     "name": "stderr",
     "output_type": "stream",
     "text": [
      "\n",
      "100%|███████████████████████████████████████████████| 65/65 [00:03<00:00, 18.13it/s]"
     ]
    },
    {
     "name": "stdout",
     "output_type": "stream",
     "text": [
      "Test {'loss': 0.43641445361650905, 'exp_dice': 0.5795607475134043, 'accuracy': 0.9761345643263597, 'recall': 0.6127323343203618}\n"
     ]
    },
    {
     "name": "stderr",
     "output_type": "stream",
     "text": [
      "\n",
      "100%|█████████████████████████████████████████████| 260/260 [00:35<00:00,  7.30it/s]"
     ]
    },
    {
     "name": "stdout",
     "output_type": "stream",
     "text": [
      "Train {'loss': 0.23150001621017088, 'exp_dice': 0.6222042756584975, 'accuracy': 0.9751468273309561, 'recall': 0.6614173985444582}\n"
     ]
    },
    {
     "name": "stderr",
     "output_type": "stream",
     "text": [
      "\n",
      "100%|███████████████████████████████████████████████| 65/65 [00:03<00:00, 18.21it/s]\n"
     ]
    },
    {
     "name": "stdout",
     "output_type": "stream",
     "text": [
      "Test {'loss': 0.4328808023379399, 'exp_dice': 0.5830383449792862, 'accuracy': 0.9760915169349084, 'recall': 0.6236122470635634}\n"
     ]
    },
    {
     "name": "stderr",
     "output_type": "stream",
     "text": [
      "100%|█████████████████████████████████████████████| 260/260 [00:35<00:00,  7.30it/s]"
     ]
    },
    {
     "name": "stdout",
     "output_type": "stream",
     "text": [
      "Train {'loss': 0.23091096700384067, 'exp_dice': 0.6251781060145452, 'accuracy': 0.9744921372486994, 'recall': 0.6637545701402884}\n"
     ]
    },
    {
     "name": "stderr",
     "output_type": "stream",
     "text": [
      "\n",
      "100%|███████████████████████████████████████████████| 65/65 [00:03<00:00, 18.39it/s]"
     ]
    },
    {
     "name": "stdout",
     "output_type": "stream",
     "text": [
      "Test {'loss': 0.4409118707363422, 'exp_dice': 0.5770076921352973, 'accuracy': 0.9758730081411509, 'recall': 0.6248187915636942}\n"
     ]
    },
    {
     "name": "stderr",
     "output_type": "stream",
     "text": [
      "\n",
      "100%|█████████████████████████████████████████████| 260/260 [00:35<00:00,  7.30it/s]"
     ]
    },
    {
     "name": "stdout",
     "output_type": "stream",
     "text": [
      "Train {'loss': 0.23179395164434727, 'exp_dice': 0.6223693143862944, 'accuracy': 0.9749784102806678, 'recall': 0.6675423569404162}\n"
     ]
    },
    {
     "name": "stderr",
     "output_type": "stream",
     "text": [
      "\n",
      "100%|███████████████████████████████████████████████| 65/65 [00:03<00:00, 18.30it/s]"
     ]
    },
    {
     "name": "stdout",
     "output_type": "stream",
     "text": [
      "Test {'loss': 0.4426209413088285, 'exp_dice': 0.5745711853870978, 'accuracy': 0.9761294071490948, 'recall': 0.6054583712266042}\n"
     ]
    },
    {
     "name": "stderr",
     "output_type": "stream",
     "text": [
      "\n",
      "100%|█████████████████████████████████████████████| 260/260 [00:35<00:00,  7.30it/s]"
     ]
    },
    {
     "name": "stdout",
     "output_type": "stream",
     "text": [
      "Train {'loss': 0.23162795786674206, 'exp_dice': 0.6218699205380219, 'accuracy': 0.9753571455295269, 'recall': 0.6655179082774199}\n"
     ]
    },
    {
     "name": "stderr",
     "output_type": "stream",
     "text": [
      "\n",
      "100%|███████████████████████████████████████████████| 65/65 [00:03<00:00, 17.91it/s]"
     ]
    },
    {
     "name": "stdout",
     "output_type": "stream",
     "text": [
      "Test {'loss': 0.4371696618887094, 'exp_dice': 0.5798446148633957, 'accuracy': 0.9764491594754733, 'recall': 0.6164177470482313}\n"
     ]
    },
    {
     "name": "stderr",
     "output_type": "stream",
     "text": [
      "\n",
      "100%|█████████████████████████████████████████████| 260/260 [00:35<00:00,  7.29it/s]"
     ]
    },
    {
     "name": "stdout",
     "output_type": "stream",
     "text": [
      "Train {'loss': 0.23349423930048943, 'exp_dice': 0.6179649124924953, 'accuracy': 0.975284169270442, 'recall': 0.6626273298492799}\n"
     ]
    },
    {
     "name": "stderr",
     "output_type": "stream",
     "text": [
      "\n",
      "100%|███████████████████████████████████████████████| 65/65 [00:03<00:00, 18.06it/s]\n"
     ]
    },
    {
     "name": "stdout",
     "output_type": "stream",
     "text": [
      "Test {'loss': 0.44086138376822837, 'exp_dice': 0.5764126860178433, 'accuracy': 0.975502689068134, 'recall': 0.6114382170713865}\n"
     ]
    },
    {
     "name": "stderr",
     "output_type": "stream",
     "text": [
      "100%|█████████████████████████████████████████████| 260/260 [00:35<00:00,  7.30it/s]"
     ]
    },
    {
     "name": "stdout",
     "output_type": "stream",
     "text": [
      "Train {'loss': 0.2326028435276105, 'exp_dice': 0.6203725069188155, 'accuracy': 0.9750577193040114, 'recall': 0.6634079686724222}\n"
     ]
    },
    {
     "name": "stderr",
     "output_type": "stream",
     "text": [
      "\n",
      "100%|███████████████████████████████████████████████| 65/65 [00:03<00:00, 18.19it/s]"
     ]
    },
    {
     "name": "stdout",
     "output_type": "stream",
     "text": [
      "Test {'loss': 0.4339538885996892, 'exp_dice': 0.5818498923228337, 'accuracy': 0.9756127650921161, 'recall': 0.6310768191631023}\n"
     ]
    },
    {
     "name": "stderr",
     "output_type": "stream",
     "text": [
      "\n",
      "100%|█████████████████████████████████████████████| 260/260 [00:35<00:00,  7.30it/s]"
     ]
    },
    {
     "name": "stdout",
     "output_type": "stream",
     "text": [
      "Train {'loss': 0.234225857257843, 'exp_dice': 0.6184524657921149, 'accuracy': 0.974746586726262, 'recall': 0.6637761749900304}\n"
     ]
    },
    {
     "name": "stderr",
     "output_type": "stream",
     "text": [
      "\n",
      "100%|███████████████████████████████████████████████| 65/65 [00:03<00:00, 18.22it/s]\n"
     ]
    },
    {
     "name": "stdout",
     "output_type": "stream",
     "text": [
      "Test {'loss': 0.43701150967524605, 'exp_dice': 0.5801019265101506, 'accuracy': 0.976026175572322, 'recall': 0.6257793577817771}\n"
     ]
    },
    {
     "name": "stderr",
     "output_type": "stream",
     "text": [
      "100%|█████████████████████████████████████████████| 260/260 [00:35<00:00,  7.30it/s]"
     ]
    },
    {
     "name": "stdout",
     "output_type": "stream",
     "text": [
      "Train {'loss': 0.2338625138768783, 'exp_dice': 0.6182343453168869, 'accuracy': 0.9750131221917959, 'recall': 0.6653600186109543}\n"
     ]
    },
    {
     "name": "stderr",
     "output_type": "stream",
     "text": [
      "\n",
      "100%|███████████████████████████████████████████████| 65/65 [00:03<00:00, 17.90it/s]"
     ]
    },
    {
     "name": "stdout",
     "output_type": "stream",
     "text": [
      "Test {'loss': 0.43413574878986066, 'exp_dice': 0.5839101073833612, 'accuracy': 0.9761663656968337, 'recall': 0.6247344250862416}\n"
     ]
    },
    {
     "name": "stderr",
     "output_type": "stream",
     "text": [
      "\n",
      "100%|█████████████████████████████████████████████| 260/260 [00:35<00:00,  7.30it/s]"
     ]
    },
    {
     "name": "stdout",
     "output_type": "stream",
     "text": [
      "Train {'loss': 0.23356080399109766, 'exp_dice': 0.6177947969104235, 'accuracy': 0.9753524963672344, 'recall': 0.6607682511783564}\n"
     ]
    },
    {
     "name": "stderr",
     "output_type": "stream",
     "text": [
      "\n",
      "100%|███████████████████████████████████████████████| 65/65 [00:03<00:00, 18.07it/s]"
     ]
    },
    {
     "name": "stdout",
     "output_type": "stream",
     "text": [
      "Test {'loss': 0.44957195703799907, 'exp_dice': 0.5657735952964196, 'accuracy': 0.9755886811476487, 'recall': 0.6225737161361254}\n"
     ]
    },
    {
     "name": "stderr",
     "output_type": "stream",
     "text": [
      "\n",
      "100%|█████████████████████████████████████████████| 260/260 [00:35<00:00,  7.30it/s]"
     ]
    },
    {
     "name": "stdout",
     "output_type": "stream",
     "text": [
      "Train {'loss': 0.2327043358523112, 'exp_dice': 0.619160233094142, 'accuracy': 0.9755256781211266, 'recall': 0.6650663742652306}\n"
     ]
    },
    {
     "name": "stderr",
     "output_type": "stream",
     "text": [
      "\n",
      "100%|███████████████████████████████████████████████| 65/65 [00:03<00:00, 18.11it/s]"
     ]
    },
    {
     "name": "stdout",
     "output_type": "stream",
     "text": [
      "Test {'loss': 0.4509159619991596, 'exp_dice': 0.5652248666836666, 'accuracy': 0.9758392260624812, 'recall': 0.5934483321813436}\n"
     ]
    },
    {
     "name": "stderr",
     "output_type": "stream",
     "text": [
      "\n",
      "100%|█████████████████████████████████████████████| 260/260 [00:35<00:00,  7.30it/s]"
     ]
    },
    {
     "name": "stdout",
     "output_type": "stream",
     "text": [
      "Train {'loss': 0.2322422486085158, 'exp_dice': 0.6207258265178938, 'accuracy': 0.9751186040731576, 'recall': 0.6603515376265232}\n"
     ]
    },
    {
     "name": "stderr",
     "output_type": "stream",
     "text": [
      "\n",
      "100%|███████████████████████████████████████████████| 65/65 [00:03<00:00, 18.30it/s]"
     ]
    },
    {
     "name": "stdout",
     "output_type": "stream",
     "text": [
      "Test {'loss': 0.4275483855834374, 'exp_dice': 0.5891316026449204, 'accuracy': 0.976704216003418, 'recall': 0.6285408707765433}\n"
     ]
    },
    {
     "name": "stderr",
     "output_type": "stream",
     "text": [
      "\n",
      "100%|█████████████████████████████████████████████| 260/260 [00:35<00:00,  7.29it/s]"
     ]
    },
    {
     "name": "stdout",
     "output_type": "stream",
     "text": [
      "Train {'loss': 0.23161093240173963, 'exp_dice': 0.6222980895464738, 'accuracy': 0.9750072405888484, 'recall': 0.6626459961327222}\n"
     ]
    },
    {
     "name": "stderr",
     "output_type": "stream",
     "text": [
      "\n",
      "100%|███████████████████████████████████████████████| 65/65 [00:03<00:00, 18.03it/s]"
     ]
    },
    {
     "name": "stdout",
     "output_type": "stream",
     "text": [
      "Test {'loss': 0.4486363566838778, 'exp_dice': 0.5683259198298821, 'accuracy': 0.9762180401728704, 'recall': 0.6040260961422553}\n"
     ]
    },
    {
     "name": "stderr",
     "output_type": "stream",
     "text": [
      "\n",
      "100%|█████████████████████████████████████████████| 260/260 [00:35<00:00,  7.30it/s]"
     ]
    },
    {
     "name": "stdout",
     "output_type": "stream",
     "text": [
      "Train {'loss': 0.2354513684144387, 'exp_dice': 0.6154339500344717, 'accuracy': 0.9748852069561298, 'recall': 0.6670530329530056}\n"
     ]
    },
    {
     "name": "stderr",
     "output_type": "stream",
     "text": [
      "\n",
      "100%|███████████████████████████████████████████████| 65/65 [00:03<00:00, 18.13it/s]"
     ]
    },
    {
     "name": "stdout",
     "output_type": "stream",
     "text": [
      "Test {'loss': 0.4436687056834881, 'exp_dice': 0.5725248942008385, 'accuracy': 0.9761215503399189, 'recall': 0.6085845484183385}\n"
     ]
    },
    {
     "name": "stderr",
     "output_type": "stream",
     "text": [
      "\n",
      "100%|█████████████████████████████████████████████| 260/260 [00:35<00:00,  7.30it/s]"
     ]
    },
    {
     "name": "stdout",
     "output_type": "stream",
     "text": [
      "Train {'loss': 0.23310824896280583, 'exp_dice': 0.6188947960734384, 'accuracy': 0.9753133205267099, 'recall': 0.6625924485234114}\n"
     ]
    },
    {
     "name": "stderr",
     "output_type": "stream",
     "text": [
      "\n",
      "100%|███████████████████████████████████████████████| 65/65 [00:03<00:00, 18.37it/s]"
     ]
    },
    {
     "name": "stdout",
     "output_type": "stream",
     "text": [
      "Test {'loss': 0.4580427188139695, 'exp_dice': 0.557506578702193, 'accuracy': 0.9769065416776217, 'recall': 0.5789810462639882}\n"
     ]
    },
    {
     "name": "stderr",
     "output_type": "stream",
     "text": [
      "\n",
      "100%|█████████████████████████████████████████████| 260/260 [00:35<00:00,  7.30it/s]"
     ]
    },
    {
     "name": "stdout",
     "output_type": "stream",
     "text": [
      "Train {'loss': 0.23413240760564805, 'exp_dice': 0.6171551729624088, 'accuracy': 0.9752550785358135, 'recall': 0.6577720223711088}\n"
     ]
    },
    {
     "name": "stderr",
     "output_type": "stream",
     "text": [
      "\n",
      "100%|███████████████████████████████████████████████| 65/65 [00:03<00:00, 18.32it/s]"
     ]
    },
    {
     "name": "stdout",
     "output_type": "stream",
     "text": [
      "Test {'loss': 0.43351389444791355, 'exp_dice': 0.5826201714002169, 'accuracy': 0.9761464925912711, 'recall': 0.6094574575240795}\n"
     ]
    },
    {
     "name": "stderr",
     "output_type": "stream",
     "text": [
      "\n",
      "100%|█████████████████████████████████████████████| 260/260 [00:35<00:00,  7.30it/s]"
     ]
    },
    {
     "name": "stdout",
     "output_type": "stream",
     "text": [
      "Train {'loss': 0.2322898293343874, 'exp_dice': 0.6211031776781265, 'accuracy': 0.9750915178885826, 'recall': 0.6654608883536779}\n"
     ]
    },
    {
     "name": "stderr",
     "output_type": "stream",
     "text": [
      "\n",
      "100%|███████████████████████████████████████████████| 65/65 [00:03<00:00, 17.87it/s]"
     ]
    },
    {
     "name": "stdout",
     "output_type": "stream",
     "text": [
      "Test {'loss': 0.44120943729694073, 'exp_dice': 0.5758117474042452, 'accuracy': 0.9759572175832895, 'recall': 0.6135830251070169}\n"
     ]
    },
    {
     "name": "stderr",
     "output_type": "stream",
     "text": [
      "\n",
      "100%|█████████████████████████████████████████████| 260/260 [00:35<00:00,  7.30it/s]"
     ]
    },
    {
     "name": "stdout",
     "output_type": "stream",
     "text": [
      "Train {'loss': 0.23388905187065784, 'exp_dice': 0.6193103073308102, 'accuracy': 0.9746076088685256, 'recall': 0.6576574967457698}\n"
     ]
    },
    {
     "name": "stderr",
     "output_type": "stream",
     "text": [
      "\n",
      "100%|███████████████████████████████████████████████| 65/65 [00:03<00:00, 18.03it/s]\n"
     ]
    },
    {
     "name": "stdout",
     "output_type": "stream",
     "text": [
      "Test {'loss': 0.44262128059680644, 'exp_dice': 0.5744956612586976, 'accuracy': 0.9766021435077373, 'recall': 0.61252939586456}\n"
     ]
    },
    {
     "name": "stderr",
     "output_type": "stream",
     "text": [
      "100%|█████████████████████████████████████████████| 260/260 [00:35<00:00,  7.30it/s]"
     ]
    },
    {
     "name": "stdout",
     "output_type": "stream",
     "text": [
      "Train {'loss': 0.23297224308435732, 'exp_dice': 0.6197414653232465, 'accuracy': 0.9751319683515108, 'recall': 0.6684488025995401}\n"
     ]
    },
    {
     "name": "stderr",
     "output_type": "stream",
     "text": [
      "\n",
      "100%|███████████████████████████████████████████████| 65/65 [00:03<00:00, 18.15it/s]"
     ]
    },
    {
     "name": "stdout",
     "output_type": "stream",
     "text": [
      "Test {'loss': 0.4234942491237934, 'exp_dice': 0.5931811965428866, 'accuracy': 0.9761584795438326, 'recall': 0.6295182943344116}\n"
     ]
    },
    {
     "name": "stderr",
     "output_type": "stream",
     "text": [
      "\n",
      "100%|█████████████████████████████████████████████| 260/260 [00:35<00:00,  7.29it/s]"
     ]
    },
    {
     "name": "stdout",
     "output_type": "stream",
     "text": [
      "Train {'loss': 0.23218071297384224, 'exp_dice': 0.6218393644747826, 'accuracy': 0.9748892802458543, 'recall': 0.6640713367324609}\n"
     ]
    },
    {
     "name": "stderr",
     "output_type": "stream",
     "text": [
      "\n",
      "100%|███████████████████████████████████████████████| 65/65 [00:03<00:00, 18.13it/s]"
     ]
    },
    {
     "name": "stdout",
     "output_type": "stream",
     "text": [
      "Test {'loss': 0.46375418718044575, 'exp_dice': 0.5510316053262123, 'accuracy': 0.9767527726980356, 'recall': 0.5741981884607902}\n"
     ]
    },
    {
     "name": "stderr",
     "output_type": "stream",
     "text": [
      "\n",
      "100%|█████████████████████████████████████████████| 260/260 [00:35<00:00,  7.30it/s]"
     ]
    },
    {
     "name": "stdout",
     "output_type": "stream",
     "text": [
      "Train {'loss': 0.23443670633893746, 'exp_dice': 0.6167550535926308, 'accuracy': 0.9750846697733953, 'recall': 0.6592617949041036}\n"
     ]
    },
    {
     "name": "stderr",
     "output_type": "stream",
     "text": [
      "\n",
      "100%|███████████████████████████████████████████████| 65/65 [00:03<00:00, 18.27it/s]"
     ]
    },
    {
     "name": "stdout",
     "output_type": "stream",
     "text": [
      "Test {'loss': 0.4368988220508282, 'exp_dice': 0.5801155778077932, 'accuracy': 0.9759714640103854, 'recall': 0.6149728096448458}\n"
     ]
    },
    {
     "name": "stderr",
     "output_type": "stream",
     "text": [
      "\n",
      "100%|█████████████████████████████████████████████| 260/260 [00:35<00:00,  7.30it/s]"
     ]
    },
    {
     "name": "stdout",
     "output_type": "stream",
     "text": [
      "Train {'loss': 0.23375705520694073, 'exp_dice': 0.6186348742590501, 'accuracy': 0.9749847357089703, 'recall': 0.6653506385592314}\n"
     ]
    },
    {
     "name": "stderr",
     "output_type": "stream",
     "text": [
      "\n",
      "100%|███████████████████████████████████████████████| 65/65 [00:03<00:00, 18.07it/s]"
     ]
    },
    {
     "name": "stdout",
     "output_type": "stream",
     "text": [
      "Test {'loss': 0.45525238605645985, 'exp_dice': 0.5607294999636137, 'accuracy': 0.9765898851247934, 'recall': 0.6213017855699245}\n"
     ]
    },
    {
     "name": "stderr",
     "output_type": "stream",
     "text": [
      "\n",
      "100%|█████████████████████████████████████████████| 260/260 [00:35<00:00,  7.29it/s]"
     ]
    },
    {
     "name": "stdout",
     "output_type": "stream",
     "text": [
      "Train {'loss': 0.23216176250806222, 'exp_dice': 0.6200813840215023, 'accuracy': 0.9754969633542574, 'recall': 0.6605380283525357}\n"
     ]
    },
    {
     "name": "stderr",
     "output_type": "stream",
     "text": [
      "\n",
      "100%|███████████████████████████████████████████████| 65/65 [00:03<00:00, 18.17it/s]"
     ]
    },
    {
     "name": "stdout",
     "output_type": "stream",
     "text": [
      "Test {'loss': 0.43374653229346644, 'exp_dice': 0.5829491317272186, 'accuracy': 0.9767768713144156, 'recall': 0.6309469722784482}\n"
     ]
    },
    {
     "name": "stderr",
     "output_type": "stream",
     "text": [
      "\n",
      "100%|█████████████████████████████████████████████| 260/260 [00:35<00:00,  7.29it/s]"
     ]
    },
    {
     "name": "stdout",
     "output_type": "stream",
     "text": [
      "Train {'loss': 0.23258958917397718, 'exp_dice': 0.6212799846409605, 'accuracy': 0.9746908481304463, 'recall': 0.6602047630227529}\n"
     ]
    },
    {
     "name": "stderr",
     "output_type": "stream",
     "text": [
      "\n",
      "100%|███████████████████████████████████████████████| 65/65 [00:03<00:00, 18.33it/s]"
     ]
    },
    {
     "name": "stdout",
     "output_type": "stream",
     "text": [
      "Test {'loss': 0.461957966364347, 'exp_dice': 0.554619941344628, 'accuracy': 0.9760358810424805, 'recall': 0.5909101770474361}\n"
     ]
    },
    {
     "name": "stderr",
     "output_type": "stream",
     "text": [
      "\n",
      "100%|█████████████████████████████████████████████| 260/260 [00:35<00:00,  7.30it/s]"
     ]
    },
    {
     "name": "stdout",
     "output_type": "stream",
     "text": [
      "Train {'loss': 0.23261375536139195, 'exp_dice': 0.6196746128682907, 'accuracy': 0.9753505009871263, 'recall': 0.6562610420470054}\n"
     ]
    },
    {
     "name": "stderr",
     "output_type": "stream",
     "text": [
      "\n",
      "100%|███████████████████████████████████████████████| 65/65 [00:03<00:00, 18.02it/s]"
     ]
    },
    {
     "name": "stdout",
     "output_type": "stream",
     "text": [
      "Test {'loss': 0.4346588593262892, 'exp_dice': 0.5827566944635831, 'accuracy': 0.9766380016620343, 'recall': 0.6129529939248012}\n"
     ]
    },
    {
     "name": "stderr",
     "output_type": "stream",
     "text": [
      "\n",
      "100%|█████████████████████████████████████████████| 260/260 [00:35<00:00,  7.30it/s]"
     ]
    },
    {
     "name": "stdout",
     "output_type": "stream",
     "text": [
      "Train {'loss': 0.2316662430190123, 'exp_dice': 0.6218805593366806, 'accuracy': 0.9752419581780067, 'recall': 0.665766967030672}\n"
     ]
    },
    {
     "name": "stderr",
     "output_type": "stream",
     "text": [
      "\n",
      "100%|███████████████████████████████████████████████| 65/65 [00:03<00:00, 18.29it/s]"
     ]
    },
    {
     "name": "stdout",
     "output_type": "stream",
     "text": [
      "Test {'loss': 0.4309526305932265, 'exp_dice': 0.586275152862072, 'accuracy': 0.976512388082651, 'recall': 0.6291689418829405}\n"
     ]
    },
    {
     "name": "stderr",
     "output_type": "stream",
     "text": [
      "\n",
      "100%|█████████████████████████████████████████████| 260/260 [00:35<00:00,  7.29it/s]"
     ]
    },
    {
     "name": "stdout",
     "output_type": "stream",
     "text": [
      "Train {'loss': 0.2319286088530834, 'exp_dice': 0.6205916209862783, 'accuracy': 0.9754232956812932, 'recall': 0.6650396045583945}\n"
     ]
    },
    {
     "name": "stderr",
     "output_type": "stream",
     "text": [
      "\n",
      "100%|███████████████████████████████████████████████| 65/65 [00:03<00:00, 18.01it/s]"
     ]
    },
    {
     "name": "stdout",
     "output_type": "stream",
     "text": [
      "Test {'loss': 0.44591825833687415, 'exp_dice': 0.5709667462569017, 'accuracy': 0.9759556623605582, 'recall': 0.6255316147437462}\n"
     ]
    },
    {
     "name": "stderr",
     "output_type": "stream",
     "text": [
      "\n",
      "100%|█████████████████████████████████████████████| 260/260 [00:35<00:00,  7.29it/s]"
     ]
    },
    {
     "name": "stdout",
     "output_type": "stream",
     "text": [
      "Train {'loss': 0.23404670283198356, 'exp_dice': 0.6186950082389208, 'accuracy': 0.9747942942839403, 'recall': 0.6566670707785166}\n"
     ]
    },
    {
     "name": "stderr",
     "output_type": "stream",
     "text": [
      "\n",
      "100%|███████████████████████████████████████████████| 65/65 [00:03<00:00, 18.05it/s]\n"
     ]
    },
    {
     "name": "stdout",
     "output_type": "stream",
     "text": [
      "Test {'loss': 0.44464261073332567, 'exp_dice': 0.5714326739311218, 'accuracy': 0.9752970328697792, 'recall': 0.6195737925859598}\n"
     ]
    },
    {
     "name": "stderr",
     "output_type": "stream",
     "text": [
      "100%|█████████████████████████████████████████████| 260/260 [00:35<00:00,  7.28it/s]"
     ]
    },
    {
     "name": "stdout",
     "output_type": "stream",
     "text": [
      "Train {'loss': 0.23335496748869236, 'exp_dice': 0.6172240238350172, 'accuracy': 0.9756804117789635, 'recall': 0.6646111130714416}\n"
     ]
    },
    {
     "name": "stderr",
     "output_type": "stream",
     "text": [
      "\n",
      "100%|███████████████████████████████████████████████| 65/65 [00:03<00:00, 18.25it/s]"
     ]
    },
    {
     "name": "stdout",
     "output_type": "stream",
     "text": [
      "Test {'loss': 0.43491456783734833, 'exp_dice': 0.5826139204777204, 'accuracy': 0.9762051362257738, 'recall': 0.6312585800886155}\n"
     ]
    },
    {
     "name": "stderr",
     "output_type": "stream",
     "text": [
      "\n",
      "100%|█████████████████████████████████████████████| 260/260 [00:35<00:00,  7.31it/s]"
     ]
    },
    {
     "name": "stdout",
     "output_type": "stream",
     "text": [
      "Train {'loss': 0.23257309439090582, 'exp_dice': 0.6201327589268868, 'accuracy': 0.9750526446562547, 'recall': 0.6664720237255096}\n"
     ]
    },
    {
     "name": "stderr",
     "output_type": "stream",
     "text": [
      "\n",
      "100%|███████████████████████████████████████████████| 65/65 [00:03<00:00, 18.21it/s]"
     ]
    },
    {
     "name": "stdout",
     "output_type": "stream",
     "text": [
      "Test {'loss': 0.4358777458851154, 'exp_dice': 0.5804082618309901, 'accuracy': 0.9759382688082181, 'recall': 0.6166006191418721}\n"
     ]
    },
    {
     "name": "stderr",
     "output_type": "stream",
     "text": [
      "\n",
      "100%|█████████████████████████████████████████████| 260/260 [00:35<00:00,  7.30it/s]"
     ]
    },
    {
     "name": "stdout",
     "output_type": "stream",
     "text": [
      "Train {'loss': 0.23388034231387653, 'exp_dice': 0.6183097026382501, 'accuracy': 0.9748915085425743, 'recall': 0.6635533715669926}\n"
     ]
    },
    {
     "name": "stderr",
     "output_type": "stream",
     "text": [
      "\n",
      "100%|███████████████████████████████████████████████| 65/65 [00:03<00:00, 18.10it/s]"
     ]
    },
    {
     "name": "stdout",
     "output_type": "stream",
     "text": [
      "Test {'loss': 0.4415754850094135, 'exp_dice': 0.5756617268690696, 'accuracy': 0.9761067683880146, 'recall': 0.6204062695686634}\n"
     ]
    },
    {
     "name": "stderr",
     "output_type": "stream",
     "text": [
      "\n",
      "100%|█████████████████████████████████████████████| 260/260 [00:35<00:00,  7.30it/s]"
     ]
    },
    {
     "name": "stdout",
     "output_type": "stream",
     "text": [
      "Train {'loss': 0.23342789486050605, 'exp_dice': 0.6182701665908098, 'accuracy': 0.9753390678992638, 'recall': 0.6636505546478125}\n"
     ]
    },
    {
     "name": "stderr",
     "output_type": "stream",
     "text": [
      "\n",
      "100%|███████████████████████████████████████████████| 65/65 [00:03<00:00, 18.16it/s]"
     ]
    },
    {
     "name": "stdout",
     "output_type": "stream",
     "text": [
      "Test {'loss': 0.4323068829683157, 'exp_dice': 0.5833304613255538, 'accuracy': 0.9758395855243389, 'recall': 0.6167662928310724}\n"
     ]
    },
    {
     "name": "stderr",
     "output_type": "stream",
     "text": [
      "\n",
      "100%|█████████████████████████████████████████████| 260/260 [00:35<00:00,  7.30it/s]"
     ]
    },
    {
     "name": "stdout",
     "output_type": "stream",
     "text": [
      "Train {'loss': 0.2303422608627723, 'exp_dice': 0.6239982602687982, 'accuracy': 0.975295431797321, 'recall': 0.6628062696411059}\n"
     ]
    },
    {
     "name": "stderr",
     "output_type": "stream",
     "text": [
      "\n",
      "100%|███████████████████████████████████████████████| 65/65 [00:03<00:00, 18.06it/s]"
     ]
    },
    {
     "name": "stdout",
     "output_type": "stream",
     "text": [
      "Test {'loss': 0.4413096840565021, 'exp_dice': 0.5755500632982987, 'accuracy': 0.9754782016460712, 'recall': 0.615303635597229}\n"
     ]
    },
    {
     "name": "stderr",
     "output_type": "stream",
     "text": [
      "\n",
      "100%|█████████████████████████████████████████████| 260/260 [00:35<00:00,  7.28it/s]"
     ]
    },
    {
     "name": "stdout",
     "output_type": "stream",
     "text": [
      "Train {'loss': 0.23274609922216488, 'exp_dice': 0.6202657368893807, 'accuracy': 0.9750922184724075, 'recall': 0.6660408732982782}\n"
     ]
    },
    {
     "name": "stderr",
     "output_type": "stream",
     "text": [
      "\n",
      "100%|███████████████████████████████████████████████| 65/65 [00:03<00:00, 18.13it/s]"
     ]
    },
    {
     "name": "stdout",
     "output_type": "stream",
     "text": [
      "Test {'loss': 0.44275377988815307, 'exp_dice': 0.5741665714062177, 'accuracy': 0.9766768528864934, 'recall': 0.6165451356997856}\n"
     ]
    },
    {
     "name": "stderr",
     "output_type": "stream",
     "text": [
      "\n",
      "100%|█████████████████████████████████████████████| 260/260 [00:35<00:00,  7.30it/s]"
     ]
    },
    {
     "name": "stdout",
     "output_type": "stream",
     "text": [
      "Train {'loss': 0.2312118511933547, 'exp_dice': 0.6224622233555868, 'accuracy': 0.9752867313531729, 'recall': 0.6638121764247235}\n"
     ]
    },
    {
     "name": "stderr",
     "output_type": "stream",
     "text": [
      "\n",
      "100%|███████████████████████████████████████████████| 65/65 [00:03<00:00, 17.87it/s]"
     ]
    },
    {
     "name": "stdout",
     "output_type": "stream",
     "text": [
      "Test {'loss': 0.4484159258695749, 'exp_dice': 0.5682655765460087, 'accuracy': 0.9763124979459322, 'recall': 0.5930810449215081}\n"
     ]
    },
    {
     "name": "stderr",
     "output_type": "stream",
     "text": [
      "\n",
      "100%|█████████████████████████████████████████████| 260/260 [00:35<00:00,  7.29it/s]"
     ]
    },
    {
     "name": "stdout",
     "output_type": "stream",
     "text": [
      "Train {'loss': 0.23187138123007922, 'exp_dice': 0.6223655811009499, 'accuracy': 0.9750721197861891, 'recall': 0.6676691004863152}\n"
     ]
    },
    {
     "name": "stderr",
     "output_type": "stream",
     "text": [
      "\n",
      "100%|███████████████████████████████████████████████| 65/65 [00:03<00:00, 18.18it/s]"
     ]
    },
    {
     "name": "stdout",
     "output_type": "stream",
     "text": [
      "Test {'loss': 0.44578612584334154, 'exp_dice': 0.569803175674035, 'accuracy': 0.9748824999882625, 'recall': 0.6126911851075979}\n"
     ]
    },
    {
     "name": "stderr",
     "output_type": "stream",
     "text": [
      "\n",
      "100%|█████████████████████████████████████████████| 260/260 [00:35<00:00,  7.30it/s]"
     ]
    },
    {
     "name": "stdout",
     "output_type": "stream",
     "text": [
      "Train {'loss': 0.2322085150732444, 'exp_dice': 0.6203163471287833, 'accuracy': 0.9754513153663048, 'recall': 0.6660582906924761}\n"
     ]
    },
    {
     "name": "stderr",
     "output_type": "stream",
     "text": [
      "\n",
      "100%|███████████████████████████████████████████████| 65/65 [00:03<00:00, 17.98it/s]"
     ]
    },
    {
     "name": "stdout",
     "output_type": "stream",
     "text": [
      "Test {'loss': 0.44009597576581516, 'exp_dice': 0.5765717107516068, 'accuracy': 0.9759059539208046, 'recall': 0.6034710315557626}\n"
     ]
    },
    {
     "name": "stderr",
     "output_type": "stream",
     "text": [
      "\n",
      "100%|█████████████████████████████████████████████| 260/260 [00:35<00:00,  7.30it/s]"
     ]
    },
    {
     "name": "stdout",
     "output_type": "stream",
     "text": [
      "Train {'loss': 0.23334507873425117, 'exp_dice': 0.6186667940937556, 'accuracy': 0.9752866579936101, 'recall': 0.6608610729758556}\n"
     ]
    },
    {
     "name": "stderr",
     "output_type": "stream",
     "text": [
      "\n",
      "100%|███████████████████████████████████████████████| 65/65 [00:03<00:00, 17.74it/s]\n"
     ]
    },
    {
     "name": "stdout",
     "output_type": "stream",
     "text": [
      "Test {'loss': 0.43394236197838415, 'exp_dice': 0.5820113853766368, 'accuracy': 0.975795760521522, 'recall': 0.6215775462297293}\n"
     ]
    },
    {
     "name": "stderr",
     "output_type": "stream",
     "text": [
      "100%|█████████████████████████████████████████████| 260/260 [00:35<00:00,  7.30it/s]"
     ]
    },
    {
     "name": "stdout",
     "output_type": "stream",
     "text": [
      "Train {'loss': 0.23285136761573644, 'exp_dice': 0.6192575898881142, 'accuracy': 0.9751489309164194, 'recall': 0.6627598477097658}\n"
     ]
    },
    {
     "name": "stderr",
     "output_type": "stream",
     "text": [
      "\n",
      "100%|███████████████████████████████████████████████| 65/65 [00:03<00:00, 18.29it/s]"
     ]
    },
    {
     "name": "stdout",
     "output_type": "stream",
     "text": [
      "Test {'loss': 0.4400715736242441, 'exp_dice': 0.575703167456847, 'accuracy': 0.9756496502802923, 'recall': 0.6157505844648068}\n"
     ]
    },
    {
     "name": "stderr",
     "output_type": "stream",
     "text": [
      "\n",
      "100%|█████████████████████████████████████████████| 260/260 [00:35<00:00,  7.30it/s]"
     ]
    },
    {
     "name": "stdout",
     "output_type": "stream",
     "text": [
      "Train {'loss': 0.2300089977681637, 'exp_dice': 0.6246546888007567, 'accuracy': 0.9752988301790677, 'recall': 0.6600225030802763}\n"
     ]
    },
    {
     "name": "stderr",
     "output_type": "stream",
     "text": [
      "\n",
      "100%|███████████████████████████████████████████████| 65/65 [00:03<00:00, 18.12it/s]"
     ]
    },
    {
     "name": "stdout",
     "output_type": "stream",
     "text": [
      "Test {'loss': 0.4640981224867014, 'exp_dice': 0.5507005643386107, 'accuracy': 0.9762963074904222, 'recall': 0.6054175418156844}\n"
     ]
    },
    {
     "name": "stderr",
     "output_type": "stream",
     "text": [
      "\n",
      "100%|█████████████████████████████████████████████| 260/260 [00:35<00:00,  7.30it/s]"
     ]
    },
    {
     "name": "stdout",
     "output_type": "stream",
     "text": [
      "Train {'loss': 0.2297477224125312, 'exp_dice': 0.6249759108401262, 'accuracy': 0.9754134508279654, 'recall': 0.6653243398437133}\n"
     ]
    },
    {
     "name": "stderr",
     "output_type": "stream",
     "text": [
      "\n",
      "100%|███████████████████████████████████████████████| 65/65 [00:03<00:00, 18.24it/s]"
     ]
    },
    {
     "name": "stdout",
     "output_type": "stream",
     "text": [
      "Test {'loss': 0.450718329502986, 'exp_dice': 0.5648884151990597, 'accuracy': 0.9753616919884315, 'recall': 0.6045035806986002}\n"
     ]
    },
    {
     "name": "stderr",
     "output_type": "stream",
     "text": [
      "\n",
      "100%|█████████████████████████████████████████████| 260/260 [00:35<00:00,  7.31it/s]"
     ]
    },
    {
     "name": "stdout",
     "output_type": "stream",
     "text": [
      "Train {'loss': 0.23198022613158592, 'exp_dice': 0.6222835661127017, 'accuracy': 0.9748984556931716, 'recall': 0.6588489248202397}\n"
     ]
    },
    {
     "name": "stderr",
     "output_type": "stream",
     "text": [
      "\n",
      "100%|███████████████████████████████████████████████| 65/65 [00:03<00:00, 18.08it/s]"
     ]
    },
    {
     "name": "stdout",
     "output_type": "stream",
     "text": [
      "Test {'loss': 0.4428001642227173, 'exp_dice': 0.5741753240617422, 'accuracy': 0.9755685292757474, 'recall': 0.6327195901137131}\n"
     ]
    },
    {
     "name": "stderr",
     "output_type": "stream",
     "text": [
      "\n",
      "100%|█████████████████████████████████████████████| 260/260 [00:35<00:00,  7.30it/s]"
     ]
    },
    {
     "name": "stdout",
     "output_type": "stream",
     "text": [
      "Train {'loss': 0.23079271007042665, 'exp_dice': 0.622912986175372, 'accuracy': 0.9753139917667095, 'recall': 0.6719563289330556}\n"
     ]
    },
    {
     "name": "stderr",
     "output_type": "stream",
     "text": [
      "\n",
      "100%|███████████████████████████████████████████████| 65/65 [00:03<00:00, 17.86it/s]"
     ]
    },
    {
     "name": "stdout",
     "output_type": "stream",
     "text": [
      "Test {'loss': 0.4411463581598722, 'exp_dice': 0.5750461649436217, 'accuracy': 0.9762530180124136, 'recall': 0.5988343220490676}\n"
     ]
    },
    {
     "name": "stderr",
     "output_type": "stream",
     "text": [
      "\n",
      "100%|█████████████████████████████████████████████| 260/260 [00:35<00:00,  7.30it/s]"
     ]
    },
    {
     "name": "stdout",
     "output_type": "stream",
     "text": [
      "Train {'loss': 0.23228307968148817, 'exp_dice': 0.6204791067329307, 'accuracy': 0.975185515330388, 'recall': 0.6647573947906494}\n"
     ]
    },
    {
     "name": "stderr",
     "output_type": "stream",
     "text": [
      "\n",
      "100%|███████████████████████████████████████████████| 65/65 [00:03<00:00, 17.81it/s]"
     ]
    },
    {
     "name": "stdout",
     "output_type": "stream",
     "text": [
      "Test {'loss': 0.4417324286240798, 'exp_dice': 0.5755441589997365, 'accuracy': 0.9764726418715257, 'recall': 0.6040557191922115}\n"
     ]
    },
    {
     "name": "stderr",
     "output_type": "stream",
     "text": [
      "\n",
      "100%|█████████████████████████████████████████████| 260/260 [00:35<00:00,  7.30it/s]"
     ]
    },
    {
     "name": "stdout",
     "output_type": "stream",
     "text": [
      "Train {'loss': 0.23264939816525348, 'exp_dice': 0.6208610990013067, 'accuracy': 0.9749704452661367, 'recall': 0.6659144990719281}\n"
     ]
    },
    {
     "name": "stderr",
     "output_type": "stream",
     "text": [
      "\n",
      "100%|███████████████████████████████████████████████| 65/65 [00:03<00:00, 18.23it/s]"
     ]
    },
    {
     "name": "stdout",
     "output_type": "stream",
     "text": [
      "Test {'loss': 0.4340610238221975, 'exp_dice': 0.5824758309584398, 'accuracy': 0.9762047840998723, 'recall': 0.6296416736566104}\n"
     ]
    },
    {
     "name": "stderr",
     "output_type": "stream",
     "text": [
      "\n",
      "100%|█████████████████████████████████████████████| 260/260 [00:35<00:00,  7.30it/s]"
     ]
    },
    {
     "name": "stdout",
     "output_type": "stream",
     "text": [
      "Train {'loss': 0.2308206275678598, 'exp_dice': 0.6238858681458693, 'accuracy': 0.9750668305617113, 'recall': 0.6654754770489839}\n"
     ]
    },
    {
     "name": "stderr",
     "output_type": "stream",
     "text": [
      "\n",
      "100%|███████████████████████████████████████████████| 65/65 [00:03<00:00, 18.35it/s]"
     ]
    },
    {
     "name": "stdout",
     "output_type": "stream",
     "text": [
      "Test {'loss': 0.4415167927742004, 'exp_dice': 0.5755504759458395, 'accuracy': 0.9762668756338266, 'recall': 0.60554383122004}\n"
     ]
    },
    {
     "name": "stderr",
     "output_type": "stream",
     "text": [
      "\n",
      "100%|█████████████████████████████████████████████| 260/260 [00:35<00:00,  7.30it/s]"
     ]
    },
    {
     "name": "stdout",
     "output_type": "stream",
     "text": [
      "Train {'loss': 0.2340284966505491, 'exp_dice': 0.6184573015341392, 'accuracy': 0.9747954496970543, 'recall': 0.6621828898787498}\n"
     ]
    },
    {
     "name": "stderr",
     "output_type": "stream",
     "text": [
      "\n",
      "100%|███████████████████████████████████████████████| 65/65 [00:03<00:00, 18.36it/s]"
     ]
    },
    {
     "name": "stdout",
     "output_type": "stream",
     "text": [
      "Test {'loss': 0.44523179806195773, 'exp_dice': 0.5719769037686862, 'accuracy': 0.9757575842050406, 'recall': 0.6419747327382748}\n"
     ]
    },
    {
     "name": "stderr",
     "output_type": "stream",
     "text": [
      "\n",
      "100%|█████████████████████████████████████████████| 260/260 [00:35<00:00,  7.30it/s]"
     ]
    },
    {
     "name": "stdout",
     "output_type": "stream",
     "text": [
      "Train {'loss': 0.23385070275801878, 'exp_dice': 0.6174250797977527, 'accuracy': 0.9752004843491774, 'recall': 0.663552739757758}\n"
     ]
    },
    {
     "name": "stderr",
     "output_type": "stream",
     "text": [
      "\n",
      "100%|███████████████████████████████████████████████| 65/65 [00:03<00:00, 18.15it/s]\n"
     ]
    },
    {
     "name": "stdout",
     "output_type": "stream",
     "text": [
      "Test {'loss': 0.4360656921680157, 'exp_dice': 0.581377006494082, 'accuracy': 0.9756981116074782, 'recall': 0.6152861590568836}\n"
     ]
    },
    {
     "name": "stderr",
     "output_type": "stream",
     "text": [
      "100%|█████████████████████████████████████████████| 260/260 [00:35<00:00,  7.29it/s]"
     ]
    },
    {
     "name": "stdout",
     "output_type": "stream",
     "text": [
      "Train {'loss': 0.23259378602871528, 'exp_dice': 0.6195146687901937, 'accuracy': 0.9753583339544443, 'recall': 0.6641015491806543}\n"
     ]
    },
    {
     "name": "stderr",
     "output_type": "stream",
     "text": [
      "\n",
      "100%|███████████████████████████████████████████████| 65/65 [00:03<00:00, 17.78it/s]"
     ]
    },
    {
     "name": "stdout",
     "output_type": "stream",
     "text": [
      "Test {'loss': 0.43236688283773567, 'exp_dice': 0.5853848805794349, 'accuracy': 0.9762008593632625, 'recall': 0.6192915870593144}\n"
     ]
    },
    {
     "name": "stderr",
     "output_type": "stream",
     "text": [
      "\n",
      "100%|█████████████████████████████████████████████| 260/260 [00:35<00:00,  7.29it/s]"
     ]
    },
    {
     "name": "stdout",
     "output_type": "stream",
     "text": [
      "Train {'loss': 0.2308713531264892, 'exp_dice': 0.623715495547423, 'accuracy': 0.9751695394515991, 'recall': 0.6568980771761674}\n"
     ]
    },
    {
     "name": "stderr",
     "output_type": "stream",
     "text": [
      "\n",
      "100%|███████████████████████████████████████████████| 65/65 [00:03<00:00, 18.20it/s]"
     ]
    },
    {
     "name": "stdout",
     "output_type": "stream",
     "text": [
      "Test {'loss': 0.4316836668894841, 'exp_dice': 0.5856502388532345, 'accuracy': 0.9754250599787786, 'recall': 0.6295210407330439}\n"
     ]
    },
    {
     "name": "stderr",
     "output_type": "stream",
     "text": [
      "\n",
      "100%|█████████████████████████████████████████████| 260/260 [00:35<00:00,  7.30it/s]"
     ]
    },
    {
     "name": "stdout",
     "output_type": "stream",
     "text": [
      "Train {'loss': 0.23093521749744048, 'exp_dice': 0.6229172733540719, 'accuracy': 0.9752348221265352, 'recall': 0.66409162741441}\n"
     ]
    },
    {
     "name": "stderr",
     "output_type": "stream",
     "text": [
      "\n",
      "100%|███████████████████████████████████████████████| 65/65 [00:03<00:00, 17.93it/s]"
     ]
    },
    {
     "name": "stdout",
     "output_type": "stream",
     "text": [
      "Test {'loss': 0.44470952932651225, 'exp_dice': 0.571073653606268, 'accuracy': 0.9770637145409218, 'recall': 0.6040898190094874}\n"
     ]
    },
    {
     "name": "stderr",
     "output_type": "stream",
     "text": [
      "\n",
      "100%|█████████████████████████████████████████████| 260/260 [00:35<00:00,  7.29it/s]"
     ]
    },
    {
     "name": "stdout",
     "output_type": "stream",
     "text": [
      "Train {'loss': 0.2336513020671331, 'exp_dice': 0.618241645109195, 'accuracy': 0.9750062410648053, 'recall': 0.6693514611858588}\n"
     ]
    },
    {
     "name": "stderr",
     "output_type": "stream",
     "text": [
      "\n",
      "100%|███████████████████████████████████████████████| 65/65 [00:03<00:00, 18.13it/s]"
     ]
    },
    {
     "name": "stdout",
     "output_type": "stream",
     "text": [
      "Test {'loss': 0.44572354738528913, 'exp_dice': 0.569921800494194, 'accuracy': 0.9756042407109187, 'recall': 0.5980443596839905}\n"
     ]
    },
    {
     "name": "stderr",
     "output_type": "stream",
     "text": [
      "\n",
      "100%|█████████████████████████████████████████████| 260/260 [00:35<00:00,  7.29it/s]"
     ]
    },
    {
     "name": "stdout",
     "output_type": "stream",
     "text": [
      "Train {'loss': 0.2321624691096636, 'exp_dice': 0.6206425330959834, 'accuracy': 0.9753044275137094, 'recall': 0.6660498628249535}\n"
     ]
    },
    {
     "name": "stderr",
     "output_type": "stream",
     "text": [
      "\n",
      "100%|███████████████████████████████████████████████| 65/65 [00:03<00:00, 18.17it/s]"
     ]
    },
    {
     "name": "stdout",
     "output_type": "stream",
     "text": [
      "Test {'loss': 0.4428504274441646, 'exp_dice': 0.5739853294996115, 'accuracy': 0.9763997884897085, 'recall': 0.6269010869356302}\n"
     ]
    },
    {
     "name": "stderr",
     "output_type": "stream",
     "text": [
      "\n",
      "100%|█████████████████████████████████████████████| 260/260 [00:35<00:00,  7.29it/s]"
     ]
    },
    {
     "name": "stdout",
     "output_type": "stream",
     "text": [
      "Train {'loss': 0.23239158483651967, 'exp_dice': 0.6207245907531335, 'accuracy': 0.9752114295959473, 'recall': 0.6596119272021147}\n"
     ]
    },
    {
     "name": "stderr",
     "output_type": "stream",
     "text": [
      "\n",
      "100%|███████████████████████████████████████████████| 65/65 [00:03<00:00, 18.25it/s]"
     ]
    },
    {
     "name": "stdout",
     "output_type": "stream",
     "text": [
      "Test {'loss': 0.4345673487736629, 'exp_dice': 0.5815530997056227, 'accuracy': 0.9757647514343262, 'recall': 0.6257015636334052}\n"
     ]
    },
    {
     "name": "stderr",
     "output_type": "stream",
     "text": [
      "\n",
      "100%|█████████████████████████████████████████████| 260/260 [00:35<00:00,  7.30it/s]"
     ]
    },
    {
     "name": "stdout",
     "output_type": "stream",
     "text": [
      "Train {'loss': 0.23339365176283397, 'exp_dice': 0.6186388083661978, 'accuracy': 0.9751346533115094, 'recall': 0.6617718783708719}\n"
     ]
    },
    {
     "name": "stderr",
     "output_type": "stream",
     "text": [
      "\n",
      "100%|███████████████████████████████████████████████| 65/65 [00:03<00:00, 18.20it/s]"
     ]
    },
    {
     "name": "stdout",
     "output_type": "stream",
     "text": [
      "Test {'loss': 0.4370944013962379, 'exp_dice': 0.5790384663985326, 'accuracy': 0.9765297522911659, 'recall': 0.6158638825783362}\n"
     ]
    },
    {
     "name": "stderr",
     "output_type": "stream",
     "text": [
      "\n",
      "100%|█████████████████████████████████████████████| 260/260 [00:35<00:00,  7.30it/s]"
     ]
    },
    {
     "name": "stdout",
     "output_type": "stream",
     "text": [
      "Train {'loss': 0.2331912704385244, 'exp_dice': 0.6194959466273968, 'accuracy': 0.9750274199705857, 'recall': 0.6673262232771286}\n"
     ]
    },
    {
     "name": "stderr",
     "output_type": "stream",
     "text": [
      "\n",
      "100%|███████████████████████████████████████████████| 65/65 [00:03<00:00, 18.03it/s]"
     ]
    },
    {
     "name": "stdout",
     "output_type": "stream",
     "text": [
      "Test {'loss': 0.4323350924711961, 'exp_dice': 0.5848434448242188, 'accuracy': 0.976428956251878, 'recall': 0.624815663924584}\n"
     ]
    },
    {
     "name": "stderr",
     "output_type": "stream",
     "text": [
      "\n",
      "100%|█████████████████████████████████████████████| 260/260 [00:35<00:00,  7.29it/s]"
     ]
    },
    {
     "name": "stdout",
     "output_type": "stream",
     "text": [
      "Train {'loss': 0.22922466488984916, 'exp_dice': 0.6251215328713162, 'accuracy': 0.9755706530350905, 'recall': 0.6644544222033941}\n"
     ]
    },
    {
     "name": "stderr",
     "output_type": "stream",
     "text": [
      "\n",
      "100%|███████████████████████████████████████████████| 65/65 [00:03<00:00, 18.05it/s]"
     ]
    },
    {
     "name": "stdout",
     "output_type": "stream",
     "text": [
      "Test {'loss': 0.4528089110667889, 'exp_dice': 0.5638646235832802, 'accuracy': 0.9767381814809946, 'recall': 0.6096454808345207}\n"
     ]
    },
    {
     "name": "stderr",
     "output_type": "stream",
     "text": [
      "\n",
      "100%|█████████████████████████████████████████████| 260/260 [00:35<00:00,  7.30it/s]"
     ]
    },
    {
     "name": "stdout",
     "output_type": "stream",
     "text": [
      "Train {'loss': 0.2324349671602249, 'exp_dice': 0.6203444491785306, 'accuracy': 0.9752343581273005, 'recall': 0.6644557730509685}\n"
     ]
    },
    {
     "name": "stderr",
     "output_type": "stream",
     "text": [
      "\n",
      "100%|███████████████████████████████████████████████| 65/65 [00:03<00:00, 17.65it/s]\n"
     ]
    },
    {
     "name": "stdout",
     "output_type": "stream",
     "text": [
      "Test {'loss': 0.4508680646236126, 'exp_dice': 0.5655381872103764, 'accuracy': 0.9765349901639498, 'recall': 0.5980320999255547}\n"
     ]
    },
    {
     "name": "stderr",
     "output_type": "stream",
     "text": [
      "100%|█████████████████████████████████████████████| 260/260 [00:35<00:00,  7.29it/s]"
     ]
    },
    {
     "name": "stdout",
     "output_type": "stream",
     "text": [
      "Train {'loss': 0.23204848307829637, 'exp_dice': 0.6213535515734783, 'accuracy': 0.9753032335868248, 'recall': 0.6639225418751057}\n"
     ]
    },
    {
     "name": "stderr",
     "output_type": "stream",
     "text": [
      "\n",
      "100%|███████████████████████████████████████████████| 65/65 [00:03<00:00, 18.18it/s]"
     ]
    },
    {
     "name": "stdout",
     "output_type": "stream",
     "text": [
      "Test {'loss': 0.42997876314016487, 'exp_dice': 0.5869930514922509, 'accuracy': 0.9765520829420823, 'recall': 0.6254037873103069}\n"
     ]
    },
    {
     "name": "stderr",
     "output_type": "stream",
     "text": [
      "\n",
      "100%|█████████████████████████████████████████████| 260/260 [00:35<00:00,  7.30it/s]"
     ]
    },
    {
     "name": "stdout",
     "output_type": "stream",
     "text": [
      "Train {'loss': 0.23375648707151414, 'exp_dice': 0.618222744934834, 'accuracy': 0.9750617980957031, 'recall': 0.6574082619868792}\n"
     ]
    },
    {
     "name": "stderr",
     "output_type": "stream",
     "text": [
      "\n",
      "100%|███████████████████████████████████████████████| 65/65 [00:03<00:00, 18.38it/s]"
     ]
    },
    {
     "name": "stdout",
     "output_type": "stream",
     "text": [
      "Test {'loss': 0.4339631429085365, 'exp_dice': 0.5822235868527339, 'accuracy': 0.9761388558607835, 'recall': 0.6264004083780143}\n"
     ]
    },
    {
     "name": "stderr",
     "output_type": "stream",
     "text": [
      "\n",
      "100%|█████████████████████████████████████████████| 260/260 [00:35<00:00,  7.29it/s]"
     ]
    },
    {
     "name": "stdout",
     "output_type": "stream",
     "text": [
      "Train {'loss': 0.2309622868322409, 'exp_dice': 0.6222471322004611, 'accuracy': 0.9753765564698439, 'recall': 0.6628427311778069}\n"
     ]
    },
    {
     "name": "stderr",
     "output_type": "stream",
     "text": [
      "\n",
      "100%|███████████████████████████████████████████████| 65/65 [00:03<00:00, 18.02it/s]"
     ]
    },
    {
     "name": "stdout",
     "output_type": "stream",
     "text": [
      "Test {'loss': 0.4414299524747408, 'exp_dice': 0.5751949936151505, 'accuracy': 0.9756988011873685, 'recall': 0.6248912063928751}\n"
     ]
    },
    {
     "name": "stderr",
     "output_type": "stream",
     "text": [
      "\n",
      "100%|█████████████████████████████████████████████| 260/260 [00:35<00:00,  7.30it/s]"
     ]
    },
    {
     "name": "stdout",
     "output_type": "stream",
     "text": [
      "Train {'loss': 0.23251014019434268, 'exp_dice': 0.6212652287804163, 'accuracy': 0.9746826300254234, 'recall': 0.662403411590136}\n"
     ]
    },
    {
     "name": "stderr",
     "output_type": "stream",
     "text": [
      "\n",
      "100%|███████████████████████████████████████████████| 65/65 [00:03<00:00, 17.86it/s]"
     ]
    },
    {
     "name": "stdout",
     "output_type": "stream",
     "text": [
      "Test {'loss': 0.4375745828335102, 'exp_dice': 0.5791095729057606, 'accuracy': 0.9777701524587777, 'recall': 0.6221269630468809}\n"
     ]
    },
    {
     "name": "stderr",
     "output_type": "stream",
     "text": [
      "\n",
      "100%|█████████████████████████████████████████████| 260/260 [00:35<00:00,  7.29it/s]"
     ]
    },
    {
     "name": "stdout",
     "output_type": "stream",
     "text": [
      "Train {'loss': 0.23264916424567883, 'exp_dice': 0.6211393433981217, 'accuracy': 0.9749051589232225, 'recall': 0.6660325694542665}\n"
     ]
    },
    {
     "name": "stderr",
     "output_type": "stream",
     "text": [
      "\n",
      "100%|███████████████████████████████████████████████| 65/65 [00:03<00:00, 18.08it/s]"
     ]
    },
    {
     "name": "stdout",
     "output_type": "stream",
     "text": [
      "Test {'loss': 0.43556151940272403, 'exp_dice': 0.582007878101789, 'accuracy': 0.9777266942537748, 'recall': 0.6228567701119643}\n"
     ]
    },
    {
     "name": "stderr",
     "output_type": "stream",
     "text": [
      "\n",
      "100%|█████████████████████████████████████████████| 260/260 [00:35<00:00,  7.30it/s]"
     ]
    },
    {
     "name": "stdout",
     "output_type": "stream",
     "text": [
      "Train {'loss': 0.2326764402481226, 'exp_dice': 0.6204298820633155, 'accuracy': 0.9750748377579909, 'recall': 0.6594256609678268}\n"
     ]
    },
    {
     "name": "stderr",
     "output_type": "stream",
     "text": [
      "\n",
      "100%|███████████████████████████████████████████████| 65/65 [00:03<00:00, 17.64it/s]"
     ]
    },
    {
     "name": "stdout",
     "output_type": "stream",
     "text": [
      "Test {'loss': 0.4333484567128695, 'exp_dice': 0.5834984687658457, 'accuracy': 0.9763188435481145, 'recall': 0.6238709844075716}\n"
     ]
    },
    {
     "name": "stderr",
     "output_type": "stream",
     "text": [
      "\n",
      "100%|█████████████████████████████████████████████| 260/260 [00:35<00:00,  7.30it/s]"
     ]
    },
    {
     "name": "stdout",
     "output_type": "stream",
     "text": [
      "Train {'loss': 0.2330127622645635, 'exp_dice': 0.6190195825524055, 'accuracy': 0.9753632453771738, 'recall': 0.6617290714612374}\n"
     ]
    },
    {
     "name": "stderr",
     "output_type": "stream",
     "text": [
      "\n",
      "100%|███████████████████████████████████████████████| 65/65 [00:03<00:00, 18.06it/s]"
     ]
    },
    {
     "name": "stdout",
     "output_type": "stream",
     "text": [
      "Test {'loss': 0.43102211677111113, 'exp_dice': 0.5854181681688015, 'accuracy': 0.9767993193406325, 'recall': 0.6399615590388958}\n"
     ]
    },
    {
     "name": "stderr",
     "output_type": "stream",
     "text": [
      "\n",
      "100%|█████████████████████████████████████████████| 260/260 [00:35<00:00,  7.29it/s]"
     ]
    },
    {
     "name": "stdout",
     "output_type": "stream",
     "text": [
      "Train {'loss': 0.23091318544286948, 'exp_dice': 0.6228998419757072, 'accuracy': 0.9752581431315496, 'recall': 0.6669378643425611}\n"
     ]
    },
    {
     "name": "stderr",
     "output_type": "stream",
     "text": [
      "\n",
      "100%|███████████████████████████████████████████████| 65/65 [00:03<00:00, 18.15it/s]"
     ]
    },
    {
     "name": "stdout",
     "output_type": "stream",
     "text": [
      "Test {'loss': 0.44041536863033587, 'exp_dice': 0.576350369820228, 'accuracy': 0.9771134890042819, 'recall': 0.5989572630478786}\n"
     ]
    },
    {
     "name": "stderr",
     "output_type": "stream",
     "text": [
      "\n",
      "100%|█████████████████████████████████████████████| 260/260 [00:35<00:00,  7.30it/s]"
     ]
    },
    {
     "name": "stdout",
     "output_type": "stream",
     "text": [
      "Train {'loss': 0.23223327902647165, 'exp_dice': 0.6205538768034715, 'accuracy': 0.975337184392489, 'recall': 0.662825549680453}\n"
     ]
    },
    {
     "name": "stderr",
     "output_type": "stream",
     "text": [
      "\n",
      "100%|███████████████████████████████████████████████| 65/65 [00:03<00:00, 18.06it/s]"
     ]
    },
    {
     "name": "stdout",
     "output_type": "stream",
     "text": [
      "Test {'loss': 0.441605177292457, 'exp_dice': 0.574797320824403, 'accuracy': 0.9758562308091384, 'recall': 0.6127845837519719}\n"
     ]
    },
    {
     "name": "stderr",
     "output_type": "stream",
     "text": [
      "\n",
      "100%|█████████████████████████████████████████████| 260/260 [00:35<00:00,  7.31it/s]"
     ]
    },
    {
     "name": "stdout",
     "output_type": "stream",
     "text": [
      "Train {'loss': 0.23321953392945804, 'exp_dice': 0.618399901000353, 'accuracy': 0.9751939993638259, 'recall': 0.6622898815916135}\n"
     ]
    },
    {
     "name": "stderr",
     "output_type": "stream",
     "text": [
      "\n",
      "100%|███████████████████████████████████████████████| 65/65 [00:03<00:00, 18.02it/s]\n"
     ]
    },
    {
     "name": "stdout",
     "output_type": "stream",
     "text": [
      "Test {'loss': 0.4456790328025818, 'exp_dice': 0.5717314898967742, 'accuracy': 0.9771549004774828, 'recall': 0.6113231301307678}\n"
     ]
    },
    {
     "name": "stderr",
     "output_type": "stream",
     "text": [
      "100%|█████████████████████████████████████████████| 260/260 [00:35<00:00,  7.29it/s]"
     ]
    },
    {
     "name": "stdout",
     "output_type": "stream",
     "text": [
      "Train {'loss': 0.23165128219586154, 'exp_dice': 0.622069254059058, 'accuracy': 0.9752181768417358, 'recall': 0.6621903373644902}\n"
     ]
    },
    {
     "name": "stderr",
     "output_type": "stream",
     "text": [
      "\n",
      "100%|███████████████████████████████████████████████| 65/65 [00:03<00:00, 17.92it/s]"
     ]
    },
    {
     "name": "stdout",
     "output_type": "stream",
     "text": [
      "Test {'loss': 0.43620084065657394, 'exp_dice': 0.5808277102617118, 'accuracy': 0.9763675102820764, 'recall': 0.6216391049898587}\n"
     ]
    },
    {
     "name": "stderr",
     "output_type": "stream",
     "text": [
      "\n",
      "100%|█████████████████████████████████████████████| 260/260 [00:35<00:00,  7.30it/s]"
     ]
    },
    {
     "name": "stdout",
     "output_type": "stream",
     "text": [
      "Train {'loss': 0.23215150196964923, 'exp_dice': 0.6210632345424248, 'accuracy': 0.9749826614673321, 'recall': 0.6647579957659427}\n"
     ]
    },
    {
     "name": "stderr",
     "output_type": "stream",
     "text": [
      "\n",
      "100%|███████████████████████████████████████████████| 65/65 [00:03<00:00, 18.16it/s]"
     ]
    },
    {
     "name": "stdout",
     "output_type": "stream",
     "text": [
      "Test {'loss': 0.44864041346770067, 'exp_dice': 0.566651715682103, 'accuracy': 0.975915945493258, 'recall': 0.6037505035216991}\n"
     ]
    },
    {
     "name": "stderr",
     "output_type": "stream",
     "text": [
      "\n",
      "100%|█████████████████████████████████████████████| 260/260 [00:35<00:00,  7.30it/s]"
     ]
    },
    {
     "name": "stdout",
     "output_type": "stream",
     "text": [
      "Train {'loss': 0.23040301215190154, 'exp_dice': 0.6241862524587375, 'accuracy': 0.9752170342665453, 'recall': 0.6644939210552435}\n"
     ]
    },
    {
     "name": "stderr",
     "output_type": "stream",
     "text": [
      "\n",
      "100%|███████████████████████████████████████████████| 65/65 [00:03<00:00, 17.84it/s]"
     ]
    },
    {
     "name": "stdout",
     "output_type": "stream",
     "text": [
      "Test {'loss': 0.4379744080396799, 'exp_dice': 0.5782202234634987, 'accuracy': 0.9757919751680815, 'recall': 0.602263295191985}\n"
     ]
    },
    {
     "name": "stderr",
     "output_type": "stream",
     "text": [
      "\n",
      "100%|█████████████████████████████████████████████| 260/260 [00:35<00:00,  7.30it/s]"
     ]
    },
    {
     "name": "stdout",
     "output_type": "stream",
     "text": [
      "Train {'loss': 0.2335132411466195, 'exp_dice': 0.6190899599630099, 'accuracy': 0.9750433921813965, 'recall': 0.6634960866175019}\n"
     ]
    },
    {
     "name": "stderr",
     "output_type": "stream",
     "text": [
      "\n",
      "100%|███████████████████████████████████████████████| 65/65 [00:03<00:00, 17.89it/s]"
     ]
    },
    {
     "name": "stdout",
     "output_type": "stream",
     "text": [
      "Test {'loss': 0.438206187578348, 'exp_dice': 0.5790553881571843, 'accuracy': 0.9759455754206731, 'recall': 0.6329519125131461}\n"
     ]
    },
    {
     "name": "stderr",
     "output_type": "stream",
     "text": [
      "\n",
      "100%|█████████████████████████████████████████████| 260/260 [00:35<00:00,  7.29it/s]"
     ]
    },
    {
     "name": "stdout",
     "output_type": "stream",
     "text": [
      "Train {'loss': 0.23286390201403545, 'exp_dice': 0.6192557078141433, 'accuracy': 0.9751814768864558, 'recall': 0.6606849691042533}\n"
     ]
    },
    {
     "name": "stderr",
     "output_type": "stream",
     "text": [
      "\n",
      "100%|███████████████████████████████████████████████| 65/65 [00:03<00:00, 17.83it/s]"
     ]
    },
    {
     "name": "stdout",
     "output_type": "stream",
     "text": [
      "Test {'loss': 0.4334750826542194, 'exp_dice': 0.5827828884124756, 'accuracy': 0.9750430840712327, 'recall': 0.6443593121491946}\n"
     ]
    },
    {
     "name": "stderr",
     "output_type": "stream",
     "text": [
      "\n",
      "100%|█████████████████████████████████████████████| 260/260 [00:35<00:00,  7.29it/s]"
     ]
    },
    {
     "name": "stdout",
     "output_type": "stream",
     "text": [
      "Train {'loss': 0.23190808789088177, 'exp_dice': 0.6215376898073233, 'accuracy': 0.9752511152854333, 'recall': 0.6643593956644719}\n"
     ]
    },
    {
     "name": "stderr",
     "output_type": "stream",
     "text": [
      "\n",
      "100%|███████████████████████████████████████████████| 65/65 [00:03<00:00, 18.10it/s]"
     ]
    },
    {
     "name": "stdout",
     "output_type": "stream",
     "text": [
      "Test {'loss': 0.4558695600583003, 'exp_dice': 0.5591344287762275, 'accuracy': 0.9760040870079627, 'recall': 0.5890998090688999}\n"
     ]
    },
    {
     "name": "stderr",
     "output_type": "stream",
     "text": [
      "\n",
      "100%|█████████████████████████████████████████████| 260/260 [00:35<00:00,  7.29it/s]"
     ]
    },
    {
     "name": "stdout",
     "output_type": "stream",
     "text": [
      "Train {'loss': 0.23263643458485603, 'exp_dice': 0.619675670334926, 'accuracy': 0.975414068882282, 'recall': 0.6645974413133584}\n"
     ]
    },
    {
     "name": "stderr",
     "output_type": "stream",
     "text": [
      "\n",
      "100%|███████████████████████████████████████████████| 65/65 [00:03<00:00, 18.27it/s]"
     ]
    },
    {
     "name": "stdout",
     "output_type": "stream",
     "text": [
      "Test {'loss': 0.4325396042603713, 'exp_dice': 0.5844107096011822, 'accuracy': 0.9763095929072454, 'recall': 0.6432481566300758}\n"
     ]
    },
    {
     "name": "stderr",
     "output_type": "stream",
     "text": [
      "\n",
      "100%|█████████████████████████████████████████████| 260/260 [00:35<00:00,  7.29it/s]"
     ]
    },
    {
     "name": "stdout",
     "output_type": "stream",
     "text": [
      "Train {'loss': 0.23291267855809286, 'exp_dice': 0.6199888343994434, 'accuracy': 0.9751137513380784, 'recall': 0.6592496924675428}\n"
     ]
    },
    {
     "name": "stderr",
     "output_type": "stream",
     "text": [
      "\n",
      "100%|███████████████████████████████████████████████| 65/65 [00:03<00:00, 18.10it/s]"
     ]
    },
    {
     "name": "stdout",
     "output_type": "stream",
     "text": [
      "Test {'loss': 0.4389970751909109, 'exp_dice': 0.5773197084665298, 'accuracy': 0.9767815809983473, 'recall': 0.6165208037082965}\n"
     ]
    },
    {
     "name": "stderr",
     "output_type": "stream",
     "text": [
      "\n",
      "100%|█████████████████████████████████████████████| 260/260 [00:35<00:00,  7.30it/s]"
     ]
    },
    {
     "name": "stdout",
     "output_type": "stream",
     "text": [
      "Train {'loss': 0.23333793626381802, 'exp_dice': 0.6192460746146166, 'accuracy': 0.9750674229401809, 'recall': 0.6687028173070687}\n"
     ]
    },
    {
     "name": "stderr",
     "output_type": "stream",
     "text": [
      "\n",
      "100%|███████████████████████████████████████████████| 65/65 [00:03<00:00, 18.15it/s]"
     ]
    },
    {
     "name": "stdout",
     "output_type": "stream",
     "text": [
      "Test {'loss': 0.43051239893986626, 'exp_dice': 0.5851939926926907, 'accuracy': 0.9753596232487605, 'recall': 0.632342239526602}\n"
     ]
    },
    {
     "name": "stderr",
     "output_type": "stream",
     "text": [
      "\n",
      "100%|█████████████████████████████████████████████| 260/260 [00:35<00:00,  7.29it/s]"
     ]
    },
    {
     "name": "stdout",
     "output_type": "stream",
     "text": [
      "Train {'loss': 0.23114333439331788, 'exp_dice': 0.6234905051783873, 'accuracy': 0.9749615210753221, 'recall': 0.6617857037828518}\n"
     ]
    },
    {
     "name": "stderr",
     "output_type": "stream",
     "text": [
      "\n",
      "100%|███████████████████████████████████████████████| 65/65 [00:03<00:00, 17.86it/s]\n"
     ]
    },
    {
     "name": "stdout",
     "output_type": "stream",
     "text": [
      "Test {'loss': 0.4486821697308467, 'exp_dice': 0.5682767001482156, 'accuracy': 0.9767277277432955, 'recall': 0.6115522143932489}\n"
     ]
    },
    {
     "name": "stderr",
     "output_type": "stream",
     "text": [
      "100%|█████████████████████████████████████████████| 260/260 [00:35<00:00,  7.28it/s]"
     ]
    },
    {
     "name": "stdout",
     "output_type": "stream",
     "text": [
      "Train {'loss': 0.23347205319083653, 'exp_dice': 0.6186260235137664, 'accuracy': 0.9752832302680382, 'recall': 0.6680624129680487}\n"
     ]
    },
    {
     "name": "stderr",
     "output_type": "stream",
     "text": [
      "\n",
      "100%|███████████████████████████████████████████████| 65/65 [00:03<00:00, 18.06it/s]"
     ]
    },
    {
     "name": "stdout",
     "output_type": "stream",
     "text": [
      "Test {'loss': 0.4451451695882357, 'exp_dice': 0.5700269864155696, 'accuracy': 0.9750315079322228, 'recall': 0.6147895015203035}\n"
     ]
    },
    {
     "name": "stderr",
     "output_type": "stream",
     "text": [
      "\n",
      "100%|█████████████████████████████████████████████| 260/260 [00:35<00:00,  7.30it/s]"
     ]
    },
    {
     "name": "stdout",
     "output_type": "stream",
     "text": [
      "Train {'loss': 0.2333185218847715, 'exp_dice': 0.6190125978910006, 'accuracy': 0.9751576020167424, 'recall': 0.6609129089002426}\n"
     ]
    },
    {
     "name": "stderr",
     "output_type": "stream",
     "text": [
      "\n",
      "100%|███████████████████████████████████████████████| 65/65 [00:03<00:00, 18.06it/s]"
     ]
    },
    {
     "name": "stdout",
     "output_type": "stream",
     "text": [
      "Test {'loss': 0.44275292891722456, 'exp_dice': 0.5734008889931899, 'accuracy': 0.9751344534067007, 'recall': 0.5997269506637867}\n"
     ]
    },
    {
     "name": "stderr",
     "output_type": "stream",
     "text": [
      "\n",
      "100%|█████████████████████████████████████████████| 260/260 [00:35<00:00,  7.29it/s]"
     ]
    },
    {
     "name": "stdout",
     "output_type": "stream",
     "text": [
      "Train {'loss': 0.23367940829350398, 'exp_dice': 0.6192760583872978, 'accuracy': 0.974941059259268, 'recall': 0.6663110128962076}\n"
     ]
    },
    {
     "name": "stderr",
     "output_type": "stream",
     "text": [
      "\n",
      "100%|███████████████████████████████████████████████| 65/65 [00:03<00:00, 18.13it/s]"
     ]
    },
    {
     "name": "stdout",
     "output_type": "stream",
     "text": [
      "Test {'loss': 0.4503873898432805, 'exp_dice': 0.5669594865578872, 'accuracy': 0.9761915133549617, 'recall': 0.6025362748366135}\n"
     ]
    },
    {
     "name": "stderr",
     "output_type": "stream",
     "text": [
      "\n",
      "100%|█████████████████████████████████████████████| 260/260 [00:35<00:00,  7.30it/s]"
     ]
    },
    {
     "name": "stdout",
     "output_type": "stream",
     "text": [
      "Train {'loss': 0.23095153908316907, 'exp_dice': 0.6237176280755263, 'accuracy': 0.9751965394386879, 'recall': 0.663955674549708}\n"
     ]
    },
    {
     "name": "stderr",
     "output_type": "stream",
     "text": [
      "\n",
      "100%|███████████████████████████████████████████████| 65/65 [00:03<00:00, 18.02it/s]"
     ]
    },
    {
     "name": "stdout",
     "output_type": "stream",
     "text": [
      "Test {'loss': 0.4357258961750911, 'exp_dice': 0.5797167108609126, 'accuracy': 0.9765720367431641, 'recall': 0.6134468385806451}\n"
     ]
    },
    {
     "name": "stderr",
     "output_type": "stream",
     "text": [
      "\n",
      "100%|█████████████████████████████████████████████| 260/260 [00:35<00:00,  7.30it/s]"
     ]
    },
    {
     "name": "stdout",
     "output_type": "stream",
     "text": [
      "Train {'loss': 0.23274383476147284, 'exp_dice': 0.6203014513620964, 'accuracy': 0.9750801178125235, 'recall': 0.6607690735505177}\n"
     ]
    },
    {
     "name": "stderr",
     "output_type": "stream",
     "text": [
      "\n",
      "100%|███████████████████████████████████████████████| 65/65 [00:03<00:00, 18.07it/s]"
     ]
    },
    {
     "name": "stdout",
     "output_type": "stream",
     "text": [
      "Test {'loss': 0.4316010750257052, 'exp_dice': 0.5850448626738328, 'accuracy': 0.9769292317903959, 'recall': 0.6107904883531424}\n"
     ]
    },
    {
     "name": "stderr",
     "output_type": "stream",
     "text": [
      "\n",
      "100%|█████████████████████████████████████████████| 260/260 [00:35<00:00,  7.30it/s]"
     ]
    },
    {
     "name": "stdout",
     "output_type": "stream",
     "text": [
      "Train {'loss': 0.23373781603116256, 'exp_dice': 0.6190159212511319, 'accuracy': 0.9749757454945491, 'recall': 0.6614369715635593}\n"
     ]
    },
    {
     "name": "stderr",
     "output_type": "stream",
     "text": [
      "\n",
      "100%|███████████████████████████████████████████████| 65/65 [00:03<00:00, 18.34it/s]"
     ]
    },
    {
     "name": "stdout",
     "output_type": "stream",
     "text": [
      "Test {'loss': 0.44852399367552537, 'exp_dice': 0.5668974585258044, 'accuracy': 0.9757994211637057, 'recall': 0.583534074975894}\n"
     ]
    },
    {
     "name": "stderr",
     "output_type": "stream",
     "text": [
      "\n",
      "100%|█████████████████████████████████████████████| 260/260 [00:35<00:00,  7.29it/s]"
     ]
    },
    {
     "name": "stdout",
     "output_type": "stream",
     "text": [
      "Train {'loss': 0.23243357917437188, 'exp_dice': 0.6208395305734414, 'accuracy': 0.9751961689728957, 'recall': 0.664918849330682}\n"
     ]
    },
    {
     "name": "stderr",
     "output_type": "stream",
     "text": [
      "\n",
      "100%|███████████████████████████████████████████████| 65/65 [00:03<00:00, 18.19it/s]"
     ]
    },
    {
     "name": "stdout",
     "output_type": "stream",
     "text": [
      "Test {'loss': 0.4284231112553523, 'exp_dice': 0.5885115242921389, 'accuracy': 0.9754899905278133, 'recall': 0.6277311198986494}\n"
     ]
    },
    {
     "name": "stderr",
     "output_type": "stream",
     "text": [
      "\n",
      "100%|█████████████████████████████████████████████| 260/260 [00:35<00:00,  7.29it/s]"
     ]
    },
    {
     "name": "stdout",
     "output_type": "stream",
     "text": [
      "Train {'loss': 0.23098623082041742, 'exp_dice': 0.6232278951658652, 'accuracy': 0.9752536535263061, 'recall': 0.6620637403084682}\n"
     ]
    },
    {
     "name": "stderr",
     "output_type": "stream",
     "text": [
      "\n",
      "100%|███████████████████████████████████████████████| 65/65 [00:03<00:00, 18.00it/s]"
     ]
    },
    {
     "name": "stdout",
     "output_type": "stream",
     "text": [
      "Test {'loss': 0.44722304160778337, 'exp_dice': 0.56925894342936, 'accuracy': 0.9762898004972018, 'recall': 0.6080523481735817}\n"
     ]
    },
    {
     "name": "stderr",
     "output_type": "stream",
     "text": [
      "\n",
      "100%|█████████████████████████████████████████████| 260/260 [00:35<00:00,  7.30it/s]"
     ]
    },
    {
     "name": "stdout",
     "output_type": "stream",
     "text": [
      "Train {'loss': 0.23285348123082747, 'exp_dice': 0.6201492647712047, 'accuracy': 0.9750998882146982, 'recall': 0.6600012051371428}\n"
     ]
    },
    {
     "name": "stderr",
     "output_type": "stream",
     "text": [
      "\n",
      "100%|███████████████████████████████████████████████| 65/65 [00:03<00:00, 18.21it/s]"
     ]
    },
    {
     "name": "stdout",
     "output_type": "stream",
     "text": [
      "Test {'loss': 0.44210179218879114, 'exp_dice': 0.5739152092200059, 'accuracy': 0.9756763311532828, 'recall': 0.6086280352794207}\n"
     ]
    },
    {
     "name": "stderr",
     "output_type": "stream",
     "text": [
      "\n",
      "100%|█████████████████████████████████████████████| 260/260 [00:35<00:00,  7.29it/s]"
     ]
    },
    {
     "name": "stdout",
     "output_type": "stream",
     "text": [
      "Train {'loss': 0.2305111374419469, 'exp_dice': 0.6239057965003527, 'accuracy': 0.9754490082080548, 'recall': 0.6649679759374032}\n"
     ]
    },
    {
     "name": "stderr",
     "output_type": "stream",
     "text": [
      "\n",
      "100%|███████████████████████████████████████████████| 65/65 [00:03<00:00, 18.13it/s]\n"
     ]
    },
    {
     "name": "stdout",
     "output_type": "stream",
     "text": [
      "Test {'loss': 0.4337981416628911, 'exp_dice': 0.5819549926198446, 'accuracy': 0.9760568692133977, 'recall': 0.6256385372235225}\n"
     ]
    },
    {
     "name": "stderr",
     "output_type": "stream",
     "text": [
      "100%|█████████████████████████████████████████████| 260/260 [00:35<00:00,  7.30it/s]"
     ]
    },
    {
     "name": "stdout",
     "output_type": "stream",
     "text": [
      "Train {'loss': 0.2335172700194212, 'exp_dice': 0.6181839781884964, 'accuracy': 0.975265541443458, 'recall': 0.6628672379713793}\n"
     ]
    },
    {
     "name": "stderr",
     "output_type": "stream",
     "text": [
      "\n",
      "100%|███████████████████████████████████████████████| 65/65 [00:03<00:00, 17.96it/s]"
     ]
    },
    {
     "name": "stdout",
     "output_type": "stream",
     "text": [
      "Test {'loss': 0.4271770541484539, 'exp_dice': 0.5908443767290849, 'accuracy': 0.9758972901564378, 'recall': 0.627202122945052}\n"
     ]
    },
    {
     "name": "stderr",
     "output_type": "stream",
     "text": [
      "\n",
      "100%|█████████████████████████████████████████████| 260/260 [00:35<00:00,  7.31it/s]"
     ]
    },
    {
     "name": "stdout",
     "output_type": "stream",
     "text": [
      "Train {'loss': 0.2324354089796543, 'exp_dice': 0.6204965262458875, 'accuracy': 0.9750533397381123, 'recall': 0.6602883329758278}\n"
     ]
    },
    {
     "name": "stderr",
     "output_type": "stream",
     "text": [
      "\n",
      "100%|███████████████████████████████████████████████| 65/65 [00:03<00:00, 18.02it/s]"
     ]
    },
    {
     "name": "stdout",
     "output_type": "stream",
     "text": [
      "Test {'loss': 0.45434362429838915, 'exp_dice': 0.5619467049837112, 'accuracy': 0.9761884689331055, 'recall': 0.5960400847288279}\n"
     ]
    },
    {
     "name": "stderr",
     "output_type": "stream",
     "text": [
      "\n",
      "100%|█████████████████████████████████████████████| 260/260 [00:35<00:00,  7.29it/s]"
     ]
    },
    {
     "name": "stdout",
     "output_type": "stream",
     "text": [
      "Train {'loss': 0.23077633558557584, 'exp_dice': 0.6244996464596345, 'accuracy': 0.9750123592523429, 'recall': 0.6603682711720467}\n"
     ]
    },
    {
     "name": "stderr",
     "output_type": "stream",
     "text": [
      "\n",
      "100%|███████████████████████████████████████████████| 65/65 [00:03<00:00, 18.12it/s]"
     ]
    },
    {
     "name": "stdout",
     "output_type": "stream",
     "text": [
      "Test {'loss': 0.42967797334377583, 'exp_dice': 0.5872266292572021, 'accuracy': 0.9757414671090933, 'recall': 0.5953260900882574}\n"
     ]
    },
    {
     "name": "stderr",
     "output_type": "stream",
     "text": [
      "\n",
      "100%|█████████████████████████████████████████████| 260/260 [00:35<00:00,  7.28it/s]"
     ]
    },
    {
     "name": "stdout",
     "output_type": "stream",
     "text": [
      "Train {'loss': 0.23265812614789375, 'exp_dice': 0.6214053215888831, 'accuracy': 0.9746048358770517, 'recall': 0.6623870765933624}\n"
     ]
    },
    {
     "name": "stderr",
     "output_type": "stream",
     "text": [
      "\n",
      "100%|███████████████████████████████████████████████| 65/65 [00:03<00:00, 18.25it/s]"
     ]
    },
    {
     "name": "stdout",
     "output_type": "stream",
     "text": [
      "Test {'loss': 0.43163520372830905, 'exp_dice': 0.5853981545338264, 'accuracy': 0.9769602482135479, 'recall': 0.611978684938871}\n"
     ]
    },
    {
     "name": "stderr",
     "output_type": "stream",
     "text": [
      "\n",
      "100%|█████████████████████████████████████████████| 260/260 [00:35<00:00,  7.29it/s]"
     ]
    },
    {
     "name": "stdout",
     "output_type": "stream",
     "text": [
      "Train {'loss': 0.23096385483558363, 'exp_dice': 0.6237375391217378, 'accuracy': 0.9752373291895939, 'recall': 0.6647972025550328}\n"
     ]
    },
    {
     "name": "stderr",
     "output_type": "stream",
     "text": [
      "\n",
      "100%|███████████████████████████████████████████████| 65/65 [00:03<00:00, 18.07it/s]"
     ]
    },
    {
     "name": "stdout",
     "output_type": "stream",
     "text": [
      "Test {'loss': 0.442516107742603, 'exp_dice': 0.5735968800691458, 'accuracy': 0.9757672236515925, 'recall': 0.6072565138339996}\n"
     ]
    },
    {
     "name": "stderr",
     "output_type": "stream",
     "text": [
      "\n",
      "100%|█████████████████████████████████████████████| 260/260 [00:35<00:00,  7.29it/s]"
     ]
    },
    {
     "name": "stdout",
     "output_type": "stream",
     "text": [
      "Train {'loss': 0.23353189080953599, 'exp_dice': 0.6193353926333097, 'accuracy': 0.9747769429133488, 'recall': 0.6641685720819693}\n"
     ]
    },
    {
     "name": "stderr",
     "output_type": "stream",
     "text": [
      "\n",
      "100%|███████████████████████████████████████████████| 65/65 [00:03<00:00, 17.81it/s]"
     ]
    },
    {
     "name": "stdout",
     "output_type": "stream",
     "text": [
      "Test {'loss': 0.4416441779870253, 'exp_dice': 0.5750846771093515, 'accuracy': 0.9773675184983474, 'recall': 0.6220227782542889}\n"
     ]
    },
    {
     "name": "stderr",
     "output_type": "stream",
     "text": [
      "\n",
      "100%|█████████████████████████████████████████████| 260/260 [00:35<00:00,  7.29it/s]"
     ]
    },
    {
     "name": "stdout",
     "output_type": "stream",
     "text": [
      "Train {'loss': 0.23368376189699538, 'exp_dice': 0.6184435191349341, 'accuracy': 0.9752202400794396, 'recall': 0.6694709644867823}\n"
     ]
    },
    {
     "name": "stderr",
     "output_type": "stream",
     "text": [
      "\n",
      "100%|███████████████████████████████████████████████| 65/65 [00:03<00:00, 18.04it/s]"
     ]
    },
    {
     "name": "stdout",
     "output_type": "stream",
     "text": [
      "Test {'loss': 0.4365525676653935, 'exp_dice': 0.5795567203026551, 'accuracy': 0.9757920485276442, 'recall': 0.5956735755388554}\n"
     ]
    },
    {
     "name": "stderr",
     "output_type": "stream",
     "text": [
      "\n",
      "100%|█████████████████████████████████████████████| 260/260 [00:35<00:00,  7.29it/s]"
     ]
    },
    {
     "name": "stdout",
     "output_type": "stream",
     "text": [
      "Train {'loss': 0.23196678534150122, 'exp_dice': 0.6213702658621164, 'accuracy': 0.9751693193729107, 'recall': 0.6647824486860863}\n"
     ]
    },
    {
     "name": "stderr",
     "output_type": "stream",
     "text": [
      "\n",
      "100%|███████████████████████████████████████████████| 65/65 [00:03<00:00, 18.21it/s]"
     ]
    },
    {
     "name": "stdout",
     "output_type": "stream",
     "text": [
      "Test {'loss': 0.43497468599906336, 'exp_dice': 0.5819980057386251, 'accuracy': 0.9762889128464919, 'recall': 0.6369948909832881}\n"
     ]
    },
    {
     "name": "stderr",
     "output_type": "stream",
     "text": [
      "\n",
      "100%|█████████████████████████████████████████████| 260/260 [00:35<00:00,  7.30it/s]"
     ]
    },
    {
     "name": "stdout",
     "output_type": "stream",
     "text": [
      "Train {'loss': 0.23120469777629926, 'exp_dice': 0.6231440222034088, 'accuracy': 0.9750039467444787, 'recall': 0.6668655792107949}\n"
     ]
    },
    {
     "name": "stderr",
     "output_type": "stream",
     "text": [
      "\n",
      "100%|███████████████████████████████████████████████| 65/65 [00:03<00:00, 18.14it/s]"
     ]
    },
    {
     "name": "stdout",
     "output_type": "stream",
     "text": [
      "Test {'loss': 0.44115858994997464, 'exp_dice': 0.5756461056379172, 'accuracy': 0.9769706359276404, 'recall': 0.6186778893837562}\n"
     ]
    },
    {
     "name": "stderr",
     "output_type": "stream",
     "text": [
      "\n",
      "100%|█████████████████████████████████████████████| 260/260 [00:35<00:00,  7.30it/s]"
     ]
    },
    {
     "name": "stdout",
     "output_type": "stream",
     "text": [
      "Train {'loss': 0.23258525219101173, 'exp_dice': 0.6201216742396355, 'accuracy': 0.975311200435345, 'recall': 0.6620736590944803}\n"
     ]
    },
    {
     "name": "stderr",
     "output_type": "stream",
     "text": [
      "\n",
      "100%|███████████████████████████████████████████████| 65/65 [00:03<00:00, 18.11it/s]\n"
     ]
    },
    {
     "name": "stdout",
     "output_type": "stream",
     "text": [
      "Test {'loss': 0.4508470847056462, 'exp_dice': 0.5658899100927206, 'accuracy': 0.9769312931941105, 'recall': 0.6048487475285164}\n"
     ]
    },
    {
     "name": "stderr",
     "output_type": "stream",
     "text": [
      "100%|█████████████████████████████████████████████| 260/260 [00:35<00:00,  7.29it/s]"
     ]
    },
    {
     "name": "stdout",
     "output_type": "stream",
     "text": [
      "Train {'loss': 0.2364041129556986, 'exp_dice': 0.6132466483574647, 'accuracy': 0.975121885079604, 'recall': 0.6598097285972192}\n"
     ]
    },
    {
     "name": "stderr",
     "output_type": "stream",
     "text": [
      "\n",
      "100%|███████████████████████████████████████████████| 65/65 [00:03<00:00, 18.36it/s]"
     ]
    },
    {
     "name": "stdout",
     "output_type": "stream",
     "text": [
      "Test {'loss': 0.43646822984401995, 'exp_dice': 0.5812905994745401, 'accuracy': 0.9763035187354454, 'recall': 0.6270301323670607}\n"
     ]
    },
    {
     "name": "stderr",
     "output_type": "stream",
     "text": [
      "\n",
      "100%|█████████████████████████████████████████████| 260/260 [00:35<00:00,  7.30it/s]"
     ]
    },
    {
     "name": "stdout",
     "output_type": "stream",
     "text": [
      "Train {'loss': 0.23339664660967313, 'exp_dice': 0.6192704906973702, 'accuracy': 0.9747922402161818, 'recall': 0.6584643439891247}\n"
     ]
    },
    {
     "name": "stderr",
     "output_type": "stream",
     "text": [
      "\n",
      "100%|███████████████████████████████████████████████| 65/65 [00:03<00:00, 18.02it/s]"
     ]
    },
    {
     "name": "stdout",
     "output_type": "stream",
     "text": [
      "Test {'loss': 0.4376128077507019, 'exp_dice': 0.5793101812784488, 'accuracy': 0.9765440794137809, 'recall': 0.6057754296522874}\n"
     ]
    },
    {
     "name": "stderr",
     "output_type": "stream",
     "text": [
      "\n",
      "100%|█████████████████████████████████████████████| 260/260 [00:35<00:00,  7.30it/s]"
     ]
    },
    {
     "name": "stdout",
     "output_type": "stream",
     "text": [
      "Train {'loss': 0.23281986123094192, 'exp_dice': 0.6205933981360151, 'accuracy': 0.9749067416557899, 'recall': 0.6596427403533688}\n"
     ]
    },
    {
     "name": "stderr",
     "output_type": "stream",
     "text": [
      "\n",
      "100%|███████████████████████████████████████████████| 65/65 [00:03<00:00, 18.13it/s]"
     ]
    },
    {
     "name": "stdout",
     "output_type": "stream",
     "text": [
      "Test {'loss': 0.44383381421749407, 'exp_dice': 0.5718437160436923, 'accuracy': 0.9764657460726225, 'recall': 0.6121994520609195}\n"
     ]
    },
    {
     "name": "stderr",
     "output_type": "stream",
     "text": [
      "\n",
      "100%|█████████████████████████████████████████████| 260/260 [00:35<00:00,  7.31it/s]"
     ]
    },
    {
     "name": "stdout",
     "output_type": "stream",
     "text": [
      "Train {'loss': 0.23156058295414997, 'exp_dice': 0.622814545300431, 'accuracy': 0.9749628158716055, 'recall': 0.6642132298304484}\n"
     ]
    },
    {
     "name": "stderr",
     "output_type": "stream",
     "text": [
      "\n",
      "100%|███████████████████████████████████████████████| 65/65 [00:03<00:00, 18.04it/s]"
     ]
    },
    {
     "name": "stdout",
     "output_type": "stream",
     "text": [
      "Test {'loss': 0.4379402894240159, 'exp_dice': 0.5788568996466124, 'accuracy': 0.9766668172983023, 'recall': 0.6019378006458282}\n"
     ]
    },
    {
     "name": "stderr",
     "output_type": "stream",
     "text": [
      "\n",
      "100%|█████████████████████████████████████████████| 260/260 [00:35<00:00,  7.28it/s]"
     ]
    },
    {
     "name": "stdout",
     "output_type": "stream",
     "text": [
      "Train {'loss': 0.2341401307628705, 'exp_dice': 0.6173250790971976, 'accuracy': 0.9753728426419772, 'recall': 0.6604256735971341}\n"
     ]
    },
    {
     "name": "stderr",
     "output_type": "stream",
     "text": [
      "\n",
      "100%|███████████████████████████████████████████████| 65/65 [00:03<00:00, 17.98it/s]"
     ]
    },
    {
     "name": "stdout",
     "output_type": "stream",
     "text": [
      "Test {'loss': 0.4352456257893489, 'exp_dice': 0.5822194567093483, 'accuracy': 0.9765986809363731, 'recall': 0.6306961314036296}\n"
     ]
    },
    {
     "name": "stderr",
     "output_type": "stream",
     "text": [
      "\n",
      "100%|█████████████████████████████████████████████| 260/260 [00:35<00:00,  7.30it/s]"
     ]
    },
    {
     "name": "stdout",
     "output_type": "stream",
     "text": [
      "Train {'loss': 0.23183794050262524, 'exp_dice': 0.6224696070528948, 'accuracy': 0.9748930234175462, 'recall': 0.6663299087148447}\n"
     ]
    },
    {
     "name": "stderr",
     "output_type": "stream",
     "text": [
      "\n",
      "100%|███████████████████████████████████████████████| 65/65 [00:03<00:00, 18.16it/s]"
     ]
    },
    {
     "name": "stdout",
     "output_type": "stream",
     "text": [
      "Test {'loss': 0.4411055638239934, 'exp_dice': 0.5756648735358165, 'accuracy': 0.9771949988145094, 'recall': 0.5967896860379439}\n"
     ]
    },
    {
     "name": "stderr",
     "output_type": "stream",
     "text": [
      "\n",
      "100%|█████████████████████████████████████████████| 260/260 [00:35<00:00,  7.29it/s]"
     ]
    },
    {
     "name": "stdout",
     "output_type": "stream",
     "text": [
      "Train {'loss': 0.23349186222140605, 'exp_dice': 0.6192231531040027, 'accuracy': 0.9749347191590529, 'recall': 0.66597420876989}\n"
     ]
    },
    {
     "name": "stderr",
     "output_type": "stream",
     "text": [
      "\n",
      "100%|███████████████████████████████████████████████| 65/65 [00:03<00:00, 18.12it/s]"
     ]
    },
    {
     "name": "stdout",
     "output_type": "stream",
     "text": [
      "Test {'loss': 0.449597024000608, 'exp_dice': 0.5656829221890523, 'accuracy': 0.9758641463059645, 'recall': 0.5939961103292611}\n"
     ]
    },
    {
     "name": "stderr",
     "output_type": "stream",
     "text": [
      "\n",
      "100%|█████████████████████████████████████████████| 260/260 [00:35<00:00,  7.30it/s]"
     ]
    },
    {
     "name": "stdout",
     "output_type": "stream",
     "text": [
      "Train {'loss': 0.2315895836513776, 'exp_dice': 0.6216949318463986, 'accuracy': 0.9752002312586858, 'recall': 0.6597953884647443}\n"
     ]
    },
    {
     "name": "stderr",
     "output_type": "stream",
     "text": [
      "\n",
      "100%|███████████████████████████████████████████████| 65/65 [00:03<00:00, 17.99it/s]"
     ]
    },
    {
     "name": "stdout",
     "output_type": "stream",
     "text": [
      "Test {'loss': 0.4464429250130287, 'exp_dice': 0.5705697873463997, 'accuracy': 0.976635375389686, 'recall': 0.6145835826030144}\n"
     ]
    },
    {
     "name": "stderr",
     "output_type": "stream",
     "text": [
      "\n",
      "100%|█████████████████████████████████████████████| 260/260 [00:35<00:00,  7.30it/s]"
     ]
    },
    {
     "name": "stdout",
     "output_type": "stream",
     "text": [
      "Train {'loss': 0.23111935017200616, 'exp_dice': 0.6225666304047291, 'accuracy': 0.9752891540527344, 'recall': 0.6686030162068514}\n"
     ]
    },
    {
     "name": "stderr",
     "output_type": "stream",
     "text": [
      "\n",
      "100%|███████████████████████████████████████████████| 65/65 [00:03<00:00, 17.90it/s]"
     ]
    },
    {
     "name": "stdout",
     "output_type": "stream",
     "text": [
      "Test {'loss': 0.45595454619481013, 'exp_dice': 0.5606687277555465, 'accuracy': 0.9774236752436711, 'recall': 0.5924346981140284}\n"
     ]
    },
    {
     "name": "stderr",
     "output_type": "stream",
     "text": [
      "\n",
      "100%|█████████████████████████████████████████████| 260/260 [00:35<00:00,  7.29it/s]"
     ]
    },
    {
     "name": "stdout",
     "output_type": "stream",
     "text": [
      "Train {'loss': 0.23335858784042873, 'exp_dice': 0.6190976372705056, 'accuracy': 0.9751592250970694, 'recall': 0.6597074118944315}\n"
     ]
    },
    {
     "name": "stderr",
     "output_type": "stream",
     "text": [
      "\n",
      "100%|███████████████████████████████████████████████| 65/65 [00:03<00:00, 17.92it/s]\n"
     ]
    },
    {
     "name": "stdout",
     "output_type": "stream",
     "text": [
      "Test {'loss': 0.43829595950933603, 'exp_dice': 0.5791657397380242, 'accuracy': 0.9758610798762395, 'recall': 0.6159541624096724}\n"
     ]
    },
    {
     "name": "stderr",
     "output_type": "stream",
     "text": [
      "100%|█████████████████████████████████████████████| 260/260 [00:35<00:00,  7.29it/s]"
     ]
    },
    {
     "name": "stdout",
     "output_type": "stream",
     "text": [
      "Train {'loss': 0.23174741004522031, 'exp_dice': 0.6214791369839356, 'accuracy': 0.9750713605147142, 'recall': 0.6589851963978547}\n"
     ]
    },
    {
     "name": "stderr",
     "output_type": "stream",
     "text": [
      "\n",
      "100%|███████████████████████████████████████████████| 65/65 [00:03<00:00, 17.99it/s]"
     ]
    },
    {
     "name": "stdout",
     "output_type": "stream",
     "text": [
      "Test {'loss': 0.44214407297281116, 'exp_dice': 0.5752752540203241, 'accuracy': 0.9773422534649189, 'recall': 0.6157584387522478}\n"
     ]
    },
    {
     "name": "stderr",
     "output_type": "stream",
     "text": [
      "\n",
      "100%|█████████████████████████████████████████████| 260/260 [00:35<00:00,  7.29it/s]"
     ]
    },
    {
     "name": "stdout",
     "output_type": "stream",
     "text": [
      "Train {'loss': 0.23244006404509912, 'exp_dice': 0.6210019836202264, 'accuracy': 0.9749313868009127, 'recall': 0.6659919758255665}\n"
     ]
    },
    {
     "name": "stderr",
     "output_type": "stream",
     "text": [
      "\n",
      "100%|███████████████████████████████████████████████| 65/65 [00:03<00:00, 18.17it/s]"
     ]
    },
    {
     "name": "stdout",
     "output_type": "stream",
     "text": [
      "Test {'loss': 0.4495934073741619, 'exp_dice': 0.5660415213841659, 'accuracy': 0.9757766870351938, 'recall': 0.6135378021460313}\n"
     ]
    },
    {
     "name": "stderr",
     "output_type": "stream",
     "text": [
      "\n",
      "100%|█████████████████████████████████████████████| 260/260 [00:35<00:00,  7.29it/s]"
     ]
    },
    {
     "name": "stdout",
     "output_type": "stream",
     "text": [
      "Train {'loss': 0.23562708995663204, 'exp_dice': 0.6147327668391741, 'accuracy': 0.9750413949672992, 'recall': 0.6594348171582589}\n"
     ]
    },
    {
     "name": "stderr",
     "output_type": "stream",
     "text": [
      "\n",
      "100%|███████████████████████████████████████████████| 65/65 [00:03<00:00, 18.07it/s]"
     ]
    },
    {
     "name": "stdout",
     "output_type": "stream",
     "text": [
      "Test {'loss': 0.430515639598553, 'exp_dice': 0.5867245683303246, 'accuracy': 0.9754682760972243, 'recall': 0.6311176185424511}\n"
     ]
    },
    {
     "name": "stderr",
     "output_type": "stream",
     "text": [
      "\n",
      "100%|█████████████████████████████████████████████| 260/260 [00:35<00:00,  7.29it/s]"
     ]
    },
    {
     "name": "stdout",
     "output_type": "stream",
     "text": [
      "Train {'loss': 0.23275808514310764, 'exp_dice': 0.6208142405519119, 'accuracy': 0.9748963282658504, 'recall': 0.6625266466003198}\n"
     ]
    },
    {
     "name": "stderr",
     "output_type": "stream",
     "text": [
      "\n",
      "100%|███████████████████████████████████████████████| 65/65 [00:03<00:00, 18.10it/s]"
     ]
    },
    {
     "name": "stdout",
     "output_type": "stream",
     "text": [
      "Test {'loss': 0.4484908103942871, 'exp_dice': 0.5684880443490469, 'accuracy': 0.975898735339825, 'recall': 0.6098268018319056}\n"
     ]
    },
    {
     "name": "stderr",
     "output_type": "stream",
     "text": [
      "\n",
      "100%|█████████████████████████████████████████████| 260/260 [00:35<00:00,  7.29it/s]"
     ]
    },
    {
     "name": "stdout",
     "output_type": "stream",
     "text": [
      "Train {'loss': 0.23406497371884494, 'exp_dice': 0.6175540633499622, 'accuracy': 0.975154500741225, 'recall': 0.660628747023069}\n"
     ]
    },
    {
     "name": "stderr",
     "output_type": "stream",
     "text": [
      "\n",
      "100%|███████████████████████████████████████████████| 65/65 [00:03<00:00, 17.80it/s]\n"
     ]
    },
    {
     "name": "stdout",
     "output_type": "stream",
     "text": [
      "Test {'loss': 0.4323339058802678, 'exp_dice': 0.5846295122916881, 'accuracy': 0.9760864918048565, 'recall': 0.6376688095239492}\n"
     ]
    },
    {
     "name": "stderr",
     "output_type": "stream",
     "text": [
      "100%|█████████████████████████████████████████████| 260/260 [00:35<00:00,  7.29it/s]"
     ]
    },
    {
     "name": "stdout",
     "output_type": "stream",
     "text": [
      "Train {'loss': 0.23215827288535926, 'exp_dice': 0.6203177055200705, 'accuracy': 0.9752459911199717, 'recall': 0.6622321686205955}\n"
     ]
    },
    {
     "name": "stderr",
     "output_type": "stream",
     "text": [
      "\n",
      "100%|███████████████████████████████████████████████| 65/65 [00:03<00:00, 18.18it/s]"
     ]
    },
    {
     "name": "stdout",
     "output_type": "stream",
     "text": [
      "Test {'loss': 0.4423558427737309, 'exp_dice': 0.5739380964866051, 'accuracy': 0.9759245138901931, 'recall': 0.5936716831647433}\n"
     ]
    },
    {
     "name": "stderr",
     "output_type": "stream",
     "text": [
      "\n",
      "100%|█████████████████████████████████████████████| 260/260 [00:35<00:00,  7.29it/s]"
     ]
    },
    {
     "name": "stdout",
     "output_type": "stream",
     "text": [
      "Train {'loss': 0.2310412845359399, 'exp_dice': 0.6228486717893527, 'accuracy': 0.9751257474605853, 'recall': 0.6665034100413323}\n"
     ]
    },
    {
     "name": "stderr",
     "output_type": "stream",
     "text": [
      "\n",
      "100%|███████████████████████████████████████████████| 65/65 [00:03<00:00, 18.05it/s]"
     ]
    },
    {
     "name": "stdout",
     "output_type": "stream",
     "text": [
      "Test {'loss': 0.433012985266172, 'exp_dice': 0.5840941220521927, 'accuracy': 0.9769293565016527, 'recall': 0.6358730605015388}\n"
     ]
    },
    {
     "name": "stderr",
     "output_type": "stream",
     "text": [
      "\n",
      "100%|█████████████████████████████████████████████| 260/260 [00:35<00:00,  7.30it/s]"
     ]
    },
    {
     "name": "stdout",
     "output_type": "stream",
     "text": [
      "Train {'loss': 0.2327051964516823, 'exp_dice': 0.6206157899819887, 'accuracy': 0.9749542786524846, 'recall': 0.6660129615893731}\n"
     ]
    },
    {
     "name": "stderr",
     "output_type": "stream",
     "text": [
      "\n",
      "100%|███████████████████████████████████████████████| 65/65 [00:03<00:00, 18.23it/s]"
     ]
    },
    {
     "name": "stdout",
     "output_type": "stream",
     "text": [
      "Test {'loss': 0.4426887108729436, 'exp_dice': 0.5740156636788295, 'accuracy': 0.9759964356055626, 'recall': 0.6039370536804199}\n"
     ]
    },
    {
     "name": "stderr",
     "output_type": "stream",
     "text": [
      "\n",
      "100%|█████████████████████████████████████████████| 260/260 [00:35<00:00,  7.29it/s]"
     ]
    },
    {
     "name": "stdout",
     "output_type": "stream",
     "text": [
      "Train {'loss': 0.2305756167150461, 'exp_dice': 0.6235152968993554, 'accuracy': 0.9753203190290011, 'recall': 0.6654140313084309}\n"
     ]
    },
    {
     "name": "stderr",
     "output_type": "stream",
     "text": [
      "\n",
      "100%|███████████████████████████████████████████████| 65/65 [00:03<00:00, 18.47it/s]"
     ]
    },
    {
     "name": "stdout",
     "output_type": "stream",
     "text": [
      "Test {'loss': 0.4453635839315561, 'exp_dice': 0.5711444020271301, 'accuracy': 0.975560056246244, 'recall': 0.5977615601741351}\n"
     ]
    },
    {
     "name": "stderr",
     "output_type": "stream",
     "text": [
      "\n",
      "100%|█████████████████████████████████████████████| 260/260 [00:35<00:00,  7.30it/s]"
     ]
    },
    {
     "name": "stdout",
     "output_type": "stream",
     "text": [
      "Train {'loss': 0.23267736927821087, 'exp_dice': 0.6215128761071426, 'accuracy': 0.9746276415311373, 'recall': 0.6592958873281112}\n"
     ]
    },
    {
     "name": "stderr",
     "output_type": "stream",
     "text": [
      "\n",
      "100%|███████████████████████████████████████████████| 65/65 [00:03<00:00, 18.22it/s]\n"
     ]
    },
    {
     "name": "stdout",
     "output_type": "stream",
     "text": [
      "Test {'loss': 0.4435053559450003, 'exp_dice': 0.5719879301694724, 'accuracy': 0.9755311819223257, 'recall': 0.6072712792800024}\n"
     ]
    },
    {
     "name": "stderr",
     "output_type": "stream",
     "text": [
      "100%|█████████████████████████████████████████████| 260/260 [00:35<00:00,  7.30it/s]"
     ]
    },
    {
     "name": "stdout",
     "output_type": "stream",
     "text": [
      "Train {'loss': 0.23286228867677541, 'exp_dice': 0.6194762273763235, 'accuracy': 0.9752085924148559, 'recall': 0.660912528118262}\n"
     ]
    },
    {
     "name": "stderr",
     "output_type": "stream",
     "text": [
      "\n",
      "100%|███████████████████████████████████████████████| 65/65 [00:03<00:00, 18.04it/s]"
     ]
    },
    {
     "name": "stdout",
     "output_type": "stream",
     "text": [
      "Test {'loss': 0.43006737048809346, 'exp_dice': 0.5864617911668925, 'accuracy': 0.9760176438551683, 'recall': 0.6329549209429668}\n"
     ]
    },
    {
     "name": "stderr",
     "output_type": "stream",
     "text": [
      "\n",
      "100%|█████████████████████████████████████████████| 260/260 [00:35<00:00,  7.30it/s]"
     ]
    },
    {
     "name": "stdout",
     "output_type": "stream",
     "text": [
      "Train {'loss': 0.23448400520361387, 'exp_dice': 0.6159740771874427, 'accuracy': 0.9750873950811533, 'recall': 0.6645334488497331}\n"
     ]
    },
    {
     "name": "stderr",
     "output_type": "stream",
     "text": [
      "\n",
      "100%|███████████████████████████████████████████████| 65/65 [00:03<00:00, 18.20it/s]"
     ]
    },
    {
     "name": "stdout",
     "output_type": "stream",
     "text": [
      "Test {'loss': 0.4373624856655414, 'exp_dice': 0.5797931579443124, 'accuracy': 0.9768189650315505, 'recall': 0.6230708787074456}\n"
     ]
    },
    {
     "name": "stderr",
     "output_type": "stream",
     "text": [
      "\n",
      "100%|█████████████████████████████████████████████| 260/260 [00:35<00:00,  7.29it/s]"
     ]
    },
    {
     "name": "stdout",
     "output_type": "stream",
     "text": [
      "Train {'loss': 0.23233587375053993, 'exp_dice': 0.6203224340310464, 'accuracy': 0.9752647344882671, 'recall': 0.6655160875274585}\n"
     ]
    },
    {
     "name": "stderr",
     "output_type": "stream",
     "text": [
      "\n",
      "100%|███████████████████████████████████████████████| 65/65 [00:03<00:00, 18.02it/s]"
     ]
    },
    {
     "name": "stdout",
     "output_type": "stream",
     "text": [
      "Test {'loss': 0.4371579381135794, 'exp_dice': 0.5780270764460931, 'accuracy': 0.9755530577439528, 'recall': 0.5986846442405994}\n"
     ]
    },
    {
     "name": "stderr",
     "output_type": "stream",
     "text": [
      "\n",
      "100%|█████████████████████████████████████████████| 260/260 [00:35<00:00,  7.29it/s]"
     ]
    },
    {
     "name": "stdout",
     "output_type": "stream",
     "text": [
      "Train {'loss': 0.23113166890465298, 'exp_dice': 0.6238968267750281, 'accuracy': 0.9749752649894128, 'recall': 0.6611890241503715}\n"
     ]
    },
    {
     "name": "stderr",
     "output_type": "stream",
     "text": [
      "\n",
      "100%|███████████████████████████████████████████████| 65/65 [00:03<00:00, 18.02it/s]"
     ]
    },
    {
     "name": "stdout",
     "output_type": "stream",
     "text": [
      "Test {'loss': 0.4227207999963027, 'exp_dice': 0.5936929033352778, 'accuracy': 0.9761407265296349, 'recall': 0.6069682960326855}\n"
     ]
    },
    {
     "name": "stderr",
     "output_type": "stream",
     "text": [
      "\n",
      "100%|█████████████████████████████████████████████| 260/260 [00:35<00:00,  7.30it/s]"
     ]
    },
    {
     "name": "stdout",
     "output_type": "stream",
     "text": [
      "Train {'loss': 0.23346716916331878, 'exp_dice': 0.6190484871657995, 'accuracy': 0.9750504493713379, 'recall': 0.6628155829814765}\n"
     ]
    },
    {
     "name": "stderr",
     "output_type": "stream",
     "text": [
      "\n",
      "100%|███████████████████████████████████████████████| 65/65 [00:03<00:00, 18.29it/s]"
     ]
    },
    {
     "name": "stdout",
     "output_type": "stream",
     "text": [
      "Test {'loss': 0.4473878658734835, 'exp_dice': 0.5690307167860178, 'accuracy': 0.9765037463261531, 'recall': 0.5968145530957442}\n"
     ]
    },
    {
     "name": "stderr",
     "output_type": "stream",
     "text": [
      "\n",
      "100%|█████████████████████████████████████████████| 260/260 [00:35<00:00,  7.30it/s]"
     ]
    },
    {
     "name": "stdout",
     "output_type": "stream",
     "text": [
      "Train {'loss': 0.233892883761571, 'exp_dice': 0.6182082744171986, 'accuracy': 0.9750725030899048, 'recall': 0.6602991096102274}\n"
     ]
    },
    {
     "name": "stderr",
     "output_type": "stream",
     "text": [
      "\n",
      "100%|███████████████████████████████████████████████| 65/65 [00:03<00:00, 18.05it/s]"
     ]
    },
    {
     "name": "stdout",
     "output_type": "stream",
     "text": [
      "Test {'loss': 0.45113261387898373, 'exp_dice': 0.5644294754816935, 'accuracy': 0.9764897419856144, 'recall': 0.5959207007518181}\n"
     ]
    },
    {
     "name": "stderr",
     "output_type": "stream",
     "text": [
      "\n",
      "100%|█████████████████████████████████████████████| 260/260 [00:35<00:00,  7.30it/s]"
     ]
    },
    {
     "name": "stdout",
     "output_type": "stream",
     "text": [
      "Train {'loss': 0.23145831261689848, 'exp_dice': 0.6218051120065726, 'accuracy': 0.9751988539328942, 'recall': 0.6638974471160999}\n"
     ]
    },
    {
     "name": "stderr",
     "output_type": "stream",
     "text": [
      "\n",
      "100%|███████████████████████████████████████████████| 65/65 [00:03<00:00, 18.21it/s]"
     ]
    },
    {
     "name": "stdout",
     "output_type": "stream",
     "text": [
      "Test {'loss': 0.4375844359397888, 'exp_dice': 0.5788539097859309, 'accuracy': 0.9764298585745005, 'recall': 0.606757963849948}\n"
     ]
    },
    {
     "name": "stderr",
     "output_type": "stream",
     "text": [
      "\n",
      "100%|█████████████████████████████████████████████| 260/260 [00:35<00:00,  7.30it/s]"
     ]
    },
    {
     "name": "stdout",
     "output_type": "stream",
     "text": [
      "Train {'loss': 0.2326648089175041, 'exp_dice': 0.6216287774821887, 'accuracy': 0.9746567964553833, 'recall': 0.6630991282371375}\n"
     ]
    },
    {
     "name": "stderr",
     "output_type": "stream",
     "text": [
      "\n",
      "100%|███████████████████████████████████████████████| 65/65 [00:03<00:00, 18.38it/s]"
     ]
    },
    {
     "name": "stdout",
     "output_type": "stream",
     "text": [
      "Test {'loss': 0.4320961961379418, 'exp_dice': 0.5846556931734085, 'accuracy': 0.9761974994952862, 'recall': 0.6395570131448599}\n"
     ]
    },
    {
     "name": "stderr",
     "output_type": "stream",
     "text": [
      "\n",
      "100%|█████████████████████████████████████████████| 260/260 [00:35<00:00,  7.29it/s]"
     ]
    },
    {
     "name": "stdout",
     "output_type": "stream",
     "text": [
      "Train {'loss': 0.23140817284584045, 'exp_dice': 0.6220324758870097, 'accuracy': 0.9753068465452928, 'recall': 0.6608939985386454}\n"
     ]
    },
    {
     "name": "stderr",
     "output_type": "stream",
     "text": [
      "\n",
      "100%|███████████████████████████████████████████████| 65/65 [00:03<00:00, 18.19it/s]"
     ]
    },
    {
     "name": "stdout",
     "output_type": "stream",
     "text": [
      "Test {'loss': 0.43772996022151067, 'exp_dice': 0.5790105141126193, 'accuracy': 0.9756782971895658, 'recall': 0.6088669318419236}\n"
     ]
    },
    {
     "name": "stderr",
     "output_type": "stream",
     "text": [
      "\n",
      "100%|█████████████████████████████████████████████| 260/260 [00:35<00:00,  7.28it/s]"
     ]
    },
    {
     "name": "stdout",
     "output_type": "stream",
     "text": [
      "Train {'loss': 0.2325129584624217, 'exp_dice': 0.621305566567641, 'accuracy': 0.9748905475323016, 'recall': 0.6615063917178374}\n"
     ]
    },
    {
     "name": "stderr",
     "output_type": "stream",
     "text": [
      "\n",
      "100%|███████████████████████████████████████████████| 65/65 [00:03<00:00, 17.94it/s]\n"
     ]
    },
    {
     "name": "stdout",
     "output_type": "stream",
     "text": [
      "Test {'loss': 0.45542883231089665, 'exp_dice': 0.5605182860906307, 'accuracy': 0.9755545542790339, 'recall': 0.5818497465207026}\n"
     ]
    },
    {
     "name": "stderr",
     "output_type": "stream",
     "text": [
      "100%|█████████████████████████████████████████████| 260/260 [00:35<00:00,  7.30it/s]"
     ]
    },
    {
     "name": "stdout",
     "output_type": "stream",
     "text": [
      "Train {'loss': 0.2353985897050454, 'exp_dice': 0.6167477636956251, 'accuracy': 0.9746039152145386, 'recall': 0.660718586238531}\n"
     ]
    },
    {
     "name": "stderr",
     "output_type": "stream",
     "text": [
      "\n",
      "100%|███████████████████████████████████████████████| 65/65 [00:03<00:00, 18.16it/s]"
     ]
    },
    {
     "name": "stdout",
     "output_type": "stream",
     "text": [
      "Test {'loss': 0.4396495764072125, 'exp_dice': 0.5778058680204244, 'accuracy': 0.976200609940749, 'recall': 0.6131114735053136}\n"
     ]
    },
    {
     "name": "stderr",
     "output_type": "stream",
     "text": [
      "\n",
      "100%|█████████████████████████████████████████████| 260/260 [00:35<00:00,  7.30it/s]"
     ]
    },
    {
     "name": "stdout",
     "output_type": "stream",
     "text": [
      "Train {'loss': 0.23290836094663694, 'exp_dice': 0.6191043429649793, 'accuracy': 0.9753969467603243, 'recall': 0.6671740362850519}\n"
     ]
    },
    {
     "name": "stderr",
     "output_type": "stream",
     "text": [
      "\n",
      "100%|███████████████████████████████████████████████| 65/65 [00:03<00:00, 17.98it/s]"
     ]
    },
    {
     "name": "stdout",
     "output_type": "stream",
     "text": [
      "Test {'loss': 0.4438232614443852, 'exp_dice': 0.5721197366714478, 'accuracy': 0.9756720249469464, 'recall': 0.6121033673103039}\n"
     ]
    },
    {
     "name": "stderr",
     "output_type": "stream",
     "text": [
      "\n",
      "100%|█████████████████████████████████████████████| 260/260 [00:35<00:00,  7.31it/s]"
     ]
    },
    {
     "name": "stdout",
     "output_type": "stream",
     "text": [
      "Train {'loss': 0.23120803483403646, 'exp_dice': 0.6227320956022595, 'accuracy': 0.9752024870652419, 'recall': 0.6621055557714919}\n"
     ]
    },
    {
     "name": "stderr",
     "output_type": "stream",
     "text": [
      "\n",
      "100%|███████████████████████████████████████████████| 65/65 [00:03<00:00, 17.93it/s]"
     ]
    },
    {
     "name": "stdout",
     "output_type": "stream",
     "text": [
      "Test {'loss': 0.4397004063312824, 'exp_dice': 0.576850878733855, 'accuracy': 0.975954583974985, 'recall': 0.6131031325230232}\n"
     ]
    },
    {
     "name": "stderr",
     "output_type": "stream",
     "text": [
      "\n",
      "100%|█████████████████████████████████████████████| 260/260 [00:35<00:00,  7.30it/s]"
     ]
    },
    {
     "name": "stdout",
     "output_type": "stream",
     "text": [
      "Train {'loss': 0.2317344205883833, 'exp_dice': 0.6216127003041597, 'accuracy': 0.9752861334727361, 'recall': 0.6611619777404345}\n"
     ]
    },
    {
     "name": "stderr",
     "output_type": "stream",
     "text": [
      "\n",
      "100%|███████████████████████████████████████████████| 65/65 [00:03<00:00, 18.04it/s]"
     ]
    },
    {
     "name": "stdout",
     "output_type": "stream",
     "text": [
      "Test {'loss': 0.43817900327535775, 'exp_dice': 0.5779835946284808, 'accuracy': 0.9760695897615873, 'recall': 0.6207201441893211}\n"
     ]
    },
    {
     "name": "stderr",
     "output_type": "stream",
     "text": [
      "\n",
      "100%|█████████████████████████████████████████████| 260/260 [00:35<00:00,  7.29it/s]"
     ]
    },
    {
     "name": "stdout",
     "output_type": "stream",
     "text": [
      "Train {'loss': 0.23286411395439735, 'exp_dice': 0.6200079569449791, 'accuracy': 0.9751410484313965, 'recall': 0.6604120296354478}\n"
     ]
    },
    {
     "name": "stderr",
     "output_type": "stream",
     "text": [
      "\n",
      "100%|███████████████████████████████████████████████| 65/65 [00:03<00:00, 18.02it/s]"
     ]
    },
    {
     "name": "stdout",
     "output_type": "stream",
     "text": [
      "Test {'loss': 0.4495459611599262, 'exp_dice': 0.5654925898863719, 'accuracy': 0.9758689293494591, 'recall': 0.593672244823896}\n"
     ]
    },
    {
     "name": "stderr",
     "output_type": "stream",
     "text": [
      "\n",
      "100%|█████████████████████████████████████████████| 260/260 [00:35<00:00,  7.30it/s]"
     ]
    },
    {
     "name": "stdout",
     "output_type": "stream",
     "text": [
      "Train {'loss': 0.23364054646629553, 'exp_dice': 0.6192743526055262, 'accuracy': 0.9748839598435622, 'recall': 0.6580103183021913}\n"
     ]
    },
    {
     "name": "stderr",
     "output_type": "stream",
     "text": [
      "\n",
      "100%|███████████████████████████████████████████████| 65/65 [00:03<00:00, 17.83it/s]"
     ]
    },
    {
     "name": "stdout",
     "output_type": "stream",
     "text": [
      "Test {'loss': 0.4270104564153231, 'exp_dice': 0.5893264752167922, 'accuracy': 0.9773668509263259, 'recall': 0.6246058427370511}\n"
     ]
    },
    {
     "name": "stderr",
     "output_type": "stream",
     "text": [
      "\n",
      "100%|█████████████████████████████████████████████| 260/260 [00:35<00:00,  7.29it/s]"
     ]
    },
    {
     "name": "stdout",
     "output_type": "stream",
     "text": [
      "Train {'loss': 0.23210493240218896, 'exp_dice': 0.6210990967085728, 'accuracy': 0.9752191011722271, 'recall': 0.6679682633051506}\n"
     ]
    },
    {
     "name": "stderr",
     "output_type": "stream",
     "text": [
      "\n",
      "100%|███████████████████████████████████████████████| 65/65 [00:03<00:00, 17.94it/s]"
     ]
    },
    {
     "name": "stdout",
     "output_type": "stream",
     "text": [
      "Test {'loss': 0.43553005090126623, 'exp_dice': 0.5811858055683282, 'accuracy': 0.9757321137648363, 'recall': 0.5908785627438472}\n"
     ]
    },
    {
     "name": "stderr",
     "output_type": "stream",
     "text": [
      "\n",
      "100%|█████████████████████████████████████████████| 260/260 [00:35<00:00,  7.29it/s]"
     ]
    },
    {
     "name": "stdout",
     "output_type": "stream",
     "text": [
      "Train {'loss': 0.23269869169363608, 'exp_dice': 0.6200852281772173, 'accuracy': 0.9749954590430626, 'recall': 0.6635141154894462}\n"
     ]
    },
    {
     "name": "stderr",
     "output_type": "stream",
     "text": [
      "\n",
      "100%|███████████████████████████████████████████████| 65/65 [00:03<00:00, 17.77it/s]"
     ]
    },
    {
     "name": "stdout",
     "output_type": "stream",
     "text": [
      "Test {'loss': 0.4409422480143034, 'exp_dice': 0.5752759337425232, 'accuracy': 0.9771554946899415, 'recall': 0.611770066848168}\n"
     ]
    },
    {
     "name": "stderr",
     "output_type": "stream",
     "text": [
      "\n",
      "100%|█████████████████████████████████████████████| 260/260 [00:35<00:00,  7.29it/s]"
     ]
    },
    {
     "name": "stdout",
     "output_type": "stream",
     "text": [
      "Train {'loss': 0.23284996627615048, 'exp_dice': 0.6192709292929907, 'accuracy': 0.9753323059815627, 'recall': 0.6677454009652137}\n"
     ]
    },
    {
     "name": "stderr",
     "output_type": "stream",
     "text": [
      "\n",
      "100%|███████████████████████████████████████████████| 65/65 [00:03<00:00, 17.98it/s]"
     ]
    },
    {
     "name": "stdout",
     "output_type": "stream",
     "text": [
      "Test {'loss': 0.4440608749022851, 'exp_dice': 0.5713648731891926, 'accuracy': 0.9760499073908879, 'recall': 0.592047645495488}\n"
     ]
    },
    {
     "name": "stderr",
     "output_type": "stream",
     "text": [
      "\n",
      "100%|█████████████████████████████████████████████| 260/260 [00:35<00:00,  7.29it/s]"
     ]
    },
    {
     "name": "stdout",
     "output_type": "stream",
     "text": [
      "Train {'loss': 0.2345106404561263, 'exp_dice': 0.6159704366555581, 'accuracy': 0.9753430935052725, 'recall': 0.6635426189463872}\n"
     ]
    },
    {
     "name": "stderr",
     "output_type": "stream",
     "text": [
      "\n",
      "100%|███████████████████████████████████████████████| 65/65 [00:03<00:00, 18.01it/s]\n"
     ]
    },
    {
     "name": "stdout",
     "output_type": "stream",
     "text": [
      "Test {'loss': 0.4338333267431993, 'exp_dice': 0.5825824714623965, 'accuracy': 0.97653258397029, 'recall': 0.6314399146116697}\n"
     ]
    },
    {
     "name": "stderr",
     "output_type": "stream",
     "text": [
      "100%|█████████████████████████████████████████████| 260/260 [00:35<00:00,  7.30it/s]"
     ]
    },
    {
     "name": "stdout",
     "output_type": "stream",
     "text": [
      "Train {'loss': 0.2341348569553632, 'exp_dice': 0.6173515611543106, 'accuracy': 0.9751576900482177, 'recall': 0.658643170274221}\n"
     ]
    },
    {
     "name": "stderr",
     "output_type": "stream",
     "text": [
      "\n",
      "100%|███████████████████████████████████████████████| 65/65 [00:03<00:00, 18.01it/s]"
     ]
    },
    {
     "name": "stdout",
     "output_type": "stream",
     "text": [
      "Test {'loss': 0.4405968427658081, 'exp_dice': 0.5751278141370186, 'accuracy': 0.9768657024090107, 'recall': 0.6007795966588534}\n"
     ]
    },
    {
     "name": "stderr",
     "output_type": "stream",
     "text": [
      "\n",
      "100%|█████████████████████████████████████████████| 260/260 [00:35<00:00,  7.30it/s]"
     ]
    },
    {
     "name": "stdout",
     "output_type": "stream",
     "text": [
      "Train {'loss': 0.23458072617650033, 'exp_dice': 0.616951760649681, 'accuracy': 0.9748615118173453, 'recall': 0.6616826325081862}\n"
     ]
    },
    {
     "name": "stderr",
     "output_type": "stream",
     "text": [
      "\n",
      "100%|███████████████████████████████████████████████| 65/65 [00:03<00:00, 17.94it/s]"
     ]
    },
    {
     "name": "stdout",
     "output_type": "stream",
     "text": [
      "Test {'loss': 0.43266279514019307, 'exp_dice': 0.5830952644348144, 'accuracy': 0.9764828902024489, 'recall': 0.6297842892316672}\n"
     ]
    },
    {
     "name": "stderr",
     "output_type": "stream",
     "text": [
      "\n",
      "100%|█████████████████████████████████████████████| 260/260 [00:35<00:00,  7.29it/s]"
     ]
    },
    {
     "name": "stdout",
     "output_type": "stream",
     "text": [
      "Train {'loss': 0.23012443866867285, 'exp_dice': 0.624736398888322, 'accuracy': 0.9753036370644202, 'recall': 0.6669023748773795}\n"
     ]
    },
    {
     "name": "stderr",
     "output_type": "stream",
     "text": [
      "\n",
      "100%|███████████████████████████████████████████████| 65/65 [00:03<00:00, 18.05it/s]"
     ]
    },
    {
     "name": "stdout",
     "output_type": "stream",
     "text": [
      "Test {'loss': 0.4488087452374972, 'exp_dice': 0.5672462557370846, 'accuracy': 0.9753498150752141, 'recall': 0.6097052610837497}\n"
     ]
    },
    {
     "name": "stderr",
     "output_type": "stream",
     "text": [
      "\n",
      "100%|█████████████████████████████████████████████| 260/260 [00:35<00:00,  7.30it/s]"
     ]
    },
    {
     "name": "stdout",
     "output_type": "stream",
     "text": [
      "Train {'loss': 0.23323498230714065, 'exp_dice': 0.6199651861993166, 'accuracy': 0.9748655539292556, 'recall': 0.6608875911969405}\n"
     ]
    },
    {
     "name": "stderr",
     "output_type": "stream",
     "text": [
      "\n",
      "100%|███████████████████████████████████████████████| 65/65 [00:03<00:00, 18.13it/s]"
     ]
    },
    {
     "name": "stdout",
     "output_type": "stream",
     "text": [
      "Test {'loss': 0.4421442875495324, 'exp_dice': 0.5737587583752779, 'accuracy': 0.9763267517089844, 'recall': 0.6090533488071882}\n"
     ]
    },
    {
     "name": "stderr",
     "output_type": "stream",
     "text": [
      "\n",
      "100%|█████████████████████████████████████████████| 260/260 [00:35<00:00,  7.31it/s]"
     ]
    },
    {
     "name": "stdout",
     "output_type": "stream",
     "text": [
      "Train {'loss': 0.2316743614581915, 'exp_dice': 0.6219857938014544, 'accuracy': 0.9750530609717736, 'recall': 0.6623274478774804}\n"
     ]
    },
    {
     "name": "stderr",
     "output_type": "stream",
     "text": [
      "\n",
      "100%|███████████████████████████████████████████████| 65/65 [00:03<00:00, 18.05it/s]"
     ]
    },
    {
     "name": "stdout",
     "output_type": "stream",
     "text": [
      "Test {'loss': 0.4536153591596163, 'exp_dice': 0.5625745406517616, 'accuracy': 0.976077703329233, 'recall': 0.5863203582855371}\n"
     ]
    },
    {
     "name": "stderr",
     "output_type": "stream",
     "text": [
      "\n",
      "100%|█████████████████████████████████████████████| 260/260 [00:35<00:00,  7.31it/s]"
     ]
    },
    {
     "name": "stdout",
     "output_type": "stream",
     "text": [
      "Train {'loss': 0.23158417407136697, 'exp_dice': 0.6223423920141963, 'accuracy': 0.9750618256055392, 'recall': 0.661087874437754}\n"
     ]
    },
    {
     "name": "stderr",
     "output_type": "stream",
     "text": [
      "\n",
      "100%|███████████████████████████████████████████████| 65/65 [00:03<00:00, 18.10it/s]"
     ]
    },
    {
     "name": "stdout",
     "output_type": "stream",
     "text": [
      "Test {'loss': 0.4333010352574862, 'exp_dice': 0.5848006546497345, 'accuracy': 0.9760274153489333, 'recall': 0.6236239029810979}\n"
     ]
    },
    {
     "name": "stderr",
     "output_type": "stream",
     "text": [
      "\n",
      "100%|█████████████████████████████████████████████| 260/260 [00:35<00:00,  7.30it/s]"
     ]
    },
    {
     "name": "stdout",
     "output_type": "stream",
     "text": [
      "Train {'loss': 0.23489857906332381, 'exp_dice': 0.6162891508868107, 'accuracy': 0.9748907529390776, 'recall': 0.6611335584750542}\n"
     ]
    },
    {
     "name": "stderr",
     "output_type": "stream",
     "text": [
      "\n",
      "100%|███████████████████████████████████████████████| 65/65 [00:03<00:00, 18.22it/s]"
     ]
    },
    {
     "name": "stdout",
     "output_type": "stream",
     "text": [
      "Test {'loss': 0.43638909780062163, 'exp_dice': 0.5799382521555974, 'accuracy': 0.9761134661160983, 'recall': 0.6094891360172858}\n"
     ]
    },
    {
     "name": "stderr",
     "output_type": "stream",
     "text": [
      "\n",
      "100%|█████████████████████████████████████████████| 260/260 [00:35<00:00,  7.30it/s]"
     ]
    },
    {
     "name": "stdout",
     "output_type": "stream",
     "text": [
      "Train {'loss': 0.23257368401839182, 'exp_dice': 0.6203634875898177, 'accuracy': 0.9751718117640569, 'recall': 0.6638197344083052}\n"
     ]
    },
    {
     "name": "stderr",
     "output_type": "stream",
     "text": [
      "\n",
      "100%|███████████████████████████████████████████████| 65/65 [00:03<00:00, 18.32it/s]"
     ]
    },
    {
     "name": "stdout",
     "output_type": "stream",
     "text": [
      "Test {'loss': 0.43532961973777184, 'exp_dice': 0.5813025777156536, 'accuracy': 0.9760909520662748, 'recall': 0.6247215940402104}\n"
     ]
    },
    {
     "name": "stderr",
     "output_type": "stream",
     "text": [
      "\n",
      "100%|█████████████████████████████████████████████| 260/260 [00:35<00:00,  7.30it/s]"
     ]
    },
    {
     "name": "stdout",
     "output_type": "stream",
     "text": [
      "Train {'loss': 0.234023468540265, 'exp_dice': 0.6169582847649089, 'accuracy': 0.9753551079676701, 'recall': 0.6612060903929747}\n"
     ]
    },
    {
     "name": "stderr",
     "output_type": "stream",
     "text": [
      "\n",
      "100%|███████████████████████████████████████████████| 65/65 [00:03<00:00, 18.24it/s]"
     ]
    },
    {
     "name": "stdout",
     "output_type": "stream",
     "text": [
      "Test {'loss': 0.43557012447944055, 'exp_dice': 0.5808251674358661, 'accuracy': 0.9765846105722281, 'recall': 0.6286132209576093}\n"
     ]
    },
    {
     "name": "stderr",
     "output_type": "stream",
     "text": [
      "\n",
      "100%|█████████████████████████████████████████████| 260/260 [00:35<00:00,  7.30it/s]"
     ]
    },
    {
     "name": "stdout",
     "output_type": "stream",
     "text": [
      "Train {'loss': 0.2320260633642857, 'exp_dice': 0.6213820211589336, 'accuracy': 0.9751903992432814, 'recall': 0.6665845312751256}\n"
     ]
    },
    {
     "name": "stderr",
     "output_type": "stream",
     "text": [
      "\n",
      "100%|███████████████████████████████████████████████| 65/65 [00:03<00:00, 17.84it/s]\n"
     ]
    },
    {
     "name": "stdout",
     "output_type": "stream",
     "text": [
      "Test {'loss': 0.42780311015936046, 'exp_dice': 0.5892573934334975, 'accuracy': 0.9759622720571665, 'recall': 0.6388923823833466}\n"
     ]
    }
   ],
   "source": [
    "for epoch in range(epochs):\n",
    "    summary = train_epoch(train_loader, model, metrics, optimizer, criterion)\n",
    "    print(\"Train\", summary)\n",
    "    scheduler.step()\n",
    "    for metric_name in summary.keys():\n",
    "        writer.add_scalar('Metrics_train/{}'.format(metric_name), summary[metric_name], epoch)\n",
    "        \n",
    "    with torch.no_grad():\n",
    "        val_summary = val_epoch(valid_loader, model, metrics, criterion)\n",
    "        print(\"Test\", val_summary)\n",
    "        for metric_name in val_summary.keys():\n",
    "            writer.add_scalar('Metrics_val/{}'.format(metric_name), summary[metric_name], epoch)\n",
    "            \n",
    "    if (epoch + 1) % save_every == 0:\n",
    "        save_dir = os.path.join(cur_experiment_weights, \"{}_{}_weights.pth\".format(epoch, val_summary[\"exp_dice\"]))\n",
    "        torch.save(model.state_dict(), save_dir)\n",
    "        \n",
    "save_dir = os.path.join(cur_experiment_weights, \"weights_last.pth\")\n",
    "torch.save(model.state_dict(), save_dir)"
   ]
  },
  {
   "cell_type": "code",
   "execution_count": 27,
   "id": "f2d64678-6f34-4ce5-b453-fb488bb424b2",
   "metadata": {},
   "outputs": [],
   "source": [
    "test_dataset_path = \"../test_dataset_mc2/eye_test\"\n",
    "test_imgs = glob.glob(test_dataset_path + '/*.png')\n",
    "test_imgs = glob.glob(test_dataset_path + '/*.png')"
   ]
  },
  {
   "cell_type": "code",
   "execution_count": 28,
   "id": "9b48aaca-661c-4ff4-99ce-5b5b6554a1fc",
   "metadata": {},
   "outputs": [],
   "source": [
    "def read_image(size, path: str) -> np.ndarray:\n",
    "    image = cv2.imread(str(path), cv2.IMREAD_COLOR)\n",
    "    image = cv2.cvtColor(image, cv2.COLOR_BGR2RGB)\n",
    "    image = np.array(image / 255, dtype=np.float32)\n",
    "    print(image.shape)\n",
    "    #image = cv2.resize(image, (size, size), interpolation = cv2.INTER_AREA)\n",
    "\n",
    "    return image\n",
    "\n",
    "def read_image_gray(size, path: str) -> np.ndarray:\n",
    "    image = cv2.imread(str(path), cv2.IMREAD_COLOR)\n",
    "    image = cv2.cvtColor(image, cv2.COLOR_BGR2GRAY)\n",
    "    image = np.array(image / 255, dtype=np.float32)\n",
    "    image = np.expand_dims(image, -1)\n",
    "    #image = cv2.resize(image, (size, size), interpolation = cv2.INTER_AREA)\n",
    "\n",
    "    return image"
   ]
  },
  {
   "cell_type": "code",
   "execution_count": 29,
   "id": "dd9b42d6-8502-4663-bae0-a017ce9287ea",
   "metadata": {},
   "outputs": [],
   "source": [
    "test_pics = glob.glob(\"./sample_solution_old/*.png\")"
   ]
  },
  {
   "cell_type": "code",
   "execution_count": 26,
   "id": "7e96a983-c9f1-479f-80f7-8adcbc119ea8",
   "metadata": {},
   "outputs": [
    {
     "name": "stdout",
     "output_type": "stream",
     "text": [
      "./weights/unetpp_standart_0096a2d74ceb745e/weights_last.pth\n"
     ]
    },
    {
     "data": {
      "text/plain": [
       "<All keys matched successfully>"
      ]
     },
     "execution_count": 26,
     "metadata": {},
     "output_type": "execute_result"
    }
   ],
   "source": [
    "save_dir = os.path.join('./weights/unetpp_standart_0096a2d74ceb745e', \"weights_last.pth\")\n",
    "print(save_dir)\n",
    "#torch.save(model.state_dict(), save_dir)\n",
    "#model.load_state_dict(torch.load(save_dir))"
   ]
  },
  {
   "cell_type": "code",
   "execution_count": 29,
   "id": "6fda35f0-b374-40aa-8a1b-cf632228d193",
   "metadata": {
    "collapsed": true,
    "jupyter": {
     "outputs_hidden": true
    },
    "tags": []
   },
   "outputs": [
    {
     "data": {
      "text/plain": [
       "MAnet(\n",
       "  (encoder): ResNetEncoder(\n",
       "    (conv1): Conv2d(3, 64, kernel_size=(7, 7), stride=(2, 2), padding=(3, 3), bias=False)\n",
       "    (bn1): BatchNorm2d(64, eps=1e-05, momentum=0.1, affine=True, track_running_stats=True)\n",
       "    (relu): ReLU(inplace=True)\n",
       "    (maxpool): MaxPool2d(kernel_size=3, stride=2, padding=1, dilation=1, ceil_mode=False)\n",
       "    (layer1): Sequential(\n",
       "      (0): BasicBlock(\n",
       "        (conv1): Conv2d(64, 64, kernel_size=(3, 3), stride=(1, 1), padding=(1, 1), bias=False)\n",
       "        (bn1): BatchNorm2d(64, eps=1e-05, momentum=0.1, affine=True, track_running_stats=True)\n",
       "        (relu): ReLU(inplace=True)\n",
       "        (conv2): Conv2d(64, 64, kernel_size=(3, 3), stride=(1, 1), padding=(1, 1), bias=False)\n",
       "        (bn2): BatchNorm2d(64, eps=1e-05, momentum=0.1, affine=True, track_running_stats=True)\n",
       "      )\n",
       "      (1): BasicBlock(\n",
       "        (conv1): Conv2d(64, 64, kernel_size=(3, 3), stride=(1, 1), padding=(1, 1), bias=False)\n",
       "        (bn1): BatchNorm2d(64, eps=1e-05, momentum=0.1, affine=True, track_running_stats=True)\n",
       "        (relu): ReLU(inplace=True)\n",
       "        (conv2): Conv2d(64, 64, kernel_size=(3, 3), stride=(1, 1), padding=(1, 1), bias=False)\n",
       "        (bn2): BatchNorm2d(64, eps=1e-05, momentum=0.1, affine=True, track_running_stats=True)\n",
       "      )\n",
       "      (2): BasicBlock(\n",
       "        (conv1): Conv2d(64, 64, kernel_size=(3, 3), stride=(1, 1), padding=(1, 1), bias=False)\n",
       "        (bn1): BatchNorm2d(64, eps=1e-05, momentum=0.1, affine=True, track_running_stats=True)\n",
       "        (relu): ReLU(inplace=True)\n",
       "        (conv2): Conv2d(64, 64, kernel_size=(3, 3), stride=(1, 1), padding=(1, 1), bias=False)\n",
       "        (bn2): BatchNorm2d(64, eps=1e-05, momentum=0.1, affine=True, track_running_stats=True)\n",
       "      )\n",
       "    )\n",
       "    (layer2): Sequential(\n",
       "      (0): BasicBlock(\n",
       "        (conv1): Conv2d(64, 128, kernel_size=(3, 3), stride=(2, 2), padding=(1, 1), bias=False)\n",
       "        (bn1): BatchNorm2d(128, eps=1e-05, momentum=0.1, affine=True, track_running_stats=True)\n",
       "        (relu): ReLU(inplace=True)\n",
       "        (conv2): Conv2d(128, 128, kernel_size=(3, 3), stride=(1, 1), padding=(1, 1), bias=False)\n",
       "        (bn2): BatchNorm2d(128, eps=1e-05, momentum=0.1, affine=True, track_running_stats=True)\n",
       "        (downsample): Sequential(\n",
       "          (0): Conv2d(64, 128, kernel_size=(1, 1), stride=(2, 2), bias=False)\n",
       "          (1): BatchNorm2d(128, eps=1e-05, momentum=0.1, affine=True, track_running_stats=True)\n",
       "        )\n",
       "      )\n",
       "      (1): BasicBlock(\n",
       "        (conv1): Conv2d(128, 128, kernel_size=(3, 3), stride=(1, 1), padding=(1, 1), bias=False)\n",
       "        (bn1): BatchNorm2d(128, eps=1e-05, momentum=0.1, affine=True, track_running_stats=True)\n",
       "        (relu): ReLU(inplace=True)\n",
       "        (conv2): Conv2d(128, 128, kernel_size=(3, 3), stride=(1, 1), padding=(1, 1), bias=False)\n",
       "        (bn2): BatchNorm2d(128, eps=1e-05, momentum=0.1, affine=True, track_running_stats=True)\n",
       "      )\n",
       "      (2): BasicBlock(\n",
       "        (conv1): Conv2d(128, 128, kernel_size=(3, 3), stride=(1, 1), padding=(1, 1), bias=False)\n",
       "        (bn1): BatchNorm2d(128, eps=1e-05, momentum=0.1, affine=True, track_running_stats=True)\n",
       "        (relu): ReLU(inplace=True)\n",
       "        (conv2): Conv2d(128, 128, kernel_size=(3, 3), stride=(1, 1), padding=(1, 1), bias=False)\n",
       "        (bn2): BatchNorm2d(128, eps=1e-05, momentum=0.1, affine=True, track_running_stats=True)\n",
       "      )\n",
       "      (3): BasicBlock(\n",
       "        (conv1): Conv2d(128, 128, kernel_size=(3, 3), stride=(1, 1), padding=(1, 1), bias=False)\n",
       "        (bn1): BatchNorm2d(128, eps=1e-05, momentum=0.1, affine=True, track_running_stats=True)\n",
       "        (relu): ReLU(inplace=True)\n",
       "        (conv2): Conv2d(128, 128, kernel_size=(3, 3), stride=(1, 1), padding=(1, 1), bias=False)\n",
       "        (bn2): BatchNorm2d(128, eps=1e-05, momentum=0.1, affine=True, track_running_stats=True)\n",
       "      )\n",
       "    )\n",
       "    (layer3): Sequential(\n",
       "      (0): BasicBlock(\n",
       "        (conv1): Conv2d(128, 256, kernel_size=(3, 3), stride=(2, 2), padding=(1, 1), bias=False)\n",
       "        (bn1): BatchNorm2d(256, eps=1e-05, momentum=0.1, affine=True, track_running_stats=True)\n",
       "        (relu): ReLU(inplace=True)\n",
       "        (conv2): Conv2d(256, 256, kernel_size=(3, 3), stride=(1, 1), padding=(1, 1), bias=False)\n",
       "        (bn2): BatchNorm2d(256, eps=1e-05, momentum=0.1, affine=True, track_running_stats=True)\n",
       "        (downsample): Sequential(\n",
       "          (0): Conv2d(128, 256, kernel_size=(1, 1), stride=(2, 2), bias=False)\n",
       "          (1): BatchNorm2d(256, eps=1e-05, momentum=0.1, affine=True, track_running_stats=True)\n",
       "        )\n",
       "      )\n",
       "      (1): BasicBlock(\n",
       "        (conv1): Conv2d(256, 256, kernel_size=(3, 3), stride=(1, 1), padding=(1, 1), bias=False)\n",
       "        (bn1): BatchNorm2d(256, eps=1e-05, momentum=0.1, affine=True, track_running_stats=True)\n",
       "        (relu): ReLU(inplace=True)\n",
       "        (conv2): Conv2d(256, 256, kernel_size=(3, 3), stride=(1, 1), padding=(1, 1), bias=False)\n",
       "        (bn2): BatchNorm2d(256, eps=1e-05, momentum=0.1, affine=True, track_running_stats=True)\n",
       "      )\n",
       "      (2): BasicBlock(\n",
       "        (conv1): Conv2d(256, 256, kernel_size=(3, 3), stride=(1, 1), padding=(1, 1), bias=False)\n",
       "        (bn1): BatchNorm2d(256, eps=1e-05, momentum=0.1, affine=True, track_running_stats=True)\n",
       "        (relu): ReLU(inplace=True)\n",
       "        (conv2): Conv2d(256, 256, kernel_size=(3, 3), stride=(1, 1), padding=(1, 1), bias=False)\n",
       "        (bn2): BatchNorm2d(256, eps=1e-05, momentum=0.1, affine=True, track_running_stats=True)\n",
       "      )\n",
       "      (3): BasicBlock(\n",
       "        (conv1): Conv2d(256, 256, kernel_size=(3, 3), stride=(1, 1), padding=(1, 1), bias=False)\n",
       "        (bn1): BatchNorm2d(256, eps=1e-05, momentum=0.1, affine=True, track_running_stats=True)\n",
       "        (relu): ReLU(inplace=True)\n",
       "        (conv2): Conv2d(256, 256, kernel_size=(3, 3), stride=(1, 1), padding=(1, 1), bias=False)\n",
       "        (bn2): BatchNorm2d(256, eps=1e-05, momentum=0.1, affine=True, track_running_stats=True)\n",
       "      )\n",
       "      (4): BasicBlock(\n",
       "        (conv1): Conv2d(256, 256, kernel_size=(3, 3), stride=(1, 1), padding=(1, 1), bias=False)\n",
       "        (bn1): BatchNorm2d(256, eps=1e-05, momentum=0.1, affine=True, track_running_stats=True)\n",
       "        (relu): ReLU(inplace=True)\n",
       "        (conv2): Conv2d(256, 256, kernel_size=(3, 3), stride=(1, 1), padding=(1, 1), bias=False)\n",
       "        (bn2): BatchNorm2d(256, eps=1e-05, momentum=0.1, affine=True, track_running_stats=True)\n",
       "      )\n",
       "      (5): BasicBlock(\n",
       "        (conv1): Conv2d(256, 256, kernel_size=(3, 3), stride=(1, 1), padding=(1, 1), bias=False)\n",
       "        (bn1): BatchNorm2d(256, eps=1e-05, momentum=0.1, affine=True, track_running_stats=True)\n",
       "        (relu): ReLU(inplace=True)\n",
       "        (conv2): Conv2d(256, 256, kernel_size=(3, 3), stride=(1, 1), padding=(1, 1), bias=False)\n",
       "        (bn2): BatchNorm2d(256, eps=1e-05, momentum=0.1, affine=True, track_running_stats=True)\n",
       "      )\n",
       "    )\n",
       "    (layer4): Sequential(\n",
       "      (0): BasicBlock(\n",
       "        (conv1): Conv2d(256, 512, kernel_size=(3, 3), stride=(2, 2), padding=(1, 1), bias=False)\n",
       "        (bn1): BatchNorm2d(512, eps=1e-05, momentum=0.1, affine=True, track_running_stats=True)\n",
       "        (relu): ReLU(inplace=True)\n",
       "        (conv2): Conv2d(512, 512, kernel_size=(3, 3), stride=(1, 1), padding=(1, 1), bias=False)\n",
       "        (bn2): BatchNorm2d(512, eps=1e-05, momentum=0.1, affine=True, track_running_stats=True)\n",
       "        (downsample): Sequential(\n",
       "          (0): Conv2d(256, 512, kernel_size=(1, 1), stride=(2, 2), bias=False)\n",
       "          (1): BatchNorm2d(512, eps=1e-05, momentum=0.1, affine=True, track_running_stats=True)\n",
       "        )\n",
       "      )\n",
       "      (1): BasicBlock(\n",
       "        (conv1): Conv2d(512, 512, kernel_size=(3, 3), stride=(1, 1), padding=(1, 1), bias=False)\n",
       "        (bn1): BatchNorm2d(512, eps=1e-05, momentum=0.1, affine=True, track_running_stats=True)\n",
       "        (relu): ReLU(inplace=True)\n",
       "        (conv2): Conv2d(512, 512, kernel_size=(3, 3), stride=(1, 1), padding=(1, 1), bias=False)\n",
       "        (bn2): BatchNorm2d(512, eps=1e-05, momentum=0.1, affine=True, track_running_stats=True)\n",
       "      )\n",
       "      (2): BasicBlock(\n",
       "        (conv1): Conv2d(512, 512, kernel_size=(3, 3), stride=(1, 1), padding=(1, 1), bias=False)\n",
       "        (bn1): BatchNorm2d(512, eps=1e-05, momentum=0.1, affine=True, track_running_stats=True)\n",
       "        (relu): ReLU(inplace=True)\n",
       "        (conv2): Conv2d(512, 512, kernel_size=(3, 3), stride=(1, 1), padding=(1, 1), bias=False)\n",
       "        (bn2): BatchNorm2d(512, eps=1e-05, momentum=0.1, affine=True, track_running_stats=True)\n",
       "      )\n",
       "    )\n",
       "  )\n",
       "  (decoder): MAnetDecoder(\n",
       "    (center): PAB(\n",
       "      (top_conv): Conv2d(512, 64, kernel_size=(1, 1), stride=(1, 1))\n",
       "      (center_conv): Conv2d(512, 64, kernel_size=(1, 1), stride=(1, 1))\n",
       "      (bottom_conv): Conv2d(512, 512, kernel_size=(3, 3), stride=(1, 1), padding=(1, 1))\n",
       "      (map_softmax): Softmax(dim=1)\n",
       "      (out_conv): Conv2d(512, 512, kernel_size=(3, 3), stride=(1, 1), padding=(1, 1))\n",
       "    )\n",
       "    (blocks): ModuleList(\n",
       "      (0): MFAB(\n",
       "        (hl_conv): Sequential(\n",
       "          (0): Conv2dReLU(\n",
       "            (0): Conv2d(512, 512, kernel_size=(3, 3), stride=(1, 1), padding=(1, 1), bias=False)\n",
       "            (1): BatchNorm2d(512, eps=1e-05, momentum=0.1, affine=True, track_running_stats=True)\n",
       "            (2): ReLU(inplace=True)\n",
       "          )\n",
       "          (1): Conv2dReLU(\n",
       "            (0): Conv2d(512, 256, kernel_size=(1, 1), stride=(1, 1), bias=False)\n",
       "            (1): BatchNorm2d(256, eps=1e-05, momentum=0.1, affine=True, track_running_stats=True)\n",
       "            (2): ReLU(inplace=True)\n",
       "          )\n",
       "        )\n",
       "        (SE_ll): Sequential(\n",
       "          (0): AdaptiveAvgPool2d(output_size=1)\n",
       "          (1): Conv2d(256, 16, kernel_size=(1, 1), stride=(1, 1))\n",
       "          (2): ReLU(inplace=True)\n",
       "          (3): Conv2d(16, 256, kernel_size=(1, 1), stride=(1, 1))\n",
       "          (4): Sigmoid()\n",
       "        )\n",
       "        (SE_hl): Sequential(\n",
       "          (0): AdaptiveAvgPool2d(output_size=1)\n",
       "          (1): Conv2d(256, 16, kernel_size=(1, 1), stride=(1, 1))\n",
       "          (2): ReLU(inplace=True)\n",
       "          (3): Conv2d(16, 256, kernel_size=(1, 1), stride=(1, 1))\n",
       "          (4): Sigmoid()\n",
       "        )\n",
       "        (conv1): Conv2dReLU(\n",
       "          (0): Conv2d(512, 256, kernel_size=(3, 3), stride=(1, 1), padding=(1, 1), bias=False)\n",
       "          (1): BatchNorm2d(256, eps=1e-05, momentum=0.1, affine=True, track_running_stats=True)\n",
       "          (2): ReLU(inplace=True)\n",
       "        )\n",
       "        (conv2): Conv2dReLU(\n",
       "          (0): Conv2d(256, 256, kernel_size=(3, 3), stride=(1, 1), padding=(1, 1), bias=False)\n",
       "          (1): BatchNorm2d(256, eps=1e-05, momentum=0.1, affine=True, track_running_stats=True)\n",
       "          (2): ReLU(inplace=True)\n",
       "        )\n",
       "      )\n",
       "      (1): MFAB(\n",
       "        (hl_conv): Sequential(\n",
       "          (0): Conv2dReLU(\n",
       "            (0): Conv2d(256, 256, kernel_size=(3, 3), stride=(1, 1), padding=(1, 1), bias=False)\n",
       "            (1): BatchNorm2d(256, eps=1e-05, momentum=0.1, affine=True, track_running_stats=True)\n",
       "            (2): ReLU(inplace=True)\n",
       "          )\n",
       "          (1): Conv2dReLU(\n",
       "            (0): Conv2d(256, 128, kernel_size=(1, 1), stride=(1, 1), bias=False)\n",
       "            (1): BatchNorm2d(128, eps=1e-05, momentum=0.1, affine=True, track_running_stats=True)\n",
       "            (2): ReLU(inplace=True)\n",
       "          )\n",
       "        )\n",
       "        (SE_ll): Sequential(\n",
       "          (0): AdaptiveAvgPool2d(output_size=1)\n",
       "          (1): Conv2d(128, 8, kernel_size=(1, 1), stride=(1, 1))\n",
       "          (2): ReLU(inplace=True)\n",
       "          (3): Conv2d(8, 128, kernel_size=(1, 1), stride=(1, 1))\n",
       "          (4): Sigmoid()\n",
       "        )\n",
       "        (SE_hl): Sequential(\n",
       "          (0): AdaptiveAvgPool2d(output_size=1)\n",
       "          (1): Conv2d(128, 8, kernel_size=(1, 1), stride=(1, 1))\n",
       "          (2): ReLU(inplace=True)\n",
       "          (3): Conv2d(8, 128, kernel_size=(1, 1), stride=(1, 1))\n",
       "          (4): Sigmoid()\n",
       "        )\n",
       "        (conv1): Conv2dReLU(\n",
       "          (0): Conv2d(256, 128, kernel_size=(3, 3), stride=(1, 1), padding=(1, 1), bias=False)\n",
       "          (1): BatchNorm2d(128, eps=1e-05, momentum=0.1, affine=True, track_running_stats=True)\n",
       "          (2): ReLU(inplace=True)\n",
       "        )\n",
       "        (conv2): Conv2dReLU(\n",
       "          (0): Conv2d(128, 128, kernel_size=(3, 3), stride=(1, 1), padding=(1, 1), bias=False)\n",
       "          (1): BatchNorm2d(128, eps=1e-05, momentum=0.1, affine=True, track_running_stats=True)\n",
       "          (2): ReLU(inplace=True)\n",
       "        )\n",
       "      )\n",
       "      (2): MFAB(\n",
       "        (hl_conv): Sequential(\n",
       "          (0): Conv2dReLU(\n",
       "            (0): Conv2d(128, 128, kernel_size=(3, 3), stride=(1, 1), padding=(1, 1), bias=False)\n",
       "            (1): BatchNorm2d(128, eps=1e-05, momentum=0.1, affine=True, track_running_stats=True)\n",
       "            (2): ReLU(inplace=True)\n",
       "          )\n",
       "          (1): Conv2dReLU(\n",
       "            (0): Conv2d(128, 64, kernel_size=(1, 1), stride=(1, 1), bias=False)\n",
       "            (1): BatchNorm2d(64, eps=1e-05, momentum=0.1, affine=True, track_running_stats=True)\n",
       "            (2): ReLU(inplace=True)\n",
       "          )\n",
       "        )\n",
       "        (SE_ll): Sequential(\n",
       "          (0): AdaptiveAvgPool2d(output_size=1)\n",
       "          (1): Conv2d(64, 4, kernel_size=(1, 1), stride=(1, 1))\n",
       "          (2): ReLU(inplace=True)\n",
       "          (3): Conv2d(4, 64, kernel_size=(1, 1), stride=(1, 1))\n",
       "          (4): Sigmoid()\n",
       "        )\n",
       "        (SE_hl): Sequential(\n",
       "          (0): AdaptiveAvgPool2d(output_size=1)\n",
       "          (1): Conv2d(64, 4, kernel_size=(1, 1), stride=(1, 1))\n",
       "          (2): ReLU(inplace=True)\n",
       "          (3): Conv2d(4, 64, kernel_size=(1, 1), stride=(1, 1))\n",
       "          (4): Sigmoid()\n",
       "        )\n",
       "        (conv1): Conv2dReLU(\n",
       "          (0): Conv2d(128, 64, kernel_size=(3, 3), stride=(1, 1), padding=(1, 1), bias=False)\n",
       "          (1): BatchNorm2d(64, eps=1e-05, momentum=0.1, affine=True, track_running_stats=True)\n",
       "          (2): ReLU(inplace=True)\n",
       "        )\n",
       "        (conv2): Conv2dReLU(\n",
       "          (0): Conv2d(64, 64, kernel_size=(3, 3), stride=(1, 1), padding=(1, 1), bias=False)\n",
       "          (1): BatchNorm2d(64, eps=1e-05, momentum=0.1, affine=True, track_running_stats=True)\n",
       "          (2): ReLU(inplace=True)\n",
       "        )\n",
       "      )\n",
       "      (3): MFAB(\n",
       "        (hl_conv): Sequential(\n",
       "          (0): Conv2dReLU(\n",
       "            (0): Conv2d(64, 64, kernel_size=(3, 3), stride=(1, 1), padding=(1, 1), bias=False)\n",
       "            (1): BatchNorm2d(64, eps=1e-05, momentum=0.1, affine=True, track_running_stats=True)\n",
       "            (2): ReLU(inplace=True)\n",
       "          )\n",
       "          (1): Conv2dReLU(\n",
       "            (0): Conv2d(64, 64, kernel_size=(1, 1), stride=(1, 1), bias=False)\n",
       "            (1): BatchNorm2d(64, eps=1e-05, momentum=0.1, affine=True, track_running_stats=True)\n",
       "            (2): ReLU(inplace=True)\n",
       "          )\n",
       "        )\n",
       "        (SE_ll): Sequential(\n",
       "          (0): AdaptiveAvgPool2d(output_size=1)\n",
       "          (1): Conv2d(64, 4, kernel_size=(1, 1), stride=(1, 1))\n",
       "          (2): ReLU(inplace=True)\n",
       "          (3): Conv2d(4, 64, kernel_size=(1, 1), stride=(1, 1))\n",
       "          (4): Sigmoid()\n",
       "        )\n",
       "        (SE_hl): Sequential(\n",
       "          (0): AdaptiveAvgPool2d(output_size=1)\n",
       "          (1): Conv2d(64, 4, kernel_size=(1, 1), stride=(1, 1))\n",
       "          (2): ReLU(inplace=True)\n",
       "          (3): Conv2d(4, 64, kernel_size=(1, 1), stride=(1, 1))\n",
       "          (4): Sigmoid()\n",
       "        )\n",
       "        (conv1): Conv2dReLU(\n",
       "          (0): Conv2d(128, 32, kernel_size=(3, 3), stride=(1, 1), padding=(1, 1), bias=False)\n",
       "          (1): BatchNorm2d(32, eps=1e-05, momentum=0.1, affine=True, track_running_stats=True)\n",
       "          (2): ReLU(inplace=True)\n",
       "        )\n",
       "        (conv2): Conv2dReLU(\n",
       "          (0): Conv2d(32, 32, kernel_size=(3, 3), stride=(1, 1), padding=(1, 1), bias=False)\n",
       "          (1): BatchNorm2d(32, eps=1e-05, momentum=0.1, affine=True, track_running_stats=True)\n",
       "          (2): ReLU(inplace=True)\n",
       "        )\n",
       "      )\n",
       "      (4): DecoderBlock(\n",
       "        (conv1): Conv2dReLU(\n",
       "          (0): Conv2d(32, 16, kernel_size=(3, 3), stride=(1, 1), padding=(1, 1), bias=False)\n",
       "          (1): BatchNorm2d(16, eps=1e-05, momentum=0.1, affine=True, track_running_stats=True)\n",
       "          (2): ReLU(inplace=True)\n",
       "        )\n",
       "        (conv2): Conv2dReLU(\n",
       "          (0): Conv2d(16, 16, kernel_size=(3, 3), stride=(1, 1), padding=(1, 1), bias=False)\n",
       "          (1): BatchNorm2d(16, eps=1e-05, momentum=0.1, affine=True, track_running_stats=True)\n",
       "          (2): ReLU(inplace=True)\n",
       "        )\n",
       "      )\n",
       "    )\n",
       "  )\n",
       "  (segmentation_head): SegmentationHead(\n",
       "    (0): Conv2d(16, 1, kernel_size=(3, 3), stride=(1, 1), padding=(1, 1))\n",
       "    (1): Identity()\n",
       "    (2): Activation(\n",
       "      (activation): Sigmoid()\n",
       "    )\n",
       "  )\n",
       ")"
      ]
     },
     "execution_count": 29,
     "metadata": {},
     "output_type": "execute_result"
    }
   ],
   "source": [
    "model.eval()"
   ]
  },
  {
   "cell_type": "code",
   "execution_count": 30,
   "id": "a358bdf0-d2f3-47a3-a8c5-33eb5f61d223",
   "metadata": {},
   "outputs": [],
   "source": [
    "import torchvision.transforms as T\n",
    "from PIL import Image\n",
    "import PIL.ImageOps\n",
    "transform = T.ToPILImage()"
   ]
  },
  {
   "cell_type": "code",
   "execution_count": null,
   "id": "6c1ce861-bacd-495f-92bc-577dfe24d071",
   "metadata": {},
   "outputs": [],
   "source": [
    "save_probs = False"
   ]
  },
  {
   "cell_type": "code",
   "execution_count": 32,
   "id": "eb2ff888-49a8-40db-916b-4ed792d01246",
   "metadata": {
    "collapsed": true,
    "jupyter": {
     "outputs_hidden": true
    },
    "tags": []
   },
   "outputs": [
    {
     "name": "stdout",
     "output_type": "stream",
     "text": [
      "(1232, 1624, 3)\n",
      "(1232, 1624, 3)\n",
      "(1232, 1624, 3)\n",
      "(1232, 1624, 3)\n",
      "(1232, 1624, 3)\n",
      "(1232, 1624, 3)\n",
      "(1232, 1624, 3)\n",
      "(1232, 1624, 3)\n",
      "(1232, 1624, 3)\n",
      "(1232, 1624, 3)\n",
      "(1232, 1624, 3)\n",
      "(1232, 1624, 3)\n",
      "(1232, 1624, 3)\n",
      "(1232, 1624, 3)\n",
      "(1232, 1624, 3)\n",
      "(1232, 1624, 3)\n",
      "(1232, 1624, 3)\n",
      "(1232, 1624, 3)\n",
      "(1232, 1624, 3)\n",
      "(1232, 1624, 3)\n",
      "(1232, 1624, 3)\n",
      "(1232, 1624, 3)\n",
      "(1232, 1624, 3)\n",
      "(1232, 1624, 3)\n",
      "(1232, 1624, 3)\n",
      "(1232, 1624, 3)\n",
      "(1232, 1624, 3)\n",
      "(1232, 1624, 3)\n",
      "(1232, 1624, 3)\n",
      "(1232, 1624, 3)\n",
      "(1232, 1624, 3)\n",
      "(1232, 1624, 3)\n",
      "(1232, 1624, 3)\n",
      "(1232, 1624, 3)\n",
      "(1232, 1624, 3)\n",
      "(1232, 1624, 3)\n",
      "(1232, 1624, 3)\n",
      "(1232, 1624, 3)\n",
      "(1232, 1624, 3)\n",
      "(1232, 1624, 3)\n",
      "(1232, 1624, 3)\n",
      "(1232, 1624, 3)\n",
      "(1232, 1624, 3)\n",
      "(1232, 1624, 3)\n",
      "(1232, 1624, 3)\n",
      "(1232, 1624, 3)\n",
      "(1232, 1624, 3)\n",
      "(1232, 1624, 3)\n",
      "(1232, 1624, 3)\n",
      "(1232, 1624, 3)\n",
      "(1232, 1624, 3)\n",
      "(1232, 1624, 3)\n",
      "(1232, 1624, 3)\n",
      "(1232, 1624, 3)\n",
      "(1232, 1624, 3)\n",
      "(1232, 1624, 3)\n",
      "(1232, 1624, 3)\n",
      "(1232, 1624, 3)\n",
      "(1232, 1624, 3)\n",
      "(1232, 1624, 3)\n",
      "(1232, 1624, 3)\n",
      "(1232, 1624, 3)\n",
      "(1232, 1624, 3)\n",
      "(1232, 1624, 3)\n",
      "(1232, 1624, 3)\n",
      "(1232, 1624, 3)\n",
      "(1232, 1624, 3)\n",
      "(1232, 1624, 3)\n",
      "(1232, 1624, 3)\n",
      "(1232, 1624, 3)\n",
      "(1232, 1624, 3)\n",
      "(1232, 1624, 3)\n",
      "(1232, 1624, 3)\n",
      "(1232, 1624, 3)\n",
      "(1232, 1624, 3)\n",
      "(1232, 1624, 3)\n",
      "(1232, 1624, 3)\n",
      "(1232, 1624, 3)\n",
      "(1232, 1624, 3)\n",
      "(1232, 1624, 3)\n",
      "(1232, 1624, 3)\n",
      "(1232, 1624, 3)\n",
      "(1232, 1624, 3)\n",
      "(1232, 1624, 3)\n",
      "(1232, 1624, 3)\n",
      "(1232, 1624, 3)\n",
      "(1232, 1624, 3)\n",
      "(1232, 1624, 3)\n",
      "(1232, 1624, 3)\n",
      "(1232, 1624, 3)\n",
      "(1232, 1624, 3)\n",
      "(1232, 1624, 3)\n",
      "(1232, 1624, 3)\n",
      "(1232, 1624, 3)\n",
      "(1232, 1624, 3)\n",
      "(1232, 1624, 3)\n",
      "(1232, 1624, 3)\n",
      "(1232, 1624, 3)\n",
      "(1232, 1624, 3)\n",
      "(1232, 1624, 3)\n",
      "(1232, 1624, 3)\n",
      "(1232, 1624, 3)\n",
      "(1232, 1624, 3)\n",
      "(1232, 1624, 3)\n",
      "(1232, 1624, 3)\n",
      "(1232, 1624, 3)\n",
      "(1232, 1624, 3)\n",
      "(1232, 1624, 3)\n",
      "(1232, 1624, 3)\n",
      "(1232, 1624, 3)\n",
      "(1232, 1624, 3)\n",
      "(1232, 1624, 3)\n",
      "(1232, 1624, 3)\n",
      "(1232, 1624, 3)\n",
      "(1232, 1624, 3)\n",
      "(1232, 1624, 3)\n",
      "(1232, 1624, 3)\n",
      "(1232, 1624, 3)\n",
      "(1232, 1624, 3)\n",
      "(1232, 1624, 3)\n",
      "(1232, 1624, 3)\n",
      "(1232, 1624, 3)\n",
      "(1232, 1624, 3)\n",
      "(1232, 1624, 3)\n",
      "(1232, 1624, 3)\n",
      "(1232, 1624, 3)\n",
      "(1232, 1624, 3)\n",
      "(1232, 1624, 3)\n",
      "(1232, 1624, 3)\n",
      "(1232, 1624, 3)\n",
      "(1232, 1624, 3)\n",
      "(1232, 1624, 3)\n",
      "(1232, 1624, 3)\n",
      "(1232, 1624, 3)\n",
      "(1232, 1624, 3)\n",
      "(1232, 1624, 3)\n",
      "(1232, 1624, 3)\n",
      "(1232, 1624, 3)\n",
      "(1232, 1624, 3)\n",
      "(1232, 1624, 3)\n",
      "(1232, 1624, 3)\n",
      "(1232, 1624, 3)\n",
      "(1232, 1624, 3)\n",
      "(1232, 1624, 3)\n",
      "(1232, 1624, 3)\n",
      "(1232, 1624, 3)\n",
      "(1232, 1624, 3)\n",
      "(1232, 1624, 3)\n",
      "(1232, 1624, 3)\n",
      "(1232, 1624, 3)\n",
      "(1232, 1624, 3)\n",
      "(1232, 1624, 3)\n",
      "(1232, 1624, 3)\n",
      "(1232, 1624, 3)\n",
      "(1232, 1624, 3)\n",
      "(1232, 1624, 3)\n",
      "(1232, 1624, 3)\n",
      "(1232, 1624, 3)\n",
      "(1232, 1624, 3)\n",
      "(1232, 1624, 3)\n",
      "(1232, 1624, 3)\n",
      "(1232, 1624, 3)\n",
      "(1232, 1624, 3)\n",
      "(1232, 1624, 3)\n",
      "(1232, 1624, 3)\n",
      "(1232, 1624, 3)\n",
      "(1232, 1624, 3)\n",
      "(1232, 1624, 3)\n",
      "(1232, 1624, 3)\n",
      "(1232, 1624, 3)\n",
      "(1232, 1624, 3)\n",
      "(1232, 1624, 3)\n",
      "(1232, 1624, 3)\n",
      "(1232, 1624, 3)\n",
      "(1232, 1624, 3)\n",
      "(1232, 1624, 3)\n",
      "(1232, 1624, 3)\n",
      "(1232, 1624, 3)\n",
      "(1232, 1624, 3)\n",
      "(1232, 1624, 3)\n",
      "(1232, 1624, 3)\n",
      "(1232, 1624, 3)\n",
      "(1232, 1624, 3)\n",
      "(1232, 1624, 3)\n",
      "(1232, 1624, 3)\n",
      "(1232, 1624, 3)\n",
      "(1232, 1624, 3)\n",
      "(1232, 1624, 3)\n",
      "(1232, 1624, 3)\n",
      "(1232, 1624, 3)\n",
      "(1232, 1624, 3)\n",
      "(1232, 1624, 3)\n",
      "(1232, 1624, 3)\n",
      "(1232, 1624, 3)\n",
      "(1232, 1624, 3)\n",
      "(1232, 1624, 3)\n",
      "(1232, 1624, 3)\n",
      "(1232, 1624, 3)\n",
      "(1232, 1624, 3)\n",
      "(1232, 1624, 3)\n",
      "(1232, 1624, 3)\n",
      "(1232, 1624, 3)\n",
      "(1232, 1624, 3)\n",
      "(1232, 1624, 3)\n",
      "(1232, 1624, 3)\n",
      "(1232, 1624, 3)\n",
      "(1232, 1624, 3)\n",
      "(1232, 1624, 3)\n",
      "(1232, 1624, 3)\n",
      "(1232, 1624, 3)\n",
      "(1232, 1624, 3)\n",
      "(1232, 1624, 3)\n",
      "(1232, 1624, 3)\n",
      "(1232, 1624, 3)\n",
      "(1232, 1624, 3)\n",
      "(1232, 1624, 3)\n",
      "(1232, 1624, 3)\n",
      "(1232, 1624, 3)\n",
      "(1232, 1624, 3)\n",
      "(1232, 1624, 3)\n",
      "(1232, 1624, 3)\n",
      "(1232, 1624, 3)\n",
      "(1232, 1624, 3)\n",
      "(1232, 1624, 3)\n",
      "(1232, 1624, 3)\n",
      "(1232, 1624, 3)\n",
      "(1232, 1624, 3)\n",
      "(1232, 1624, 3)\n",
      "(1232, 1624, 3)\n",
      "(1232, 1624, 3)\n",
      "(1232, 1624, 3)\n",
      "(1232, 1624, 3)\n",
      "(1232, 1624, 3)\n",
      "(1232, 1624, 3)\n",
      "(1232, 1624, 3)\n",
      "(1232, 1624, 3)\n",
      "(1232, 1624, 3)\n",
      "(1232, 1624, 3)\n",
      "(1232, 1624, 3)\n",
      "(1232, 1624, 3)\n",
      "(1232, 1624, 3)\n",
      "(1232, 1624, 3)\n",
      "(1232, 1624, 3)\n",
      "(1232, 1624, 3)\n",
      "(1232, 1624, 3)\n",
      "(1232, 1624, 3)\n",
      "(1232, 1624, 3)\n",
      "(1232, 1624, 3)\n",
      "(1232, 1624, 3)\n",
      "(1232, 1624, 3)\n",
      "(1232, 1624, 3)\n",
      "(1232, 1624, 3)\n",
      "(1232, 1624, 3)\n",
      "(1232, 1624, 3)\n",
      "(1232, 1624, 3)\n",
      "(1232, 1624, 3)\n",
      "(1232, 1624, 3)\n",
      "(1232, 1624, 3)\n",
      "(1232, 1624, 3)\n",
      "(1232, 1624, 3)\n",
      "(1232, 1624, 3)\n",
      "(1232, 1624, 3)\n",
      "(1232, 1624, 3)\n",
      "(1232, 1624, 3)\n",
      "(1232, 1624, 3)\n",
      "(1232, 1624, 3)\n",
      "(1232, 1624, 3)\n",
      "(1232, 1624, 3)\n",
      "(1232, 1624, 3)\n",
      "(1232, 1624, 3)\n",
      "(1232, 1624, 3)\n",
      "(1232, 1624, 3)\n",
      "(1232, 1624, 3)\n",
      "(1232, 1624, 3)\n",
      "(1232, 1624, 3)\n",
      "(1232, 1624, 3)\n",
      "(1232, 1624, 3)\n",
      "(1232, 1624, 3)\n",
      "(1232, 1624, 3)\n",
      "(1232, 1624, 3)\n",
      "(1232, 1624, 3)\n",
      "(1232, 1624, 3)\n",
      "(1232, 1624, 3)\n",
      "(1232, 1624, 3)\n",
      "(1232, 1624, 3)\n",
      "(1232, 1624, 3)\n",
      "(1232, 1624, 3)\n",
      "(1232, 1624, 3)\n",
      "(1232, 1624, 3)\n",
      "(1232, 1624, 3)\n",
      "(1232, 1624, 3)\n",
      "(1232, 1624, 3)\n",
      "(1232, 1624, 3)\n",
      "(1232, 1624, 3)\n",
      "(1232, 1624, 3)\n",
      "(1232, 1624, 3)\n",
      "(1232, 1624, 3)\n",
      "(1232, 1624, 3)\n",
      "(1232, 1624, 3)\n",
      "(1232, 1624, 3)\n",
      "(1232, 1624, 3)\n"
     ]
    }
   ],
   "source": [
    "for img in test_imgs: #pics\n",
    "    name = img.split(\"/\")[-1].split(\".\")[0]\n",
    "    input_path = os.path.join(test_dataset_path, name + \".png\")\n",
    "    \n",
    "    cur_image = read_image(512, input_path)\n",
    "    im = cv2.resize(cur_image, (1024,1024), interpolation = cv2.INTER_CUBIC) #(512, 512)\n",
    "    image = np.expand_dims(im, axis=0)\n",
    "    image = np.transpose(image, (0, 3, 1, 2))\n",
    "    input = torch.tensor(image).cuda()\n",
    "    mask = model(input)\n",
    "    out = mask.cpu().detach().numpy()[0]\n",
    "    out = np.transpose(out, (1, 2, 0))\n",
    "    out = cv2.resize(out, (1624, 1232), interpolation = cv2.INTER_CUBIC)\n",
    "    if save_probs:\n",
    "        out = np.array(out*255, dtype='uint8')\n",
    "        np.save(os.path.join('./manet_ad2ca560d36a45d2_probs', name + \".npy\"), out)\n",
    "    else:\n",
    "        out = np.array(np.where(out >0.5, 1, 0)*255, dtype='uint8')\n",
    "        cv2.imwrite(os.path.join('./manet_ad2ca560d36a45d2', name + \".png\"), out)"
   ]
  }
 ],
 "metadata": {
  "kernelspec": {
   "display_name": "Python 3 (ipykernel)",
   "language": "python",
   "name": "python3"
  },
  "language_info": {
   "codemirror_mode": {
    "name": "ipython",
    "version": 3
   },
   "file_extension": ".py",
   "mimetype": "text/x-python",
   "name": "python",
   "nbconvert_exporter": "python",
   "pygments_lexer": "ipython3",
   "version": "3.8.10"
  }
 },
 "nbformat": 4,
 "nbformat_minor": 5
}
